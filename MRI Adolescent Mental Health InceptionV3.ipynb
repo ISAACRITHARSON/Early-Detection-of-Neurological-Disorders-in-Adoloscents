{
 "cells": [
  {
   "cell_type": "code",
   "execution_count": 1,
   "id": "703a2787",
   "metadata": {},
   "outputs": [],
   "source": [
    "from tensorflow.compat.v1 import ConfigProto\n",
    "from tensorflow.compat.v1 import InteractiveSession\n",
    "\n",
    "config = ConfigProto()\n",
    "config.gpu_options.per_process_gpu_memory_fraction = 0.7\n",
    "config.gpu_options.allow_growth = True\n",
    "session = InteractiveSession(config=config)\n"
   ]
  },
  {
   "cell_type": "code",
   "execution_count": 106,
   "id": "a1eaabed",
   "metadata": {},
   "outputs": [],
   "source": [
    "from tensorflow.keras.layers import Input, Lambda, Dense, Flatten\n",
    "from tensorflow.keras.models import Model\n",
    "from tensorflow.keras.applications.inception_v3 import InceptionV3\n",
    "from tensorflow.keras.applications.inception_v3 import preprocess_input\n",
    "from tensorflow.keras.preprocessing import image\n",
    "from tensorflow.keras.preprocessing.image import ImageDataGenerator,load_img\n",
    "from tensorflow.keras.models import Sequential\n",
    "import numpy as np\n",
    "from glob import glob"
   ]
  },
  {
   "cell_type": "code",
   "execution_count": 107,
   "id": "d63c138e",
   "metadata": {},
   "outputs": [],
   "source": [
    "IMAGE_SIZE = [224, 224]\n",
    "train_path = 'C:\\\\Users\\\\HOME\\\\Desktop\\\\train\\*'\n",
    "valid_path = 'C:\\\\Users\\\\HOME\\\\Desktop\\\\validation\\*'"
   ]
  },
  {
   "cell_type": "code",
   "execution_count": 108,
   "id": "cfecae8c",
   "metadata": {},
   "outputs": [],
   "source": [
    "inception = InceptionV3(input_shape=IMAGE_SIZE + [3], weights='imagenet', include_top=False)"
   ]
  },
  {
   "cell_type": "code",
   "execution_count": 109,
   "id": "a18da026",
   "metadata": {},
   "outputs": [],
   "source": [
    "for layer in inception.layers:\n",
    "    layer.trainable = False"
   ]
  },
  {
   "cell_type": "code",
   "execution_count": 110,
   "id": "b1b988b4",
   "metadata": {},
   "outputs": [],
   "source": [
    "\n",
    "folders = glob(train_path)"
   ]
  },
  {
   "cell_type": "code",
   "execution_count": 111,
   "id": "db27e605",
   "metadata": {},
   "outputs": [
    {
     "data": {
      "text/plain": [
       "['C:\\\\Users\\\\HOME\\\\Desktop\\\\train\\\\Alzeimer',\n",
       " 'C:\\\\Users\\\\HOME\\\\Desktop\\\\train\\\\Cognitive Impairment',\n",
       " 'C:\\\\Users\\\\HOME\\\\Desktop\\\\train\\\\pituitary',\n",
       " 'C:\\\\Users\\\\HOME\\\\Desktop\\\\train\\\\Stroke']"
      ]
     },
     "execution_count": 111,
     "metadata": {},
     "output_type": "execute_result"
    }
   ],
   "source": [
    "folders"
   ]
  },
  {
   "cell_type": "code",
   "execution_count": 112,
   "id": "7044f16b",
   "metadata": {},
   "outputs": [],
   "source": [
    "x = Flatten()(inception.output)"
   ]
  },
  {
   "cell_type": "code",
   "execution_count": 113,
   "id": "7a27d4c1",
   "metadata": {},
   "outputs": [],
   "source": [
    "prediction = Dense(len(folders), activation='softmax')(x)\n",
    "\n",
    "model = Model(inputs=inception.input, outputs=prediction)"
   ]
  },
  {
   "cell_type": "code",
   "execution_count": 114,
   "id": "66839379",
   "metadata": {},
   "outputs": [
    {
     "data": {
      "text/plain": [
       "<KerasTensor: shape=(None, 4) dtype=float32 (created by layer 'dense_2')>"
      ]
     },
     "execution_count": 114,
     "metadata": {},
     "output_type": "execute_result"
    }
   ],
   "source": [
    "prediction"
   ]
  },
  {
   "cell_type": "code",
   "execution_count": 115,
   "id": "58d031ae",
   "metadata": {},
   "outputs": [
    {
     "name": "stdout",
     "output_type": "stream",
     "text": [
      "Model: \"model_2\"\n",
      "__________________________________________________________________________________________________\n",
      " Layer (type)                   Output Shape         Param #     Connected to                     \n",
      "==================================================================================================\n",
      " input_3 (InputLayer)           [(None, 224, 224, 3  0           []                               \n",
      "                                )]                                                                \n",
      "                                                                                                  \n",
      " conv2d_4 (Conv2D)              (None, 111, 111, 32  864         ['input_3[0][0]']                \n",
      "                                )                                                                 \n",
      "                                                                                                  \n",
      " batch_normalization_4 (BatchNo  (None, 111, 111, 32  96         ['conv2d_4[0][0]']               \n",
      " rmalization)                   )                                                                 \n",
      "                                                                                                  \n",
      " activation (Activation)        (None, 111, 111, 32  0           ['batch_normalization_4[0][0]']  \n",
      "                                )                                                                 \n",
      "                                                                                                  \n",
      " conv2d_5 (Conv2D)              (None, 109, 109, 32  9216        ['activation[0][0]']             \n",
      "                                )                                                                 \n",
      "                                                                                                  \n",
      " batch_normalization_5 (BatchNo  (None, 109, 109, 32  96         ['conv2d_5[0][0]']               \n",
      " rmalization)                   )                                                                 \n",
      "                                                                                                  \n",
      " activation_1 (Activation)      (None, 109, 109, 32  0           ['batch_normalization_5[0][0]']  \n",
      "                                )                                                                 \n",
      "                                                                                                  \n",
      " conv2d_6 (Conv2D)              (None, 109, 109, 64  18432       ['activation_1[0][0]']           \n",
      "                                )                                                                 \n",
      "                                                                                                  \n",
      " batch_normalization_6 (BatchNo  (None, 109, 109, 64  192        ['conv2d_6[0][0]']               \n",
      " rmalization)                   )                                                                 \n",
      "                                                                                                  \n",
      " activation_2 (Activation)      (None, 109, 109, 64  0           ['batch_normalization_6[0][0]']  \n",
      "                                )                                                                 \n",
      "                                                                                                  \n",
      " max_pooling2d (MaxPooling2D)   (None, 54, 54, 64)   0           ['activation_2[0][0]']           \n",
      "                                                                                                  \n",
      " conv2d_7 (Conv2D)              (None, 54, 54, 80)   5120        ['max_pooling2d[0][0]']          \n",
      "                                                                                                  \n",
      " batch_normalization_7 (BatchNo  (None, 54, 54, 80)  240         ['conv2d_7[0][0]']               \n",
      " rmalization)                                                                                     \n",
      "                                                                                                  \n",
      " activation_3 (Activation)      (None, 54, 54, 80)   0           ['batch_normalization_7[0][0]']  \n",
      "                                                                                                  \n",
      " conv2d_8 (Conv2D)              (None, 52, 52, 192)  138240      ['activation_3[0][0]']           \n",
      "                                                                                                  \n",
      " batch_normalization_8 (BatchNo  (None, 52, 52, 192)  576        ['conv2d_8[0][0]']               \n",
      " rmalization)                                                                                     \n",
      "                                                                                                  \n",
      " activation_4 (Activation)      (None, 52, 52, 192)  0           ['batch_normalization_8[0][0]']  \n",
      "                                                                                                  \n",
      " max_pooling2d_1 (MaxPooling2D)  (None, 25, 25, 192)  0          ['activation_4[0][0]']           \n",
      "                                                                                                  \n",
      " conv2d_12 (Conv2D)             (None, 25, 25, 64)   12288       ['max_pooling2d_1[0][0]']        \n",
      "                                                                                                  \n",
      " batch_normalization_12 (BatchN  (None, 25, 25, 64)  192         ['conv2d_12[0][0]']              \n",
      " ormalization)                                                                                    \n",
      "                                                                                                  \n",
      " activation_8 (Activation)      (None, 25, 25, 64)   0           ['batch_normalization_12[0][0]'] \n",
      "                                                                                                  \n",
      " conv2d_10 (Conv2D)             (None, 25, 25, 48)   9216        ['max_pooling2d_1[0][0]']        \n",
      "                                                                                                  \n",
      " conv2d_13 (Conv2D)             (None, 25, 25, 96)   55296       ['activation_8[0][0]']           \n",
      "                                                                                                  \n",
      " batch_normalization_10 (BatchN  (None, 25, 25, 48)  144         ['conv2d_10[0][0]']              \n",
      " ormalization)                                                                                    \n",
      "                                                                                                  \n",
      " batch_normalization_13 (BatchN  (None, 25, 25, 96)  288         ['conv2d_13[0][0]']              \n",
      " ormalization)                                                                                    \n",
      "                                                                                                  \n",
      " activation_6 (Activation)      (None, 25, 25, 48)   0           ['batch_normalization_10[0][0]'] \n",
      "                                                                                                  \n",
      " activation_9 (Activation)      (None, 25, 25, 96)   0           ['batch_normalization_13[0][0]'] \n",
      "                                                                                                  \n",
      " average_pooling2d (AveragePool  (None, 25, 25, 192)  0          ['max_pooling2d_1[0][0]']        \n",
      " ing2D)                                                                                           \n",
      "                                                                                                  \n",
      " conv2d_9 (Conv2D)              (None, 25, 25, 64)   12288       ['max_pooling2d_1[0][0]']        \n",
      "                                                                                                  \n",
      " conv2d_11 (Conv2D)             (None, 25, 25, 64)   76800       ['activation_6[0][0]']           \n",
      "                                                                                                  \n",
      " conv2d_14 (Conv2D)             (None, 25, 25, 96)   82944       ['activation_9[0][0]']           \n",
      "                                                                                                  \n",
      " conv2d_15 (Conv2D)             (None, 25, 25, 32)   6144        ['average_pooling2d[0][0]']      \n",
      "                                                                                                  \n",
      " batch_normalization_9 (BatchNo  (None, 25, 25, 64)  192         ['conv2d_9[0][0]']               \n",
      " rmalization)                                                                                     \n",
      "                                                                                                  \n",
      " batch_normalization_11 (BatchN  (None, 25, 25, 64)  192         ['conv2d_11[0][0]']              \n",
      " ormalization)                                                                                    \n",
      "                                                                                                  \n",
      " batch_normalization_14 (BatchN  (None, 25, 25, 96)  288         ['conv2d_14[0][0]']              \n",
      " ormalization)                                                                                    \n",
      "                                                                                                  \n",
      " batch_normalization_15 (BatchN  (None, 25, 25, 32)  96          ['conv2d_15[0][0]']              \n",
      " ormalization)                                                                                    \n",
      "                                                                                                  \n",
      " activation_5 (Activation)      (None, 25, 25, 64)   0           ['batch_normalization_9[0][0]']  \n",
      "                                                                                                  \n",
      " activation_7 (Activation)      (None, 25, 25, 64)   0           ['batch_normalization_11[0][0]'] \n",
      "                                                                                                  \n",
      " activation_10 (Activation)     (None, 25, 25, 96)   0           ['batch_normalization_14[0][0]'] \n",
      "                                                                                                  \n",
      " activation_11 (Activation)     (None, 25, 25, 32)   0           ['batch_normalization_15[0][0]'] \n",
      "                                                                                                  \n",
      " mixed0 (Concatenate)           (None, 25, 25, 256)  0           ['activation_5[0][0]',           \n",
      "                                                                  'activation_7[0][0]',           \n",
      "                                                                  'activation_10[0][0]',          \n",
      "                                                                  'activation_11[0][0]']          \n",
      "                                                                                                  \n",
      " conv2d_19 (Conv2D)             (None, 25, 25, 64)   16384       ['mixed0[0][0]']                 \n",
      "                                                                                                  \n",
      " batch_normalization_19 (BatchN  (None, 25, 25, 64)  192         ['conv2d_19[0][0]']              \n",
      " ormalization)                                                                                    \n",
      "                                                                                                  \n",
      " activation_15 (Activation)     (None, 25, 25, 64)   0           ['batch_normalization_19[0][0]'] \n",
      "                                                                                                  \n",
      " conv2d_17 (Conv2D)             (None, 25, 25, 48)   12288       ['mixed0[0][0]']                 \n",
      "                                                                                                  \n",
      " conv2d_20 (Conv2D)             (None, 25, 25, 96)   55296       ['activation_15[0][0]']          \n",
      "                                                                                                  \n",
      " batch_normalization_17 (BatchN  (None, 25, 25, 48)  144         ['conv2d_17[0][0]']              \n",
      " ormalization)                                                                                    \n",
      "                                                                                                  \n",
      " batch_normalization_20 (BatchN  (None, 25, 25, 96)  288         ['conv2d_20[0][0]']              \n",
      " ormalization)                                                                                    \n",
      "                                                                                                  \n",
      " activation_13 (Activation)     (None, 25, 25, 48)   0           ['batch_normalization_17[0][0]'] \n",
      "                                                                                                  \n",
      " activation_16 (Activation)     (None, 25, 25, 96)   0           ['batch_normalization_20[0][0]'] \n",
      "                                                                                                  \n",
      " average_pooling2d_1 (AveragePo  (None, 25, 25, 256)  0          ['mixed0[0][0]']                 \n",
      " oling2D)                                                                                         \n",
      "                                                                                                  \n",
      " conv2d_16 (Conv2D)             (None, 25, 25, 64)   16384       ['mixed0[0][0]']                 \n",
      "                                                                                                  \n",
      " conv2d_18 (Conv2D)             (None, 25, 25, 64)   76800       ['activation_13[0][0]']          \n",
      "                                                                                                  \n",
      " conv2d_21 (Conv2D)             (None, 25, 25, 96)   82944       ['activation_16[0][0]']          \n",
      "                                                                                                  \n",
      " conv2d_22 (Conv2D)             (None, 25, 25, 64)   16384       ['average_pooling2d_1[0][0]']    \n",
      "                                                                                                  \n",
      " batch_normalization_16 (BatchN  (None, 25, 25, 64)  192         ['conv2d_16[0][0]']              \n",
      " ormalization)                                                                                    \n",
      "                                                                                                  \n",
      " batch_normalization_18 (BatchN  (None, 25, 25, 64)  192         ['conv2d_18[0][0]']              \n",
      " ormalization)                                                                                    \n",
      "                                                                                                  \n",
      " batch_normalization_21 (BatchN  (None, 25, 25, 96)  288         ['conv2d_21[0][0]']              \n",
      " ormalization)                                                                                    \n",
      "                                                                                                  \n",
      " batch_normalization_22 (BatchN  (None, 25, 25, 64)  192         ['conv2d_22[0][0]']              \n",
      " ormalization)                                                                                    \n",
      "                                                                                                  \n",
      " activation_12 (Activation)     (None, 25, 25, 64)   0           ['batch_normalization_16[0][0]'] \n",
      "                                                                                                  \n",
      " activation_14 (Activation)     (None, 25, 25, 64)   0           ['batch_normalization_18[0][0]'] \n",
      "                                                                                                  \n",
      " activation_17 (Activation)     (None, 25, 25, 96)   0           ['batch_normalization_21[0][0]'] \n",
      "                                                                                                  \n",
      " activation_18 (Activation)     (None, 25, 25, 64)   0           ['batch_normalization_22[0][0]'] \n",
      "                                                                                                  \n",
      " mixed1 (Concatenate)           (None, 25, 25, 288)  0           ['activation_12[0][0]',          \n",
      "                                                                  'activation_14[0][0]',          \n",
      "                                                                  'activation_17[0][0]',          \n",
      "                                                                  'activation_18[0][0]']          \n",
      "                                                                                                  \n",
      " conv2d_26 (Conv2D)             (None, 25, 25, 64)   18432       ['mixed1[0][0]']                 \n",
      "                                                                                                  \n",
      " batch_normalization_26 (BatchN  (None, 25, 25, 64)  192         ['conv2d_26[0][0]']              \n",
      " ormalization)                                                                                    \n",
      "                                                                                                  \n",
      " activation_22 (Activation)     (None, 25, 25, 64)   0           ['batch_normalization_26[0][0]'] \n",
      "                                                                                                  \n",
      " conv2d_24 (Conv2D)             (None, 25, 25, 48)   13824       ['mixed1[0][0]']                 \n",
      "                                                                                                  \n",
      " conv2d_27 (Conv2D)             (None, 25, 25, 96)   55296       ['activation_22[0][0]']          \n",
      "                                                                                                  \n",
      " batch_normalization_24 (BatchN  (None, 25, 25, 48)  144         ['conv2d_24[0][0]']              \n",
      " ormalization)                                                                                    \n",
      "                                                                                                  \n",
      " batch_normalization_27 (BatchN  (None, 25, 25, 96)  288         ['conv2d_27[0][0]']              \n",
      " ormalization)                                                                                    \n",
      "                                                                                                  \n",
      " activation_20 (Activation)     (None, 25, 25, 48)   0           ['batch_normalization_24[0][0]'] \n",
      "                                                                                                  \n",
      " activation_23 (Activation)     (None, 25, 25, 96)   0           ['batch_normalization_27[0][0]'] \n",
      "                                                                                                  \n",
      " average_pooling2d_2 (AveragePo  (None, 25, 25, 288)  0          ['mixed1[0][0]']                 \n",
      " oling2D)                                                                                         \n",
      "                                                                                                  \n",
      " conv2d_23 (Conv2D)             (None, 25, 25, 64)   18432       ['mixed1[0][0]']                 \n",
      "                                                                                                  \n",
      " conv2d_25 (Conv2D)             (None, 25, 25, 64)   76800       ['activation_20[0][0]']          \n",
      "                                                                                                  \n",
      " conv2d_28 (Conv2D)             (None, 25, 25, 96)   82944       ['activation_23[0][0]']          \n",
      "                                                                                                  \n",
      " conv2d_29 (Conv2D)             (None, 25, 25, 64)   18432       ['average_pooling2d_2[0][0]']    \n",
      "                                                                                                  \n",
      " batch_normalization_23 (BatchN  (None, 25, 25, 64)  192         ['conv2d_23[0][0]']              \n",
      " ormalization)                                                                                    \n",
      "                                                                                                  \n",
      " batch_normalization_25 (BatchN  (None, 25, 25, 64)  192         ['conv2d_25[0][0]']              \n",
      " ormalization)                                                                                    \n",
      "                                                                                                  \n",
      " batch_normalization_28 (BatchN  (None, 25, 25, 96)  288         ['conv2d_28[0][0]']              \n",
      " ormalization)                                                                                    \n",
      "                                                                                                  \n",
      " batch_normalization_29 (BatchN  (None, 25, 25, 64)  192         ['conv2d_29[0][0]']              \n",
      " ormalization)                                                                                    \n",
      "                                                                                                  \n",
      " activation_19 (Activation)     (None, 25, 25, 64)   0           ['batch_normalization_23[0][0]'] \n",
      "                                                                                                  \n",
      " activation_21 (Activation)     (None, 25, 25, 64)   0           ['batch_normalization_25[0][0]'] \n",
      "                                                                                                  \n",
      " activation_24 (Activation)     (None, 25, 25, 96)   0           ['batch_normalization_28[0][0]'] \n",
      "                                                                                                  \n",
      " activation_25 (Activation)     (None, 25, 25, 64)   0           ['batch_normalization_29[0][0]'] \n",
      "                                                                                                  \n",
      " mixed2 (Concatenate)           (None, 25, 25, 288)  0           ['activation_19[0][0]',          \n",
      "                                                                  'activation_21[0][0]',          \n",
      "                                                                  'activation_24[0][0]',          \n",
      "                                                                  'activation_25[0][0]']          \n",
      "                                                                                                  \n",
      " conv2d_31 (Conv2D)             (None, 25, 25, 64)   18432       ['mixed2[0][0]']                 \n",
      "                                                                                                  \n",
      " batch_normalization_31 (BatchN  (None, 25, 25, 64)  192         ['conv2d_31[0][0]']              \n",
      " ormalization)                                                                                    \n",
      "                                                                                                  \n",
      " activation_27 (Activation)     (None, 25, 25, 64)   0           ['batch_normalization_31[0][0]'] \n",
      "                                                                                                  \n",
      " conv2d_32 (Conv2D)             (None, 25, 25, 96)   55296       ['activation_27[0][0]']          \n",
      "                                                                                                  \n",
      " batch_normalization_32 (BatchN  (None, 25, 25, 96)  288         ['conv2d_32[0][0]']              \n",
      " ormalization)                                                                                    \n",
      "                                                                                                  \n",
      " activation_28 (Activation)     (None, 25, 25, 96)   0           ['batch_normalization_32[0][0]'] \n",
      "                                                                                                  \n",
      " conv2d_30 (Conv2D)             (None, 12, 12, 384)  995328      ['mixed2[0][0]']                 \n",
      "                                                                                                  \n",
      " conv2d_33 (Conv2D)             (None, 12, 12, 96)   82944       ['activation_28[0][0]']          \n",
      "                                                                                                  \n",
      " batch_normalization_30 (BatchN  (None, 12, 12, 384)  1152       ['conv2d_30[0][0]']              \n",
      " ormalization)                                                                                    \n",
      "                                                                                                  \n",
      " batch_normalization_33 (BatchN  (None, 12, 12, 96)  288         ['conv2d_33[0][0]']              \n",
      " ormalization)                                                                                    \n",
      "                                                                                                  \n",
      " activation_26 (Activation)     (None, 12, 12, 384)  0           ['batch_normalization_30[0][0]'] \n",
      "                                                                                                  \n",
      " activation_29 (Activation)     (None, 12, 12, 96)   0           ['batch_normalization_33[0][0]'] \n",
      "                                                                                                  \n",
      " max_pooling2d_2 (MaxPooling2D)  (None, 12, 12, 288)  0          ['mixed2[0][0]']                 \n",
      "                                                                                                  \n",
      " mixed3 (Concatenate)           (None, 12, 12, 768)  0           ['activation_26[0][0]',          \n",
      "                                                                  'activation_29[0][0]',          \n",
      "                                                                  'max_pooling2d_2[0][0]']        \n",
      "                                                                                                  \n",
      " conv2d_38 (Conv2D)             (None, 12, 12, 128)  98304       ['mixed3[0][0]']                 \n",
      "                                                                                                  \n",
      " batch_normalization_38 (BatchN  (None, 12, 12, 128)  384        ['conv2d_38[0][0]']              \n",
      " ormalization)                                                                                    \n",
      "                                                                                                  \n",
      " activation_34 (Activation)     (None, 12, 12, 128)  0           ['batch_normalization_38[0][0]'] \n",
      "                                                                                                  \n",
      " conv2d_39 (Conv2D)             (None, 12, 12, 128)  114688      ['activation_34[0][0]']          \n",
      "                                                                                                  \n",
      " batch_normalization_39 (BatchN  (None, 12, 12, 128)  384        ['conv2d_39[0][0]']              \n",
      " ormalization)                                                                                    \n",
      "                                                                                                  \n",
      " activation_35 (Activation)     (None, 12, 12, 128)  0           ['batch_normalization_39[0][0]'] \n",
      "                                                                                                  \n",
      " conv2d_35 (Conv2D)             (None, 12, 12, 128)  98304       ['mixed3[0][0]']                 \n",
      "                                                                                                  \n",
      " conv2d_40 (Conv2D)             (None, 12, 12, 128)  114688      ['activation_35[0][0]']          \n",
      "                                                                                                  \n",
      " batch_normalization_35 (BatchN  (None, 12, 12, 128)  384        ['conv2d_35[0][0]']              \n",
      " ormalization)                                                                                    \n",
      "                                                                                                  \n",
      " batch_normalization_40 (BatchN  (None, 12, 12, 128)  384        ['conv2d_40[0][0]']              \n",
      " ormalization)                                                                                    \n",
      "                                                                                                  \n",
      " activation_31 (Activation)     (None, 12, 12, 128)  0           ['batch_normalization_35[0][0]'] \n",
      "                                                                                                  \n",
      " activation_36 (Activation)     (None, 12, 12, 128)  0           ['batch_normalization_40[0][0]'] \n",
      "                                                                                                  \n",
      " conv2d_36 (Conv2D)             (None, 12, 12, 128)  114688      ['activation_31[0][0]']          \n",
      "                                                                                                  \n",
      " conv2d_41 (Conv2D)             (None, 12, 12, 128)  114688      ['activation_36[0][0]']          \n",
      "                                                                                                  \n",
      " batch_normalization_36 (BatchN  (None, 12, 12, 128)  384        ['conv2d_36[0][0]']              \n",
      " ormalization)                                                                                    \n",
      "                                                                                                  \n",
      " batch_normalization_41 (BatchN  (None, 12, 12, 128)  384        ['conv2d_41[0][0]']              \n",
      " ormalization)                                                                                    \n",
      "                                                                                                  \n",
      " activation_32 (Activation)     (None, 12, 12, 128)  0           ['batch_normalization_36[0][0]'] \n",
      "                                                                                                  \n",
      " activation_37 (Activation)     (None, 12, 12, 128)  0           ['batch_normalization_41[0][0]'] \n",
      "                                                                                                  \n",
      " average_pooling2d_3 (AveragePo  (None, 12, 12, 768)  0          ['mixed3[0][0]']                 \n",
      " oling2D)                                                                                         \n",
      "                                                                                                  \n",
      " conv2d_34 (Conv2D)             (None, 12, 12, 192)  147456      ['mixed3[0][0]']                 \n",
      "                                                                                                  \n",
      " conv2d_37 (Conv2D)             (None, 12, 12, 192)  172032      ['activation_32[0][0]']          \n",
      "                                                                                                  \n",
      " conv2d_42 (Conv2D)             (None, 12, 12, 192)  172032      ['activation_37[0][0]']          \n",
      "                                                                                                  \n",
      " conv2d_43 (Conv2D)             (None, 12, 12, 192)  147456      ['average_pooling2d_3[0][0]']    \n",
      "                                                                                                  \n",
      " batch_normalization_34 (BatchN  (None, 12, 12, 192)  576        ['conv2d_34[0][0]']              \n",
      " ormalization)                                                                                    \n",
      "                                                                                                  \n",
      " batch_normalization_37 (BatchN  (None, 12, 12, 192)  576        ['conv2d_37[0][0]']              \n",
      " ormalization)                                                                                    \n",
      "                                                                                                  \n",
      " batch_normalization_42 (BatchN  (None, 12, 12, 192)  576        ['conv2d_42[0][0]']              \n",
      " ormalization)                                                                                    \n",
      "                                                                                                  \n",
      " batch_normalization_43 (BatchN  (None, 12, 12, 192)  576        ['conv2d_43[0][0]']              \n",
      " ormalization)                                                                                    \n",
      "                                                                                                  \n",
      " activation_30 (Activation)     (None, 12, 12, 192)  0           ['batch_normalization_34[0][0]'] \n",
      "                                                                                                  \n",
      " activation_33 (Activation)     (None, 12, 12, 192)  0           ['batch_normalization_37[0][0]'] \n",
      "                                                                                                  \n",
      " activation_38 (Activation)     (None, 12, 12, 192)  0           ['batch_normalization_42[0][0]'] \n",
      "                                                                                                  \n",
      " activation_39 (Activation)     (None, 12, 12, 192)  0           ['batch_normalization_43[0][0]'] \n",
      "                                                                                                  \n",
      " mixed4 (Concatenate)           (None, 12, 12, 768)  0           ['activation_30[0][0]',          \n",
      "                                                                  'activation_33[0][0]',          \n",
      "                                                                  'activation_38[0][0]',          \n",
      "                                                                  'activation_39[0][0]']          \n",
      "                                                                                                  \n",
      " conv2d_48 (Conv2D)             (None, 12, 12, 160)  122880      ['mixed4[0][0]']                 \n",
      "                                                                                                  \n",
      " batch_normalization_48 (BatchN  (None, 12, 12, 160)  480        ['conv2d_48[0][0]']              \n",
      " ormalization)                                                                                    \n",
      "                                                                                                  \n",
      " activation_44 (Activation)     (None, 12, 12, 160)  0           ['batch_normalization_48[0][0]'] \n",
      "                                                                                                  \n",
      " conv2d_49 (Conv2D)             (None, 12, 12, 160)  179200      ['activation_44[0][0]']          \n",
      "                                                                                                  \n",
      " batch_normalization_49 (BatchN  (None, 12, 12, 160)  480        ['conv2d_49[0][0]']              \n",
      " ormalization)                                                                                    \n",
      "                                                                                                  \n",
      " activation_45 (Activation)     (None, 12, 12, 160)  0           ['batch_normalization_49[0][0]'] \n",
      "                                                                                                  \n",
      " conv2d_45 (Conv2D)             (None, 12, 12, 160)  122880      ['mixed4[0][0]']                 \n",
      "                                                                                                  \n",
      " conv2d_50 (Conv2D)             (None, 12, 12, 160)  179200      ['activation_45[0][0]']          \n",
      "                                                                                                  \n",
      " batch_normalization_45 (BatchN  (None, 12, 12, 160)  480        ['conv2d_45[0][0]']              \n",
      " ormalization)                                                                                    \n",
      "                                                                                                  \n",
      " batch_normalization_50 (BatchN  (None, 12, 12, 160)  480        ['conv2d_50[0][0]']              \n",
      " ormalization)                                                                                    \n",
      "                                                                                                  \n",
      " activation_41 (Activation)     (None, 12, 12, 160)  0           ['batch_normalization_45[0][0]'] \n",
      "                                                                                                  \n",
      " activation_46 (Activation)     (None, 12, 12, 160)  0           ['batch_normalization_50[0][0]'] \n",
      "                                                                                                  \n",
      " conv2d_46 (Conv2D)             (None, 12, 12, 160)  179200      ['activation_41[0][0]']          \n",
      "                                                                                                  \n",
      " conv2d_51 (Conv2D)             (None, 12, 12, 160)  179200      ['activation_46[0][0]']          \n",
      "                                                                                                  \n",
      " batch_normalization_46 (BatchN  (None, 12, 12, 160)  480        ['conv2d_46[0][0]']              \n",
      " ormalization)                                                                                    \n",
      "                                                                                                  \n",
      " batch_normalization_51 (BatchN  (None, 12, 12, 160)  480        ['conv2d_51[0][0]']              \n",
      " ormalization)                                                                                    \n",
      "                                                                                                  \n",
      " activation_42 (Activation)     (None, 12, 12, 160)  0           ['batch_normalization_46[0][0]'] \n",
      "                                                                                                  \n",
      " activation_47 (Activation)     (None, 12, 12, 160)  0           ['batch_normalization_51[0][0]'] \n",
      "                                                                                                  \n",
      " average_pooling2d_4 (AveragePo  (None, 12, 12, 768)  0          ['mixed4[0][0]']                 \n",
      " oling2D)                                                                                         \n",
      "                                                                                                  \n",
      " conv2d_44 (Conv2D)             (None, 12, 12, 192)  147456      ['mixed4[0][0]']                 \n",
      "                                                                                                  \n",
      " conv2d_47 (Conv2D)             (None, 12, 12, 192)  215040      ['activation_42[0][0]']          \n",
      "                                                                                                  \n",
      " conv2d_52 (Conv2D)             (None, 12, 12, 192)  215040      ['activation_47[0][0]']          \n",
      "                                                                                                  \n",
      " conv2d_53 (Conv2D)             (None, 12, 12, 192)  147456      ['average_pooling2d_4[0][0]']    \n",
      "                                                                                                  \n",
      " batch_normalization_44 (BatchN  (None, 12, 12, 192)  576        ['conv2d_44[0][0]']              \n",
      " ormalization)                                                                                    \n",
      "                                                                                                  \n",
      " batch_normalization_47 (BatchN  (None, 12, 12, 192)  576        ['conv2d_47[0][0]']              \n",
      " ormalization)                                                                                    \n",
      "                                                                                                  \n",
      " batch_normalization_52 (BatchN  (None, 12, 12, 192)  576        ['conv2d_52[0][0]']              \n",
      " ormalization)                                                                                    \n",
      "                                                                                                  \n",
      " batch_normalization_53 (BatchN  (None, 12, 12, 192)  576        ['conv2d_53[0][0]']              \n",
      " ormalization)                                                                                    \n",
      "                                                                                                  \n",
      " activation_40 (Activation)     (None, 12, 12, 192)  0           ['batch_normalization_44[0][0]'] \n",
      "                                                                                                  \n",
      " activation_43 (Activation)     (None, 12, 12, 192)  0           ['batch_normalization_47[0][0]'] \n",
      "                                                                                                  \n",
      " activation_48 (Activation)     (None, 12, 12, 192)  0           ['batch_normalization_52[0][0]'] \n",
      "                                                                                                  \n",
      " activation_49 (Activation)     (None, 12, 12, 192)  0           ['batch_normalization_53[0][0]'] \n",
      "                                                                                                  \n",
      " mixed5 (Concatenate)           (None, 12, 12, 768)  0           ['activation_40[0][0]',          \n",
      "                                                                  'activation_43[0][0]',          \n",
      "                                                                  'activation_48[0][0]',          \n",
      "                                                                  'activation_49[0][0]']          \n",
      "                                                                                                  \n",
      " conv2d_58 (Conv2D)             (None, 12, 12, 160)  122880      ['mixed5[0][0]']                 \n",
      "                                                                                                  \n",
      " batch_normalization_58 (BatchN  (None, 12, 12, 160)  480        ['conv2d_58[0][0]']              \n",
      " ormalization)                                                                                    \n",
      "                                                                                                  \n",
      " activation_54 (Activation)     (None, 12, 12, 160)  0           ['batch_normalization_58[0][0]'] \n",
      "                                                                                                  \n",
      " conv2d_59 (Conv2D)             (None, 12, 12, 160)  179200      ['activation_54[0][0]']          \n",
      "                                                                                                  \n",
      " batch_normalization_59 (BatchN  (None, 12, 12, 160)  480        ['conv2d_59[0][0]']              \n",
      " ormalization)                                                                                    \n",
      "                                                                                                  \n",
      " activation_55 (Activation)     (None, 12, 12, 160)  0           ['batch_normalization_59[0][0]'] \n",
      "                                                                                                  \n",
      " conv2d_55 (Conv2D)             (None, 12, 12, 160)  122880      ['mixed5[0][0]']                 \n",
      "                                                                                                  \n",
      " conv2d_60 (Conv2D)             (None, 12, 12, 160)  179200      ['activation_55[0][0]']          \n",
      "                                                                                                  \n",
      " batch_normalization_55 (BatchN  (None, 12, 12, 160)  480        ['conv2d_55[0][0]']              \n",
      " ormalization)                                                                                    \n",
      "                                                                                                  \n",
      " batch_normalization_60 (BatchN  (None, 12, 12, 160)  480        ['conv2d_60[0][0]']              \n",
      " ormalization)                                                                                    \n",
      "                                                                                                  \n",
      " activation_51 (Activation)     (None, 12, 12, 160)  0           ['batch_normalization_55[0][0]'] \n",
      "                                                                                                  \n",
      " activation_56 (Activation)     (None, 12, 12, 160)  0           ['batch_normalization_60[0][0]'] \n",
      "                                                                                                  \n",
      " conv2d_56 (Conv2D)             (None, 12, 12, 160)  179200      ['activation_51[0][0]']          \n",
      "                                                                                                  \n",
      " conv2d_61 (Conv2D)             (None, 12, 12, 160)  179200      ['activation_56[0][0]']          \n",
      "                                                                                                  \n",
      " batch_normalization_56 (BatchN  (None, 12, 12, 160)  480        ['conv2d_56[0][0]']              \n",
      " ormalization)                                                                                    \n",
      "                                                                                                  \n",
      " batch_normalization_61 (BatchN  (None, 12, 12, 160)  480        ['conv2d_61[0][0]']              \n",
      " ormalization)                                                                                    \n",
      "                                                                                                  \n",
      " activation_52 (Activation)     (None, 12, 12, 160)  0           ['batch_normalization_56[0][0]'] \n",
      "                                                                                                  \n",
      " activation_57 (Activation)     (None, 12, 12, 160)  0           ['batch_normalization_61[0][0]'] \n",
      "                                                                                                  \n",
      " average_pooling2d_5 (AveragePo  (None, 12, 12, 768)  0          ['mixed5[0][0]']                 \n",
      " oling2D)                                                                                         \n",
      "                                                                                                  \n",
      " conv2d_54 (Conv2D)             (None, 12, 12, 192)  147456      ['mixed5[0][0]']                 \n",
      "                                                                                                  \n",
      " conv2d_57 (Conv2D)             (None, 12, 12, 192)  215040      ['activation_52[0][0]']          \n",
      "                                                                                                  \n",
      " conv2d_62 (Conv2D)             (None, 12, 12, 192)  215040      ['activation_57[0][0]']          \n",
      "                                                                                                  \n",
      " conv2d_63 (Conv2D)             (None, 12, 12, 192)  147456      ['average_pooling2d_5[0][0]']    \n",
      "                                                                                                  \n",
      " batch_normalization_54 (BatchN  (None, 12, 12, 192)  576        ['conv2d_54[0][0]']              \n",
      " ormalization)                                                                                    \n",
      "                                                                                                  \n",
      " batch_normalization_57 (BatchN  (None, 12, 12, 192)  576        ['conv2d_57[0][0]']              \n",
      " ormalization)                                                                                    \n",
      "                                                                                                  \n",
      " batch_normalization_62 (BatchN  (None, 12, 12, 192)  576        ['conv2d_62[0][0]']              \n",
      " ormalization)                                                                                    \n",
      "                                                                                                  \n",
      " batch_normalization_63 (BatchN  (None, 12, 12, 192)  576        ['conv2d_63[0][0]']              \n",
      " ormalization)                                                                                    \n",
      "                                                                                                  \n",
      " activation_50 (Activation)     (None, 12, 12, 192)  0           ['batch_normalization_54[0][0]'] \n",
      "                                                                                                  \n",
      " activation_53 (Activation)     (None, 12, 12, 192)  0           ['batch_normalization_57[0][0]'] \n",
      "                                                                                                  \n",
      " activation_58 (Activation)     (None, 12, 12, 192)  0           ['batch_normalization_62[0][0]'] \n",
      "                                                                                                  \n",
      " activation_59 (Activation)     (None, 12, 12, 192)  0           ['batch_normalization_63[0][0]'] \n",
      "                                                                                                  \n",
      " mixed6 (Concatenate)           (None, 12, 12, 768)  0           ['activation_50[0][0]',          \n",
      "                                                                  'activation_53[0][0]',          \n",
      "                                                                  'activation_58[0][0]',          \n",
      "                                                                  'activation_59[0][0]']          \n",
      "                                                                                                  \n",
      " conv2d_68 (Conv2D)             (None, 12, 12, 192)  147456      ['mixed6[0][0]']                 \n",
      "                                                                                                  \n",
      " batch_normalization_68 (BatchN  (None, 12, 12, 192)  576        ['conv2d_68[0][0]']              \n",
      " ormalization)                                                                                    \n",
      "                                                                                                  \n",
      " activation_64 (Activation)     (None, 12, 12, 192)  0           ['batch_normalization_68[0][0]'] \n",
      "                                                                                                  \n",
      " conv2d_69 (Conv2D)             (None, 12, 12, 192)  258048      ['activation_64[0][0]']          \n",
      "                                                                                                  \n",
      " batch_normalization_69 (BatchN  (None, 12, 12, 192)  576        ['conv2d_69[0][0]']              \n",
      " ormalization)                                                                                    \n",
      "                                                                                                  \n",
      " activation_65 (Activation)     (None, 12, 12, 192)  0           ['batch_normalization_69[0][0]'] \n",
      "                                                                                                  \n",
      " conv2d_65 (Conv2D)             (None, 12, 12, 192)  147456      ['mixed6[0][0]']                 \n",
      "                                                                                                  \n",
      " conv2d_70 (Conv2D)             (None, 12, 12, 192)  258048      ['activation_65[0][0]']          \n",
      "                                                                                                  \n",
      " batch_normalization_65 (BatchN  (None, 12, 12, 192)  576        ['conv2d_65[0][0]']              \n",
      " ormalization)                                                                                    \n",
      "                                                                                                  \n",
      " batch_normalization_70 (BatchN  (None, 12, 12, 192)  576        ['conv2d_70[0][0]']              \n",
      " ormalization)                                                                                    \n",
      "                                                                                                  \n",
      " activation_61 (Activation)     (None, 12, 12, 192)  0           ['batch_normalization_65[0][0]'] \n",
      "                                                                                                  \n",
      " activation_66 (Activation)     (None, 12, 12, 192)  0           ['batch_normalization_70[0][0]'] \n",
      "                                                                                                  \n",
      " conv2d_66 (Conv2D)             (None, 12, 12, 192)  258048      ['activation_61[0][0]']          \n",
      "                                                                                                  \n",
      " conv2d_71 (Conv2D)             (None, 12, 12, 192)  258048      ['activation_66[0][0]']          \n",
      "                                                                                                  \n",
      " batch_normalization_66 (BatchN  (None, 12, 12, 192)  576        ['conv2d_66[0][0]']              \n",
      " ormalization)                                                                                    \n",
      "                                                                                                  \n",
      " batch_normalization_71 (BatchN  (None, 12, 12, 192)  576        ['conv2d_71[0][0]']              \n",
      " ormalization)                                                                                    \n",
      "                                                                                                  \n",
      " activation_62 (Activation)     (None, 12, 12, 192)  0           ['batch_normalization_66[0][0]'] \n",
      "                                                                                                  \n",
      " activation_67 (Activation)     (None, 12, 12, 192)  0           ['batch_normalization_71[0][0]'] \n",
      "                                                                                                  \n",
      " average_pooling2d_6 (AveragePo  (None, 12, 12, 768)  0          ['mixed6[0][0]']                 \n",
      " oling2D)                                                                                         \n",
      "                                                                                                  \n",
      " conv2d_64 (Conv2D)             (None, 12, 12, 192)  147456      ['mixed6[0][0]']                 \n",
      "                                                                                                  \n",
      " conv2d_67 (Conv2D)             (None, 12, 12, 192)  258048      ['activation_62[0][0]']          \n",
      "                                                                                                  \n",
      " conv2d_72 (Conv2D)             (None, 12, 12, 192)  258048      ['activation_67[0][0]']          \n",
      "                                                                                                  \n",
      " conv2d_73 (Conv2D)             (None, 12, 12, 192)  147456      ['average_pooling2d_6[0][0]']    \n",
      "                                                                                                  \n",
      " batch_normalization_64 (BatchN  (None, 12, 12, 192)  576        ['conv2d_64[0][0]']              \n",
      " ormalization)                                                                                    \n",
      "                                                                                                  \n",
      " batch_normalization_67 (BatchN  (None, 12, 12, 192)  576        ['conv2d_67[0][0]']              \n",
      " ormalization)                                                                                    \n",
      "                                                                                                  \n",
      " batch_normalization_72 (BatchN  (None, 12, 12, 192)  576        ['conv2d_72[0][0]']              \n",
      " ormalization)                                                                                    \n",
      "                                                                                                  \n",
      " batch_normalization_73 (BatchN  (None, 12, 12, 192)  576        ['conv2d_73[0][0]']              \n",
      " ormalization)                                                                                    \n",
      "                                                                                                  \n",
      " activation_60 (Activation)     (None, 12, 12, 192)  0           ['batch_normalization_64[0][0]'] \n",
      "                                                                                                  \n",
      " activation_63 (Activation)     (None, 12, 12, 192)  0           ['batch_normalization_67[0][0]'] \n",
      "                                                                                                  \n",
      " activation_68 (Activation)     (None, 12, 12, 192)  0           ['batch_normalization_72[0][0]'] \n",
      "                                                                                                  \n",
      " activation_69 (Activation)     (None, 12, 12, 192)  0           ['batch_normalization_73[0][0]'] \n",
      "                                                                                                  \n",
      " mixed7 (Concatenate)           (None, 12, 12, 768)  0           ['activation_60[0][0]',          \n",
      "                                                                  'activation_63[0][0]',          \n",
      "                                                                  'activation_68[0][0]',          \n",
      "                                                                  'activation_69[0][0]']          \n",
      "                                                                                                  \n",
      " conv2d_76 (Conv2D)             (None, 12, 12, 192)  147456      ['mixed7[0][0]']                 \n",
      "                                                                                                  \n",
      " batch_normalization_76 (BatchN  (None, 12, 12, 192)  576        ['conv2d_76[0][0]']              \n",
      " ormalization)                                                                                    \n",
      "                                                                                                  \n",
      " activation_72 (Activation)     (None, 12, 12, 192)  0           ['batch_normalization_76[0][0]'] \n",
      "                                                                                                  \n",
      " conv2d_77 (Conv2D)             (None, 12, 12, 192)  258048      ['activation_72[0][0]']          \n",
      "                                                                                                  \n",
      " batch_normalization_77 (BatchN  (None, 12, 12, 192)  576        ['conv2d_77[0][0]']              \n",
      " ormalization)                                                                                    \n",
      "                                                                                                  \n",
      " activation_73 (Activation)     (None, 12, 12, 192)  0           ['batch_normalization_77[0][0]'] \n",
      "                                                                                                  \n",
      " conv2d_74 (Conv2D)             (None, 12, 12, 192)  147456      ['mixed7[0][0]']                 \n",
      "                                                                                                  \n",
      " conv2d_78 (Conv2D)             (None, 12, 12, 192)  258048      ['activation_73[0][0]']          \n",
      "                                                                                                  \n",
      " batch_normalization_74 (BatchN  (None, 12, 12, 192)  576        ['conv2d_74[0][0]']              \n",
      " ormalization)                                                                                    \n",
      "                                                                                                  \n",
      " batch_normalization_78 (BatchN  (None, 12, 12, 192)  576        ['conv2d_78[0][0]']              \n",
      " ormalization)                                                                                    \n",
      "                                                                                                  \n",
      " activation_70 (Activation)     (None, 12, 12, 192)  0           ['batch_normalization_74[0][0]'] \n",
      "                                                                                                  \n",
      " activation_74 (Activation)     (None, 12, 12, 192)  0           ['batch_normalization_78[0][0]'] \n",
      "                                                                                                  \n",
      " conv2d_75 (Conv2D)             (None, 5, 5, 320)    552960      ['activation_70[0][0]']          \n",
      "                                                                                                  \n",
      " conv2d_79 (Conv2D)             (None, 5, 5, 192)    331776      ['activation_74[0][0]']          \n",
      "                                                                                                  \n",
      " batch_normalization_75 (BatchN  (None, 5, 5, 320)   960         ['conv2d_75[0][0]']              \n",
      " ormalization)                                                                                    \n",
      "                                                                                                  \n",
      " batch_normalization_79 (BatchN  (None, 5, 5, 192)   576         ['conv2d_79[0][0]']              \n",
      " ormalization)                                                                                    \n",
      "                                                                                                  \n",
      " activation_71 (Activation)     (None, 5, 5, 320)    0           ['batch_normalization_75[0][0]'] \n",
      "                                                                                                  \n",
      " activation_75 (Activation)     (None, 5, 5, 192)    0           ['batch_normalization_79[0][0]'] \n",
      "                                                                                                  \n",
      " max_pooling2d_3 (MaxPooling2D)  (None, 5, 5, 768)   0           ['mixed7[0][0]']                 \n",
      "                                                                                                  \n",
      " mixed8 (Concatenate)           (None, 5, 5, 1280)   0           ['activation_71[0][0]',          \n",
      "                                                                  'activation_75[0][0]',          \n",
      "                                                                  'max_pooling2d_3[0][0]']        \n",
      "                                                                                                  \n",
      " conv2d_84 (Conv2D)             (None, 5, 5, 448)    573440      ['mixed8[0][0]']                 \n",
      "                                                                                                  \n",
      " batch_normalization_84 (BatchN  (None, 5, 5, 448)   1344        ['conv2d_84[0][0]']              \n",
      " ormalization)                                                                                    \n",
      "                                                                                                  \n",
      " activation_80 (Activation)     (None, 5, 5, 448)    0           ['batch_normalization_84[0][0]'] \n",
      "                                                                                                  \n",
      " conv2d_81 (Conv2D)             (None, 5, 5, 384)    491520      ['mixed8[0][0]']                 \n",
      "                                                                                                  \n",
      " conv2d_85 (Conv2D)             (None, 5, 5, 384)    1548288     ['activation_80[0][0]']          \n",
      "                                                                                                  \n",
      " batch_normalization_81 (BatchN  (None, 5, 5, 384)   1152        ['conv2d_81[0][0]']              \n",
      " ormalization)                                                                                    \n",
      "                                                                                                  \n",
      " batch_normalization_85 (BatchN  (None, 5, 5, 384)   1152        ['conv2d_85[0][0]']              \n",
      " ormalization)                                                                                    \n",
      "                                                                                                  \n",
      " activation_77 (Activation)     (None, 5, 5, 384)    0           ['batch_normalization_81[0][0]'] \n",
      "                                                                                                  \n",
      " activation_81 (Activation)     (None, 5, 5, 384)    0           ['batch_normalization_85[0][0]'] \n",
      "                                                                                                  \n",
      " conv2d_82 (Conv2D)             (None, 5, 5, 384)    442368      ['activation_77[0][0]']          \n",
      "                                                                                                  \n",
      " conv2d_83 (Conv2D)             (None, 5, 5, 384)    442368      ['activation_77[0][0]']          \n",
      "                                                                                                  \n",
      " conv2d_86 (Conv2D)             (None, 5, 5, 384)    442368      ['activation_81[0][0]']          \n",
      "                                                                                                  \n",
      " conv2d_87 (Conv2D)             (None, 5, 5, 384)    442368      ['activation_81[0][0]']          \n",
      "                                                                                                  \n",
      " average_pooling2d_7 (AveragePo  (None, 5, 5, 1280)  0           ['mixed8[0][0]']                 \n",
      " oling2D)                                                                                         \n",
      "                                                                                                  \n",
      " conv2d_80 (Conv2D)             (None, 5, 5, 320)    409600      ['mixed8[0][0]']                 \n",
      "                                                                                                  \n",
      " batch_normalization_82 (BatchN  (None, 5, 5, 384)   1152        ['conv2d_82[0][0]']              \n",
      " ormalization)                                                                                    \n",
      "                                                                                                  \n",
      " batch_normalization_83 (BatchN  (None, 5, 5, 384)   1152        ['conv2d_83[0][0]']              \n",
      " ormalization)                                                                                    \n",
      "                                                                                                  \n",
      " batch_normalization_86 (BatchN  (None, 5, 5, 384)   1152        ['conv2d_86[0][0]']              \n",
      " ormalization)                                                                                    \n",
      "                                                                                                  \n",
      " batch_normalization_87 (BatchN  (None, 5, 5, 384)   1152        ['conv2d_87[0][0]']              \n",
      " ormalization)                                                                                    \n",
      "                                                                                                  \n",
      " conv2d_88 (Conv2D)             (None, 5, 5, 192)    245760      ['average_pooling2d_7[0][0]']    \n",
      "                                                                                                  \n",
      " batch_normalization_80 (BatchN  (None, 5, 5, 320)   960         ['conv2d_80[0][0]']              \n",
      " ormalization)                                                                                    \n",
      "                                                                                                  \n",
      " activation_78 (Activation)     (None, 5, 5, 384)    0           ['batch_normalization_82[0][0]'] \n",
      "                                                                                                  \n",
      " activation_79 (Activation)     (None, 5, 5, 384)    0           ['batch_normalization_83[0][0]'] \n",
      "                                                                                                  \n",
      " activation_82 (Activation)     (None, 5, 5, 384)    0           ['batch_normalization_86[0][0]'] \n",
      "                                                                                                  \n",
      " activation_83 (Activation)     (None, 5, 5, 384)    0           ['batch_normalization_87[0][0]'] \n",
      "                                                                                                  \n",
      " batch_normalization_88 (BatchN  (None, 5, 5, 192)   576         ['conv2d_88[0][0]']              \n",
      " ormalization)                                                                                    \n",
      "                                                                                                  \n",
      " activation_76 (Activation)     (None, 5, 5, 320)    0           ['batch_normalization_80[0][0]'] \n",
      "                                                                                                  \n",
      " mixed9_0 (Concatenate)         (None, 5, 5, 768)    0           ['activation_78[0][0]',          \n",
      "                                                                  'activation_79[0][0]']          \n",
      "                                                                                                  \n",
      " concatenate (Concatenate)      (None, 5, 5, 768)    0           ['activation_82[0][0]',          \n",
      "                                                                  'activation_83[0][0]']          \n",
      "                                                                                                  \n",
      " activation_84 (Activation)     (None, 5, 5, 192)    0           ['batch_normalization_88[0][0]'] \n",
      "                                                                                                  \n",
      " mixed9 (Concatenate)           (None, 5, 5, 2048)   0           ['activation_76[0][0]',          \n",
      "                                                                  'mixed9_0[0][0]',               \n",
      "                                                                  'concatenate[0][0]',            \n",
      "                                                                  'activation_84[0][0]']          \n",
      "                                                                                                  \n",
      " conv2d_93 (Conv2D)             (None, 5, 5, 448)    917504      ['mixed9[0][0]']                 \n",
      "                                                                                                  \n",
      " batch_normalization_93 (BatchN  (None, 5, 5, 448)   1344        ['conv2d_93[0][0]']              \n",
      " ormalization)                                                                                    \n",
      "                                                                                                  \n",
      " activation_89 (Activation)     (None, 5, 5, 448)    0           ['batch_normalization_93[0][0]'] \n",
      "                                                                                                  \n",
      " conv2d_90 (Conv2D)             (None, 5, 5, 384)    786432      ['mixed9[0][0]']                 \n",
      "                                                                                                  \n",
      " conv2d_94 (Conv2D)             (None, 5, 5, 384)    1548288     ['activation_89[0][0]']          \n",
      "                                                                                                  \n",
      " batch_normalization_90 (BatchN  (None, 5, 5, 384)   1152        ['conv2d_90[0][0]']              \n",
      " ormalization)                                                                                    \n",
      "                                                                                                  \n",
      " batch_normalization_94 (BatchN  (None, 5, 5, 384)   1152        ['conv2d_94[0][0]']              \n",
      " ormalization)                                                                                    \n",
      "                                                                                                  \n",
      " activation_86 (Activation)     (None, 5, 5, 384)    0           ['batch_normalization_90[0][0]'] \n",
      "                                                                                                  \n",
      " activation_90 (Activation)     (None, 5, 5, 384)    0           ['batch_normalization_94[0][0]'] \n",
      "                                                                                                  \n",
      " conv2d_91 (Conv2D)             (None, 5, 5, 384)    442368      ['activation_86[0][0]']          \n",
      "                                                                                                  \n",
      " conv2d_92 (Conv2D)             (None, 5, 5, 384)    442368      ['activation_86[0][0]']          \n",
      "                                                                                                  \n",
      " conv2d_95 (Conv2D)             (None, 5, 5, 384)    442368      ['activation_90[0][0]']          \n",
      "                                                                                                  \n",
      " conv2d_96 (Conv2D)             (None, 5, 5, 384)    442368      ['activation_90[0][0]']          \n",
      "                                                                                                  \n",
      " average_pooling2d_8 (AveragePo  (None, 5, 5, 2048)  0           ['mixed9[0][0]']                 \n",
      " oling2D)                                                                                         \n",
      "                                                                                                  \n",
      " conv2d_89 (Conv2D)             (None, 5, 5, 320)    655360      ['mixed9[0][0]']                 \n",
      "                                                                                                  \n",
      " batch_normalization_91 (BatchN  (None, 5, 5, 384)   1152        ['conv2d_91[0][0]']              \n",
      " ormalization)                                                                                    \n",
      "                                                                                                  \n",
      " batch_normalization_92 (BatchN  (None, 5, 5, 384)   1152        ['conv2d_92[0][0]']              \n",
      " ormalization)                                                                                    \n",
      "                                                                                                  \n",
      " batch_normalization_95 (BatchN  (None, 5, 5, 384)   1152        ['conv2d_95[0][0]']              \n",
      " ormalization)                                                                                    \n",
      "                                                                                                  \n",
      " batch_normalization_96 (BatchN  (None, 5, 5, 384)   1152        ['conv2d_96[0][0]']              \n",
      " ormalization)                                                                                    \n",
      "                                                                                                  \n",
      " conv2d_97 (Conv2D)             (None, 5, 5, 192)    393216      ['average_pooling2d_8[0][0]']    \n",
      "                                                                                                  \n",
      " batch_normalization_89 (BatchN  (None, 5, 5, 320)   960         ['conv2d_89[0][0]']              \n",
      " ormalization)                                                                                    \n",
      "                                                                                                  \n",
      " activation_87 (Activation)     (None, 5, 5, 384)    0           ['batch_normalization_91[0][0]'] \n",
      "                                                                                                  \n",
      " activation_88 (Activation)     (None, 5, 5, 384)    0           ['batch_normalization_92[0][0]'] \n",
      "                                                                                                  \n",
      " activation_91 (Activation)     (None, 5, 5, 384)    0           ['batch_normalization_95[0][0]'] \n",
      "                                                                                                  \n",
      " activation_92 (Activation)     (None, 5, 5, 384)    0           ['batch_normalization_96[0][0]'] \n",
      "                                                                                                  \n",
      " batch_normalization_97 (BatchN  (None, 5, 5, 192)   576         ['conv2d_97[0][0]']              \n",
      " ormalization)                                                                                    \n",
      "                                                                                                  \n",
      " activation_85 (Activation)     (None, 5, 5, 320)    0           ['batch_normalization_89[0][0]'] \n",
      "                                                                                                  \n",
      " mixed9_1 (Concatenate)         (None, 5, 5, 768)    0           ['activation_87[0][0]',          \n",
      "                                                                  'activation_88[0][0]']          \n",
      "                                                                                                  \n",
      " concatenate_1 (Concatenate)    (None, 5, 5, 768)    0           ['activation_91[0][0]',          \n",
      "                                                                  'activation_92[0][0]']          \n",
      "                                                                                                  \n",
      " activation_93 (Activation)     (None, 5, 5, 192)    0           ['batch_normalization_97[0][0]'] \n",
      "                                                                                                  \n",
      " mixed10 (Concatenate)          (None, 5, 5, 2048)   0           ['activation_85[0][0]',          \n",
      "                                                                  'mixed9_1[0][0]',               \n",
      "                                                                  'concatenate_1[0][0]',          \n",
      "                                                                  'activation_93[0][0]']          \n",
      "                                                                                                  \n",
      " flatten_2 (Flatten)            (None, 51200)        0           ['mixed10[0][0]']                \n",
      "                                                                                                  \n",
      " dense_2 (Dense)                (None, 4)            204804      ['flatten_2[0][0]']              \n",
      "                                                                                                  \n",
      "==================================================================================================\n",
      "Total params: 22,007,588\n",
      "Trainable params: 204,804\n",
      "Non-trainable params: 21,802,784\n",
      "__________________________________________________________________________________________________\n"
     ]
    }
   ],
   "source": [
    "model.summary()"
   ]
  },
  {
   "cell_type": "code",
   "execution_count": 116,
   "id": "dae7fb23",
   "metadata": {},
   "outputs": [],
   "source": [
    "model.compile(\n",
    "  loss='categorical_crossentropy',\n",
    "  optimizer='adam',\n",
    "  metrics=['accuracy']\n",
    ")"
   ]
  },
  {
   "cell_type": "code",
   "execution_count": 117,
   "id": "c1df778e",
   "metadata": {},
   "outputs": [],
   "source": [
    "from tensorflow.keras.preprocessing.image import ImageDataGenerator\n",
    "\n",
    "train_datagen = ImageDataGenerator(rescale = 1./255,\n",
    "                                   shear_range = 0.2,\n",
    "                                   zoom_range = 0.2,\n",
    "                                   horizontal_flip = True\n",
    "                                  )\n",
    "\n",
    "test_datagen = ImageDataGenerator(rescale = 1./255)"
   ]
  },
  {
   "cell_type": "code",
   "execution_count": 118,
   "id": "c9892d8c",
   "metadata": {},
   "outputs": [
    {
     "name": "stdout",
     "output_type": "stream",
     "text": [
      "Found 244 images belonging to 4 classes.\n"
     ]
    }
   ],
   "source": [
    "training_set = train_datagen.flow_from_directory('train',\n",
    "                                                 target_size = (224, 224),\n",
    "                                                 batch_size = 32,\n",
    "                                                 class_mode = 'categorical')"
   ]
  },
  {
   "cell_type": "code",
   "execution_count": 119,
   "id": "54e69606",
   "metadata": {},
   "outputs": [
    {
     "name": "stdout",
     "output_type": "stream",
     "text": [
      "Found 47 images belonging to 4 classes.\n"
     ]
    }
   ],
   "source": [
    "test_set = test_datagen.flow_from_directory('validation',\n",
    "                                            target_size = (224, 224),\n",
    "                                            batch_size = 32,\n",
    "                                            class_mode = 'categorical',shuffle=False)"
   ]
  },
  {
   "cell_type": "code",
   "execution_count": 120,
   "id": "45389d92",
   "metadata": {},
   "outputs": [
    {
     "data": {
      "text/plain": [
       "['Alzeimer\\\\ADNI_002_S_4521_MR_Axial_T2-Star__br_raw_20160324122521837_22_S402609_I662501.jpg',\n",
       " 'Alzeimer\\\\ADNI_006_S_4960_MR_Axial_T2-Star__br_raw_20151116142521022_22_S308848_I554365.jpg',\n",
       " 'Alzeimer\\\\ADNI_012_S_4094_MR_Axial_T2_STAR__br_raw_20170911112516152_22_S606978_I902073.jpg',\n",
       " 'Alzeimer\\\\ADNI_013_S_4395_MR_AXIAL_T2__STAR_br_raw_20160408152851491_22_S413787_I675059.jpg',\n",
       " 'Alzeimer\\\\ADNI_024_S_4169_MR_AXIAL_T2_STAR__br_raw_20150824183510226_22_S269703_I506435.jpg',\n",
       " 'Alzeimer\\\\ADNI_035_S_4114_MR_Axial_T2_STAR__br_raw_20180927135557122_22_S730896_I1053100.jpg',\n",
       " 'Alzeimer\\\\ADNI_037_S_4214_MR_Axial_T2_TSE_with_Fat_Sat__br_raw_20151016131541571_22_S285609_I527059.jpg',\n",
       " 'Alzeimer\\\\ADNI_037_S_4302_MR_AX_T2_STAR_br_raw_20151202134651542_22_S321070_I568501.jpg',\n",
       " 'Alzeimer\\\\ADNI_052_S_4626_MR_Axial_T2_Star__br_raw_20150416145050678_22_S255859_I487186.jpg',\n",
       " 'Alzeimer\\\\ADNI_057_S_4888_MR_Axial_T2_Star__br_raw_20160810162606039_22_S490606_I765318.jpg',\n",
       " 'Cognitive Impairment\\\\ADNI_032_S_6855_MR_Axial_T2_STAR__br_raw_20200224122920613_22_S927953_I1295282.jpg',\n",
       " 'Cognitive Impairment\\\\ADNI_036_S_6179_MR_Axial_3TE_T2_Star__br_raw_20190515103403689_22_S824115_I1165409.jpg',\n",
       " 'Cognitive Impairment\\\\ADNI_116_S_6100_MR_Axial_T2_Star__br_raw_20181220100416695_22_S763126_I1092332.jpg',\n",
       " 'Cognitive Impairment\\\\ADNI_116_S_6543_MR_Axial_T2_Star__br_raw_20180821112007867_22_S719355_I1038942.jpg',\n",
       " 'Cognitive Impairment\\\\ADNI_126_S_6683_MR_Axial_T2_Star__br_raw_20200224110729803_22_S926354_I1293351.jpg',\n",
       " 'Cognitive Impairment\\\\ADNI_127_S_6433_MR_Axial_T2_Star__br_raw_20180801164013628_22_S711666_I1029797.jpg',\n",
       " 'Cognitive Impairment\\\\ADNI_127_S_6433_MR_Axial_T2_Star__br_raw_20190913114507006_22_S873001_I1226435.jpg',\n",
       " 'Cognitive Impairment\\\\ADNI_127_S_6549_MR_Axial_T2_Star__br_raw_20181116093008542_22_S747764_I1073643.jpg',\n",
       " 'Cognitive Impairment\\\\ADNI_135_S_6389_MR_Axial_T2_Star__br_raw_20190710091135405_22_S839965_I1185265.jpg',\n",
       " 'Cognitive Impairment\\\\ADNI_135_S_6545_MR_Axial_T2_Star__br_raw_20180822113214388_22_S719964_I1039629.jpg',\n",
       " 'Cognitive Impairment\\\\ADNI_135_S_6545_MR_Axial_T2_Star__br_raw_20190913133956824_22_S873085_I1226542.jpg',\n",
       " 'Cognitive Impairment\\\\ADNI_135_S_6687_MR_Axial_T2_Star__br_raw_20190315105731023_22_S806441_I1142634.jpg',\n",
       " 'Cognitive Impairment\\\\ADNI_168_S_6735_MR_Axial_T2_STAR__br_raw_20190613143131224_22_S832132_I1175363.jpg',\n",
       " 'Cognitive Impairment\\\\ADNI_168_S_6735_MR_Axial_T2_STAR__br_raw_20190613143214927_22_S832133_I1175364.jpg',\n",
       " 'Cognitive Impairment\\\\ADNI_168_S_6754_MR_Axial_T2_STAR__br_raw_20190627165929283_22_S837150_I1181682.jpg',\n",
       " 'Cognitive Impairment\\\\ADNI_168_S_6827_MR_Axial_T2_STAR__br_raw_20191010161246022_22_S883154_I1239538.jpg',\n",
       " 'Cognitive Impairment\\\\ADNI_168_S_6843_MR_Axial_T2_STAR__br_raw_20200114153131813_22_S911954_I1275418.jpg',\n",
       " 'Stroke\\\\71 (16).jpg',\n",
       " 'Stroke\\\\71 (18).jpg',\n",
       " 'Stroke\\\\71 (20).jpg',\n",
       " 'Stroke\\\\71 (22).jpg',\n",
       " 'Stroke\\\\71 (24).jpg',\n",
       " 'Stroke\\\\71 (5).jpg',\n",
       " 'Stroke\\\\71 (6).jpg',\n",
       " 'Stroke\\\\72 (10).jpg',\n",
       " 'Stroke\\\\72 (7).jpg',\n",
       " 'Stroke\\\\72 (8).jpg',\n",
       " 'pituitary\\\\Te-pi_0043.jpg',\n",
       " 'pituitary\\\\Te-pi_0044.jpg',\n",
       " 'pituitary\\\\Te-pi_0045.jpg',\n",
       " 'pituitary\\\\Te-pi_0046.jpg',\n",
       " 'pituitary\\\\Te-pi_0047.jpg',\n",
       " 'pituitary\\\\Te-pi_0048.jpg',\n",
       " 'pituitary\\\\Te-pi_0049.jpg',\n",
       " 'pituitary\\\\Te-pi_0050.jpg',\n",
       " 'pituitary\\\\Te-pi_0051.jpg',\n",
       " 'pituitary\\\\Te-pi_0052.jpg']"
      ]
     },
     "execution_count": 120,
     "metadata": {},
     "output_type": "execute_result"
    }
   ],
   "source": [
    "test_set.filenames"
   ]
  },
  {
   "cell_type": "code",
   "execution_count": 121,
   "id": "071be42e",
   "metadata": {
    "scrolled": false
   },
   "outputs": [
    {
     "name": "stderr",
     "output_type": "stream",
     "text": [
      "C:\\Users\\HOME\\AppData\\Local\\Temp\\ipykernel_43728\\2336048694.py:1: UserWarning: `Model.fit_generator` is deprecated and will be removed in a future version. Please use `Model.fit`, which supports generators.\n",
      "  r = model.fit_generator(\n"
     ]
    },
    {
     "name": "stdout",
     "output_type": "stream",
     "text": [
      "Epoch 1/30\n",
      "8/8 [==============================] - 15s 614ms/step - loss: 11.6714 - accuracy: 0.2992 - val_loss: 5.7051 - val_accuracy: 0.7872\n",
      "Epoch 2/30\n",
      "8/8 [==============================] - 2s 289ms/step - loss: 5.5448 - accuracy: 0.6270 - val_loss: 2.8123 - val_accuracy: 0.6383\n",
      "Epoch 3/30\n",
      "8/8 [==============================] - 3s 309ms/step - loss: 1.7209 - accuracy: 0.7705 - val_loss: 3.2749 - val_accuracy: 0.6383\n",
      "Epoch 4/30\n",
      "8/8 [==============================] - 2s 295ms/step - loss: 1.1428 - accuracy: 0.8279 - val_loss: 1.5590 - val_accuracy: 0.7234\n",
      "Epoch 5/30\n",
      "8/8 [==============================] - 3s 298ms/step - loss: 0.4319 - accuracy: 0.9016 - val_loss: 1.5126 - val_accuracy: 0.7447\n",
      "Epoch 6/30\n",
      "8/8 [==============================] - 2s 291ms/step - loss: 0.6452 - accuracy: 0.8443 - val_loss: 0.9593 - val_accuracy: 0.8298\n",
      "Epoch 7/30\n",
      "8/8 [==============================] - 2s 296ms/step - loss: 0.3461 - accuracy: 0.9180 - val_loss: 1.0492 - val_accuracy: 0.8085\n",
      "Epoch 8/30\n",
      "8/8 [==============================] - 3s 298ms/step - loss: 0.3092 - accuracy: 0.9098 - val_loss: 0.7923 - val_accuracy: 0.8723\n",
      "Epoch 9/30\n",
      "8/8 [==============================] - 3s 303ms/step - loss: 0.1694 - accuracy: 0.9426 - val_loss: 0.7232 - val_accuracy: 0.8511\n",
      "Epoch 10/30\n",
      "8/8 [==============================] - 3s 322ms/step - loss: 0.1798 - accuracy: 0.9549 - val_loss: 0.7789 - val_accuracy: 0.7872\n",
      "Epoch 11/30\n",
      "8/8 [==============================] - 2s 317ms/step - loss: 0.0865 - accuracy: 0.9631 - val_loss: 0.4175 - val_accuracy: 0.8723\n",
      "Epoch 12/30\n",
      "8/8 [==============================] - 3s 299ms/step - loss: 0.2600 - accuracy: 0.9385 - val_loss: 0.3526 - val_accuracy: 0.9149\n",
      "Epoch 13/30\n",
      "8/8 [==============================] - 2s 296ms/step - loss: 0.0922 - accuracy: 0.9590 - val_loss: 0.4146 - val_accuracy: 0.9149\n",
      "Epoch 14/30\n",
      "8/8 [==============================] - 2s 295ms/step - loss: 0.1635 - accuracy: 0.9303 - val_loss: 0.5585 - val_accuracy: 0.8936\n",
      "Epoch 15/30\n",
      "8/8 [==============================] - 2s 319ms/step - loss: 0.1784 - accuracy: 0.9303 - val_loss: 0.6917 - val_accuracy: 0.8723\n",
      "Epoch 16/30\n",
      "8/8 [==============================] - 2s 296ms/step - loss: 0.0922 - accuracy: 0.9631 - val_loss: 0.3036 - val_accuracy: 0.8936\n",
      "Epoch 17/30\n",
      "8/8 [==============================] - 3s 298ms/step - loss: 0.1038 - accuracy: 0.9672 - val_loss: 0.4376 - val_accuracy: 0.8723\n",
      "Epoch 18/30\n",
      "8/8 [==============================] - 3s 300ms/step - loss: 0.0787 - accuracy: 0.9713 - val_loss: 0.6685 - val_accuracy: 0.8511\n",
      "Epoch 19/30\n",
      "8/8 [==============================] - 2s 295ms/step - loss: 0.0791 - accuracy: 0.9754 - val_loss: 0.3931 - val_accuracy: 0.8936\n",
      "Epoch 20/30\n",
      "8/8 [==============================] - 2s 296ms/step - loss: 0.0452 - accuracy: 0.9836 - val_loss: 0.5067 - val_accuracy: 0.8511\n",
      "Epoch 21/30\n",
      "8/8 [==============================] - 2s 296ms/step - loss: 0.1420 - accuracy: 0.9631 - val_loss: 0.5398 - val_accuracy: 0.8723\n",
      "Epoch 22/30\n",
      "8/8 [==============================] - 2s 297ms/step - loss: 0.0887 - accuracy: 0.9590 - val_loss: 0.4192 - val_accuracy: 0.8936\n",
      "Epoch 23/30\n",
      "8/8 [==============================] - 3s 297ms/step - loss: 0.0408 - accuracy: 0.9877 - val_loss: 0.5145 - val_accuracy: 0.8723\n",
      "Epoch 24/30\n",
      "8/8 [==============================] - 3s 301ms/step - loss: 0.0381 - accuracy: 0.9877 - val_loss: 0.6654 - val_accuracy: 0.8511\n",
      "Epoch 25/30\n",
      "8/8 [==============================] - 2s 292ms/step - loss: 0.0754 - accuracy: 0.9754 - val_loss: 0.6896 - val_accuracy: 0.8723\n",
      "Epoch 26/30\n",
      "8/8 [==============================] - 2s 297ms/step - loss: 0.1724 - accuracy: 0.9549 - val_loss: 1.2412 - val_accuracy: 0.8085\n",
      "Epoch 27/30\n",
      "8/8 [==============================] - 2s 294ms/step - loss: 0.4118 - accuracy: 0.9057 - val_loss: 1.2765 - val_accuracy: 0.8085\n",
      "Epoch 28/30\n",
      "8/8 [==============================] - 2s 318ms/step - loss: 0.4940 - accuracy: 0.9098 - val_loss: 0.8816 - val_accuracy: 0.8298\n",
      "Epoch 29/30\n",
      "8/8 [==============================] - 2s 294ms/step - loss: 0.1894 - accuracy: 0.9303 - val_loss: 0.6466 - val_accuracy: 0.8723\n",
      "Epoch 30/30\n",
      "8/8 [==============================] - 2s 296ms/step - loss: 0.3144 - accuracy: 0.9344 - val_loss: 0.2812 - val_accuracy: 0.8936\n"
     ]
    }
   ],
   "source": [
    "r = model.fit_generator(\n",
    "  training_set,\n",
    "  validation_data=test_set,\n",
    "  epochs=30,\n",
    "  steps_per_epoch=len(training_set),\n",
    "  validation_steps=len(test_set)\n",
    ")"
   ]
  },
  {
   "cell_type": "code",
   "execution_count": 122,
   "id": "3264515a",
   "metadata": {},
   "outputs": [],
   "source": [
    "import matplotlib.pyplot as plt"
   ]
  },
  {
   "cell_type": "code",
   "execution_count": 123,
   "id": "0ea215b0",
   "metadata": {},
   "outputs": [
    {
     "data": {
      "image/png": "[encoded data removed]",
      "text/plain": [
       "<Figure size 432x288 with 1 Axes>"
      ]
     },
     "metadata": {
      "needs_background": "light"
     },
     "output_type": "display_data"
    },
    {
     "data": {
      "text/plain": [
       "<Figure size 432x288 with 0 Axes>"
      ]
     },
     "metadata": {},
     "output_type": "display_data"
    }
   ],
   "source": [
    "plt.plot(r.history['loss'], label='train loss',color=\"black\")\n",
    "plt.plot(r.history['val_loss'], label='val loss',color=\"red\")\n",
    "plt.legend()\n",
    "plt.show()\n",
    "plt.savefig('LossVal_loss')\n",
    "\n",
    "\n"
   ]
  },
  {
   "cell_type": "code",
   "execution_count": 124,
   "id": "1e638605",
   "metadata": {},
   "outputs": [
    {
     "data": {
      "image/png": "[encoded data removed]",
      "text/plain": [
       "<Figure size 432x288 with 1 Axes>"
      ]
     },
     "metadata": {
      "needs_background": "light"
     },
     "output_type": "display_data"
    },
    {
     "data": {
      "text/plain": [
       "<Figure size 432x288 with 0 Axes>"
      ]
     },
     "metadata": {},
     "output_type": "display_data"
    }
   ],
   "source": [
    "plt.plot(r.history['accuracy'], label='train acc',color=\"black\")\n",
    "plt.plot(r.history['val_accuracy'], label='val acc',color=\"blue\")\n",
    "plt.legend()\n",
    "plt.show()\n",
    "plt.savefig('AccVal_acc')"
   ]
  },
  {
   "cell_type": "code",
   "execution_count": 125,
   "id": "d86ea216",
   "metadata": {},
   "outputs": [],
   "source": [
    "\n",
    "from tensorflow.keras.models import load_model\n",
    "\n",
    "model.save('model_inception.h5')"
   ]
  },
  {
   "cell_type": "code",
   "execution_count": 126,
   "id": "02b64530",
   "metadata": {},
   "outputs": [],
   "source": [
    "model=load_model('model_inception.h5')"
   ]
  },
  {
   "cell_type": "code",
   "execution_count": 127,
   "id": "55e4de44",
   "metadata": {},
   "outputs": [
    {
     "name": "stdout",
     "output_type": "stream",
     "text": [
      "WARNING:tensorflow:5 out of the last 9 calls to <function Model.make_predict_function.<locals>.predict_function at 0x000001AEEBE3A8B0> triggered tf.function retracing. Tracing is expensive and the excessive number of tracings could be due to (1) creating @tf.function repeatedly in a loop, (2) passing tensors with different shapes, (3) passing Python objects instead of tensors. For (1), please define your @tf.function outside of the loop. For (2), @tf.function has reduce_retracing=True option that can avoid unnecessary retracing. For (3), please refer to https://www.tensorflow.org/guide/function#controlling_retracing and https://www.tensorflow.org/api_docs/python/tf/function for  more details.\n",
      "2/2 [==============================] - 2s 423ms/step\n"
     ]
    },
    {
     "data": {
      "text/plain": [
       "array([[2.84558922e-01, 7.15441048e-01, 9.05154464e-24, 4.31071799e-28],\n",
       "       [9.99852300e-01, 1.47729399e-04, 1.62670156e-30, 3.76609435e-32],\n",
       "       [9.67038214e-01, 3.29617262e-02, 6.98409906e-31, 1.51037321e-36],\n",
       "       [9.99995947e-01, 4.01834313e-06, 1.75338849e-37, 0.00000000e+00],\n",
       "       [9.99999046e-01, 9.05919649e-07, 7.14650019e-33, 3.35066142e-32],\n",
       "       [9.98812318e-01, 1.18767924e-03, 0.00000000e+00, 0.00000000e+00],\n",
       "       [9.99966383e-01, 3.35618861e-05, 1.32790652e-24, 1.28853012e-31],\n",
       "       [2.95343949e-03, 9.97046530e-01, 6.25018703e-34, 0.00000000e+00],\n",
       "       [7.69312561e-01, 2.30687469e-01, 6.40681421e-25, 2.27720454e-27],\n",
       "       [9.98401463e-01, 1.59858202e-03, 1.29404388e-24, 1.04869100e-27],\n",
       "       [7.61821747e-01, 2.38178298e-01, 7.17058240e-33, 0.00000000e+00],\n",
       "       [1.27095170e-03, 9.98729050e-01, 3.64000580e-18, 4.36092416e-25],\n",
       "       [2.20774621e-01, 7.79225409e-01, 0.00000000e+00, 0.00000000e+00],\n",
       "       [1.45578340e-01, 8.54421675e-01, 1.47497828e-32, 9.90365929e-35],\n",
       "       [4.64642944e-05, 9.99953508e-01, 2.22461517e-35, 2.26823244e-35],\n",
       "       [8.40386927e-01, 1.59613058e-01, 1.35277573e-30, 1.07826924e-27],\n",
       "       [8.49303484e-01, 1.50696471e-01, 0.00000000e+00, 0.00000000e+00],\n",
       "       [1.03015609e-01, 8.96984398e-01, 1.21316439e-37, 0.00000000e+00],\n",
       "       [8.69815082e-08, 9.99999881e-01, 1.28704313e-27, 2.31860842e-26],\n",
       "       [3.51305660e-12, 1.00000000e+00, 0.00000000e+00, 0.00000000e+00],\n",
       "       [8.23293976e-06, 9.99991775e-01, 0.00000000e+00, 0.00000000e+00],\n",
       "       [7.29763178e-06, 9.99992728e-01, 8.92564048e-28, 2.99458818e-36],\n",
       "       [7.59488866e-02, 9.24051106e-01, 4.96522141e-38, 0.00000000e+00],\n",
       "       [3.11433687e-04, 9.99688625e-01, 2.26571198e-35, 0.00000000e+00],\n",
       "       [8.74527586e-07, 9.99999166e-01, 8.23637374e-33, 0.00000000e+00],\n",
       "       [3.95296258e-04, 9.99604762e-01, 0.00000000e+00, 0.00000000e+00],\n",
       "       [6.72714236e-07, 9.99999285e-01, 0.00000000e+00, 0.00000000e+00],\n",
       "       [1.75201684e-16, 1.08432705e-22, 1.00000000e+00, 4.47866638e-14],\n",
       "       [9.53935805e-19, 1.56530824e-21, 1.00000000e+00, 2.21793504e-13],\n",
       "       [2.06678355e-16, 8.02281318e-18, 1.00000000e+00, 5.57361497e-16],\n",
       "       [7.16492832e-02, 1.21409736e-08, 9.28350747e-01, 1.01307920e-10],\n",
       "       [2.02386966e-03, 2.84275832e-11, 9.97976124e-01, 3.95000005e-12],\n",
       "       [4.78168827e-28, 6.64737970e-29, 1.00000000e+00, 1.28859436e-14],\n",
       "       [2.23323341e-32, 7.31044112e-30, 1.00000000e+00, 1.21452252e-23],\n",
       "       [2.13933100e-21, 7.39264185e-25, 9.98922884e-01, 1.07703044e-03],\n",
       "       [2.37311802e-22, 3.00254384e-24, 1.00000000e+00, 3.32680300e-10],\n",
       "       [9.16311640e-24, 2.53882379e-24, 1.00000000e+00, 4.02690007e-13],\n",
       "       [1.99646980e-13, 1.03232722e-09, 4.15487008e-13, 1.00000000e+00],\n",
       "       [1.85497532e-13, 1.90999540e-18, 4.46897871e-19, 1.00000000e+00],\n",
       "       [8.49064876e-23, 1.32712695e-22, 9.45913621e-18, 1.00000000e+00],\n",
       "       [3.84465763e-28, 2.45892566e-27, 5.87184619e-21, 1.00000000e+00],\n",
       "       [7.98607026e-28, 1.00035412e-24, 5.96002756e-17, 1.00000000e+00],\n",
       "       [3.07769248e-22, 1.81030808e-25, 2.59720986e-14, 1.00000000e+00],\n",
       "       [4.58447846e-19, 1.53069433e-20, 4.57520237e-11, 1.00000000e+00],\n",
       "       [2.78907373e-18, 1.34875727e-21, 3.97778226e-14, 1.00000000e+00],\n",
       "       [4.84008844e-26, 5.92760108e-33, 7.97502510e-19, 1.00000000e+00],\n",
       "       [5.51350387e-20, 2.94459004e-26, 1.42934477e-22, 1.00000000e+00]],\n",
       "      dtype=float32)"
      ]
     },
     "execution_count": 127,
     "metadata": {},
     "output_type": "execute_result"
    }
   ],
   "source": [
    "y_pred = model.predict(test_set)\n",
    "y_pred"
   ]
  },
  {
   "cell_type": "code",
   "execution_count": 128,
   "id": "67be8dd3",
   "metadata": {},
   "outputs": [
    {
     "data": {
      "text/plain": [
       "array([1, 0, 0, 0, 0, 0, 0, 1, 0, 0, 0, 1, 1, 1, 1, 0, 0, 1, 1, 1, 1, 1,\n",
       "       1, 1, 1, 1, 1, 2, 2, 2, 2, 2, 2, 2, 2, 2, 2, 3, 3, 3, 3, 3, 3, 3,\n",
       "       3, 3, 3], dtype=int64)"
      ]
     },
     "execution_count": 128,
     "metadata": {},
     "output_type": "execute_result"
    }
   ],
   "source": [
    "import numpy as np\n",
    "y_pred = np.argmax(y_pred, axis=1)\n",
    "y_pred"
   ]
  },
  {
   "cell_type": "code",
   "execution_count": 129,
   "id": "ef1dc01b",
   "metadata": {},
   "outputs": [],
   "source": [
    "import os\n",
    "path ='validation'\n",
    "Diseases_types=os.listdir(path)"
   ]
  },
  {
   "cell_type": "code",
   "execution_count": 130,
   "id": "473e46bf",
   "metadata": {},
   "outputs": [
    {
     "name": "stdout",
     "output_type": "stream",
     "text": [
      "['Alzeimer']\n",
      "['Alzeimer', 'Alzeimer']\n",
      "['Alzeimer', 'Alzeimer', 'Alzeimer']\n",
      "['Alzeimer', 'Alzeimer', 'Alzeimer', 'Alzeimer']\n",
      "['Alzeimer', 'Alzeimer', 'Alzeimer', 'Alzeimer', 'Alzeimer']\n",
      "['Alzeimer', 'Alzeimer', 'Alzeimer', 'Alzeimer', 'Alzeimer', 'Alzeimer']\n",
      "['Alzeimer', 'Alzeimer', 'Alzeimer', 'Alzeimer', 'Alzeimer', 'Alzeimer', 'Alzeimer']\n",
      "['Alzeimer', 'Alzeimer', 'Alzeimer', 'Alzeimer', 'Alzeimer', 'Alzeimer', 'Alzeimer', 'Alzeimer']\n",
      "['Alzeimer', 'Alzeimer', 'Alzeimer', 'Alzeimer', 'Alzeimer', 'Alzeimer', 'Alzeimer', 'Alzeimer', 'Alzeimer']\n",
      "['Alzeimer', 'Alzeimer', 'Alzeimer', 'Alzeimer', 'Alzeimer', 'Alzeimer', 'Alzeimer', 'Alzeimer', 'Alzeimer', 'Alzeimer']\n",
      "['Alzeimer', 'Alzeimer', 'Alzeimer', 'Alzeimer', 'Alzeimer', 'Alzeimer', 'Alzeimer', 'Alzeimer', 'Alzeimer', 'Alzeimer', 'Cognitive Impairment']\n",
      "['Alzeimer', 'Alzeimer', 'Alzeimer', 'Alzeimer', 'Alzeimer', 'Alzeimer', 'Alzeimer', 'Alzeimer', 'Alzeimer', 'Alzeimer', 'Cognitive Impairment', 'Cognitive Impairment']\n",
      "['Alzeimer', 'Alzeimer', 'Alzeimer', 'Alzeimer', 'Alzeimer', 'Alzeimer', 'Alzeimer', 'Alzeimer', 'Alzeimer', 'Alzeimer', 'Cognitive Impairment', 'Cognitive Impairment', 'Cognitive Impairment']\n",
      "['Alzeimer', 'Alzeimer', 'Alzeimer', 'Alzeimer', 'Alzeimer', 'Alzeimer', 'Alzeimer', 'Alzeimer', 'Alzeimer', 'Alzeimer', 'Cognitive Impairment', 'Cognitive Impairment', 'Cognitive Impairment', 'Cognitive Impairment']\n",
      "['Alzeimer', 'Alzeimer', 'Alzeimer', 'Alzeimer', 'Alzeimer', 'Alzeimer', 'Alzeimer', 'Alzeimer', 'Alzeimer', 'Alzeimer', 'Cognitive Impairment', 'Cognitive Impairment', 'Cognitive Impairment', 'Cognitive Impairment', 'Cognitive Impairment']\n",
      "['Alzeimer', 'Alzeimer', 'Alzeimer', 'Alzeimer', 'Alzeimer', 'Alzeimer', 'Alzeimer', 'Alzeimer', 'Alzeimer', 'Alzeimer', 'Cognitive Impairment', 'Cognitive Impairment', 'Cognitive Impairment', 'Cognitive Impairment', 'Cognitive Impairment', 'Cognitive Impairment']\n",
      "['Alzeimer', 'Alzeimer', 'Alzeimer', 'Alzeimer', 'Alzeimer', 'Alzeimer', 'Alzeimer', 'Alzeimer', 'Alzeimer', 'Alzeimer', 'Cognitive Impairment', 'Cognitive Impairment', 'Cognitive Impairment', 'Cognitive Impairment', 'Cognitive Impairment', 'Cognitive Impairment', 'Cognitive Impairment']\n",
      "['Alzeimer', 'Alzeimer', 'Alzeimer', 'Alzeimer', 'Alzeimer', 'Alzeimer', 'Alzeimer', 'Alzeimer', 'Alzeimer', 'Alzeimer', 'Cognitive Impairment', 'Cognitive Impairment', 'Cognitive Impairment', 'Cognitive Impairment', 'Cognitive Impairment', 'Cognitive Impairment', 'Cognitive Impairment', 'Cognitive Impairment']\n",
      "['Alzeimer', 'Alzeimer', 'Alzeimer', 'Alzeimer', 'Alzeimer', 'Alzeimer', 'Alzeimer', 'Alzeimer', 'Alzeimer', 'Alzeimer', 'Cognitive Impairment', 'Cognitive Impairment', 'Cognitive Impairment', 'Cognitive Impairment', 'Cognitive Impairment', 'Cognitive Impairment', 'Cognitive Impairment', 'Cognitive Impairment', 'Cognitive Impairment']\n",
      "['Alzeimer', 'Alzeimer', 'Alzeimer', 'Alzeimer', 'Alzeimer', 'Alzeimer', 'Alzeimer', 'Alzeimer', 'Alzeimer', 'Alzeimer', 'Cognitive Impairment', 'Cognitive Impairment', 'Cognitive Impairment', 'Cognitive Impairment', 'Cognitive Impairment', 'Cognitive Impairment', 'Cognitive Impairment', 'Cognitive Impairment', 'Cognitive Impairment', 'Cognitive Impairment']\n",
      "['Alzeimer', 'Alzeimer', 'Alzeimer', 'Alzeimer', 'Alzeimer', 'Alzeimer', 'Alzeimer', 'Alzeimer', 'Alzeimer', 'Alzeimer', 'Cognitive Impairment', 'Cognitive Impairment', 'Cognitive Impairment', 'Cognitive Impairment', 'Cognitive Impairment', 'Cognitive Impairment', 'Cognitive Impairment', 'Cognitive Impairment', 'Cognitive Impairment', 'Cognitive Impairment', 'Cognitive Impairment']\n",
      "['Alzeimer', 'Alzeimer', 'Alzeimer', 'Alzeimer', 'Alzeimer', 'Alzeimer', 'Alzeimer', 'Alzeimer', 'Alzeimer', 'Alzeimer', 'Cognitive Impairment', 'Cognitive Impairment', 'Cognitive Impairment', 'Cognitive Impairment', 'Cognitive Impairment', 'Cognitive Impairment', 'Cognitive Impairment', 'Cognitive Impairment', 'Cognitive Impairment', 'Cognitive Impairment', 'Cognitive Impairment', 'Cognitive Impairment']\n",
      "['Alzeimer', 'Alzeimer', 'Alzeimer', 'Alzeimer', 'Alzeimer', 'Alzeimer', 'Alzeimer', 'Alzeimer', 'Alzeimer', 'Alzeimer', 'Cognitive Impairment', 'Cognitive Impairment', 'Cognitive Impairment', 'Cognitive Impairment', 'Cognitive Impairment', 'Cognitive Impairment', 'Cognitive Impairment', 'Cognitive Impairment', 'Cognitive Impairment', 'Cognitive Impairment', 'Cognitive Impairment', 'Cognitive Impairment', 'Cognitive Impairment']\n",
      "['Alzeimer', 'Alzeimer', 'Alzeimer', 'Alzeimer', 'Alzeimer', 'Alzeimer', 'Alzeimer', 'Alzeimer', 'Alzeimer', 'Alzeimer', 'Cognitive Impairment', 'Cognitive Impairment', 'Cognitive Impairment', 'Cognitive Impairment', 'Cognitive Impairment', 'Cognitive Impairment', 'Cognitive Impairment', 'Cognitive Impairment', 'Cognitive Impairment', 'Cognitive Impairment', 'Cognitive Impairment', 'Cognitive Impairment', 'Cognitive Impairment', 'Cognitive Impairment']\n",
      "['Alzeimer', 'Alzeimer', 'Alzeimer', 'Alzeimer', 'Alzeimer', 'Alzeimer', 'Alzeimer', 'Alzeimer', 'Alzeimer', 'Alzeimer', 'Cognitive Impairment', 'Cognitive Impairment', 'Cognitive Impairment', 'Cognitive Impairment', 'Cognitive Impairment', 'Cognitive Impairment', 'Cognitive Impairment', 'Cognitive Impairment', 'Cognitive Impairment', 'Cognitive Impairment', 'Cognitive Impairment', 'Cognitive Impairment', 'Cognitive Impairment', 'Cognitive Impairment', 'Cognitive Impairment']\n",
      "['Alzeimer', 'Alzeimer', 'Alzeimer', 'Alzeimer', 'Alzeimer', 'Alzeimer', 'Alzeimer', 'Alzeimer', 'Alzeimer', 'Alzeimer', 'Cognitive Impairment', 'Cognitive Impairment', 'Cognitive Impairment', 'Cognitive Impairment', 'Cognitive Impairment', 'Cognitive Impairment', 'Cognitive Impairment', 'Cognitive Impairment', 'Cognitive Impairment', 'Cognitive Impairment', 'Cognitive Impairment', 'Cognitive Impairment', 'Cognitive Impairment', 'Cognitive Impairment', 'Cognitive Impairment', 'Cognitive Impairment']\n",
      "['Alzeimer', 'Alzeimer', 'Alzeimer', 'Alzeimer', 'Alzeimer', 'Alzeimer', 'Alzeimer', 'Alzeimer', 'Alzeimer', 'Alzeimer', 'Cognitive Impairment', 'Cognitive Impairment', 'Cognitive Impairment', 'Cognitive Impairment', 'Cognitive Impairment', 'Cognitive Impairment', 'Cognitive Impairment', 'Cognitive Impairment', 'Cognitive Impairment', 'Cognitive Impairment', 'Cognitive Impairment', 'Cognitive Impairment', 'Cognitive Impairment', 'Cognitive Impairment', 'Cognitive Impairment', 'Cognitive Impairment', 'Cognitive Impairment']\n",
      "['Alzeimer', 'Alzeimer', 'Alzeimer', 'Alzeimer', 'Alzeimer', 'Alzeimer', 'Alzeimer', 'Alzeimer', 'Alzeimer', 'Alzeimer', 'Cognitive Impairment', 'Cognitive Impairment', 'Cognitive Impairment', 'Cognitive Impairment', 'Cognitive Impairment', 'Cognitive Impairment', 'Cognitive Impairment', 'Cognitive Impairment', 'Cognitive Impairment', 'Cognitive Impairment', 'Cognitive Impairment', 'Cognitive Impairment', 'Cognitive Impairment', 'Cognitive Impairment', 'Cognitive Impairment', 'Cognitive Impairment', 'Cognitive Impairment', 'pituitary']\n",
      "['Alzeimer', 'Alzeimer', 'Alzeimer', 'Alzeimer', 'Alzeimer', 'Alzeimer', 'Alzeimer', 'Alzeimer', 'Alzeimer', 'Alzeimer', 'Cognitive Impairment', 'Cognitive Impairment', 'Cognitive Impairment', 'Cognitive Impairment', 'Cognitive Impairment', 'Cognitive Impairment', 'Cognitive Impairment', 'Cognitive Impairment', 'Cognitive Impairment', 'Cognitive Impairment', 'Cognitive Impairment', 'Cognitive Impairment', 'Cognitive Impairment', 'Cognitive Impairment', 'Cognitive Impairment', 'Cognitive Impairment', 'Cognitive Impairment', 'pituitary', 'pituitary']\n",
      "['Alzeimer', 'Alzeimer', 'Alzeimer', 'Alzeimer', 'Alzeimer', 'Alzeimer', 'Alzeimer', 'Alzeimer', 'Alzeimer', 'Alzeimer', 'Cognitive Impairment', 'Cognitive Impairment', 'Cognitive Impairment', 'Cognitive Impairment', 'Cognitive Impairment', 'Cognitive Impairment', 'Cognitive Impairment', 'Cognitive Impairment', 'Cognitive Impairment', 'Cognitive Impairment', 'Cognitive Impairment', 'Cognitive Impairment', 'Cognitive Impairment', 'Cognitive Impairment', 'Cognitive Impairment', 'Cognitive Impairment', 'Cognitive Impairment', 'pituitary', 'pituitary', 'pituitary']\n",
      "['Alzeimer', 'Alzeimer', 'Alzeimer', 'Alzeimer', 'Alzeimer', 'Alzeimer', 'Alzeimer', 'Alzeimer', 'Alzeimer', 'Alzeimer', 'Cognitive Impairment', 'Cognitive Impairment', 'Cognitive Impairment', 'Cognitive Impairment', 'Cognitive Impairment', 'Cognitive Impairment', 'Cognitive Impairment', 'Cognitive Impairment', 'Cognitive Impairment', 'Cognitive Impairment', 'Cognitive Impairment', 'Cognitive Impairment', 'Cognitive Impairment', 'Cognitive Impairment', 'Cognitive Impairment', 'Cognitive Impairment', 'Cognitive Impairment', 'pituitary', 'pituitary', 'pituitary', 'pituitary']\n",
      "['Alzeimer', 'Alzeimer', 'Alzeimer', 'Alzeimer', 'Alzeimer', 'Alzeimer', 'Alzeimer', 'Alzeimer', 'Alzeimer', 'Alzeimer', 'Cognitive Impairment', 'Cognitive Impairment', 'Cognitive Impairment', 'Cognitive Impairment', 'Cognitive Impairment', 'Cognitive Impairment', 'Cognitive Impairment', 'Cognitive Impairment', 'Cognitive Impairment', 'Cognitive Impairment', 'Cognitive Impairment', 'Cognitive Impairment', 'Cognitive Impairment', 'Cognitive Impairment', 'Cognitive Impairment', 'Cognitive Impairment', 'Cognitive Impairment', 'pituitary', 'pituitary', 'pituitary', 'pituitary', 'pituitary']\n",
      "['Alzeimer', 'Alzeimer', 'Alzeimer', 'Alzeimer', 'Alzeimer', 'Alzeimer', 'Alzeimer', 'Alzeimer', 'Alzeimer', 'Alzeimer', 'Cognitive Impairment', 'Cognitive Impairment', 'Cognitive Impairment', 'Cognitive Impairment', 'Cognitive Impairment', 'Cognitive Impairment', 'Cognitive Impairment', 'Cognitive Impairment', 'Cognitive Impairment', 'Cognitive Impairment', 'Cognitive Impairment', 'Cognitive Impairment', 'Cognitive Impairment', 'Cognitive Impairment', 'Cognitive Impairment', 'Cognitive Impairment', 'Cognitive Impairment', 'pituitary', 'pituitary', 'pituitary', 'pituitary', 'pituitary', 'pituitary']\n",
      "['Alzeimer', 'Alzeimer', 'Alzeimer', 'Alzeimer', 'Alzeimer', 'Alzeimer', 'Alzeimer', 'Alzeimer', 'Alzeimer', 'Alzeimer', 'Cognitive Impairment', 'Cognitive Impairment', 'Cognitive Impairment', 'Cognitive Impairment', 'Cognitive Impairment', 'Cognitive Impairment', 'Cognitive Impairment', 'Cognitive Impairment', 'Cognitive Impairment', 'Cognitive Impairment', 'Cognitive Impairment', 'Cognitive Impairment', 'Cognitive Impairment', 'Cognitive Impairment', 'Cognitive Impairment', 'Cognitive Impairment', 'Cognitive Impairment', 'pituitary', 'pituitary', 'pituitary', 'pituitary', 'pituitary', 'pituitary', 'pituitary']\n",
      "['Alzeimer', 'Alzeimer', 'Alzeimer', 'Alzeimer', 'Alzeimer', 'Alzeimer', 'Alzeimer', 'Alzeimer', 'Alzeimer', 'Alzeimer', 'Cognitive Impairment', 'Cognitive Impairment', 'Cognitive Impairment', 'Cognitive Impairment', 'Cognitive Impairment', 'Cognitive Impairment', 'Cognitive Impairment', 'Cognitive Impairment', 'Cognitive Impairment', 'Cognitive Impairment', 'Cognitive Impairment', 'Cognitive Impairment', 'Cognitive Impairment', 'Cognitive Impairment', 'Cognitive Impairment', 'Cognitive Impairment', 'Cognitive Impairment', 'pituitary', 'pituitary', 'pituitary', 'pituitary', 'pituitary', 'pituitary', 'pituitary', 'pituitary']\n",
      "['Alzeimer', 'Alzeimer', 'Alzeimer', 'Alzeimer', 'Alzeimer', 'Alzeimer', 'Alzeimer', 'Alzeimer', 'Alzeimer', 'Alzeimer', 'Cognitive Impairment', 'Cognitive Impairment', 'Cognitive Impairment', 'Cognitive Impairment', 'Cognitive Impairment', 'Cognitive Impairment', 'Cognitive Impairment', 'Cognitive Impairment', 'Cognitive Impairment', 'Cognitive Impairment', 'Cognitive Impairment', 'Cognitive Impairment', 'Cognitive Impairment', 'Cognitive Impairment', 'Cognitive Impairment', 'Cognitive Impairment', 'Cognitive Impairment', 'pituitary', 'pituitary', 'pituitary', 'pituitary', 'pituitary', 'pituitary', 'pituitary', 'pituitary', 'pituitary']\n",
      "['Alzeimer', 'Alzeimer', 'Alzeimer', 'Alzeimer', 'Alzeimer', 'Alzeimer', 'Alzeimer', 'Alzeimer', 'Alzeimer', 'Alzeimer', 'Cognitive Impairment', 'Cognitive Impairment', 'Cognitive Impairment', 'Cognitive Impairment', 'Cognitive Impairment', 'Cognitive Impairment', 'Cognitive Impairment', 'Cognitive Impairment', 'Cognitive Impairment', 'Cognitive Impairment', 'Cognitive Impairment', 'Cognitive Impairment', 'Cognitive Impairment', 'Cognitive Impairment', 'Cognitive Impairment', 'Cognitive Impairment', 'Cognitive Impairment', 'pituitary', 'pituitary', 'pituitary', 'pituitary', 'pituitary', 'pituitary', 'pituitary', 'pituitary', 'pituitary', 'pituitary']\n",
      "['Alzeimer', 'Alzeimer', 'Alzeimer', 'Alzeimer', 'Alzeimer', 'Alzeimer', 'Alzeimer', 'Alzeimer', 'Alzeimer', 'Alzeimer', 'Cognitive Impairment', 'Cognitive Impairment', 'Cognitive Impairment', 'Cognitive Impairment', 'Cognitive Impairment', 'Cognitive Impairment', 'Cognitive Impairment', 'Cognitive Impairment', 'Cognitive Impairment', 'Cognitive Impairment', 'Cognitive Impairment', 'Cognitive Impairment', 'Cognitive Impairment', 'Cognitive Impairment', 'Cognitive Impairment', 'Cognitive Impairment', 'Cognitive Impairment', 'pituitary', 'pituitary', 'pituitary', 'pituitary', 'pituitary', 'pituitary', 'pituitary', 'pituitary', 'pituitary', 'pituitary', 'Stroke']\n",
      "['Alzeimer', 'Alzeimer', 'Alzeimer', 'Alzeimer', 'Alzeimer', 'Alzeimer', 'Alzeimer', 'Alzeimer', 'Alzeimer', 'Alzeimer', 'Cognitive Impairment', 'Cognitive Impairment', 'Cognitive Impairment', 'Cognitive Impairment', 'Cognitive Impairment', 'Cognitive Impairment', 'Cognitive Impairment', 'Cognitive Impairment', 'Cognitive Impairment', 'Cognitive Impairment', 'Cognitive Impairment', 'Cognitive Impairment', 'Cognitive Impairment', 'Cognitive Impairment', 'Cognitive Impairment', 'Cognitive Impairment', 'Cognitive Impairment', 'pituitary', 'pituitary', 'pituitary', 'pituitary', 'pituitary', 'pituitary', 'pituitary', 'pituitary', 'pituitary', 'pituitary', 'Stroke', 'Stroke']\n",
      "['Alzeimer', 'Alzeimer', 'Alzeimer', 'Alzeimer', 'Alzeimer', 'Alzeimer', 'Alzeimer', 'Alzeimer', 'Alzeimer', 'Alzeimer', 'Cognitive Impairment', 'Cognitive Impairment', 'Cognitive Impairment', 'Cognitive Impairment', 'Cognitive Impairment', 'Cognitive Impairment', 'Cognitive Impairment', 'Cognitive Impairment', 'Cognitive Impairment', 'Cognitive Impairment', 'Cognitive Impairment', 'Cognitive Impairment', 'Cognitive Impairment', 'Cognitive Impairment', 'Cognitive Impairment', 'Cognitive Impairment', 'Cognitive Impairment', 'pituitary', 'pituitary', 'pituitary', 'pituitary', 'pituitary', 'pituitary', 'pituitary', 'pituitary', 'pituitary', 'pituitary', 'Stroke', 'Stroke', 'Stroke']\n",
      "['Alzeimer', 'Alzeimer', 'Alzeimer', 'Alzeimer', 'Alzeimer', 'Alzeimer', 'Alzeimer', 'Alzeimer', 'Alzeimer', 'Alzeimer', 'Cognitive Impairment', 'Cognitive Impairment', 'Cognitive Impairment', 'Cognitive Impairment', 'Cognitive Impairment', 'Cognitive Impairment', 'Cognitive Impairment', 'Cognitive Impairment', 'Cognitive Impairment', 'Cognitive Impairment', 'Cognitive Impairment', 'Cognitive Impairment', 'Cognitive Impairment', 'Cognitive Impairment', 'Cognitive Impairment', 'Cognitive Impairment', 'Cognitive Impairment', 'pituitary', 'pituitary', 'pituitary', 'pituitary', 'pituitary', 'pituitary', 'pituitary', 'pituitary', 'pituitary', 'pituitary', 'Stroke', 'Stroke', 'Stroke', 'Stroke']\n",
      "['Alzeimer', 'Alzeimer', 'Alzeimer', 'Alzeimer', 'Alzeimer', 'Alzeimer', 'Alzeimer', 'Alzeimer', 'Alzeimer', 'Alzeimer', 'Cognitive Impairment', 'Cognitive Impairment', 'Cognitive Impairment', 'Cognitive Impairment', 'Cognitive Impairment', 'Cognitive Impairment', 'Cognitive Impairment', 'Cognitive Impairment', 'Cognitive Impairment', 'Cognitive Impairment', 'Cognitive Impairment', 'Cognitive Impairment', 'Cognitive Impairment', 'Cognitive Impairment', 'Cognitive Impairment', 'Cognitive Impairment', 'Cognitive Impairment', 'pituitary', 'pituitary', 'pituitary', 'pituitary', 'pituitary', 'pituitary', 'pituitary', 'pituitary', 'pituitary', 'pituitary', 'Stroke', 'Stroke', 'Stroke', 'Stroke', 'Stroke']\n",
      "['Alzeimer', 'Alzeimer', 'Alzeimer', 'Alzeimer', 'Alzeimer', 'Alzeimer', 'Alzeimer', 'Alzeimer', 'Alzeimer', 'Alzeimer', 'Cognitive Impairment', 'Cognitive Impairment', 'Cognitive Impairment', 'Cognitive Impairment', 'Cognitive Impairment', 'Cognitive Impairment', 'Cognitive Impairment', 'Cognitive Impairment', 'Cognitive Impairment', 'Cognitive Impairment', 'Cognitive Impairment', 'Cognitive Impairment', 'Cognitive Impairment', 'Cognitive Impairment', 'Cognitive Impairment', 'Cognitive Impairment', 'Cognitive Impairment', 'pituitary', 'pituitary', 'pituitary', 'pituitary', 'pituitary', 'pituitary', 'pituitary', 'pituitary', 'pituitary', 'pituitary', 'Stroke', 'Stroke', 'Stroke', 'Stroke', 'Stroke', 'Stroke']\n",
      "['Alzeimer', 'Alzeimer', 'Alzeimer', 'Alzeimer', 'Alzeimer', 'Alzeimer', 'Alzeimer', 'Alzeimer', 'Alzeimer', 'Alzeimer', 'Cognitive Impairment', 'Cognitive Impairment', 'Cognitive Impairment', 'Cognitive Impairment', 'Cognitive Impairment', 'Cognitive Impairment', 'Cognitive Impairment', 'Cognitive Impairment', 'Cognitive Impairment', 'Cognitive Impairment', 'Cognitive Impairment', 'Cognitive Impairment', 'Cognitive Impairment', 'Cognitive Impairment', 'Cognitive Impairment', 'Cognitive Impairment', 'Cognitive Impairment', 'pituitary', 'pituitary', 'pituitary', 'pituitary', 'pituitary', 'pituitary', 'pituitary', 'pituitary', 'pituitary', 'pituitary', 'Stroke', 'Stroke', 'Stroke', 'Stroke', 'Stroke', 'Stroke', 'Stroke']\n",
      "['Alzeimer', 'Alzeimer', 'Alzeimer', 'Alzeimer', 'Alzeimer', 'Alzeimer', 'Alzeimer', 'Alzeimer', 'Alzeimer', 'Alzeimer', 'Cognitive Impairment', 'Cognitive Impairment', 'Cognitive Impairment', 'Cognitive Impairment', 'Cognitive Impairment', 'Cognitive Impairment', 'Cognitive Impairment', 'Cognitive Impairment', 'Cognitive Impairment', 'Cognitive Impairment', 'Cognitive Impairment', 'Cognitive Impairment', 'Cognitive Impairment', 'Cognitive Impairment', 'Cognitive Impairment', 'Cognitive Impairment', 'Cognitive Impairment', 'pituitary', 'pituitary', 'pituitary', 'pituitary', 'pituitary', 'pituitary', 'pituitary', 'pituitary', 'pituitary', 'pituitary', 'Stroke', 'Stroke', 'Stroke', 'Stroke', 'Stroke', 'Stroke', 'Stroke', 'Stroke']\n",
      "['Alzeimer', 'Alzeimer', 'Alzeimer', 'Alzeimer', 'Alzeimer', 'Alzeimer', 'Alzeimer', 'Alzeimer', 'Alzeimer', 'Alzeimer', 'Cognitive Impairment', 'Cognitive Impairment', 'Cognitive Impairment', 'Cognitive Impairment', 'Cognitive Impairment', 'Cognitive Impairment', 'Cognitive Impairment', 'Cognitive Impairment', 'Cognitive Impairment', 'Cognitive Impairment', 'Cognitive Impairment', 'Cognitive Impairment', 'Cognitive Impairment', 'Cognitive Impairment', 'Cognitive Impairment', 'Cognitive Impairment', 'Cognitive Impairment', 'pituitary', 'pituitary', 'pituitary', 'pituitary', 'pituitary', 'pituitary', 'pituitary', 'pituitary', 'pituitary', 'pituitary', 'Stroke', 'Stroke', 'Stroke', 'Stroke', 'Stroke', 'Stroke', 'Stroke', 'Stroke', 'Stroke']\n",
      "['Alzeimer', 'Alzeimer', 'Alzeimer', 'Alzeimer', 'Alzeimer', 'Alzeimer', 'Alzeimer', 'Alzeimer', 'Alzeimer', 'Alzeimer', 'Cognitive Impairment', 'Cognitive Impairment', 'Cognitive Impairment', 'Cognitive Impairment', 'Cognitive Impairment', 'Cognitive Impairment', 'Cognitive Impairment', 'Cognitive Impairment', 'Cognitive Impairment', 'Cognitive Impairment', 'Cognitive Impairment', 'Cognitive Impairment', 'Cognitive Impairment', 'Cognitive Impairment', 'Cognitive Impairment', 'Cognitive Impairment', 'Cognitive Impairment', 'pituitary', 'pituitary', 'pituitary', 'pituitary', 'pituitary', 'pituitary', 'pituitary', 'pituitary', 'pituitary', 'pituitary', 'Stroke', 'Stroke', 'Stroke', 'Stroke', 'Stroke', 'Stroke', 'Stroke', 'Stroke', 'Stroke', 'Stroke']\n"
     ]
    }
   ],
   "source": [
    "diseases = []\n",
    "for i in Diseases_types:\n",
    "  all_images = os.listdir(path + '/' +i)\n",
    "\n",
    "  for j in all_images :\n",
    "    diseases.append((i))\n",
    "    print (diseases)"
   ]
  },
  {
   "cell_type": "code",
   "execution_count": 131,
   "id": "084a69d7",
   "metadata": {},
   "outputs": [
    {
     "data": {
      "text/plain": [
       "['Alzeimer',\n",
       " 'Alzeimer',\n",
       " 'Alzeimer',\n",
       " 'Alzeimer',\n",
       " 'Alzeimer',\n",
       " 'Alzeimer',\n",
       " 'Alzeimer',\n",
       " 'Alzeimer',\n",
       " 'Alzeimer',\n",
       " 'Alzeimer',\n",
       " 'Cognitive Impairment',\n",
       " 'Cognitive Impairment',\n",
       " 'Cognitive Impairment',\n",
       " 'Cognitive Impairment',\n",
       " 'Cognitive Impairment',\n",
       " 'Cognitive Impairment',\n",
       " 'Cognitive Impairment',\n",
       " 'Cognitive Impairment',\n",
       " 'Cognitive Impairment',\n",
       " 'Cognitive Impairment',\n",
       " 'Cognitive Impairment',\n",
       " 'Cognitive Impairment',\n",
       " 'Cognitive Impairment',\n",
       " 'Cognitive Impairment',\n",
       " 'Cognitive Impairment',\n",
       " 'Cognitive Impairment',\n",
       " 'Cognitive Impairment',\n",
       " 'pituitary',\n",
       " 'pituitary',\n",
       " 'pituitary',\n",
       " 'pituitary',\n",
       " 'pituitary',\n",
       " 'pituitary',\n",
       " 'pituitary',\n",
       " 'pituitary',\n",
       " 'pituitary',\n",
       " 'pituitary',\n",
       " 'Stroke',\n",
       " 'Stroke',\n",
       " 'Stroke',\n",
       " 'Stroke',\n",
       " 'Stroke',\n",
       " 'Stroke',\n",
       " 'Stroke',\n",
       " 'Stroke',\n",
       " 'Stroke',\n",
       " 'Stroke']"
      ]
     },
     "execution_count": 131,
     "metadata": {},
     "output_type": "execute_result"
    }
   ],
   "source": [
    "diseases"
   ]
  },
  {
   "cell_type": "code",
   "execution_count": 132,
   "id": "4fd7c25a",
   "metadata": {},
   "outputs": [],
   "source": [
    "from sklearn.preprocessing import LabelEncoder\n",
    "diseases = np.array(diseases)\n",
    "diseases.reshape(47,-1)\n",
    "y_labelencoder = LabelEncoder()\n",
    "\n"
   ]
  },
  {
   "cell_type": "code",
   "execution_count": 133,
   "id": "5720b4eb",
   "metadata": {},
   "outputs": [
    {
     "data": {
      "text/plain": [
       "array(['Alzeimer', 'Alzeimer', 'Alzeimer', 'Alzeimer', 'Alzeimer',\n",
       "       'Alzeimer', 'Alzeimer', 'Alzeimer', 'Alzeimer', 'Alzeimer',\n",
       "       'Cognitive Impairment', 'Cognitive Impairment',\n",
       "       'Cognitive Impairment', 'Cognitive Impairment',\n",
       "       'Cognitive Impairment', 'Cognitive Impairment',\n",
       "       'Cognitive Impairment', 'Cognitive Impairment',\n",
       "       'Cognitive Impairment', 'Cognitive Impairment',\n",
       "       'Cognitive Impairment', 'Cognitive Impairment',\n",
       "       'Cognitive Impairment', 'Cognitive Impairment',\n",
       "       'Cognitive Impairment', 'Cognitive Impairment',\n",
       "       'Cognitive Impairment', 'pituitary', 'pituitary', 'pituitary',\n",
       "       'pituitary', 'pituitary', 'pituitary', 'pituitary', 'pituitary',\n",
       "       'pituitary', 'pituitary', 'Stroke', 'Stroke', 'Stroke', 'Stroke',\n",
       "       'Stroke', 'Stroke', 'Stroke', 'Stroke', 'Stroke', 'Stroke'],\n",
       "      dtype='<U20')"
      ]
     },
     "execution_count": 133,
     "metadata": {},
     "output_type": "execute_result"
    }
   ],
   "source": [
    "diseases"
   ]
  },
  {
   "cell_type": "code",
   "execution_count": 134,
   "id": "03aa8ebe",
   "metadata": {},
   "outputs": [],
   "source": [
    "y_test = y_labelencoder.fit_transform (diseases)\n",
    "y_test = np.array([0, 0, 0, 0, 0, 0, 0, 0, 0, 0, 1, 1, 1, 1, 1, 1, 1, 1, 1, 1, 1, 1,\n",
    "       1, 1, 1, 1, 1, 2, 2, 2, 2, 2, 2, 2,\n",
    "       2, 2, 2, 3, 3, 3, 3, 3, 3, 3, 3, 3, 3])"
   ]
  },
  {
   "cell_type": "code",
   "execution_count": 135,
   "id": "2e45a1ed",
   "metadata": {},
   "outputs": [
    {
     "data": {
      "text/plain": [
       "array([[ 8,  2,  0,  0],\n",
       "       [ 3, 14,  0,  0],\n",
       "       [ 0,  0, 10,  0],\n",
       "       [ 0,  0,  0, 10]], dtype=int64)"
      ]
     },
     "execution_count": 135,
     "metadata": {},
     "output_type": "execute_result"
    }
   ],
   "source": [
    "from sklearn.metrics import confusion_matrix\n",
    "confusion_matrix(y_test,y_pred)"
   ]
  },
  {
   "cell_type": "code",
   "execution_count": 136,
   "id": "05d20af1",
   "metadata": {},
   "outputs": [
    {
     "name": "stdout",
     "output_type": "stream",
     "text": [
      "              precision    recall  f1-score   support\n",
      "\n",
      "           0       0.73      0.80      0.76        10\n",
      "           1       0.88      0.82      0.85        17\n",
      "           2       1.00      1.00      1.00        10\n",
      "           3       1.00      1.00      1.00        10\n",
      "\n",
      "    accuracy                           0.89        47\n",
      "   macro avg       0.90      0.91      0.90        47\n",
      "weighted avg       0.90      0.89      0.89        47\n",
      "\n"
     ]
    }
   ],
   "source": [
    "from sklearn.metrics import classification_report\n",
    "print(classification_report(y_test,y_pred))"
   ]
  },
  {
   "cell_type": "code",
   "execution_count": 137,
   "id": "d85d8475",
   "metadata": {},
   "outputs": [
    {
     "data": {
      "text/plain": [
       "0.9028925619834711"
      ]
     },
     "execution_count": 137,
     "metadata": {},
     "output_type": "execute_result"
    }
   ],
   "source": [
    "from sklearn.metrics import r2_score\n",
    "r2_score(y_test,y_pred)"
   ]
  },
  {
   "cell_type": "code",
   "execution_count": 138,
   "id": "73b8a883",
   "metadata": {},
   "outputs": [
    {
     "data": {
      "text/plain": [
       "0.8936170212765957"
      ]
     },
     "execution_count": 138,
     "metadata": {},
     "output_type": "execute_result"
    }
   ],
   "source": [
    "from sklearn.metrics import precision_score\n",
    "precision_score(y_test,y_pred,average='micro')"
   ]
  },
  {
   "cell_type": "code",
   "execution_count": 139,
   "id": "9c36ec26",
   "metadata": {},
   "outputs": [
    {
     "data": {
      "text/plain": [
       "0.8936170212765957"
      ]
     },
     "execution_count": 139,
     "metadata": {},
     "output_type": "execute_result"
    }
   ],
   "source": [
    "from sklearn.metrics import accuracy_score\n",
    "accuracy_score(y_test,y_pred)"
   ]
  },
  {
   "cell_type": "code",
   "execution_count": 140,
   "id": "1d38813a",
   "metadata": {},
   "outputs": [
    {
     "data": {
      "text/plain": [
       "0.8936170212765957"
      ]
     },
     "execution_count": 140,
     "metadata": {},
     "output_type": "execute_result"
    }
   ],
   "source": [
    "from sklearn.metrics import f1_score\n",
    "f1_score(y_test,y_pred,average='micro')"
   ]
  },
  {
   "cell_type": "code",
   "execution_count": 141,
   "id": "f5f60618",
   "metadata": {},
   "outputs": [
    {
     "data": {
      "text/plain": [
       "0.8936170212765957"
      ]
     },
     "execution_count": 141,
     "metadata": {},
     "output_type": "execute_result"
    }
   ],
   "source": [
    "from sklearn.metrics import recall_score\n",
    "recall_score(y_test,y_pred,average='micro')"
   ]
  },
  {
   "cell_type": "code",
   "execution_count": 142,
   "id": "9bfa2d76",
   "metadata": {},
   "outputs": [],
   "source": [
    "conf_matrix = confusion_matrix(y_true=y_test, y_pred=y_pred)"
   ]
  },
  {
   "cell_type": "code",
   "execution_count": 143,
   "id": "4f256261",
   "metadata": {},
   "outputs": [],
   "source": [
    "from sklearn.metrics import confusion_matrix\n",
    "import pandas as pd\n",
    "cm = confusion_matrix(y_test, y_pred)\n",
    "cm_df = pd.DataFrame(cm,\n",
    "                     index = ['Alzeimer','Cognitive Impairment','pituitary','Stroke'], \n",
    "                     columns = ['Alzeimer','Cognitive Impairment','pituitary','Stroke'])"
   ]
  },
  {
   "cell_type": "code",
   "execution_count": 144,
   "id": "84ace334",
   "metadata": {},
   "outputs": [
    {
     "data": {
      "image/png": "[encoded data removed]",
      "text/plain": [
       "<Figure size 576x432 with 2 Axes>"
      ]
     },
     "metadata": {
      "needs_background": "light"
     },
     "output_type": "display_data"
    }
   ],
   "source": [
    "import seaborn as sns\n",
    "import matplotlib.pyplot as plt\n",
    "plt.figure(figsize=(8,6))\n",
    "custom_cmap = sns.color_palette(\"viridis\", as_cmap=True)\n",
    "sns.heatmap(cm_df, annot=True, cmap=custom_cmap)\n",
    "plt.title('Confusion Matrix')\n",
    "plt.ylabel('Actal Values')\n",
    "plt.xlabel('Predicted Values')\n",
    "plt.show()"
   ]
  },
  {
   "cell_type": "code",
   "execution_count": 145,
   "id": "2fa1bcb4",
   "metadata": {},
   "outputs": [],
   "source": [
    "from tensorflow.keras.models import load_model\n",
    "from tensorflow.keras.preprocessing import image"
   ]
  },
  {
   "cell_type": "code",
   "execution_count": 146,
   "id": "e732079f",
   "metadata": {},
   "outputs": [],
   "source": [
    "img=image.load_img('test_img.jpg',target_size=(224,224))"
   ]
  },
  {
   "cell_type": "code",
   "execution_count": 147,
   "id": "1c3d1278",
   "metadata": {},
   "outputs": [
    {
     "data": {
      "text/plain": [
       "array([[[16., 16., 16.],\n",
       "        [16., 16., 16.],\n",
       "        [16., 16., 16.],\n",
       "        ...,\n",
       "        [16., 16., 16.],\n",
       "        [16., 16., 16.],\n",
       "        [16., 16., 16.]],\n",
       "\n",
       "       [[16., 16., 16.],\n",
       "        [16., 16., 16.],\n",
       "        [16., 16., 16.],\n",
       "        ...,\n",
       "        [16., 16., 16.],\n",
       "        [16., 16., 16.],\n",
       "        [16., 16., 16.]],\n",
       "\n",
       "       [[16., 16., 16.],\n",
       "        [16., 16., 16.],\n",
       "        [16., 16., 16.],\n",
       "        ...,\n",
       "        [16., 16., 16.],\n",
       "        [16., 16., 16.],\n",
       "        [16., 16., 16.]],\n",
       "\n",
       "       ...,\n",
       "\n",
       "       [[16., 16., 16.],\n",
       "        [16., 16., 16.],\n",
       "        [16., 16., 16.],\n",
       "        ...,\n",
       "        [16., 16., 16.],\n",
       "        [16., 16., 16.],\n",
       "        [16., 16., 16.]],\n",
       "\n",
       "       [[16., 16., 16.],\n",
       "        [16., 16., 16.],\n",
       "        [16., 16., 16.],\n",
       "        ...,\n",
       "        [16., 16., 16.],\n",
       "        [16., 16., 16.],\n",
       "        [16., 16., 16.]],\n",
       "\n",
       "       [[16., 16., 16.],\n",
       "        [16., 16., 16.],\n",
       "        [16., 16., 16.],\n",
       "        ...,\n",
       "        [15., 15., 15.],\n",
       "        [16., 16., 16.],\n",
       "        [16., 16., 16.]]], dtype=float32)"
      ]
     },
     "execution_count": 147,
     "metadata": {},
     "output_type": "execute_result"
    }
   ],
   "source": [
    "x=image.img_to_array(img)\n",
    "x"
   ]
  },
  {
   "cell_type": "code",
   "execution_count": 148,
   "id": "9bed94aa",
   "metadata": {},
   "outputs": [
    {
     "data": {
      "text/plain": [
       "<matplotlib.image.AxesImage at 0x1aeee37a220>"
      ]
     },
     "execution_count": 148,
     "metadata": {},
     "output_type": "execute_result"
    },
    {
     "data": {
      "image/png": "[encoded data removed]",
      "text/plain": [
       "<Figure size 432x288 with 1 Axes>"
      ]
     },
     "metadata": {
      "needs_background": "light"
     },
     "output_type": "display_data"
    }
   ],
   "source": [
    "from matplotlib.pyplot import imshow\n",
    "imshow(img)"
   ]
  },
  {
   "cell_type": "code",
   "execution_count": 149,
   "id": "230b6eeb",
   "metadata": {},
   "outputs": [],
   "source": [
    "x=x/255"
   ]
  },
  {
   "cell_type": "code",
   "execution_count": 150,
   "id": "566513a3",
   "metadata": {},
   "outputs": [
    {
     "data": {
      "text/plain": [
       "array([[[0.0627451 , 0.0627451 , 0.0627451 ],\n",
       "        [0.0627451 , 0.0627451 , 0.0627451 ],\n",
       "        [0.0627451 , 0.0627451 , 0.0627451 ],\n",
       "        ...,\n",
       "        [0.0627451 , 0.0627451 , 0.0627451 ],\n",
       "        [0.0627451 , 0.0627451 , 0.0627451 ],\n",
       "        [0.0627451 , 0.0627451 , 0.0627451 ]],\n",
       "\n",
       "       [[0.0627451 , 0.0627451 , 0.0627451 ],\n",
       "        [0.0627451 , 0.0627451 , 0.0627451 ],\n",
       "        [0.0627451 , 0.0627451 , 0.0627451 ],\n",
       "        ...,\n",
       "        [0.0627451 , 0.0627451 , 0.0627451 ],\n",
       "        [0.0627451 , 0.0627451 , 0.0627451 ],\n",
       "        [0.0627451 , 0.0627451 , 0.0627451 ]],\n",
       "\n",
       "       [[0.0627451 , 0.0627451 , 0.0627451 ],\n",
       "        [0.0627451 , 0.0627451 , 0.0627451 ],\n",
       "        [0.0627451 , 0.0627451 , 0.0627451 ],\n",
       "        ...,\n",
       "        [0.0627451 , 0.0627451 , 0.0627451 ],\n",
       "        [0.0627451 , 0.0627451 , 0.0627451 ],\n",
       "        [0.0627451 , 0.0627451 , 0.0627451 ]],\n",
       "\n",
       "       ...,\n",
       "\n",
       "       [[0.0627451 , 0.0627451 , 0.0627451 ],\n",
       "        [0.0627451 , 0.0627451 , 0.0627451 ],\n",
       "        [0.0627451 , 0.0627451 , 0.0627451 ],\n",
       "        ...,\n",
       "        [0.0627451 , 0.0627451 , 0.0627451 ],\n",
       "        [0.0627451 , 0.0627451 , 0.0627451 ],\n",
       "        [0.0627451 , 0.0627451 , 0.0627451 ]],\n",
       "\n",
       "       [[0.0627451 , 0.0627451 , 0.0627451 ],\n",
       "        [0.0627451 , 0.0627451 , 0.0627451 ],\n",
       "        [0.0627451 , 0.0627451 , 0.0627451 ],\n",
       "        ...,\n",
       "        [0.0627451 , 0.0627451 , 0.0627451 ],\n",
       "        [0.0627451 , 0.0627451 , 0.0627451 ],\n",
       "        [0.0627451 , 0.0627451 , 0.0627451 ]],\n",
       "\n",
       "       [[0.0627451 , 0.0627451 , 0.0627451 ],\n",
       "        [0.0627451 , 0.0627451 , 0.0627451 ],\n",
       "        [0.0627451 , 0.0627451 , 0.0627451 ],\n",
       "        ...,\n",
       "        [0.05882353, 0.05882353, 0.05882353],\n",
       "        [0.0627451 , 0.0627451 , 0.0627451 ],\n",
       "        [0.0627451 , 0.0627451 , 0.0627451 ]]], dtype=float32)"
      ]
     },
     "execution_count": 150,
     "metadata": {},
     "output_type": "execute_result"
    }
   ],
   "source": [
    "x\n"
   ]
  },
  {
   "cell_type": "code",
   "execution_count": 151,
   "id": "06627823",
   "metadata": {},
   "outputs": [],
   "source": [
    "import cv2\n",
    "x = cv2.resize(x,(224,224)) \n",
    "x = x.reshape(1,224,224,3) "
   ]
  },
  {
   "cell_type": "code",
   "execution_count": 152,
   "id": "1844ff7e",
   "metadata": {},
   "outputs": [
    {
     "data": {
      "text/plain": [
       "(1, 224, 224, 3)"
      ]
     },
     "execution_count": 152,
     "metadata": {},
     "output_type": "execute_result"
    }
   ],
   "source": [
    "x.shape"
   ]
  },
  {
   "cell_type": "code",
   "execution_count": 153,
   "id": "622ec217",
   "metadata": {},
   "outputs": [
    {
     "name": "stdout",
     "output_type": "stream",
     "text": [
      "WARNING:tensorflow:6 out of the last 11 calls to <function Model.make_predict_function.<locals>.predict_function at 0x000001AEEBE3A8B0> triggered tf.function retracing. Tracing is expensive and the excessive number of tracings could be due to (1) creating @tf.function repeatedly in a loop, (2) passing tensors with different shapes, (3) passing Python objects instead of tensors. For (1), please define your @tf.function outside of the loop. For (2), @tf.function has reduce_retracing=True option that can avoid unnecessary retracing. For (3), please refer to https://www.tensorflow.org/guide/function#controlling_retracing and https://www.tensorflow.org/api_docs/python/tf/function for  more details.\n",
      "1/1 [==============================] - 3s 3s/step\n"
     ]
    },
    {
     "data": {
      "text/plain": [
       "array([[9.9999917e-01, 8.8648159e-07, 1.4282696e-11, 2.9577897e-13]],\n",
       "      dtype=float32)"
      ]
     },
     "execution_count": 153,
     "metadata": {},
     "output_type": "execute_result"
    }
   ],
   "source": [
    "model.predict(x)"
   ]
  },
  {
   "cell_type": "code",
   "execution_count": 154,
   "id": "5b12a710",
   "metadata": {},
   "outputs": [
    {
     "name": "stdout",
     "output_type": "stream",
     "text": [
      "1/1 [==============================] - 0s 26ms/step\n"
     ]
    }
   ],
   "source": [
    "a=model.predict(x)"
   ]
  },
  {
   "cell_type": "code",
   "execution_count": 155,
   "id": "8d39d4b6",
   "metadata": {},
   "outputs": [
    {
     "data": {
      "text/plain": [
       "0"
      ]
     },
     "execution_count": 155,
     "metadata": {},
     "output_type": "execute_result"
    }
   ],
   "source": [
    "a.argmax()"
   ]
  },
  {
   "cell_type": "code",
   "execution_count": null,
   "id": "967cc71d",
   "metadata": {},
   "outputs": [],
   "source": []
  }
 ],
 "metadata": {
  "kernelspec": {
   "display_name": "Python 3 (ipykernel)",
   "language": "python",
   "name": "python3"
  },
  "language_info": {
   "codemirror_mode": {
    "name": "ipython",
    "version": 3
   },
   "file_extension": ".py",
   "mimetype": "text/x-python",
   "name": "python",
   "nbconvert_exporter": "python",
   "pygments_lexer": "ipython3",
   "version": "3.9.12"
  }
 },
 "nbformat": 4,
 "nbformat_minor": 5
}
