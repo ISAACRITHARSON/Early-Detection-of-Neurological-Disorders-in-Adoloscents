{
 "cells": [
  {
   "cell_type": "code",
   "execution_count": 1,
   "id": "703a2787",
   "metadata": {},
   "outputs": [],
   "source": [
    "from tensorflow.compat.v1 import ConfigProto\n",
    "from tensorflow.compat.v1 import InteractiveSession\n",
    "\n",
    "config = ConfigProto()\n",
    "config.gpu_options.per_process_gpu_memory_fraction = 0.7\n",
    "config.gpu_options.allow_growth = True\n",
    "session = InteractiveSession(config=config)\n"
   ]
  },
  {
   "cell_type": "code",
   "execution_count": 1,
   "id": "a1eaabed",
   "metadata": {},
   "outputs": [],
   "source": [
    "from tensorflow.keras.layers import Input, Lambda, Dense, Flatten\n",
    "from tensorflow.keras.models import Model\n",
    "from tensorflow.keras.applications.xception import Xception\n",
    "from tensorflow.keras.applications.xception import preprocess_input\n",
    "from tensorflow.keras.preprocessing import image\n",
    "from tensorflow.keras.preprocessing.image import ImageDataGenerator,load_img\n",
    "from tensorflow.keras.models import Sequential\n",
    "import numpy as np\n",
    "from glob import glob"
   ]
  },
  {
   "cell_type": "code",
   "execution_count": 2,
   "id": "d63c138e",
   "metadata": {},
   "outputs": [],
   "source": [
    "IMAGE_SIZE = [224, 224]\n",
    "train_path = 'C:\\\\Users\\\\HOME\\\\Desktop\\\\train\\*'\n",
    "valid_path = 'C:\\\\Users\\\\HOME\\\\Desktop\\\\validation\\*'"
   ]
  },
  {
   "cell_type": "code",
   "execution_count": 3,
   "id": "cfecae8c",
   "metadata": {},
   "outputs": [],
   "source": [
    "xception = Xception(input_shape=IMAGE_SIZE + [3], weights='imagenet', include_top=False)"
   ]
  },
  {
   "cell_type": "code",
   "execution_count": 4,
   "id": "a18da026",
   "metadata": {},
   "outputs": [],
   "source": [
    "for layer in xception.layers:\n",
    "    layer.trainable = False"
   ]
  },
  {
   "cell_type": "code",
   "execution_count": 5,
   "id": "b1b988b4",
   "metadata": {},
   "outputs": [],
   "source": [
    "\n",
    "folders = glob(train_path)"
   ]
  },
  {
   "cell_type": "code",
   "execution_count": 6,
   "id": "db27e605",
   "metadata": {},
   "outputs": [
    {
     "data": {
      "text/plain": [
       "['C:\\\\Users\\\\HOME\\\\Desktop\\\\train\\\\Alzeimer',\n",
       " 'C:\\\\Users\\\\HOME\\\\Desktop\\\\train\\\\Cognitive Impairment',\n",
       " 'C:\\\\Users\\\\HOME\\\\Desktop\\\\train\\\\pituitary',\n",
       " 'C:\\\\Users\\\\HOME\\\\Desktop\\\\train\\\\Stroke']"
      ]
     },
     "execution_count": 6,
     "metadata": {},
     "output_type": "execute_result"
    }
   ],
   "source": [
    "folders"
   ]
  },
  {
   "cell_type": "code",
   "execution_count": 7,
   "id": "7044f16b",
   "metadata": {},
   "outputs": [],
   "source": [
    "x = Flatten()(xception.output)"
   ]
  },
  {
   "cell_type": "code",
   "execution_count": 8,
   "id": "7a27d4c1",
   "metadata": {},
   "outputs": [],
   "source": [
    "prediction = Dense(len(folders), activation='softmax')(x)\n",
    "\n",
    "model = Model(inputs=xception.input, outputs=prediction)"
   ]
  },
  {
   "cell_type": "code",
   "execution_count": 9,
   "id": "66839379",
   "metadata": {},
   "outputs": [
    {
     "data": {
      "text/plain": [
       "<KerasTensor: shape=(None, 4) dtype=float32 (created by layer 'dense')>"
      ]
     },
     "execution_count": 9,
     "metadata": {},
     "output_type": "execute_result"
    }
   ],
   "source": [
    "prediction"
   ]
  },
  {
   "cell_type": "code",
   "execution_count": 10,
   "id": "58d031ae",
   "metadata": {},
   "outputs": [
    {
     "name": "stdout",
     "output_type": "stream",
     "text": [
      "Model: \"model\"\n",
      "__________________________________________________________________________________________________\n",
      " Layer (type)                   Output Shape         Param #     Connected to                     \n",
      "==================================================================================================\n",
      " input_1 (InputLayer)           [(None, 224, 224, 3  0           []                               \n",
      "                                )]                                                                \n",
      "                                                                                                  \n",
      " block1_conv1 (Conv2D)          (None, 111, 111, 32  864         ['input_1[0][0]']                \n",
      "                                )                                                                 \n",
      "                                                                                                  \n",
      " block1_conv1_bn (BatchNormaliz  (None, 111, 111, 32  128        ['block1_conv1[0][0]']           \n",
      " ation)                         )                                                                 \n",
      "                                                                                                  \n",
      " block1_conv1_act (Activation)  (None, 111, 111, 32  0           ['block1_conv1_bn[0][0]']        \n",
      "                                )                                                                 \n",
      "                                                                                                  \n",
      " block1_conv2 (Conv2D)          (None, 109, 109, 64  18432       ['block1_conv1_act[0][0]']       \n",
      "                                )                                                                 \n",
      "                                                                                                  \n",
      " block1_conv2_bn (BatchNormaliz  (None, 109, 109, 64  256        ['block1_conv2[0][0]']           \n",
      " ation)                         )                                                                 \n",
      "                                                                                                  \n",
      " block1_conv2_act (Activation)  (None, 109, 109, 64  0           ['block1_conv2_bn[0][0]']        \n",
      "                                )                                                                 \n",
      "                                                                                                  \n",
      " block2_sepconv1 (SeparableConv  (None, 109, 109, 12  8768       ['block1_conv2_act[0][0]']       \n",
      " 2D)                            8)                                                                \n",
      "                                                                                                  \n",
      " block2_sepconv1_bn (BatchNorma  (None, 109, 109, 12  512        ['block2_sepconv1[0][0]']        \n",
      " lization)                      8)                                                                \n",
      "                                                                                                  \n",
      " block2_sepconv2_act (Activatio  (None, 109, 109, 12  0          ['block2_sepconv1_bn[0][0]']     \n",
      " n)                             8)                                                                \n",
      "                                                                                                  \n",
      " block2_sepconv2 (SeparableConv  (None, 109, 109, 12  17536      ['block2_sepconv2_act[0][0]']    \n",
      " 2D)                            8)                                                                \n",
      "                                                                                                  \n",
      " block2_sepconv2_bn (BatchNorma  (None, 109, 109, 12  512        ['block2_sepconv2[0][0]']        \n",
      " lization)                      8)                                                                \n",
      "                                                                                                  \n",
      " conv2d (Conv2D)                (None, 55, 55, 128)  8192        ['block1_conv2_act[0][0]']       \n",
      "                                                                                                  \n",
      " block2_pool (MaxPooling2D)     (None, 55, 55, 128)  0           ['block2_sepconv2_bn[0][0]']     \n",
      "                                                                                                  \n",
      " batch_normalization (BatchNorm  (None, 55, 55, 128)  512        ['conv2d[0][0]']                 \n",
      " alization)                                                                                       \n",
      "                                                                                                  \n",
      " add (Add)                      (None, 55, 55, 128)  0           ['block2_pool[0][0]',            \n",
      "                                                                  'batch_normalization[0][0]']    \n",
      "                                                                                                  \n",
      " block3_sepconv1_act (Activatio  (None, 55, 55, 128)  0          ['add[0][0]']                    \n",
      " n)                                                                                               \n",
      "                                                                                                  \n",
      " block3_sepconv1 (SeparableConv  (None, 55, 55, 256)  33920      ['block3_sepconv1_act[0][0]']    \n",
      " 2D)                                                                                              \n",
      "                                                                                                  \n",
      " block3_sepconv1_bn (BatchNorma  (None, 55, 55, 256)  1024       ['block3_sepconv1[0][0]']        \n",
      " lization)                                                                                        \n",
      "                                                                                                  \n",
      " block3_sepconv2_act (Activatio  (None, 55, 55, 256)  0          ['block3_sepconv1_bn[0][0]']     \n",
      " n)                                                                                               \n",
      "                                                                                                  \n",
      " block3_sepconv2 (SeparableConv  (None, 55, 55, 256)  67840      ['block3_sepconv2_act[0][0]']    \n",
      " 2D)                                                                                              \n",
      "                                                                                                  \n",
      " block3_sepconv2_bn (BatchNorma  (None, 55, 55, 256)  1024       ['block3_sepconv2[0][0]']        \n",
      " lization)                                                                                        \n",
      "                                                                                                  \n",
      " conv2d_1 (Conv2D)              (None, 28, 28, 256)  32768       ['add[0][0]']                    \n",
      "                                                                                                  \n",
      " block3_pool (MaxPooling2D)     (None, 28, 28, 256)  0           ['block3_sepconv2_bn[0][0]']     \n",
      "                                                                                                  \n",
      " batch_normalization_1 (BatchNo  (None, 28, 28, 256)  1024       ['conv2d_1[0][0]']               \n",
      " rmalization)                                                                                     \n",
      "                                                                                                  \n",
      " add_1 (Add)                    (None, 28, 28, 256)  0           ['block3_pool[0][0]',            \n",
      "                                                                  'batch_normalization_1[0][0]']  \n",
      "                                                                                                  \n",
      " block4_sepconv1_act (Activatio  (None, 28, 28, 256)  0          ['add_1[0][0]']                  \n",
      " n)                                                                                               \n",
      "                                                                                                  \n",
      " block4_sepconv1 (SeparableConv  (None, 28, 28, 728)  188672     ['block4_sepconv1_act[0][0]']    \n",
      " 2D)                                                                                              \n",
      "                                                                                                  \n",
      " block4_sepconv1_bn (BatchNorma  (None, 28, 28, 728)  2912       ['block4_sepconv1[0][0]']        \n",
      " lization)                                                                                        \n",
      "                                                                                                  \n",
      " block4_sepconv2_act (Activatio  (None, 28, 28, 728)  0          ['block4_sepconv1_bn[0][0]']     \n",
      " n)                                                                                               \n",
      "                                                                                                  \n",
      " block4_sepconv2 (SeparableConv  (None, 28, 28, 728)  536536     ['block4_sepconv2_act[0][0]']    \n",
      " 2D)                                                                                              \n",
      "                                                                                                  \n",
      " block4_sepconv2_bn (BatchNorma  (None, 28, 28, 728)  2912       ['block4_sepconv2[0][0]']        \n",
      " lization)                                                                                        \n",
      "                                                                                                  \n",
      " conv2d_2 (Conv2D)              (None, 14, 14, 728)  186368      ['add_1[0][0]']                  \n",
      "                                                                                                  \n",
      " block4_pool (MaxPooling2D)     (None, 14, 14, 728)  0           ['block4_sepconv2_bn[0][0]']     \n",
      "                                                                                                  \n",
      " batch_normalization_2 (BatchNo  (None, 14, 14, 728)  2912       ['conv2d_2[0][0]']               \n",
      " rmalization)                                                                                     \n",
      "                                                                                                  \n",
      " add_2 (Add)                    (None, 14, 14, 728)  0           ['block4_pool[0][0]',            \n",
      "                                                                  'batch_normalization_2[0][0]']  \n",
      "                                                                                                  \n",
      " block5_sepconv1_act (Activatio  (None, 14, 14, 728)  0          ['add_2[0][0]']                  \n",
      " n)                                                                                               \n",
      "                                                                                                  \n",
      " block5_sepconv1 (SeparableConv  (None, 14, 14, 728)  536536     ['block5_sepconv1_act[0][0]']    \n",
      " 2D)                                                                                              \n",
      "                                                                                                  \n",
      " block5_sepconv1_bn (BatchNorma  (None, 14, 14, 728)  2912       ['block5_sepconv1[0][0]']        \n",
      " lization)                                                                                        \n",
      "                                                                                                  \n",
      " block5_sepconv2_act (Activatio  (None, 14, 14, 728)  0          ['block5_sepconv1_bn[0][0]']     \n",
      " n)                                                                                               \n",
      "                                                                                                  \n",
      " block5_sepconv2 (SeparableConv  (None, 14, 14, 728)  536536     ['block5_sepconv2_act[0][0]']    \n",
      " 2D)                                                                                              \n",
      "                                                                                                  \n",
      " block5_sepconv2_bn (BatchNorma  (None, 14, 14, 728)  2912       ['block5_sepconv2[0][0]']        \n",
      " lization)                                                                                        \n",
      "                                                                                                  \n",
      " block5_sepconv3_act (Activatio  (None, 14, 14, 728)  0          ['block5_sepconv2_bn[0][0]']     \n",
      " n)                                                                                               \n",
      "                                                                                                  \n",
      " block5_sepconv3 (SeparableConv  (None, 14, 14, 728)  536536     ['block5_sepconv3_act[0][0]']    \n",
      " 2D)                                                                                              \n",
      "                                                                                                  \n",
      " block5_sepconv3_bn (BatchNorma  (None, 14, 14, 728)  2912       ['block5_sepconv3[0][0]']        \n",
      " lization)                                                                                        \n",
      "                                                                                                  \n",
      " add_3 (Add)                    (None, 14, 14, 728)  0           ['block5_sepconv3_bn[0][0]',     \n",
      "                                                                  'add_2[0][0]']                  \n",
      "                                                                                                  \n",
      " block6_sepconv1_act (Activatio  (None, 14, 14, 728)  0          ['add_3[0][0]']                  \n",
      " n)                                                                                               \n",
      "                                                                                                  \n",
      " block6_sepconv1 (SeparableConv  (None, 14, 14, 728)  536536     ['block6_sepconv1_act[0][0]']    \n",
      " 2D)                                                                                              \n",
      "                                                                                                  \n",
      " block6_sepconv1_bn (BatchNorma  (None, 14, 14, 728)  2912       ['block6_sepconv1[0][0]']        \n",
      " lization)                                                                                        \n",
      "                                                                                                  \n",
      " block6_sepconv2_act (Activatio  (None, 14, 14, 728)  0          ['block6_sepconv1_bn[0][0]']     \n",
      " n)                                                                                               \n",
      "                                                                                                  \n",
      " block6_sepconv2 (SeparableConv  (None, 14, 14, 728)  536536     ['block6_sepconv2_act[0][0]']    \n",
      " 2D)                                                                                              \n",
      "                                                                                                  \n",
      " block6_sepconv2_bn (BatchNorma  (None, 14, 14, 728)  2912       ['block6_sepconv2[0][0]']        \n",
      " lization)                                                                                        \n",
      "                                                                                                  \n",
      " block6_sepconv3_act (Activatio  (None, 14, 14, 728)  0          ['block6_sepconv2_bn[0][0]']     \n",
      " n)                                                                                               \n",
      "                                                                                                  \n",
      " block6_sepconv3 (SeparableConv  (None, 14, 14, 728)  536536     ['block6_sepconv3_act[0][0]']    \n",
      " 2D)                                                                                              \n",
      "                                                                                                  \n",
      " block6_sepconv3_bn (BatchNorma  (None, 14, 14, 728)  2912       ['block6_sepconv3[0][0]']        \n",
      " lization)                                                                                        \n",
      "                                                                                                  \n",
      " add_4 (Add)                    (None, 14, 14, 728)  0           ['block6_sepconv3_bn[0][0]',     \n",
      "                                                                  'add_3[0][0]']                  \n",
      "                                                                                                  \n",
      " block7_sepconv1_act (Activatio  (None, 14, 14, 728)  0          ['add_4[0][0]']                  \n",
      " n)                                                                                               \n",
      "                                                                                                  \n",
      " block7_sepconv1 (SeparableConv  (None, 14, 14, 728)  536536     ['block7_sepconv1_act[0][0]']    \n",
      " 2D)                                                                                              \n",
      "                                                                                                  \n",
      " block7_sepconv1_bn (BatchNorma  (None, 14, 14, 728)  2912       ['block7_sepconv1[0][0]']        \n",
      " lization)                                                                                        \n",
      "                                                                                                  \n",
      " block7_sepconv2_act (Activatio  (None, 14, 14, 728)  0          ['block7_sepconv1_bn[0][0]']     \n",
      " n)                                                                                               \n",
      "                                                                                                  \n",
      " block7_sepconv2 (SeparableConv  (None, 14, 14, 728)  536536     ['block7_sepconv2_act[0][0]']    \n",
      " 2D)                                                                                              \n",
      "                                                                                                  \n",
      " block7_sepconv2_bn (BatchNorma  (None, 14, 14, 728)  2912       ['block7_sepconv2[0][0]']        \n",
      " lization)                                                                                        \n",
      "                                                                                                  \n",
      " block7_sepconv3_act (Activatio  (None, 14, 14, 728)  0          ['block7_sepconv2_bn[0][0]']     \n",
      " n)                                                                                               \n",
      "                                                                                                  \n",
      " block7_sepconv3 (SeparableConv  (None, 14, 14, 728)  536536     ['block7_sepconv3_act[0][0]']    \n",
      " 2D)                                                                                              \n",
      "                                                                                                  \n",
      " block7_sepconv3_bn (BatchNorma  (None, 14, 14, 728)  2912       ['block7_sepconv3[0][0]']        \n",
      " lization)                                                                                        \n",
      "                                                                                                  \n",
      " add_5 (Add)                    (None, 14, 14, 728)  0           ['block7_sepconv3_bn[0][0]',     \n",
      "                                                                  'add_4[0][0]']                  \n",
      "                                                                                                  \n",
      " block8_sepconv1_act (Activatio  (None, 14, 14, 728)  0          ['add_5[0][0]']                  \n",
      " n)                                                                                               \n",
      "                                                                                                  \n",
      " block8_sepconv1 (SeparableConv  (None, 14, 14, 728)  536536     ['block8_sepconv1_act[0][0]']    \n",
      " 2D)                                                                                              \n",
      "                                                                                                  \n",
      " block8_sepconv1_bn (BatchNorma  (None, 14, 14, 728)  2912       ['block8_sepconv1[0][0]']        \n",
      " lization)                                                                                        \n",
      "                                                                                                  \n",
      " block8_sepconv2_act (Activatio  (None, 14, 14, 728)  0          ['block8_sepconv1_bn[0][0]']     \n",
      " n)                                                                                               \n",
      "                                                                                                  \n",
      " block8_sepconv2 (SeparableConv  (None, 14, 14, 728)  536536     ['block8_sepconv2_act[0][0]']    \n",
      " 2D)                                                                                              \n",
      "                                                                                                  \n",
      " block8_sepconv2_bn (BatchNorma  (None, 14, 14, 728)  2912       ['block8_sepconv2[0][0]']        \n",
      " lization)                                                                                        \n",
      "                                                                                                  \n",
      " block8_sepconv3_act (Activatio  (None, 14, 14, 728)  0          ['block8_sepconv2_bn[0][0]']     \n",
      " n)                                                                                               \n",
      "                                                                                                  \n",
      " block8_sepconv3 (SeparableConv  (None, 14, 14, 728)  536536     ['block8_sepconv3_act[0][0]']    \n",
      " 2D)                                                                                              \n",
      "                                                                                                  \n",
      " block8_sepconv3_bn (BatchNorma  (None, 14, 14, 728)  2912       ['block8_sepconv3[0][0]']        \n",
      " lization)                                                                                        \n",
      "                                                                                                  \n",
      " add_6 (Add)                    (None, 14, 14, 728)  0           ['block8_sepconv3_bn[0][0]',     \n",
      "                                                                  'add_5[0][0]']                  \n",
      "                                                                                                  \n",
      " block9_sepconv1_act (Activatio  (None, 14, 14, 728)  0          ['add_6[0][0]']                  \n",
      " n)                                                                                               \n",
      "                                                                                                  \n",
      " block9_sepconv1 (SeparableConv  (None, 14, 14, 728)  536536     ['block9_sepconv1_act[0][0]']    \n",
      " 2D)                                                                                              \n",
      "                                                                                                  \n",
      " block9_sepconv1_bn (BatchNorma  (None, 14, 14, 728)  2912       ['block9_sepconv1[0][0]']        \n",
      " lization)                                                                                        \n",
      "                                                                                                  \n",
      " block9_sepconv2_act (Activatio  (None, 14, 14, 728)  0          ['block9_sepconv1_bn[0][0]']     \n",
      " n)                                                                                               \n",
      "                                                                                                  \n",
      " block9_sepconv2 (SeparableConv  (None, 14, 14, 728)  536536     ['block9_sepconv2_act[0][0]']    \n",
      " 2D)                                                                                              \n",
      "                                                                                                  \n",
      " block9_sepconv2_bn (BatchNorma  (None, 14, 14, 728)  2912       ['block9_sepconv2[0][0]']        \n",
      " lization)                                                                                        \n",
      "                                                                                                  \n",
      " block9_sepconv3_act (Activatio  (None, 14, 14, 728)  0          ['block9_sepconv2_bn[0][0]']     \n",
      " n)                                                                                               \n",
      "                                                                                                  \n",
      " block9_sepconv3 (SeparableConv  (None, 14, 14, 728)  536536     ['block9_sepconv3_act[0][0]']    \n",
      " 2D)                                                                                              \n",
      "                                                                                                  \n",
      " block9_sepconv3_bn (BatchNorma  (None, 14, 14, 728)  2912       ['block9_sepconv3[0][0]']        \n",
      " lization)                                                                                        \n",
      "                                                                                                  \n",
      " add_7 (Add)                    (None, 14, 14, 728)  0           ['block9_sepconv3_bn[0][0]',     \n",
      "                                                                  'add_6[0][0]']                  \n",
      "                                                                                                  \n",
      " block10_sepconv1_act (Activati  (None, 14, 14, 728)  0          ['add_7[0][0]']                  \n",
      " on)                                                                                              \n",
      "                                                                                                  \n",
      " block10_sepconv1 (SeparableCon  (None, 14, 14, 728)  536536     ['block10_sepconv1_act[0][0]']   \n",
      " v2D)                                                                                             \n",
      "                                                                                                  \n",
      " block10_sepconv1_bn (BatchNorm  (None, 14, 14, 728)  2912       ['block10_sepconv1[0][0]']       \n",
      " alization)                                                                                       \n",
      "                                                                                                  \n",
      " block10_sepconv2_act (Activati  (None, 14, 14, 728)  0          ['block10_sepconv1_bn[0][0]']    \n",
      " on)                                                                                              \n",
      "                                                                                                  \n",
      " block10_sepconv2 (SeparableCon  (None, 14, 14, 728)  536536     ['block10_sepconv2_act[0][0]']   \n",
      " v2D)                                                                                             \n",
      "                                                                                                  \n",
      " block10_sepconv2_bn (BatchNorm  (None, 14, 14, 728)  2912       ['block10_sepconv2[0][0]']       \n",
      " alization)                                                                                       \n",
      "                                                                                                  \n",
      " block10_sepconv3_act (Activati  (None, 14, 14, 728)  0          ['block10_sepconv2_bn[0][0]']    \n",
      " on)                                                                                              \n",
      "                                                                                                  \n",
      " block10_sepconv3 (SeparableCon  (None, 14, 14, 728)  536536     ['block10_sepconv3_act[0][0]']   \n",
      " v2D)                                                                                             \n",
      "                                                                                                  \n",
      " block10_sepconv3_bn (BatchNorm  (None, 14, 14, 728)  2912       ['block10_sepconv3[0][0]']       \n",
      " alization)                                                                                       \n",
      "                                                                                                  \n",
      " add_8 (Add)                    (None, 14, 14, 728)  0           ['block10_sepconv3_bn[0][0]',    \n",
      "                                                                  'add_7[0][0]']                  \n",
      "                                                                                                  \n",
      " block11_sepconv1_act (Activati  (None, 14, 14, 728)  0          ['add_8[0][0]']                  \n",
      " on)                                                                                              \n",
      "                                                                                                  \n",
      " block11_sepconv1 (SeparableCon  (None, 14, 14, 728)  536536     ['block11_sepconv1_act[0][0]']   \n",
      " v2D)                                                                                             \n",
      "                                                                                                  \n",
      " block11_sepconv1_bn (BatchNorm  (None, 14, 14, 728)  2912       ['block11_sepconv1[0][0]']       \n",
      " alization)                                                                                       \n",
      "                                                                                                  \n",
      " block11_sepconv2_act (Activati  (None, 14, 14, 728)  0          ['block11_sepconv1_bn[0][0]']    \n",
      " on)                                                                                              \n",
      "                                                                                                  \n",
      " block11_sepconv2 (SeparableCon  (None, 14, 14, 728)  536536     ['block11_sepconv2_act[0][0]']   \n",
      " v2D)                                                                                             \n",
      "                                                                                                  \n",
      " block11_sepconv2_bn (BatchNorm  (None, 14, 14, 728)  2912       ['block11_sepconv2[0][0]']       \n",
      " alization)                                                                                       \n",
      "                                                                                                  \n",
      " block11_sepconv3_act (Activati  (None, 14, 14, 728)  0          ['block11_sepconv2_bn[0][0]']    \n",
      " on)                                                                                              \n",
      "                                                                                                  \n",
      " block11_sepconv3 (SeparableCon  (None, 14, 14, 728)  536536     ['block11_sepconv3_act[0][0]']   \n",
      " v2D)                                                                                             \n",
      "                                                                                                  \n",
      " block11_sepconv3_bn (BatchNorm  (None, 14, 14, 728)  2912       ['block11_sepconv3[0][0]']       \n",
      " alization)                                                                                       \n",
      "                                                                                                  \n",
      " add_9 (Add)                    (None, 14, 14, 728)  0           ['block11_sepconv3_bn[0][0]',    \n",
      "                                                                  'add_8[0][0]']                  \n",
      "                                                                                                  \n",
      " block12_sepconv1_act (Activati  (None, 14, 14, 728)  0          ['add_9[0][0]']                  \n",
      " on)                                                                                              \n",
      "                                                                                                  \n",
      " block12_sepconv1 (SeparableCon  (None, 14, 14, 728)  536536     ['block12_sepconv1_act[0][0]']   \n",
      " v2D)                                                                                             \n",
      "                                                                                                  \n",
      " block12_sepconv1_bn (BatchNorm  (None, 14, 14, 728)  2912       ['block12_sepconv1[0][0]']       \n",
      " alization)                                                                                       \n",
      "                                                                                                  \n",
      " block12_sepconv2_act (Activati  (None, 14, 14, 728)  0          ['block12_sepconv1_bn[0][0]']    \n",
      " on)                                                                                              \n",
      "                                                                                                  \n",
      " block12_sepconv2 (SeparableCon  (None, 14, 14, 728)  536536     ['block12_sepconv2_act[0][0]']   \n",
      " v2D)                                                                                             \n",
      "                                                                                                  \n",
      " block12_sepconv2_bn (BatchNorm  (None, 14, 14, 728)  2912       ['block12_sepconv2[0][0]']       \n",
      " alization)                                                                                       \n",
      "                                                                                                  \n",
      " block12_sepconv3_act (Activati  (None, 14, 14, 728)  0          ['block12_sepconv2_bn[0][0]']    \n",
      " on)                                                                                              \n",
      "                                                                                                  \n",
      " block12_sepconv3 (SeparableCon  (None, 14, 14, 728)  536536     ['block12_sepconv3_act[0][0]']   \n",
      " v2D)                                                                                             \n",
      "                                                                                                  \n",
      " block12_sepconv3_bn (BatchNorm  (None, 14, 14, 728)  2912       ['block12_sepconv3[0][0]']       \n",
      " alization)                                                                                       \n",
      "                                                                                                  \n",
      " add_10 (Add)                   (None, 14, 14, 728)  0           ['block12_sepconv3_bn[0][0]',    \n",
      "                                                                  'add_9[0][0]']                  \n",
      "                                                                                                  \n",
      " block13_sepconv1_act (Activati  (None, 14, 14, 728)  0          ['add_10[0][0]']                 \n",
      " on)                                                                                              \n",
      "                                                                                                  \n",
      " block13_sepconv1 (SeparableCon  (None, 14, 14, 728)  536536     ['block13_sepconv1_act[0][0]']   \n",
      " v2D)                                                                                             \n",
      "                                                                                                  \n",
      " block13_sepconv1_bn (BatchNorm  (None, 14, 14, 728)  2912       ['block13_sepconv1[0][0]']       \n",
      " alization)                                                                                       \n",
      "                                                                                                  \n",
      " block13_sepconv2_act (Activati  (None, 14, 14, 728)  0          ['block13_sepconv1_bn[0][0]']    \n",
      " on)                                                                                              \n",
      "                                                                                                  \n",
      " block13_sepconv2 (SeparableCon  (None, 14, 14, 1024  752024     ['block13_sepconv2_act[0][0]']   \n",
      " v2D)                           )                                                                 \n",
      "                                                                                                  \n",
      " block13_sepconv2_bn (BatchNorm  (None, 14, 14, 1024  4096       ['block13_sepconv2[0][0]']       \n",
      " alization)                     )                                                                 \n",
      "                                                                                                  \n",
      " conv2d_3 (Conv2D)              (None, 7, 7, 1024)   745472      ['add_10[0][0]']                 \n",
      "                                                                                                  \n",
      " block13_pool (MaxPooling2D)    (None, 7, 7, 1024)   0           ['block13_sepconv2_bn[0][0]']    \n",
      "                                                                                                  \n",
      " batch_normalization_3 (BatchNo  (None, 7, 7, 1024)  4096        ['conv2d_3[0][0]']               \n",
      " rmalization)                                                                                     \n",
      "                                                                                                  \n",
      " add_11 (Add)                   (None, 7, 7, 1024)   0           ['block13_pool[0][0]',           \n",
      "                                                                  'batch_normalization_3[0][0]']  \n",
      "                                                                                                  \n",
      " block14_sepconv1 (SeparableCon  (None, 7, 7, 1536)  1582080     ['add_11[0][0]']                 \n",
      " v2D)                                                                                             \n",
      "                                                                                                  \n",
      " block14_sepconv1_bn (BatchNorm  (None, 7, 7, 1536)  6144        ['block14_sepconv1[0][0]']       \n",
      " alization)                                                                                       \n",
      "                                                                                                  \n",
      " block14_sepconv1_act (Activati  (None, 7, 7, 1536)  0           ['block14_sepconv1_bn[0][0]']    \n",
      " on)                                                                                              \n",
      "                                                                                                  \n",
      " block14_sepconv2 (SeparableCon  (None, 7, 7, 2048)  3159552     ['block14_sepconv1_act[0][0]']   \n",
      " v2D)                                                                                             \n",
      "                                                                                                  \n",
      " block14_sepconv2_bn (BatchNorm  (None, 7, 7, 2048)  8192        ['block14_sepconv2[0][0]']       \n",
      " alization)                                                                                       \n",
      "                                                                                                  \n",
      " block14_sepconv2_act (Activati  (None, 7, 7, 2048)  0           ['block14_sepconv2_bn[0][0]']    \n",
      " on)                                                                                              \n",
      "                                                                                                  \n",
      " flatten (Flatten)              (None, 100352)       0           ['block14_sepconv2_act[0][0]']   \n",
      "                                                                                                  \n",
      " dense (Dense)                  (None, 4)            401412      ['flatten[0][0]']                \n",
      "                                                                                                  \n",
      "==================================================================================================\n",
      "Total params: 21,262,892\n",
      "Trainable params: 401,412\n",
      "Non-trainable params: 20,861,480\n",
      "__________________________________________________________________________________________________\n"
     ]
    }
   ],
   "source": [
    "model.summary()"
   ]
  },
  {
   "cell_type": "code",
   "execution_count": 11,
   "id": "dae7fb23",
   "metadata": {},
   "outputs": [],
   "source": [
    "model.compile(\n",
    "  loss='categorical_crossentropy',\n",
    "  optimizer='adam',\n",
    "  metrics=['accuracy']\n",
    ")"
   ]
  },
  {
   "cell_type": "code",
   "execution_count": 12,
   "id": "c1df778e",
   "metadata": {},
   "outputs": [],
   "source": [
    "from tensorflow.keras.preprocessing.image import ImageDataGenerator\n",
    "\n",
    "train_datagen = ImageDataGenerator(rescale = 1./255,\n",
    "                                   shear_range = 0.2,\n",
    "                                   zoom_range = 0.2,\n",
    "                                   horizontal_flip = True\n",
    "                                  )\n",
    "\n",
    "test_datagen = ImageDataGenerator(rescale = 1./255)"
   ]
  },
  {
   "cell_type": "code",
   "execution_count": 13,
   "id": "c9892d8c",
   "metadata": {},
   "outputs": [
    {
     "name": "stdout",
     "output_type": "stream",
     "text": [
      "Found 244 images belonging to 4 classes.\n"
     ]
    }
   ],
   "source": [
    "training_set = train_datagen.flow_from_directory('train',\n",
    "                                                 target_size = (224, 224),\n",
    "                                                 batch_size = 32,\n",
    "                                                 class_mode = 'categorical')"
   ]
  },
  {
   "cell_type": "code",
   "execution_count": 14,
   "id": "54e69606",
   "metadata": {},
   "outputs": [
    {
     "name": "stdout",
     "output_type": "stream",
     "text": [
      "Found 47 images belonging to 4 classes.\n"
     ]
    }
   ],
   "source": [
    "test_set = test_datagen.flow_from_directory('validation',\n",
    "                                            target_size = (224, 224),\n",
    "                                            batch_size = 32,\n",
    "                                            class_mode = 'categorical',shuffle=False)"
   ]
  },
  {
   "cell_type": "code",
   "execution_count": 15,
   "id": "45389d92",
   "metadata": {},
   "outputs": [
    {
     "data": {
      "text/plain": [
       "['Alzeimer\\\\ADNI_002_S_4521_MR_Axial_T2-Star__br_raw_20160324122521837_22_S402609_I662501.jpg',\n",
       " 'Alzeimer\\\\ADNI_006_S_4960_MR_Axial_T2-Star__br_raw_20151116142521022_22_S308848_I554365.jpg',\n",
       " 'Alzeimer\\\\ADNI_012_S_4094_MR_Axial_T2_STAR__br_raw_20170911112516152_22_S606978_I902073.jpg',\n",
       " 'Alzeimer\\\\ADNI_013_S_4395_MR_AXIAL_T2__STAR_br_raw_20160408152851491_22_S413787_I675059.jpg',\n",
       " 'Alzeimer\\\\ADNI_024_S_4169_MR_AXIAL_T2_STAR__br_raw_20150824183510226_22_S269703_I506435.jpg',\n",
       " 'Alzeimer\\\\ADNI_035_S_4114_MR_Axial_T2_STAR__br_raw_20180927135557122_22_S730896_I1053100.jpg',\n",
       " 'Alzeimer\\\\ADNI_037_S_4214_MR_Axial_T2_TSE_with_Fat_Sat__br_raw_20151016131541571_22_S285609_I527059.jpg',\n",
       " 'Alzeimer\\\\ADNI_037_S_4302_MR_AX_T2_STAR_br_raw_20151202134651542_22_S321070_I568501.jpg',\n",
       " 'Alzeimer\\\\ADNI_052_S_4626_MR_Axial_T2_Star__br_raw_20150416145050678_22_S255859_I487186.jpg',\n",
       " 'Alzeimer\\\\ADNI_057_S_4888_MR_Axial_T2_Star__br_raw_20160810162606039_22_S490606_I765318.jpg',\n",
       " 'Cognitive Impairment\\\\ADNI_032_S_6855_MR_Axial_T2_STAR__br_raw_20200224122920613_22_S927953_I1295282.jpg',\n",
       " 'Cognitive Impairment\\\\ADNI_036_S_6179_MR_Axial_3TE_T2_Star__br_raw_20190515103403689_22_S824115_I1165409.jpg',\n",
       " 'Cognitive Impairment\\\\ADNI_116_S_6100_MR_Axial_T2_Star__br_raw_20181220100416695_22_S763126_I1092332.jpg',\n",
       " 'Cognitive Impairment\\\\ADNI_116_S_6543_MR_Axial_T2_Star__br_raw_20180821112007867_22_S719355_I1038942.jpg',\n",
       " 'Cognitive Impairment\\\\ADNI_126_S_6683_MR_Axial_T2_Star__br_raw_20200224110729803_22_S926354_I1293351.jpg',\n",
       " 'Cognitive Impairment\\\\ADNI_127_S_6433_MR_Axial_T2_Star__br_raw_20180801164013628_22_S711666_I1029797.jpg',\n",
       " 'Cognitive Impairment\\\\ADNI_127_S_6433_MR_Axial_T2_Star__br_raw_20190913114507006_22_S873001_I1226435.jpg',\n",
       " 'Cognitive Impairment\\\\ADNI_127_S_6549_MR_Axial_T2_Star__br_raw_20181116093008542_22_S747764_I1073643.jpg',\n",
       " 'Cognitive Impairment\\\\ADNI_135_S_6389_MR_Axial_T2_Star__br_raw_20190710091135405_22_S839965_I1185265.jpg',\n",
       " 'Cognitive Impairment\\\\ADNI_135_S_6545_MR_Axial_T2_Star__br_raw_20180822113214388_22_S719964_I1039629.jpg',\n",
       " 'Cognitive Impairment\\\\ADNI_135_S_6545_MR_Axial_T2_Star__br_raw_20190913133956824_22_S873085_I1226542.jpg',\n",
       " 'Cognitive Impairment\\\\ADNI_135_S_6687_MR_Axial_T2_Star__br_raw_20190315105731023_22_S806441_I1142634.jpg',\n",
       " 'Cognitive Impairment\\\\ADNI_168_S_6735_MR_Axial_T2_STAR__br_raw_20190613143131224_22_S832132_I1175363.jpg',\n",
       " 'Cognitive Impairment\\\\ADNI_168_S_6735_MR_Axial_T2_STAR__br_raw_20190613143214927_22_S832133_I1175364.jpg',\n",
       " 'Cognitive Impairment\\\\ADNI_168_S_6754_MR_Axial_T2_STAR__br_raw_20190627165929283_22_S837150_I1181682.jpg',\n",
       " 'Cognitive Impairment\\\\ADNI_168_S_6827_MR_Axial_T2_STAR__br_raw_20191010161246022_22_S883154_I1239538.jpg',\n",
       " 'Cognitive Impairment\\\\ADNI_168_S_6843_MR_Axial_T2_STAR__br_raw_20200114153131813_22_S911954_I1275418.jpg',\n",
       " 'Stroke\\\\71 (16).jpg',\n",
       " 'Stroke\\\\71 (18).jpg',\n",
       " 'Stroke\\\\71 (20).jpg',\n",
       " 'Stroke\\\\71 (22).jpg',\n",
       " 'Stroke\\\\71 (24).jpg',\n",
       " 'Stroke\\\\71 (5).jpg',\n",
       " 'Stroke\\\\71 (6).jpg',\n",
       " 'Stroke\\\\72 (10).jpg',\n",
       " 'Stroke\\\\72 (7).jpg',\n",
       " 'Stroke\\\\72 (8).jpg',\n",
       " 'pituitary\\\\Te-pi_0043.jpg',\n",
       " 'pituitary\\\\Te-pi_0044.jpg',\n",
       " 'pituitary\\\\Te-pi_0045.jpg',\n",
       " 'pituitary\\\\Te-pi_0046.jpg',\n",
       " 'pituitary\\\\Te-pi_0047.jpg',\n",
       " 'pituitary\\\\Te-pi_0048.jpg',\n",
       " 'pituitary\\\\Te-pi_0049.jpg',\n",
       " 'pituitary\\\\Te-pi_0050.jpg',\n",
       " 'pituitary\\\\Te-pi_0051.jpg',\n",
       " 'pituitary\\\\Te-pi_0052.jpg']"
      ]
     },
     "execution_count": 15,
     "metadata": {},
     "output_type": "execute_result"
    }
   ],
   "source": [
    "test_set.filenames"
   ]
  },
  {
   "cell_type": "code",
   "execution_count": 16,
   "id": "071be42e",
   "metadata": {
    "scrolled": false
   },
   "outputs": [
    {
     "name": "stderr",
     "output_type": "stream",
     "text": [
      "C:\\Users\\HOME\\AppData\\Local\\Temp\\ipykernel_43728\\2336048694.py:1: UserWarning: `Model.fit_generator` is deprecated and will be removed in a future version. Please use `Model.fit`, which supports generators.\n",
      "  r = model.fit_generator(\n"
     ]
    },
    {
     "name": "stdout",
     "output_type": "stream",
     "text": [
      "Epoch 1/30\n",
      "8/8 [==============================] - 23s 973ms/step - loss: 3.1517 - accuracy: 0.5533 - val_loss: 1.3531 - val_accuracy: 0.7872\n",
      "Epoch 2/30\n",
      "8/8 [==============================] - 3s 315ms/step - loss: 0.6187 - accuracy: 0.8402 - val_loss: 1.5368 - val_accuracy: 0.7234\n",
      "Epoch 3/30\n",
      "8/8 [==============================] - 3s 315ms/step - loss: 0.9374 - accuracy: 0.8279 - val_loss: 1.7355 - val_accuracy: 0.7021\n",
      "Epoch 4/30\n",
      "8/8 [==============================] - 3s 315ms/step - loss: 0.6528 - accuracy: 0.8607 - val_loss: 1.0522 - val_accuracy: 0.8936\n",
      "Epoch 5/30\n",
      "8/8 [==============================] - 3s 311ms/step - loss: 0.4945 - accuracy: 0.8934 - val_loss: 1.1602 - val_accuracy: 0.9149\n",
      "Epoch 6/30\n",
      "8/8 [==============================] - 3s 309ms/step - loss: 0.6646 - accuracy: 0.8443 - val_loss: 1.2045 - val_accuracy: 0.9362\n",
      "Epoch 7/30\n",
      "8/8 [==============================] - 3s 315ms/step - loss: 0.3833 - accuracy: 0.8975 - val_loss: 1.7411 - val_accuracy: 0.7872\n",
      "Epoch 8/30\n",
      "8/8 [==============================] - 3s 320ms/step - loss: 0.2477 - accuracy: 0.9262 - val_loss: 1.5627 - val_accuracy: 0.8511\n",
      "Epoch 9/30\n",
      "8/8 [==============================] - 3s 310ms/step - loss: 0.1472 - accuracy: 0.9631 - val_loss: 2.0030 - val_accuracy: 0.7872\n",
      "Epoch 10/30\n",
      "8/8 [==============================] - 3s 319ms/step - loss: 0.1689 - accuracy: 0.9508 - val_loss: 1.3905 - val_accuracy: 0.8511\n",
      "Epoch 11/30\n",
      "8/8 [==============================] - 3s 315ms/step - loss: 0.2377 - accuracy: 0.9344 - val_loss: 1.3462 - val_accuracy: 0.8085\n",
      "Epoch 12/30\n",
      "8/8 [==============================] - 3s 309ms/step - loss: 0.1929 - accuracy: 0.9344 - val_loss: 1.2282 - val_accuracy: 0.9149\n",
      "Epoch 13/30\n",
      "8/8 [==============================] - 3s 311ms/step - loss: 0.1431 - accuracy: 0.9467 - val_loss: 1.1786 - val_accuracy: 0.9149\n",
      "Epoch 14/30\n",
      "8/8 [==============================] - 3s 316ms/step - loss: 0.1587 - accuracy: 0.9426 - val_loss: 1.4539 - val_accuracy: 0.8511\n",
      "Epoch 15/30\n",
      "8/8 [==============================] - 3s 315ms/step - loss: 0.1419 - accuracy: 0.9508 - val_loss: 1.2038 - val_accuracy: 0.9149\n",
      "Epoch 16/30\n",
      "8/8 [==============================] - 3s 314ms/step - loss: 0.1160 - accuracy: 0.9713 - val_loss: 1.1422 - val_accuracy: 0.8511\n",
      "Epoch 17/30\n",
      "8/8 [==============================] - 3s 320ms/step - loss: 0.2406 - accuracy: 0.9344 - val_loss: 1.6216 - val_accuracy: 0.7447\n",
      "Epoch 18/30\n",
      "8/8 [==============================] - 3s 309ms/step - loss: 0.1764 - accuracy: 0.9508 - val_loss: 1.2284 - val_accuracy: 0.8298\n",
      "Epoch 19/30\n",
      "8/8 [==============================] - 3s 315ms/step - loss: 0.1725 - accuracy: 0.9672 - val_loss: 1.5193 - val_accuracy: 0.8936\n",
      "Epoch 20/30\n",
      "8/8 [==============================] - 3s 314ms/step - loss: 0.0650 - accuracy: 0.9754 - val_loss: 1.3643 - val_accuracy: 0.8511\n",
      "Epoch 21/30\n",
      "8/8 [==============================] - 3s 314ms/step - loss: 0.0833 - accuracy: 0.9672 - val_loss: 1.4032 - val_accuracy: 0.8298\n",
      "Epoch 22/30\n",
      "8/8 [==============================] - 3s 321ms/step - loss: 0.0554 - accuracy: 0.9836 - val_loss: 1.2097 - val_accuracy: 0.8723\n",
      "Epoch 23/30\n",
      "8/8 [==============================] - 3s 317ms/step - loss: 0.0698 - accuracy: 0.9713 - val_loss: 1.1321 - val_accuracy: 0.8298\n",
      "Epoch 24/30\n",
      "8/8 [==============================] - 3s 315ms/step - loss: 0.1151 - accuracy: 0.9672 - val_loss: 1.3443 - val_accuracy: 0.8085\n",
      "Epoch 25/30\n",
      "8/8 [==============================] - 3s 318ms/step - loss: 0.1419 - accuracy: 0.9590 - val_loss: 1.0424 - val_accuracy: 0.8511\n",
      "Epoch 26/30\n",
      "8/8 [==============================] - 3s 315ms/step - loss: 0.1390 - accuracy: 0.9590 - val_loss: 0.8496 - val_accuracy: 0.8936\n",
      "Epoch 27/30\n",
      "8/8 [==============================] - 3s 308ms/step - loss: 0.0783 - accuracy: 0.9795 - val_loss: 1.2019 - val_accuracy: 0.8936\n",
      "Epoch 28/30\n",
      "8/8 [==============================] - 3s 313ms/step - loss: 0.0380 - accuracy: 0.9918 - val_loss: 1.2200 - val_accuracy: 0.8936\n",
      "Epoch 29/30\n",
      "8/8 [==============================] - 3s 315ms/step - loss: 0.0732 - accuracy: 0.9754 - val_loss: 0.9623 - val_accuracy: 0.8723\n",
      "Epoch 30/30\n",
      "8/8 [==============================] - 3s 319ms/step - loss: 0.0392 - accuracy: 0.9795 - val_loss: 1.0543 - val_accuracy: 0.9149\n"
     ]
    }
   ],
   "source": [
    "r = model.fit_generator(\n",
    "  training_set,\n",
    "  validation_data=test_set,\n",
    "  epochs=30,\n",
    "  steps_per_epoch=len(training_set),\n",
    "  validation_steps=len(test_set)\n",
    ")"
   ]
  },
  {
   "cell_type": "code",
   "execution_count": 17,
   "id": "3264515a",
   "metadata": {},
   "outputs": [],
   "source": [
    "import matplotlib.pyplot as plt"
   ]
  },
  {
   "cell_type": "code",
   "execution_count": 18,
   "id": "0ea215b0",
   "metadata": {},
   "outputs": [
    {
     "data": {
      "image/png": "[encoded data removed]",
      "text/plain": [
       "<Figure size 432x288 with 1 Axes>"
      ]
     },
     "metadata": {
      "needs_background": "light"
     },
     "output_type": "display_data"
    },
    {
     "data": {
      "text/plain": [
       "<Figure size 432x288 with 0 Axes>"
      ]
     },
     "metadata": {},
     "output_type": "display_data"
    }
   ],
   "source": [
    "plt.plot(r.history['loss'], label='train loss',color=\"black\")\n",
    "plt.plot(r.history['val_loss'], label='val loss',color=\"red\")\n",
    "plt.legend()\n",
    "plt.show()\n",
    "plt.savefig('LossVal_loss')\n",
    "\n",
    "\n"
   ]
  },
  {
   "cell_type": "code",
   "execution_count": 19,
   "id": "1e638605",
   "metadata": {},
   "outputs": [
    {
     "data": {
      "image/png": "[encoded data removed]",
      "text/plain": [
       "<Figure size 432x288 with 1 Axes>"
      ]
     },
     "metadata": {
      "needs_background": "light"
     },
     "output_type": "display_data"
    },
    {
     "data": {
      "text/plain": [
       "<Figure size 432x288 with 0 Axes>"
      ]
     },
     "metadata": {},
     "output_type": "display_data"
    }
   ],
   "source": [
    "plt.plot(r.history['accuracy'], label='train acc',color=\"black\")\n",
    "plt.plot(r.history['val_accuracy'], label='val acc',color=\"blue\")\n",
    "plt.legend()\n",
    "plt.show()\n",
    "plt.savefig('AccVal_acc')"
   ]
  },
  {
   "cell_type": "code",
   "execution_count": 20,
   "id": "d86ea216",
   "metadata": {},
   "outputs": [],
   "source": [
    "\n",
    "from tensorflow.keras.models import load_model\n",
    "model.save('model_xception.h5')\n"
   ]
  },
  {
   "cell_type": "code",
   "execution_count": 21,
   "id": "02b64530",
   "metadata": {},
   "outputs": [],
   "source": [
    "model=load_model('model_xception.h5')"
   ]
  },
  {
   "cell_type": "code",
   "execution_count": 22,
   "id": "55e4de44",
   "metadata": {},
   "outputs": [
    {
     "name": "stdout",
     "output_type": "stream",
     "text": [
      "2/2 [==============================] - 2s 361ms/step\n"
     ]
    },
    {
     "data": {
      "text/plain": [
       "array([[5.05352912e-11, 1.00000000e+00, 1.41811222e-16, 4.65870727e-38],\n",
       "       [8.12904596e-01, 1.87095404e-01, 8.51871708e-15, 8.69984060e-28],\n",
       "       [9.99978065e-01, 2.18975365e-05, 6.58269893e-14, 8.68416541e-35],\n",
       "       [9.99947429e-01, 5.25092655e-05, 1.54508049e-20, 3.08647992e-28],\n",
       "       [9.99927640e-01, 7.24051206e-05, 2.10849049e-14, 1.04578726e-29],\n",
       "       [9.94661272e-01, 5.33871632e-03, 2.12529316e-21, 1.03796306e-24],\n",
       "       [9.65391934e-01, 3.46081331e-02, 4.19801166e-10, 1.52665265e-28],\n",
       "       [1.10115650e-06, 9.99998927e-01, 2.08071803e-18, 3.25000490e-30],\n",
       "       [8.95897001e-02, 9.10410285e-01, 1.10095410e-22, 3.14770274e-21],\n",
       "       [9.99976277e-01, 2.37531240e-05, 5.51659158e-20, 1.07083056e-23],\n",
       "       [7.78401569e-02, 9.22159851e-01, 7.27222298e-21, 4.96308545e-36],\n",
       "       [1.53026935e-02, 9.84584391e-01, 1.12883579e-04, 3.72838592e-18],\n",
       "       [3.68500175e-03, 9.96315062e-01, 6.28767190e-20, 2.18425987e-31],\n",
       "       [1.32131914e-04, 9.99867797e-01, 6.67450550e-20, 0.00000000e+00],\n",
       "       [1.34561133e-05, 9.99986529e-01, 2.31707143e-21, 3.28696959e-30],\n",
       "       [9.99909878e-01, 9.01275343e-05, 6.31543932e-20, 5.60111193e-33],\n",
       "       [6.94625825e-03, 9.93053734e-01, 3.62580120e-19, 3.90969534e-30],\n",
       "       [5.49989194e-03, 9.94500041e-01, 1.60106553e-12, 5.81718353e-29],\n",
       "       [1.75027992e-04, 9.99825060e-01, 8.85968420e-23, 1.52515918e-26],\n",
       "       [1.07625392e-05, 9.99989271e-01, 1.97142909e-20, 6.81530054e-32],\n",
       "       [1.00983334e-05, 9.99989867e-01, 5.07442632e-19, 0.00000000e+00],\n",
       "       [8.96999808e-08, 9.99999881e-01, 4.00497877e-16, 4.76080772e-37],\n",
       "       [5.58009916e-10, 1.00000000e+00, 1.04291546e-20, 1.54358583e-31],\n",
       "       [7.49532319e-06, 9.99992490e-01, 3.40406845e-16, 5.49026655e-29],\n",
       "       [3.28496441e-07, 9.99999642e-01, 5.60675089e-16, 1.51529620e-30],\n",
       "       [3.48793790e-02, 9.65120554e-01, 1.68780865e-15, 1.37031129e-30],\n",
       "       [1.50013235e-04, 9.99849916e-01, 1.55195461e-18, 9.09617916e-29],\n",
       "       [1.09973093e-16, 3.63213518e-17, 1.00000000e+00, 1.24512035e-27],\n",
       "       [1.87103311e-24, 1.05308523e-21, 1.00000000e+00, 7.60842851e-34],\n",
       "       [5.31658706e-19, 1.49908295e-23, 1.00000000e+00, 3.94865068e-32],\n",
       "       [1.18971484e-15, 6.63570015e-14, 1.00000000e+00, 2.01440070e-29],\n",
       "       [9.97898297e-08, 2.15691827e-07, 9.99999642e-01, 4.67657748e-25],\n",
       "       [7.55034488e-26, 7.61750697e-22, 1.00000000e+00, 7.22932631e-22],\n",
       "       [1.31701484e-30, 1.25581564e-26, 1.00000000e+00, 4.45972428e-22],\n",
       "       [8.29494566e-30, 5.15242574e-33, 1.00000000e+00, 7.21615993e-36],\n",
       "       [4.43428738e-18, 1.95693872e-18, 1.00000000e+00, 3.56086527e-24],\n",
       "       [1.29826340e-24, 1.86388136e-31, 1.00000000e+00, 1.68057636e-33],\n",
       "       [4.88890576e-28, 2.34316175e-23, 4.14071133e-23, 1.00000000e+00],\n",
       "       [7.24512506e-20, 4.33644008e-20, 1.17808870e-25, 1.00000000e+00],\n",
       "       [6.26174967e-33, 4.05067015e-33, 9.47539665e-31, 1.00000000e+00],\n",
       "       [1.51945927e-29, 1.81655010e-30, 6.35325662e-32, 1.00000000e+00],\n",
       "       [1.43582546e-23, 3.11758918e-34, 1.26427822e-29, 1.00000000e+00],\n",
       "       [1.47098121e-29, 1.63528518e-38, 7.78417237e-32, 1.00000000e+00],\n",
       "       [2.31710479e-19, 5.33091934e-21, 4.42435211e-18, 1.00000000e+00],\n",
       "       [2.36375472e-32, 1.80757177e-29, 3.98025826e-32, 1.00000000e+00],\n",
       "       [2.16830909e-32, 0.00000000e+00, 0.00000000e+00, 1.00000000e+00],\n",
       "       [3.73275012e-17, 9.87128630e-24, 4.95274648e-28, 1.00000000e+00]],\n",
       "      dtype=float32)"
      ]
     },
     "execution_count": 22,
     "metadata": {},
     "output_type": "execute_result"
    }
   ],
   "source": [
    "y_pred = model.predict(test_set)\n",
    "y_pred"
   ]
  },
  {
   "cell_type": "code",
   "execution_count": 23,
   "id": "67be8dd3",
   "metadata": {},
   "outputs": [
    {
     "data": {
      "text/plain": [
       "array([1, 0, 0, 0, 0, 0, 0, 1, 1, 0, 1, 1, 1, 1, 1, 0, 1, 1, 1, 1, 1, 1,\n",
       "       1, 1, 1, 1, 1, 2, 2, 2, 2, 2, 2, 2, 2, 2, 2, 3, 3, 3, 3, 3, 3, 3,\n",
       "       3, 3, 3], dtype=int64)"
      ]
     },
     "execution_count": 23,
     "metadata": {},
     "output_type": "execute_result"
    }
   ],
   "source": [
    "import numpy as np\n",
    "y_pred = np.argmax(y_pred, axis=1)\n",
    "y_pred"
   ]
  },
  {
   "cell_type": "code",
   "execution_count": 24,
   "id": "ef1dc01b",
   "metadata": {},
   "outputs": [],
   "source": [
    "import os\n",
    "path ='validation'\n",
    "Diseases_types=os.listdir(path)"
   ]
  },
  {
   "cell_type": "code",
   "execution_count": 25,
   "id": "473e46bf",
   "metadata": {},
   "outputs": [
    {
     "name": "stdout",
     "output_type": "stream",
     "text": [
      "['Alzeimer']\n",
      "['Alzeimer', 'Alzeimer']\n",
      "['Alzeimer', 'Alzeimer', 'Alzeimer']\n",
      "['Alzeimer', 'Alzeimer', 'Alzeimer', 'Alzeimer']\n",
      "['Alzeimer', 'Alzeimer', 'Alzeimer', 'Alzeimer', 'Alzeimer']\n",
      "['Alzeimer', 'Alzeimer', 'Alzeimer', 'Alzeimer', 'Alzeimer', 'Alzeimer']\n",
      "['Alzeimer', 'Alzeimer', 'Alzeimer', 'Alzeimer', 'Alzeimer', 'Alzeimer', 'Alzeimer']\n",
      "['Alzeimer', 'Alzeimer', 'Alzeimer', 'Alzeimer', 'Alzeimer', 'Alzeimer', 'Alzeimer', 'Alzeimer']\n",
      "['Alzeimer', 'Alzeimer', 'Alzeimer', 'Alzeimer', 'Alzeimer', 'Alzeimer', 'Alzeimer', 'Alzeimer', 'Alzeimer']\n",
      "['Alzeimer', 'Alzeimer', 'Alzeimer', 'Alzeimer', 'Alzeimer', 'Alzeimer', 'Alzeimer', 'Alzeimer', 'Alzeimer', 'Alzeimer']\n",
      "['Alzeimer', 'Alzeimer', 'Alzeimer', 'Alzeimer', 'Alzeimer', 'Alzeimer', 'Alzeimer', 'Alzeimer', 'Alzeimer', 'Alzeimer', 'Cognitive Impairment']\n",
      "['Alzeimer', 'Alzeimer', 'Alzeimer', 'Alzeimer', 'Alzeimer', 'Alzeimer', 'Alzeimer', 'Alzeimer', 'Alzeimer', 'Alzeimer', 'Cognitive Impairment', 'Cognitive Impairment']\n",
      "['Alzeimer', 'Alzeimer', 'Alzeimer', 'Alzeimer', 'Alzeimer', 'Alzeimer', 'Alzeimer', 'Alzeimer', 'Alzeimer', 'Alzeimer', 'Cognitive Impairment', 'Cognitive Impairment', 'Cognitive Impairment']\n",
      "['Alzeimer', 'Alzeimer', 'Alzeimer', 'Alzeimer', 'Alzeimer', 'Alzeimer', 'Alzeimer', 'Alzeimer', 'Alzeimer', 'Alzeimer', 'Cognitive Impairment', 'Cognitive Impairment', 'Cognitive Impairment', 'Cognitive Impairment']\n",
      "['Alzeimer', 'Alzeimer', 'Alzeimer', 'Alzeimer', 'Alzeimer', 'Alzeimer', 'Alzeimer', 'Alzeimer', 'Alzeimer', 'Alzeimer', 'Cognitive Impairment', 'Cognitive Impairment', 'Cognitive Impairment', 'Cognitive Impairment', 'Cognitive Impairment']\n",
      "['Alzeimer', 'Alzeimer', 'Alzeimer', 'Alzeimer', 'Alzeimer', 'Alzeimer', 'Alzeimer', 'Alzeimer', 'Alzeimer', 'Alzeimer', 'Cognitive Impairment', 'Cognitive Impairment', 'Cognitive Impairment', 'Cognitive Impairment', 'Cognitive Impairment', 'Cognitive Impairment']\n",
      "['Alzeimer', 'Alzeimer', 'Alzeimer', 'Alzeimer', 'Alzeimer', 'Alzeimer', 'Alzeimer', 'Alzeimer', 'Alzeimer', 'Alzeimer', 'Cognitive Impairment', 'Cognitive Impairment', 'Cognitive Impairment', 'Cognitive Impairment', 'Cognitive Impairment', 'Cognitive Impairment', 'Cognitive Impairment']\n",
      "['Alzeimer', 'Alzeimer', 'Alzeimer', 'Alzeimer', 'Alzeimer', 'Alzeimer', 'Alzeimer', 'Alzeimer', 'Alzeimer', 'Alzeimer', 'Cognitive Impairment', 'Cognitive Impairment', 'Cognitive Impairment', 'Cognitive Impairment', 'Cognitive Impairment', 'Cognitive Impairment', 'Cognitive Impairment', 'Cognitive Impairment']\n",
      "['Alzeimer', 'Alzeimer', 'Alzeimer', 'Alzeimer', 'Alzeimer', 'Alzeimer', 'Alzeimer', 'Alzeimer', 'Alzeimer', 'Alzeimer', 'Cognitive Impairment', 'Cognitive Impairment', 'Cognitive Impairment', 'Cognitive Impairment', 'Cognitive Impairment', 'Cognitive Impairment', 'Cognitive Impairment', 'Cognitive Impairment', 'Cognitive Impairment']\n",
      "['Alzeimer', 'Alzeimer', 'Alzeimer', 'Alzeimer', 'Alzeimer', 'Alzeimer', 'Alzeimer', 'Alzeimer', 'Alzeimer', 'Alzeimer', 'Cognitive Impairment', 'Cognitive Impairment', 'Cognitive Impairment', 'Cognitive Impairment', 'Cognitive Impairment', 'Cognitive Impairment', 'Cognitive Impairment', 'Cognitive Impairment', 'Cognitive Impairment', 'Cognitive Impairment']\n",
      "['Alzeimer', 'Alzeimer', 'Alzeimer', 'Alzeimer', 'Alzeimer', 'Alzeimer', 'Alzeimer', 'Alzeimer', 'Alzeimer', 'Alzeimer', 'Cognitive Impairment', 'Cognitive Impairment', 'Cognitive Impairment', 'Cognitive Impairment', 'Cognitive Impairment', 'Cognitive Impairment', 'Cognitive Impairment', 'Cognitive Impairment', 'Cognitive Impairment', 'Cognitive Impairment', 'Cognitive Impairment']\n",
      "['Alzeimer', 'Alzeimer', 'Alzeimer', 'Alzeimer', 'Alzeimer', 'Alzeimer', 'Alzeimer', 'Alzeimer', 'Alzeimer', 'Alzeimer', 'Cognitive Impairment', 'Cognitive Impairment', 'Cognitive Impairment', 'Cognitive Impairment', 'Cognitive Impairment', 'Cognitive Impairment', 'Cognitive Impairment', 'Cognitive Impairment', 'Cognitive Impairment', 'Cognitive Impairment', 'Cognitive Impairment', 'Cognitive Impairment']\n",
      "['Alzeimer', 'Alzeimer', 'Alzeimer', 'Alzeimer', 'Alzeimer', 'Alzeimer', 'Alzeimer', 'Alzeimer', 'Alzeimer', 'Alzeimer', 'Cognitive Impairment', 'Cognitive Impairment', 'Cognitive Impairment', 'Cognitive Impairment', 'Cognitive Impairment', 'Cognitive Impairment', 'Cognitive Impairment', 'Cognitive Impairment', 'Cognitive Impairment', 'Cognitive Impairment', 'Cognitive Impairment', 'Cognitive Impairment', 'Cognitive Impairment']\n",
      "['Alzeimer', 'Alzeimer', 'Alzeimer', 'Alzeimer', 'Alzeimer', 'Alzeimer', 'Alzeimer', 'Alzeimer', 'Alzeimer', 'Alzeimer', 'Cognitive Impairment', 'Cognitive Impairment', 'Cognitive Impairment', 'Cognitive Impairment', 'Cognitive Impairment', 'Cognitive Impairment', 'Cognitive Impairment', 'Cognitive Impairment', 'Cognitive Impairment', 'Cognitive Impairment', 'Cognitive Impairment', 'Cognitive Impairment', 'Cognitive Impairment', 'Cognitive Impairment']\n",
      "['Alzeimer', 'Alzeimer', 'Alzeimer', 'Alzeimer', 'Alzeimer', 'Alzeimer', 'Alzeimer', 'Alzeimer', 'Alzeimer', 'Alzeimer', 'Cognitive Impairment', 'Cognitive Impairment', 'Cognitive Impairment', 'Cognitive Impairment', 'Cognitive Impairment', 'Cognitive Impairment', 'Cognitive Impairment', 'Cognitive Impairment', 'Cognitive Impairment', 'Cognitive Impairment', 'Cognitive Impairment', 'Cognitive Impairment', 'Cognitive Impairment', 'Cognitive Impairment', 'Cognitive Impairment']\n",
      "['Alzeimer', 'Alzeimer', 'Alzeimer', 'Alzeimer', 'Alzeimer', 'Alzeimer', 'Alzeimer', 'Alzeimer', 'Alzeimer', 'Alzeimer', 'Cognitive Impairment', 'Cognitive Impairment', 'Cognitive Impairment', 'Cognitive Impairment', 'Cognitive Impairment', 'Cognitive Impairment', 'Cognitive Impairment', 'Cognitive Impairment', 'Cognitive Impairment', 'Cognitive Impairment', 'Cognitive Impairment', 'Cognitive Impairment', 'Cognitive Impairment', 'Cognitive Impairment', 'Cognitive Impairment', 'Cognitive Impairment']\n",
      "['Alzeimer', 'Alzeimer', 'Alzeimer', 'Alzeimer', 'Alzeimer', 'Alzeimer', 'Alzeimer', 'Alzeimer', 'Alzeimer', 'Alzeimer', 'Cognitive Impairment', 'Cognitive Impairment', 'Cognitive Impairment', 'Cognitive Impairment', 'Cognitive Impairment', 'Cognitive Impairment', 'Cognitive Impairment', 'Cognitive Impairment', 'Cognitive Impairment', 'Cognitive Impairment', 'Cognitive Impairment', 'Cognitive Impairment', 'Cognitive Impairment', 'Cognitive Impairment', 'Cognitive Impairment', 'Cognitive Impairment', 'Cognitive Impairment']\n",
      "['Alzeimer', 'Alzeimer', 'Alzeimer', 'Alzeimer', 'Alzeimer', 'Alzeimer', 'Alzeimer', 'Alzeimer', 'Alzeimer', 'Alzeimer', 'Cognitive Impairment', 'Cognitive Impairment', 'Cognitive Impairment', 'Cognitive Impairment', 'Cognitive Impairment', 'Cognitive Impairment', 'Cognitive Impairment', 'Cognitive Impairment', 'Cognitive Impairment', 'Cognitive Impairment', 'Cognitive Impairment', 'Cognitive Impairment', 'Cognitive Impairment', 'Cognitive Impairment', 'Cognitive Impairment', 'Cognitive Impairment', 'Cognitive Impairment', 'pituitary']\n",
      "['Alzeimer', 'Alzeimer', 'Alzeimer', 'Alzeimer', 'Alzeimer', 'Alzeimer', 'Alzeimer', 'Alzeimer', 'Alzeimer', 'Alzeimer', 'Cognitive Impairment', 'Cognitive Impairment', 'Cognitive Impairment', 'Cognitive Impairment', 'Cognitive Impairment', 'Cognitive Impairment', 'Cognitive Impairment', 'Cognitive Impairment', 'Cognitive Impairment', 'Cognitive Impairment', 'Cognitive Impairment', 'Cognitive Impairment', 'Cognitive Impairment', 'Cognitive Impairment', 'Cognitive Impairment', 'Cognitive Impairment', 'Cognitive Impairment', 'pituitary', 'pituitary']\n",
      "['Alzeimer', 'Alzeimer', 'Alzeimer', 'Alzeimer', 'Alzeimer', 'Alzeimer', 'Alzeimer', 'Alzeimer', 'Alzeimer', 'Alzeimer', 'Cognitive Impairment', 'Cognitive Impairment', 'Cognitive Impairment', 'Cognitive Impairment', 'Cognitive Impairment', 'Cognitive Impairment', 'Cognitive Impairment', 'Cognitive Impairment', 'Cognitive Impairment', 'Cognitive Impairment', 'Cognitive Impairment', 'Cognitive Impairment', 'Cognitive Impairment', 'Cognitive Impairment', 'Cognitive Impairment', 'Cognitive Impairment', 'Cognitive Impairment', 'pituitary', 'pituitary', 'pituitary']\n",
      "['Alzeimer', 'Alzeimer', 'Alzeimer', 'Alzeimer', 'Alzeimer', 'Alzeimer', 'Alzeimer', 'Alzeimer', 'Alzeimer', 'Alzeimer', 'Cognitive Impairment', 'Cognitive Impairment', 'Cognitive Impairment', 'Cognitive Impairment', 'Cognitive Impairment', 'Cognitive Impairment', 'Cognitive Impairment', 'Cognitive Impairment', 'Cognitive Impairment', 'Cognitive Impairment', 'Cognitive Impairment', 'Cognitive Impairment', 'Cognitive Impairment', 'Cognitive Impairment', 'Cognitive Impairment', 'Cognitive Impairment', 'Cognitive Impairment', 'pituitary', 'pituitary', 'pituitary', 'pituitary']\n",
      "['Alzeimer', 'Alzeimer', 'Alzeimer', 'Alzeimer', 'Alzeimer', 'Alzeimer', 'Alzeimer', 'Alzeimer', 'Alzeimer', 'Alzeimer', 'Cognitive Impairment', 'Cognitive Impairment', 'Cognitive Impairment', 'Cognitive Impairment', 'Cognitive Impairment', 'Cognitive Impairment', 'Cognitive Impairment', 'Cognitive Impairment', 'Cognitive Impairment', 'Cognitive Impairment', 'Cognitive Impairment', 'Cognitive Impairment', 'Cognitive Impairment', 'Cognitive Impairment', 'Cognitive Impairment', 'Cognitive Impairment', 'Cognitive Impairment', 'pituitary', 'pituitary', 'pituitary', 'pituitary', 'pituitary']\n",
      "['Alzeimer', 'Alzeimer', 'Alzeimer', 'Alzeimer', 'Alzeimer', 'Alzeimer', 'Alzeimer', 'Alzeimer', 'Alzeimer', 'Alzeimer', 'Cognitive Impairment', 'Cognitive Impairment', 'Cognitive Impairment', 'Cognitive Impairment', 'Cognitive Impairment', 'Cognitive Impairment', 'Cognitive Impairment', 'Cognitive Impairment', 'Cognitive Impairment', 'Cognitive Impairment', 'Cognitive Impairment', 'Cognitive Impairment', 'Cognitive Impairment', 'Cognitive Impairment', 'Cognitive Impairment', 'Cognitive Impairment', 'Cognitive Impairment', 'pituitary', 'pituitary', 'pituitary', 'pituitary', 'pituitary', 'pituitary']\n",
      "['Alzeimer', 'Alzeimer', 'Alzeimer', 'Alzeimer', 'Alzeimer', 'Alzeimer', 'Alzeimer', 'Alzeimer', 'Alzeimer', 'Alzeimer', 'Cognitive Impairment', 'Cognitive Impairment', 'Cognitive Impairment', 'Cognitive Impairment', 'Cognitive Impairment', 'Cognitive Impairment', 'Cognitive Impairment', 'Cognitive Impairment', 'Cognitive Impairment', 'Cognitive Impairment', 'Cognitive Impairment', 'Cognitive Impairment', 'Cognitive Impairment', 'Cognitive Impairment', 'Cognitive Impairment', 'Cognitive Impairment', 'Cognitive Impairment', 'pituitary', 'pituitary', 'pituitary', 'pituitary', 'pituitary', 'pituitary', 'pituitary']\n",
      "['Alzeimer', 'Alzeimer', 'Alzeimer', 'Alzeimer', 'Alzeimer', 'Alzeimer', 'Alzeimer', 'Alzeimer', 'Alzeimer', 'Alzeimer', 'Cognitive Impairment', 'Cognitive Impairment', 'Cognitive Impairment', 'Cognitive Impairment', 'Cognitive Impairment', 'Cognitive Impairment', 'Cognitive Impairment', 'Cognitive Impairment', 'Cognitive Impairment', 'Cognitive Impairment', 'Cognitive Impairment', 'Cognitive Impairment', 'Cognitive Impairment', 'Cognitive Impairment', 'Cognitive Impairment', 'Cognitive Impairment', 'Cognitive Impairment', 'pituitary', 'pituitary', 'pituitary', 'pituitary', 'pituitary', 'pituitary', 'pituitary', 'pituitary']\n",
      "['Alzeimer', 'Alzeimer', 'Alzeimer', 'Alzeimer', 'Alzeimer', 'Alzeimer', 'Alzeimer', 'Alzeimer', 'Alzeimer', 'Alzeimer', 'Cognitive Impairment', 'Cognitive Impairment', 'Cognitive Impairment', 'Cognitive Impairment', 'Cognitive Impairment', 'Cognitive Impairment', 'Cognitive Impairment', 'Cognitive Impairment', 'Cognitive Impairment', 'Cognitive Impairment', 'Cognitive Impairment', 'Cognitive Impairment', 'Cognitive Impairment', 'Cognitive Impairment', 'Cognitive Impairment', 'Cognitive Impairment', 'Cognitive Impairment', 'pituitary', 'pituitary', 'pituitary', 'pituitary', 'pituitary', 'pituitary', 'pituitary', 'pituitary', 'pituitary']\n",
      "['Alzeimer', 'Alzeimer', 'Alzeimer', 'Alzeimer', 'Alzeimer', 'Alzeimer', 'Alzeimer', 'Alzeimer', 'Alzeimer', 'Alzeimer', 'Cognitive Impairment', 'Cognitive Impairment', 'Cognitive Impairment', 'Cognitive Impairment', 'Cognitive Impairment', 'Cognitive Impairment', 'Cognitive Impairment', 'Cognitive Impairment', 'Cognitive Impairment', 'Cognitive Impairment', 'Cognitive Impairment', 'Cognitive Impairment', 'Cognitive Impairment', 'Cognitive Impairment', 'Cognitive Impairment', 'Cognitive Impairment', 'Cognitive Impairment', 'pituitary', 'pituitary', 'pituitary', 'pituitary', 'pituitary', 'pituitary', 'pituitary', 'pituitary', 'pituitary', 'pituitary']\n",
      "['Alzeimer', 'Alzeimer', 'Alzeimer', 'Alzeimer', 'Alzeimer', 'Alzeimer', 'Alzeimer', 'Alzeimer', 'Alzeimer', 'Alzeimer', 'Cognitive Impairment', 'Cognitive Impairment', 'Cognitive Impairment', 'Cognitive Impairment', 'Cognitive Impairment', 'Cognitive Impairment', 'Cognitive Impairment', 'Cognitive Impairment', 'Cognitive Impairment', 'Cognitive Impairment', 'Cognitive Impairment', 'Cognitive Impairment', 'Cognitive Impairment', 'Cognitive Impairment', 'Cognitive Impairment', 'Cognitive Impairment', 'Cognitive Impairment', 'pituitary', 'pituitary', 'pituitary', 'pituitary', 'pituitary', 'pituitary', 'pituitary', 'pituitary', 'pituitary', 'pituitary', 'Stroke']\n",
      "['Alzeimer', 'Alzeimer', 'Alzeimer', 'Alzeimer', 'Alzeimer', 'Alzeimer', 'Alzeimer', 'Alzeimer', 'Alzeimer', 'Alzeimer', 'Cognitive Impairment', 'Cognitive Impairment', 'Cognitive Impairment', 'Cognitive Impairment', 'Cognitive Impairment', 'Cognitive Impairment', 'Cognitive Impairment', 'Cognitive Impairment', 'Cognitive Impairment', 'Cognitive Impairment', 'Cognitive Impairment', 'Cognitive Impairment', 'Cognitive Impairment', 'Cognitive Impairment', 'Cognitive Impairment', 'Cognitive Impairment', 'Cognitive Impairment', 'pituitary', 'pituitary', 'pituitary', 'pituitary', 'pituitary', 'pituitary', 'pituitary', 'pituitary', 'pituitary', 'pituitary', 'Stroke', 'Stroke']\n",
      "['Alzeimer', 'Alzeimer', 'Alzeimer', 'Alzeimer', 'Alzeimer', 'Alzeimer', 'Alzeimer', 'Alzeimer', 'Alzeimer', 'Alzeimer', 'Cognitive Impairment', 'Cognitive Impairment', 'Cognitive Impairment', 'Cognitive Impairment', 'Cognitive Impairment', 'Cognitive Impairment', 'Cognitive Impairment', 'Cognitive Impairment', 'Cognitive Impairment', 'Cognitive Impairment', 'Cognitive Impairment', 'Cognitive Impairment', 'Cognitive Impairment', 'Cognitive Impairment', 'Cognitive Impairment', 'Cognitive Impairment', 'Cognitive Impairment', 'pituitary', 'pituitary', 'pituitary', 'pituitary', 'pituitary', 'pituitary', 'pituitary', 'pituitary', 'pituitary', 'pituitary', 'Stroke', 'Stroke', 'Stroke']\n",
      "['Alzeimer', 'Alzeimer', 'Alzeimer', 'Alzeimer', 'Alzeimer', 'Alzeimer', 'Alzeimer', 'Alzeimer', 'Alzeimer', 'Alzeimer', 'Cognitive Impairment', 'Cognitive Impairment', 'Cognitive Impairment', 'Cognitive Impairment', 'Cognitive Impairment', 'Cognitive Impairment', 'Cognitive Impairment', 'Cognitive Impairment', 'Cognitive Impairment', 'Cognitive Impairment', 'Cognitive Impairment', 'Cognitive Impairment', 'Cognitive Impairment', 'Cognitive Impairment', 'Cognitive Impairment', 'Cognitive Impairment', 'Cognitive Impairment', 'pituitary', 'pituitary', 'pituitary', 'pituitary', 'pituitary', 'pituitary', 'pituitary', 'pituitary', 'pituitary', 'pituitary', 'Stroke', 'Stroke', 'Stroke', 'Stroke']\n",
      "['Alzeimer', 'Alzeimer', 'Alzeimer', 'Alzeimer', 'Alzeimer', 'Alzeimer', 'Alzeimer', 'Alzeimer', 'Alzeimer', 'Alzeimer', 'Cognitive Impairment', 'Cognitive Impairment', 'Cognitive Impairment', 'Cognitive Impairment', 'Cognitive Impairment', 'Cognitive Impairment', 'Cognitive Impairment', 'Cognitive Impairment', 'Cognitive Impairment', 'Cognitive Impairment', 'Cognitive Impairment', 'Cognitive Impairment', 'Cognitive Impairment', 'Cognitive Impairment', 'Cognitive Impairment', 'Cognitive Impairment', 'Cognitive Impairment', 'pituitary', 'pituitary', 'pituitary', 'pituitary', 'pituitary', 'pituitary', 'pituitary', 'pituitary', 'pituitary', 'pituitary', 'Stroke', 'Stroke', 'Stroke', 'Stroke', 'Stroke']\n",
      "['Alzeimer', 'Alzeimer', 'Alzeimer', 'Alzeimer', 'Alzeimer', 'Alzeimer', 'Alzeimer', 'Alzeimer', 'Alzeimer', 'Alzeimer', 'Cognitive Impairment', 'Cognitive Impairment', 'Cognitive Impairment', 'Cognitive Impairment', 'Cognitive Impairment', 'Cognitive Impairment', 'Cognitive Impairment', 'Cognitive Impairment', 'Cognitive Impairment', 'Cognitive Impairment', 'Cognitive Impairment', 'Cognitive Impairment', 'Cognitive Impairment', 'Cognitive Impairment', 'Cognitive Impairment', 'Cognitive Impairment', 'Cognitive Impairment', 'pituitary', 'pituitary', 'pituitary', 'pituitary', 'pituitary', 'pituitary', 'pituitary', 'pituitary', 'pituitary', 'pituitary', 'Stroke', 'Stroke', 'Stroke', 'Stroke', 'Stroke', 'Stroke']\n",
      "['Alzeimer', 'Alzeimer', 'Alzeimer', 'Alzeimer', 'Alzeimer', 'Alzeimer', 'Alzeimer', 'Alzeimer', 'Alzeimer', 'Alzeimer', 'Cognitive Impairment', 'Cognitive Impairment', 'Cognitive Impairment', 'Cognitive Impairment', 'Cognitive Impairment', 'Cognitive Impairment', 'Cognitive Impairment', 'Cognitive Impairment', 'Cognitive Impairment', 'Cognitive Impairment', 'Cognitive Impairment', 'Cognitive Impairment', 'Cognitive Impairment', 'Cognitive Impairment', 'Cognitive Impairment', 'Cognitive Impairment', 'Cognitive Impairment', 'pituitary', 'pituitary', 'pituitary', 'pituitary', 'pituitary', 'pituitary', 'pituitary', 'pituitary', 'pituitary', 'pituitary', 'Stroke', 'Stroke', 'Stroke', 'Stroke', 'Stroke', 'Stroke', 'Stroke']\n",
      "['Alzeimer', 'Alzeimer', 'Alzeimer', 'Alzeimer', 'Alzeimer', 'Alzeimer', 'Alzeimer', 'Alzeimer', 'Alzeimer', 'Alzeimer', 'Cognitive Impairment', 'Cognitive Impairment', 'Cognitive Impairment', 'Cognitive Impairment', 'Cognitive Impairment', 'Cognitive Impairment', 'Cognitive Impairment', 'Cognitive Impairment', 'Cognitive Impairment', 'Cognitive Impairment', 'Cognitive Impairment', 'Cognitive Impairment', 'Cognitive Impairment', 'Cognitive Impairment', 'Cognitive Impairment', 'Cognitive Impairment', 'Cognitive Impairment', 'pituitary', 'pituitary', 'pituitary', 'pituitary', 'pituitary', 'pituitary', 'pituitary', 'pituitary', 'pituitary', 'pituitary', 'Stroke', 'Stroke', 'Stroke', 'Stroke', 'Stroke', 'Stroke', 'Stroke', 'Stroke']\n",
      "['Alzeimer', 'Alzeimer', 'Alzeimer', 'Alzeimer', 'Alzeimer', 'Alzeimer', 'Alzeimer', 'Alzeimer', 'Alzeimer', 'Alzeimer', 'Cognitive Impairment', 'Cognitive Impairment', 'Cognitive Impairment', 'Cognitive Impairment', 'Cognitive Impairment', 'Cognitive Impairment', 'Cognitive Impairment', 'Cognitive Impairment', 'Cognitive Impairment', 'Cognitive Impairment', 'Cognitive Impairment', 'Cognitive Impairment', 'Cognitive Impairment', 'Cognitive Impairment', 'Cognitive Impairment', 'Cognitive Impairment', 'Cognitive Impairment', 'pituitary', 'pituitary', 'pituitary', 'pituitary', 'pituitary', 'pituitary', 'pituitary', 'pituitary', 'pituitary', 'pituitary', 'Stroke', 'Stroke', 'Stroke', 'Stroke', 'Stroke', 'Stroke', 'Stroke', 'Stroke', 'Stroke']\n",
      "['Alzeimer', 'Alzeimer', 'Alzeimer', 'Alzeimer', 'Alzeimer', 'Alzeimer', 'Alzeimer', 'Alzeimer', 'Alzeimer', 'Alzeimer', 'Cognitive Impairment', 'Cognitive Impairment', 'Cognitive Impairment', 'Cognitive Impairment', 'Cognitive Impairment', 'Cognitive Impairment', 'Cognitive Impairment', 'Cognitive Impairment', 'Cognitive Impairment', 'Cognitive Impairment', 'Cognitive Impairment', 'Cognitive Impairment', 'Cognitive Impairment', 'Cognitive Impairment', 'Cognitive Impairment', 'Cognitive Impairment', 'Cognitive Impairment', 'pituitary', 'pituitary', 'pituitary', 'pituitary', 'pituitary', 'pituitary', 'pituitary', 'pituitary', 'pituitary', 'pituitary', 'Stroke', 'Stroke', 'Stroke', 'Stroke', 'Stroke', 'Stroke', 'Stroke', 'Stroke', 'Stroke', 'Stroke']\n"
     ]
    }
   ],
   "source": [
    "diseases = []\n",
    "for i in Diseases_types:\n",
    "  all_images = os.listdir(path + '/' +i)\n",
    "\n",
    "  for j in all_images :\n",
    "    diseases.append((i))\n",
    "    print (diseases)"
   ]
  },
  {
   "cell_type": "code",
   "execution_count": 26,
   "id": "084a69d7",
   "metadata": {},
   "outputs": [
    {
     "data": {
      "text/plain": [
       "['Alzeimer',\n",
       " 'Alzeimer',\n",
       " 'Alzeimer',\n",
       " 'Alzeimer',\n",
       " 'Alzeimer',\n",
       " 'Alzeimer',\n",
       " 'Alzeimer',\n",
       " 'Alzeimer',\n",
       " 'Alzeimer',\n",
       " 'Alzeimer',\n",
       " 'Cognitive Impairment',\n",
       " 'Cognitive Impairment',\n",
       " 'Cognitive Impairment',\n",
       " 'Cognitive Impairment',\n",
       " 'Cognitive Impairment',\n",
       " 'Cognitive Impairment',\n",
       " 'Cognitive Impairment',\n",
       " 'Cognitive Impairment',\n",
       " 'Cognitive Impairment',\n",
       " 'Cognitive Impairment',\n",
       " 'Cognitive Impairment',\n",
       " 'Cognitive Impairment',\n",
       " 'Cognitive Impairment',\n",
       " 'Cognitive Impairment',\n",
       " 'Cognitive Impairment',\n",
       " 'Cognitive Impairment',\n",
       " 'Cognitive Impairment',\n",
       " 'pituitary',\n",
       " 'pituitary',\n",
       " 'pituitary',\n",
       " 'pituitary',\n",
       " 'pituitary',\n",
       " 'pituitary',\n",
       " 'pituitary',\n",
       " 'pituitary',\n",
       " 'pituitary',\n",
       " 'pituitary',\n",
       " 'Stroke',\n",
       " 'Stroke',\n",
       " 'Stroke',\n",
       " 'Stroke',\n",
       " 'Stroke',\n",
       " 'Stroke',\n",
       " 'Stroke',\n",
       " 'Stroke',\n",
       " 'Stroke',\n",
       " 'Stroke']"
      ]
     },
     "execution_count": 26,
     "metadata": {},
     "output_type": "execute_result"
    }
   ],
   "source": [
    "diseases"
   ]
  },
  {
   "cell_type": "code",
   "execution_count": 27,
   "id": "4fd7c25a",
   "metadata": {},
   "outputs": [],
   "source": [
    "from sklearn.preprocessing import LabelEncoder\n",
    "diseases = np.array(diseases)\n",
    "diseases.reshape(47,-1)\n",
    "y_labelencoder = LabelEncoder()\n",
    "\n"
   ]
  },
  {
   "cell_type": "code",
   "execution_count": 28,
   "id": "5720b4eb",
   "metadata": {},
   "outputs": [
    {
     "data": {
      "text/plain": [
       "array(['Alzeimer', 'Alzeimer', 'Alzeimer', 'Alzeimer', 'Alzeimer',\n",
       "       'Alzeimer', 'Alzeimer', 'Alzeimer', 'Alzeimer', 'Alzeimer',\n",
       "       'Cognitive Impairment', 'Cognitive Impairment',\n",
       "       'Cognitive Impairment', 'Cognitive Impairment',\n",
       "       'Cognitive Impairment', 'Cognitive Impairment',\n",
       "       'Cognitive Impairment', 'Cognitive Impairment',\n",
       "       'Cognitive Impairment', 'Cognitive Impairment',\n",
       "       'Cognitive Impairment', 'Cognitive Impairment',\n",
       "       'Cognitive Impairment', 'Cognitive Impairment',\n",
       "       'Cognitive Impairment', 'Cognitive Impairment',\n",
       "       'Cognitive Impairment', 'pituitary', 'pituitary', 'pituitary',\n",
       "       'pituitary', 'pituitary', 'pituitary', 'pituitary', 'pituitary',\n",
       "       'pituitary', 'pituitary', 'Stroke', 'Stroke', 'Stroke', 'Stroke',\n",
       "       'Stroke', 'Stroke', 'Stroke', 'Stroke', 'Stroke', 'Stroke'],\n",
       "      dtype='<U20')"
      ]
     },
     "execution_count": 28,
     "metadata": {},
     "output_type": "execute_result"
    }
   ],
   "source": [
    "diseases"
   ]
  },
  {
   "cell_type": "code",
   "execution_count": 29,
   "id": "03aa8ebe",
   "metadata": {},
   "outputs": [],
   "source": [
    "y_test = y_labelencoder.fit_transform (diseases)\n",
    "y_test = np.array([0, 0, 0, 0, 0, 0, 0, 0, 0, 0, 1, 1, 1, 1, 1, 1, 1, 1, 1, 1, 1, 1,\n",
    "       1, 1, 1, 1, 1, 2, 2, 2, 2, 2, 2, 2,\n",
    "       2, 2, 2, 3, 3, 3, 3, 3, 3, 3, 3, 3, 3])"
   ]
  },
  {
   "cell_type": "code",
   "execution_count": 30,
   "id": "2e45a1ed",
   "metadata": {},
   "outputs": [
    {
     "data": {
      "text/plain": [
       "array([[ 7,  3,  0,  0],\n",
       "       [ 1, 16,  0,  0],\n",
       "       [ 0,  0, 10,  0],\n",
       "       [ 0,  0,  0, 10]], dtype=int64)"
      ]
     },
     "execution_count": 30,
     "metadata": {},
     "output_type": "execute_result"
    }
   ],
   "source": [
    "from sklearn.metrics import confusion_matrix\n",
    "confusion_matrix(y_test,y_pred)"
   ]
  },
  {
   "cell_type": "code",
   "execution_count": 31,
   "id": "05d20af1",
   "metadata": {},
   "outputs": [
    {
     "name": "stdout",
     "output_type": "stream",
     "text": [
      "              precision    recall  f1-score   support\n",
      "\n",
      "           0       0.88      0.70      0.78        10\n",
      "           1       0.84      0.94      0.89        17\n",
      "           2       1.00      1.00      1.00        10\n",
      "           3       1.00      1.00      1.00        10\n",
      "\n",
      "    accuracy                           0.91        47\n",
      "   macro avg       0.93      0.91      0.92        47\n",
      "weighted avg       0.92      0.91      0.91        47\n",
      "\n"
     ]
    }
   ],
   "source": [
    "from sklearn.metrics import classification_report\n",
    "print(classification_report(y_test,y_pred))"
   ]
  },
  {
   "cell_type": "code",
   "execution_count": 32,
   "id": "d85d8475",
   "metadata": {},
   "outputs": [
    {
     "data": {
      "text/plain": [
       "0.9223140495867769"
      ]
     },
     "execution_count": 32,
     "metadata": {},
     "output_type": "execute_result"
    }
   ],
   "source": [
    "from sklearn.metrics import r2_score\n",
    "r2_score(y_test,y_pred)"
   ]
  },
  {
   "cell_type": "code",
   "execution_count": 33,
   "id": "73b8a883",
   "metadata": {},
   "outputs": [
    {
     "data": {
      "text/plain": [
       "0.9148936170212766"
      ]
     },
     "execution_count": 33,
     "metadata": {},
     "output_type": "execute_result"
    }
   ],
   "source": [
    "from sklearn.metrics import precision_score\n",
    "precision_score(y_test,y_pred,average='micro')"
   ]
  },
  {
   "cell_type": "code",
   "execution_count": 34,
   "id": "9c36ec26",
   "metadata": {},
   "outputs": [
    {
     "data": {
      "text/plain": [
       "0.9148936170212766"
      ]
     },
     "execution_count": 34,
     "metadata": {},
     "output_type": "execute_result"
    }
   ],
   "source": [
    "from sklearn.metrics import accuracy_score\n",
    "accuracy_score(y_test,y_pred)"
   ]
  },
  {
   "cell_type": "code",
   "execution_count": 35,
   "id": "1d38813a",
   "metadata": {},
   "outputs": [
    {
     "data": {
      "text/plain": [
       "0.9148936170212766"
      ]
     },
     "execution_count": 35,
     "metadata": {},
     "output_type": "execute_result"
    }
   ],
   "source": [
    "from sklearn.metrics import f1_score\n",
    "f1_score(y_test,y_pred,average='micro')"
   ]
  },
  {
   "cell_type": "code",
   "execution_count": 36,
   "id": "f5f60618",
   "metadata": {},
   "outputs": [
    {
     "data": {
      "text/plain": [
       "0.9148936170212766"
      ]
     },
     "execution_count": 36,
     "metadata": {},
     "output_type": "execute_result"
    }
   ],
   "source": [
    "from sklearn.metrics import recall_score\n",
    "recall_score(y_test,y_pred,average='micro')"
   ]
  },
  {
   "cell_type": "code",
   "execution_count": 37,
   "id": "9bfa2d76",
   "metadata": {},
   "outputs": [],
   "source": [
    "conf_matrix = confusion_matrix(y_true=y_test, y_pred=y_pred)"
   ]
  },
  {
   "cell_type": "code",
   "execution_count": 38,
   "id": "4f256261",
   "metadata": {},
   "outputs": [],
   "source": [
    "from sklearn.metrics import confusion_matrix\n",
    "import pandas as pd\n",
    "cm = confusion_matrix(y_test, y_pred)\n",
    "cm_df = pd.DataFrame(cm,\n",
    "                     index = ['Alzeimer','Cognitive Impairment','pituitary','Stroke'], \n",
    "                     columns = ['Alzeimer','Cognitive Impairment','pituitary','Stroke'])"
   ]
  },
  {
   "cell_type": "code",
   "execution_count": 39,
   "id": "84ace334",
   "metadata": {},
   "outputs": [
    {
     "data": {
      "image/png": "[encoded data removed]",
      "text/plain": [
       "<Figure size 576x432 with 2 Axes>"
      ]
     },
     "metadata": {
      "needs_background": "light"
     },
     "output_type": "display_data"
    }
   ],
   "source": [
    "import seaborn as sns\n",
    "import matplotlib.pyplot as plt\n",
    "plt.figure(figsize=(8,6))\n",
    "custom_cmap = sns.color_palette(\"viridis\", as_cmap=True)\n",
    "sns.heatmap(cm_df, annot=True, cmap=custom_cmap)\n",
    "plt.title('Confusion Matrix')\n",
    "plt.ylabel('Actal Values')\n",
    "plt.xlabel('Predicted Values')\n",
    "plt.show()"
   ]
  },
  {
   "cell_type": "code",
   "execution_count": 40,
   "id": "2fa1bcb4",
   "metadata": {},
   "outputs": [],
   "source": [
    "from tensorflow.keras.models import load_model\n",
    "from tensorflow.keras.preprocessing import image"
   ]
  },
  {
   "cell_type": "code",
   "execution_count": 41,
   "id": "e732079f",
   "metadata": {},
   "outputs": [],
   "source": [
    "img=image.load_img('test_img.jpg',target_size=(224,224))"
   ]
  },
  {
   "cell_type": "code",
   "execution_count": 42,
   "id": "1c3d1278",
   "metadata": {},
   "outputs": [
    {
     "data": {
      "text/plain": [
       "array([[[16., 16., 16.],\n",
       "        [16., 16., 16.],\n",
       "        [16., 16., 16.],\n",
       "        ...,\n",
       "        [16., 16., 16.],\n",
       "        [16., 16., 16.],\n",
       "        [16., 16., 16.]],\n",
       "\n",
       "       [[16., 16., 16.],\n",
       "        [16., 16., 16.],\n",
       "        [16., 16., 16.],\n",
       "        ...,\n",
       "        [16., 16., 16.],\n",
       "        [16., 16., 16.],\n",
       "        [16., 16., 16.]],\n",
       "\n",
       "       [[16., 16., 16.],\n",
       "        [16., 16., 16.],\n",
       "        [16., 16., 16.],\n",
       "        ...,\n",
       "        [16., 16., 16.],\n",
       "        [16., 16., 16.],\n",
       "        [16., 16., 16.]],\n",
       "\n",
       "       ...,\n",
       "\n",
       "       [[16., 16., 16.],\n",
       "        [16., 16., 16.],\n",
       "        [16., 16., 16.],\n",
       "        ...,\n",
       "        [16., 16., 16.],\n",
       "        [16., 16., 16.],\n",
       "        [16., 16., 16.]],\n",
       "\n",
       "       [[16., 16., 16.],\n",
       "        [16., 16., 16.],\n",
       "        [16., 16., 16.],\n",
       "        ...,\n",
       "        [16., 16., 16.],\n",
       "        [16., 16., 16.],\n",
       "        [16., 16., 16.]],\n",
       "\n",
       "       [[16., 16., 16.],\n",
       "        [16., 16., 16.],\n",
       "        [16., 16., 16.],\n",
       "        ...,\n",
       "        [15., 15., 15.],\n",
       "        [16., 16., 16.],\n",
       "        [16., 16., 16.]]], dtype=float32)"
      ]
     },
     "execution_count": 42,
     "metadata": {},
     "output_type": "execute_result"
    }
   ],
   "source": [
    "x=image.img_to_array(img)\n",
    "x"
   ]
  },
  {
   "cell_type": "code",
   "execution_count": 43,
   "id": "9bed94aa",
   "metadata": {},
   "outputs": [
    {
     "data": {
      "text/plain": [
       "<matplotlib.image.AxesImage at 0x1ae87a911f0>"
      ]
     },
     "execution_count": 43,
     "metadata": {},
     "output_type": "execute_result"
    },
    {
     "data": {
      "image/png": "[encoded data removed]",
      "text/plain": [
       "<Figure size 432x288 with 1 Axes>"
      ]
     },
     "metadata": {
      "needs_background": "light"
     },
     "output_type": "display_data"
    }
   ],
   "source": [
    "from matplotlib.pyplot import imshow\n",
    "imshow(img)"
   ]
  },
  {
   "cell_type": "code",
   "execution_count": 44,
   "id": "230b6eeb",
   "metadata": {},
   "outputs": [],
   "source": [
    "x=x/255"
   ]
  },
  {
   "cell_type": "code",
   "execution_count": 45,
   "id": "566513a3",
   "metadata": {},
   "outputs": [
    {
     "data": {
      "text/plain": [
       "array([[[0.0627451 , 0.0627451 , 0.0627451 ],\n",
       "        [0.0627451 , 0.0627451 , 0.0627451 ],\n",
       "        [0.0627451 , 0.0627451 , 0.0627451 ],\n",
       "        ...,\n",
       "        [0.0627451 , 0.0627451 , 0.0627451 ],\n",
       "        [0.0627451 , 0.0627451 , 0.0627451 ],\n",
       "        [0.0627451 , 0.0627451 , 0.0627451 ]],\n",
       "\n",
       "       [[0.0627451 , 0.0627451 , 0.0627451 ],\n",
       "        [0.0627451 , 0.0627451 , 0.0627451 ],\n",
       "        [0.0627451 , 0.0627451 , 0.0627451 ],\n",
       "        ...,\n",
       "        [0.0627451 , 0.0627451 , 0.0627451 ],\n",
       "        [0.0627451 , 0.0627451 , 0.0627451 ],\n",
       "        [0.0627451 , 0.0627451 , 0.0627451 ]],\n",
       "\n",
       "       [[0.0627451 , 0.0627451 , 0.0627451 ],\n",
       "        [0.0627451 , 0.0627451 , 0.0627451 ],\n",
       "        [0.0627451 , 0.0627451 , 0.0627451 ],\n",
       "        ...,\n",
       "        [0.0627451 , 0.0627451 , 0.0627451 ],\n",
       "        [0.0627451 , 0.0627451 , 0.0627451 ],\n",
       "        [0.0627451 , 0.0627451 , 0.0627451 ]],\n",
       "\n",
       "       ...,\n",
       "\n",
       "       [[0.0627451 , 0.0627451 , 0.0627451 ],\n",
       "        [0.0627451 , 0.0627451 , 0.0627451 ],\n",
       "        [0.0627451 , 0.0627451 , 0.0627451 ],\n",
       "        ...,\n",
       "        [0.0627451 , 0.0627451 , 0.0627451 ],\n",
       "        [0.0627451 , 0.0627451 , 0.0627451 ],\n",
       "        [0.0627451 , 0.0627451 , 0.0627451 ]],\n",
       "\n",
       "       [[0.0627451 , 0.0627451 , 0.0627451 ],\n",
       "        [0.0627451 , 0.0627451 , 0.0627451 ],\n",
       "        [0.0627451 , 0.0627451 , 0.0627451 ],\n",
       "        ...,\n",
       "        [0.0627451 , 0.0627451 , 0.0627451 ],\n",
       "        [0.0627451 , 0.0627451 , 0.0627451 ],\n",
       "        [0.0627451 , 0.0627451 , 0.0627451 ]],\n",
       "\n",
       "       [[0.0627451 , 0.0627451 , 0.0627451 ],\n",
       "        [0.0627451 , 0.0627451 , 0.0627451 ],\n",
       "        [0.0627451 , 0.0627451 , 0.0627451 ],\n",
       "        ...,\n",
       "        [0.05882353, 0.05882353, 0.05882353],\n",
       "        [0.0627451 , 0.0627451 , 0.0627451 ],\n",
       "        [0.0627451 , 0.0627451 , 0.0627451 ]]], dtype=float32)"
      ]
     },
     "execution_count": 45,
     "metadata": {},
     "output_type": "execute_result"
    }
   ],
   "source": [
    "x\n"
   ]
  },
  {
   "cell_type": "code",
   "execution_count": 46,
   "id": "06627823",
   "metadata": {},
   "outputs": [],
   "source": [
    "import cv2\n",
    "x = cv2.resize(x,(224,224)) \n",
    "x = x.reshape(1,224,224,3) "
   ]
  },
  {
   "cell_type": "code",
   "execution_count": 47,
   "id": "1844ff7e",
   "metadata": {},
   "outputs": [
    {
     "data": {
      "text/plain": [
       "(1, 224, 224, 3)"
      ]
     },
     "execution_count": 47,
     "metadata": {},
     "output_type": "execute_result"
    }
   ],
   "source": [
    "x.shape"
   ]
  },
  {
   "cell_type": "code",
   "execution_count": 48,
   "id": "622ec217",
   "metadata": {},
   "outputs": [
    {
     "name": "stdout",
     "output_type": "stream",
     "text": [
      "1/1 [==============================] - 1s 1s/step\n"
     ]
    },
    {
     "data": {
      "text/plain": [
       "array([[1.0000000e+00, 1.5454185e-12, 3.6128394e-12, 2.3399205e-22]],\n",
       "      dtype=float32)"
      ]
     },
     "execution_count": 48,
     "metadata": {},
     "output_type": "execute_result"
    }
   ],
   "source": [
    "model.predict(x)"
   ]
  },
  {
   "cell_type": "code",
   "execution_count": 49,
   "id": "5b12a710",
   "metadata": {},
   "outputs": [
    {
     "name": "stdout",
     "output_type": "stream",
     "text": [
      "1/1 [==============================] - 0s 23ms/step\n"
     ]
    }
   ],
   "source": [
    "a=model.predict(x)"
   ]
  },
  {
   "cell_type": "code",
   "execution_count": 50,
   "id": "8d39d4b6",
   "metadata": {},
   "outputs": [
    {
     "data": {
      "text/plain": [
       "0"
      ]
     },
     "execution_count": 50,
     "metadata": {},
     "output_type": "execute_result"
    }
   ],
   "source": [
    "a.argmax()"
   ]
  },
  {
   "cell_type": "code",
   "execution_count": null,
   "id": "967cc71d",
   "metadata": {},
   "outputs": [],
   "source": []
  }
 ],
 "metadata": {
  "kernelspec": {
   "display_name": "Python 3 (ipykernel)",
   "language": "python",
   "name": "python3"
  },
  "language_info": {
   "codemirror_mode": {
    "name": "ipython",
    "version": 3
   },
   "file_extension": ".py",
   "mimetype": "text/x-python",
   "name": "python",
   "nbconvert_exporter": "python",
   "pygments_lexer": "ipython3",
   "version": "3.9.12"
  }
 },
 "nbformat": 4,
 "nbformat_minor": 5
}
