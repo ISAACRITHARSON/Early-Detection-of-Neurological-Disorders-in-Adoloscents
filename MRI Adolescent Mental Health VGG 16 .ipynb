{
 "cells": [
  {
   "cell_type": "code",
   "execution_count": 1,
   "id": "703a2787",
   "metadata": {},
   "outputs": [],
   "source": [
    "from tensorflow.compat.v1 import ConfigProto\n",
    "from tensorflow.compat.v1 import InteractiveSession\n",
    "\n",
    "config = ConfigProto()\n",
    "config.gpu_options.per_process_gpu_memory_fraction = 0.7\n",
    "config.gpu_options.allow_growth = True\n",
    "session = InteractiveSession(config=config)\n"
   ]
  },
  {
   "cell_type": "code",
   "execution_count": 2,
   "id": "a1eaabed",
   "metadata": {},
   "outputs": [],
   "source": [
    "from tensorflow.keras.layers import Input, Lambda, Dense, Flatten\n",
    "from tensorflow.keras.models import Model\n",
    "from tensorflow.keras.applications.vgg16 import VGG16\n",
    "from tensorflow.keras.applications.vgg16 import preprocess_input\n",
    "from tensorflow.keras.preprocessing import image\n",
    "from tensorflow.keras.preprocessing.image import ImageDataGenerator,load_img\n",
    "from tensorflow.keras.models import Sequential\n",
    "import numpy as np\n",
    "from glob import glob"
   ]
  },
  {
   "cell_type": "code",
   "execution_count": 1,
   "id": "d63c138e",
   "metadata": {},
   "outputs": [],
   "source": [
    "IMAGE_SIZE = [224, 224]\n",
    "train_path = 'C:\\\\Users\\\\HOME\\\\Desktop\\\\train\\*'\n",
    "valid_path = 'C:\\\\Users\\\\HOME\\\\Desktop\\\\validation\\*'"
   ]
  },
  {
   "cell_type": "code",
   "execution_count": 3,
   "id": "cfecae8c",
   "metadata": {},
   "outputs": [],
   "source": [
    "vgg = VGG16(input_shape=IMAGE_SIZE + [3], weights='imagenet', include_top=False)"
   ]
  },
  {
   "cell_type": "code",
   "execution_count": 4,
   "id": "a18da026",
   "metadata": {},
   "outputs": [],
   "source": [
    "for layer in vgg.layers:\n",
    "    layer.trainable = False"
   ]
  },
  {
   "cell_type": "code",
   "execution_count": 3,
   "id": "b1b988b4",
   "metadata": {},
   "outputs": [],
   "source": [
    "\n",
    "folders = glob(train_path)"
   ]
  },
  {
   "cell_type": "code",
   "execution_count": 4,
   "id": "db27e605",
   "metadata": {},
   "outputs": [
    {
     "data": {
      "text/plain": [
       "['C:\\\\Users\\\\HOME\\\\Desktop\\\\train\\\\Alzeimer',\n",
       " 'C:\\\\Users\\\\HOME\\\\Desktop\\\\train\\\\Cognitive Impairment',\n",
       " 'C:\\\\Users\\\\HOME\\\\Desktop\\\\train\\\\pituitary',\n",
       " 'C:\\\\Users\\\\HOME\\\\Desktop\\\\train\\\\Stroke']"
      ]
     },
     "execution_count": 4,
     "metadata": {},
     "output_type": "execute_result"
    }
   ],
   "source": [
    "folders"
   ]
  },
  {
   "cell_type": "code",
   "execution_count": 7,
   "id": "7044f16b",
   "metadata": {},
   "outputs": [],
   "source": [
    "\n",
    "x = Flatten()(vgg.output)"
   ]
  },
  {
   "cell_type": "code",
   "execution_count": 8,
   "id": "7a27d4c1",
   "metadata": {},
   "outputs": [],
   "source": [
    "prediction = Dense(len(folders), activation='softmax')(x)\n",
    "\n",
    "model = Model(inputs=vgg.input, outputs=prediction)"
   ]
  },
  {
   "cell_type": "code",
   "execution_count": 9,
   "id": "66839379",
   "metadata": {},
   "outputs": [
    {
     "data": {
      "text/plain": [
       "<KerasTensor: shape=(None, 4) dtype=float32 (created by layer 'dense')>"
      ]
     },
     "execution_count": 9,
     "metadata": {},
     "output_type": "execute_result"
    }
   ],
   "source": [
    "prediction"
   ]
  },
  {
   "cell_type": "code",
   "execution_count": 10,
   "id": "58d031ae",
   "metadata": {},
   "outputs": [
    {
     "name": "stdout",
     "output_type": "stream",
     "text": [
      "Model: \"model\"\n",
      "_________________________________________________________________\n",
      " Layer (type)                Output Shape              Param #   \n",
      "=================================================================\n",
      " input_1 (InputLayer)        [(None, 224, 224, 3)]     0         \n",
      "                                                                 \n",
      " block1_conv1 (Conv2D)       (None, 224, 224, 64)      1792      \n",
      "                                                                 \n",
      " block1_conv2 (Conv2D)       (None, 224, 224, 64)      36928     \n",
      "                                                                 \n",
      " block1_pool (MaxPooling2D)  (None, 112, 112, 64)      0         \n",
      "                                                                 \n",
      " block2_conv1 (Conv2D)       (None, 112, 112, 128)     73856     \n",
      "                                                                 \n",
      " block2_conv2 (Conv2D)       (None, 112, 112, 128)     147584    \n",
      "                                                                 \n",
      " block2_pool (MaxPooling2D)  (None, 56, 56, 128)       0         \n",
      "                                                                 \n",
      " block3_conv1 (Conv2D)       (None, 56, 56, 256)       295168    \n",
      "                                                                 \n",
      " block3_conv2 (Conv2D)       (None, 56, 56, 256)       590080    \n",
      "                                                                 \n",
      " block3_conv3 (Conv2D)       (None, 56, 56, 256)       590080    \n",
      "                                                                 \n",
      " block3_pool (MaxPooling2D)  (None, 28, 28, 256)       0         \n",
      "                                                                 \n",
      " block4_conv1 (Conv2D)       (None, 28, 28, 512)       1180160   \n",
      "                                                                 \n",
      " block4_conv2 (Conv2D)       (None, 28, 28, 512)       2359808   \n",
      "                                                                 \n",
      " block4_conv3 (Conv2D)       (None, 28, 28, 512)       2359808   \n",
      "                                                                 \n",
      " block4_pool (MaxPooling2D)  (None, 14, 14, 512)       0         \n",
      "                                                                 \n",
      " block5_conv1 (Conv2D)       (None, 14, 14, 512)       2359808   \n",
      "                                                                 \n",
      " block5_conv2 (Conv2D)       (None, 14, 14, 512)       2359808   \n",
      "                                                                 \n",
      " block5_conv3 (Conv2D)       (None, 14, 14, 512)       2359808   \n",
      "                                                                 \n",
      " block5_pool (MaxPooling2D)  (None, 7, 7, 512)         0         \n",
      "                                                                 \n",
      " flatten (Flatten)           (None, 25088)             0         \n",
      "                                                                 \n",
      " dense (Dense)               (None, 4)                 100356    \n",
      "                                                                 \n",
      "=================================================================\n",
      "Total params: 14,815,044\n",
      "Trainable params: 100,356\n",
      "Non-trainable params: 14,714,688\n",
      "_________________________________________________________________\n"
     ]
    }
   ],
   "source": [
    "model.summary()"
   ]
  },
  {
   "cell_type": "code",
   "execution_count": 11,
   "id": "dae7fb23",
   "metadata": {},
   "outputs": [],
   "source": [
    "model.compile(\n",
    "  loss='categorical_crossentropy',\n",
    "  optimizer='adam',\n",
    "  metrics=['accuracy']\n",
    ")"
   ]
  },
  {
   "cell_type": "code",
   "execution_count": 5,
   "id": "c1df778e",
   "metadata": {},
   "outputs": [],
   "source": [
    "from tensorflow.keras.preprocessing.image import ImageDataGenerator\n",
    "\n",
    "train_datagen = ImageDataGenerator(rescale = 1./255,\n",
    "                                   shear_range = 0.2,\n",
    "                                   zoom_range = 0.2,\n",
    "                                   horizontal_flip = True\n",
    "                                  )\n",
    "\n",
    "test_datagen = ImageDataGenerator(rescale = 1./255)"
   ]
  },
  {
   "cell_type": "code",
   "execution_count": 6,
   "id": "c9892d8c",
   "metadata": {},
   "outputs": [
    {
     "name": "stdout",
     "output_type": "stream",
     "text": [
      "Found 244 images belonging to 4 classes.\n"
     ]
    }
   ],
   "source": [
    "training_set = train_datagen.flow_from_directory('train',\n",
    "                                                 target_size = (224, 224),\n",
    "                                                 batch_size = 32,\n",
    "                                                 class_mode = 'categorical')"
   ]
  },
  {
   "cell_type": "code",
   "execution_count": 7,
   "id": "54e69606",
   "metadata": {},
   "outputs": [
    {
     "name": "stdout",
     "output_type": "stream",
     "text": [
      "Found 47 images belonging to 4 classes.\n"
     ]
    }
   ],
   "source": [
    "test_set = test_datagen.flow_from_directory('validation',\n",
    "                                            target_size = (224, 224),\n",
    "                                            batch_size = 32,\n",
    "                                            class_mode = 'categorical',shuffle=False)"
   ]
  },
  {
   "cell_type": "code",
   "execution_count": 8,
   "id": "45389d92",
   "metadata": {},
   "outputs": [
    {
     "data": {
      "text/plain": [
       "['Alzeimer\\\\ADNI_002_S_4521_MR_Axial_T2-Star__br_raw_20160324122521837_22_S402609_I662501.jpg',\n",
       " 'Alzeimer\\\\ADNI_006_S_4960_MR_Axial_T2-Star__br_raw_20151116142521022_22_S308848_I554365.jpg',\n",
       " 'Alzeimer\\\\ADNI_012_S_4094_MR_Axial_T2_STAR__br_raw_20170911112516152_22_S606978_I902073.jpg',\n",
       " 'Alzeimer\\\\ADNI_013_S_4395_MR_AXIAL_T2__STAR_br_raw_20160408152851491_22_S413787_I675059.jpg',\n",
       " 'Alzeimer\\\\ADNI_024_S_4169_MR_AXIAL_T2_STAR__br_raw_20150824183510226_22_S269703_I506435.jpg',\n",
       " 'Alzeimer\\\\ADNI_035_S_4114_MR_Axial_T2_STAR__br_raw_20180927135557122_22_S730896_I1053100.jpg',\n",
       " 'Alzeimer\\\\ADNI_037_S_4214_MR_Axial_T2_TSE_with_Fat_Sat__br_raw_20151016131541571_22_S285609_I527059.jpg',\n",
       " 'Alzeimer\\\\ADNI_037_S_4302_MR_AX_T2_STAR_br_raw_20151202134651542_22_S321070_I568501.jpg',\n",
       " 'Alzeimer\\\\ADNI_052_S_4626_MR_Axial_T2_Star__br_raw_20150416145050678_22_S255859_I487186.jpg',\n",
       " 'Alzeimer\\\\ADNI_057_S_4888_MR_Axial_T2_Star__br_raw_20160810162606039_22_S490606_I765318.jpg',\n",
       " 'Cognitive Impairment\\\\ADNI_032_S_6855_MR_Axial_T2_STAR__br_raw_20200224122920613_22_S927953_I1295282.jpg',\n",
       " 'Cognitive Impairment\\\\ADNI_036_S_6179_MR_Axial_3TE_T2_Star__br_raw_20190515103403689_22_S824115_I1165409.jpg',\n",
       " 'Cognitive Impairment\\\\ADNI_116_S_6100_MR_Axial_T2_Star__br_raw_20181220100416695_22_S763126_I1092332.jpg',\n",
       " 'Cognitive Impairment\\\\ADNI_116_S_6543_MR_Axial_T2_Star__br_raw_20180821112007867_22_S719355_I1038942.jpg',\n",
       " 'Cognitive Impairment\\\\ADNI_126_S_6683_MR_Axial_T2_Star__br_raw_20200224110729803_22_S926354_I1293351.jpg',\n",
       " 'Cognitive Impairment\\\\ADNI_127_S_6433_MR_Axial_T2_Star__br_raw_20180801164013628_22_S711666_I1029797.jpg',\n",
       " 'Cognitive Impairment\\\\ADNI_127_S_6433_MR_Axial_T2_Star__br_raw_20190913114507006_22_S873001_I1226435.jpg',\n",
       " 'Cognitive Impairment\\\\ADNI_127_S_6549_MR_Axial_T2_Star__br_raw_20181116093008542_22_S747764_I1073643.jpg',\n",
       " 'Cognitive Impairment\\\\ADNI_135_S_6389_MR_Axial_T2_Star__br_raw_20190710091135405_22_S839965_I1185265.jpg',\n",
       " 'Cognitive Impairment\\\\ADNI_135_S_6545_MR_Axial_T2_Star__br_raw_20180822113214388_22_S719964_I1039629.jpg',\n",
       " 'Cognitive Impairment\\\\ADNI_135_S_6545_MR_Axial_T2_Star__br_raw_20190913133956824_22_S873085_I1226542.jpg',\n",
       " 'Cognitive Impairment\\\\ADNI_135_S_6687_MR_Axial_T2_Star__br_raw_20190315105731023_22_S806441_I1142634.jpg',\n",
       " 'Cognitive Impairment\\\\ADNI_168_S_6735_MR_Axial_T2_STAR__br_raw_20190613143131224_22_S832132_I1175363.jpg',\n",
       " 'Cognitive Impairment\\\\ADNI_168_S_6735_MR_Axial_T2_STAR__br_raw_20190613143214927_22_S832133_I1175364.jpg',\n",
       " 'Cognitive Impairment\\\\ADNI_168_S_6754_MR_Axial_T2_STAR__br_raw_20190627165929283_22_S837150_I1181682.jpg',\n",
       " 'Cognitive Impairment\\\\ADNI_168_S_6827_MR_Axial_T2_STAR__br_raw_20191010161246022_22_S883154_I1239538.jpg',\n",
       " 'Cognitive Impairment\\\\ADNI_168_S_6843_MR_Axial_T2_STAR__br_raw_20200114153131813_22_S911954_I1275418.jpg',\n",
       " 'Stroke\\\\71 (16).jpg',\n",
       " 'Stroke\\\\71 (18).jpg',\n",
       " 'Stroke\\\\71 (20).jpg',\n",
       " 'Stroke\\\\71 (22).jpg',\n",
       " 'Stroke\\\\71 (24).jpg',\n",
       " 'Stroke\\\\71 (5).jpg',\n",
       " 'Stroke\\\\71 (6).jpg',\n",
       " 'Stroke\\\\72 (10).jpg',\n",
       " 'Stroke\\\\72 (7).jpg',\n",
       " 'Stroke\\\\72 (8).jpg',\n",
       " 'pituitary\\\\Te-pi_0043.jpg',\n",
       " 'pituitary\\\\Te-pi_0044.jpg',\n",
       " 'pituitary\\\\Te-pi_0045.jpg',\n",
       " 'pituitary\\\\Te-pi_0046.jpg',\n",
       " 'pituitary\\\\Te-pi_0047.jpg',\n",
       " 'pituitary\\\\Te-pi_0048.jpg',\n",
       " 'pituitary\\\\Te-pi_0049.jpg',\n",
       " 'pituitary\\\\Te-pi_0050.jpg',\n",
       " 'pituitary\\\\Te-pi_0051.jpg',\n",
       " 'pituitary\\\\Te-pi_0052.jpg']"
      ]
     },
     "execution_count": 8,
     "metadata": {},
     "output_type": "execute_result"
    }
   ],
   "source": [
    "test_set.filenames"
   ]
  },
  {
   "cell_type": "code",
   "execution_count": 16,
   "id": "071be42e",
   "metadata": {
    "scrolled": false
   },
   "outputs": [
    {
     "name": "stderr",
     "output_type": "stream",
     "text": [
      "C:\\Users\\HOME\\AppData\\Local\\Temp\\ipykernel_15036\\2336048694.py:1: UserWarning: `Model.fit_generator` is deprecated and will be removed in a future version. Please use `Model.fit`, which supports generators.\n",
      "  r = model.fit_generator(\n"
     ]
    },
    {
     "name": "stdout",
     "output_type": "stream",
     "text": [
      "Epoch 1/30\n",
      "8/8 [==============================] - 36s 2s/step - loss: 1.4613 - accuracy: 0.4549 - val_loss: 0.8806 - val_accuracy: 0.4468\n",
      "Epoch 2/30\n",
      "8/8 [==============================] - 3s 352ms/step - loss: 0.4299 - accuracy: 0.7910 - val_loss: 0.3439 - val_accuracy: 0.8723\n",
      "Epoch 3/30\n",
      "8/8 [==============================] - 3s 353ms/step - loss: 0.3979 - accuracy: 0.7992 - val_loss: 0.3854 - val_accuracy: 0.7872\n",
      "Epoch 4/30\n",
      "8/8 [==============================] - 3s 343ms/step - loss: 0.4673 - accuracy: 0.7582 - val_loss: 0.5959 - val_accuracy: 0.6596\n",
      "Epoch 5/30\n",
      "8/8 [==============================] - 3s 343ms/step - loss: 0.4526 - accuracy: 0.7746 - val_loss: 0.7220 - val_accuracy: 0.6383\n",
      "Epoch 6/30\n",
      "8/8 [==============================] - 3s 348ms/step - loss: 0.2867 - accuracy: 0.8238 - val_loss: 0.3083 - val_accuracy: 0.8723\n",
      "Epoch 7/30\n",
      "8/8 [==============================] - 3s 345ms/step - loss: 0.2093 - accuracy: 0.9139 - val_loss: 0.2513 - val_accuracy: 0.9149\n",
      "Epoch 8/30\n",
      "8/8 [==============================] - 3s 342ms/step - loss: 0.1922 - accuracy: 0.9303 - val_loss: 0.2391 - val_accuracy: 0.8936\n",
      "Epoch 9/30\n",
      "8/8 [==============================] - 3s 341ms/step - loss: 0.1901 - accuracy: 0.9262 - val_loss: 0.2543 - val_accuracy: 0.8936\n",
      "Epoch 10/30\n",
      "8/8 [==============================] - 3s 339ms/step - loss: 0.2170 - accuracy: 0.8811 - val_loss: 0.2318 - val_accuracy: 0.9149\n",
      "Epoch 11/30\n",
      "8/8 [==============================] - 3s 342ms/step - loss: 0.2006 - accuracy: 0.8975 - val_loss: 0.3067 - val_accuracy: 0.8511\n",
      "Epoch 12/30\n",
      "8/8 [==============================] - 3s 337ms/step - loss: 0.2252 - accuracy: 0.8730 - val_loss: 0.1984 - val_accuracy: 0.9574\n",
      "Epoch 13/30\n",
      "8/8 [==============================] - 3s 335ms/step - loss: 0.1754 - accuracy: 0.9139 - val_loss: 0.2264 - val_accuracy: 0.8936\n",
      "Epoch 14/30\n",
      "8/8 [==============================] - 3s 345ms/step - loss: 0.1574 - accuracy: 0.9467 - val_loss: 0.2640 - val_accuracy: 0.8723\n",
      "Epoch 15/30\n",
      "8/8 [==============================] - 3s 329ms/step - loss: 0.1537 - accuracy: 0.9426 - val_loss: 0.1923 - val_accuracy: 0.9149\n",
      "Epoch 16/30\n",
      "8/8 [==============================] - 3s 341ms/step - loss: 0.1584 - accuracy: 0.9426 - val_loss: 0.2097 - val_accuracy: 0.8936\n",
      "Epoch 17/30\n",
      "8/8 [==============================] - 3s 342ms/step - loss: 0.1288 - accuracy: 0.9549 - val_loss: 0.1977 - val_accuracy: 0.9362\n",
      "Epoch 18/30\n",
      "8/8 [==============================] - 3s 345ms/step - loss: 0.1121 - accuracy: 0.9836 - val_loss: 0.2000 - val_accuracy: 0.9362\n",
      "Epoch 19/30\n",
      "8/8 [==============================] - 3s 345ms/step - loss: 0.1149 - accuracy: 0.9713 - val_loss: 0.2262 - val_accuracy: 0.8723\n",
      "Epoch 20/30\n",
      "8/8 [==============================] - 3s 339ms/step - loss: 0.1123 - accuracy: 0.9713 - val_loss: 0.1991 - val_accuracy: 0.9149\n",
      "Epoch 21/30\n",
      "8/8 [==============================] - 3s 344ms/step - loss: 0.1041 - accuracy: 0.9713 - val_loss: 0.2055 - val_accuracy: 0.9149\n",
      "Epoch 22/30\n",
      "8/8 [==============================] - 3s 340ms/step - loss: 0.1061 - accuracy: 0.9713 - val_loss: 0.2329 - val_accuracy: 0.8723\n",
      "Epoch 23/30\n",
      "8/8 [==============================] - 3s 351ms/step - loss: 0.1182 - accuracy: 0.9590 - val_loss: 0.1925 - val_accuracy: 0.9362\n",
      "Epoch 24/30\n",
      "8/8 [==============================] - 3s 349ms/step - loss: 0.0999 - accuracy: 0.9754 - val_loss: 0.1953 - val_accuracy: 0.9362\n",
      "Epoch 25/30\n",
      "8/8 [==============================] - 3s 348ms/step - loss: 0.1099 - accuracy: 0.9713 - val_loss: 0.1945 - val_accuracy: 0.9362\n",
      "Epoch 26/30\n",
      "8/8 [==============================] - 3s 344ms/step - loss: 0.1033 - accuracy: 0.9713 - val_loss: 0.2697 - val_accuracy: 0.8723\n",
      "Epoch 27/30\n",
      "8/8 [==============================] - 3s 323ms/step - loss: 0.1024 - accuracy: 0.9754 - val_loss: 0.2007 - val_accuracy: 0.9362\n",
      "Epoch 28/30\n",
      "8/8 [==============================] - 3s 340ms/step - loss: 0.1513 - accuracy: 0.9344 - val_loss: 0.1963 - val_accuracy: 0.9362\n",
      "Epoch 29/30\n",
      "8/8 [==============================] - 3s 344ms/step - loss: 0.0949 - accuracy: 0.9672 - val_loss: 0.2187 - val_accuracy: 0.8936\n",
      "Epoch 30/30\n",
      "8/8 [==============================] - 3s 341ms/step - loss: 0.0731 - accuracy: 0.9918 - val_loss: 0.2023 - val_accuracy: 0.8936\n"
     ]
    }
   ],
   "source": [
    "r = model.fit_generator(\n",
    "  training_set,\n",
    "  validation_data=test_set,\n",
    "  epochs=30,\n",
    "  steps_per_epoch=len(training_set),\n",
    "  validation_steps=len(test_set)\n",
    ")"
   ]
  },
  {
   "cell_type": "code",
   "execution_count": 17,
   "id": "3264515a",
   "metadata": {},
   "outputs": [],
   "source": [
    "import matplotlib.pyplot as plt"
   ]
  },
  {
   "cell_type": "code",
   "execution_count": 18,
   "id": "0ea215b0",
   "metadata": {},
   "outputs": [
    {
     "data": {
      "image/png": "[encoded data removed]",
      "text/plain": [
       "<Figure size 432x288 with 1 Axes>"
      ]
     },
     "metadata": {
      "needs_background": "light"
     },
     "output_type": "display_data"
    },
    {
     "data": {
      "text/plain": [
       "<Figure size 432x288 with 0 Axes>"
      ]
     },
     "metadata": {},
     "output_type": "display_data"
    }
   ],
   "source": [
    "plt.plot(r.history['loss'], label='train loss',color=\"black\")\n",
    "plt.plot(r.history['val_loss'], label='val loss',color=\"red\")\n",
    "plt.legend()\n",
    "plt.show()\n",
    "plt.savefig('LossVal_loss')\n",
    "\n",
    "\n"
   ]
  },
  {
   "cell_type": "code",
   "execution_count": 19,
   "id": "1e638605",
   "metadata": {},
   "outputs": [
    {
     "data": {
      "image/png": "[encoded data removed]",
      "text/plain": [
       "<Figure size 432x288 with 1 Axes>"
      ]
     },
     "metadata": {
      "needs_background": "light"
     },
     "output_type": "display_data"
    },
    {
     "data": {
      "text/plain": [
       "<Figure size 432x288 with 0 Axes>"
      ]
     },
     "metadata": {},
     "output_type": "display_data"
    }
   ],
   "source": [
    "plt.plot(r.history['accuracy'], label='train acc',color=\"black\")\n",
    "plt.plot(r.history['val_accuracy'], label='val acc',color=\"blue\")\n",
    "plt.legend()\n",
    "plt.show()\n",
    "plt.savefig('AccVal_acc')"
   ]
  },
  {
   "cell_type": "code",
   "execution_count": 9,
   "id": "d86ea216",
   "metadata": {},
   "outputs": [],
   "source": [
    "\n",
    "from tensorflow.keras.models import load_model\n",
    "model.save('model_vgg16.h5')\n"
   ]
  },
  {
   "cell_type": "code",
   "execution_count": 10,
   "id": "02b64530",
   "metadata": {},
   "outputs": [],
   "source": [
    "model=load_model('model_vgg16.h5')"
   ]
  },
  {
   "cell_type": "code",
   "execution_count": 11,
   "id": "55e4de44",
   "metadata": {},
   "outputs": [
    {
     "name": "stdout",
     "output_type": "stream",
     "text": [
      "2/2 [==============================] - 20s 6s/step\n"
     ]
    },
    {
     "data": {
      "text/plain": [
       "array([[8.17925751e-01, 1.82070017e-01, 1.48098570e-06, 2.67871292e-06],\n",
       "       [8.43531668e-01, 1.56247333e-01, 1.98130892e-05, 2.01171264e-04],\n",
       "       [8.59958887e-01, 1.39765844e-01, 6.09835806e-05, 2.14297295e-04],\n",
       "       [9.73994792e-01, 2.55307686e-02, 2.87268576e-05, 4.45704267e-04],\n",
       "       [9.40941870e-01, 5.89528009e-02, 5.04313812e-06, 1.00230005e-04],\n",
       "       [8.96067560e-01, 1.03909478e-01, 2.29672787e-06, 2.07119283e-05],\n",
       "       [9.60986197e-01, 2.88229100e-02, 3.59414634e-03, 6.59670029e-03],\n",
       "       [2.91250050e-01, 7.08695650e-01, 3.22326559e-05, 2.20635520e-05],\n",
       "       [4.69729245e-01, 5.30205905e-01, 6.01429338e-06, 5.88027324e-05],\n",
       "       [9.40161407e-01, 5.98297603e-02, 1.12882412e-06, 7.71198029e-06],\n",
       "       [5.72338581e-01, 4.27616924e-01, 3.40612314e-05, 1.04354913e-05],\n",
       "       [1.14345320e-01, 8.85200799e-01, 2.60892004e-04, 1.92928041e-04],\n",
       "       [2.20113650e-01, 7.79588461e-01, 1.25088831e-04, 1.72795684e-04],\n",
       "       [5.63165426e-01, 4.36675936e-01, 3.79474841e-05, 1.20676363e-04],\n",
       "       [3.28240424e-01, 6.71700239e-01, 2.47991411e-05, 3.45112639e-05],\n",
       "       [8.68248403e-01, 1.31689593e-01, 2.46317068e-05, 3.73306102e-05],\n",
       "       [3.72060984e-01, 6.27924800e-01, 5.43061606e-06, 8.79770414e-06],\n",
       "       [2.98392504e-01, 7.01389492e-01, 2.33097526e-05, 1.94636334e-04],\n",
       "       [1.25945702e-01, 8.73544276e-01, 8.10290931e-06, 5.01943578e-04],\n",
       "       [1.61250055e-01, 8.38662803e-01, 1.64307821e-05, 7.07842410e-05],\n",
       "       [1.62277110e-02, 9.83756542e-01, 6.36748337e-06, 9.39163056e-06],\n",
       "       [1.30243525e-01, 8.69704962e-01, 1.01788964e-05, 4.13404778e-05],\n",
       "       [4.65682857e-02, 9.53428805e-01, 1.53551377e-06, 1.44594708e-06],\n",
       "       [5.76634035e-02, 9.42329228e-01, 3.29005229e-06, 4.15942850e-06],\n",
       "       [7.78863654e-02, 9.22109187e-01, 3.63814979e-06, 7.43828934e-07],\n",
       "       [6.79374784e-02, 9.32057619e-01, 2.11981887e-06, 2.75642742e-06],\n",
       "       [2.70228207e-01, 7.29735136e-01, 1.49625339e-05, 2.17243378e-05],\n",
       "       [1.93314350e-04, 9.06416506e-04, 9.85638082e-01, 1.32621154e-02],\n",
       "       [6.20926439e-05, 4.14670067e-04, 9.90036368e-01, 9.48677678e-03],\n",
       "       [2.37733329e-04, 5.02376119e-04, 9.85034943e-01, 1.42249055e-02],\n",
       "       [2.19350681e-04, 1.49870903e-04, 9.92021382e-01, 7.60946469e-03],\n",
       "       [3.61050450e-04, 7.89313228e-04, 9.84296262e-01, 1.45533932e-02],\n",
       "       [4.93368407e-06, 1.39037718e-06, 9.99900460e-01, 9.32254989e-05],\n",
       "       [9.69904590e-07, 7.17458079e-07, 9.99791443e-01, 2.06947516e-04],\n",
       "       [1.50288944e-03, 6.50416419e-04, 7.73817897e-01, 2.24028751e-01],\n",
       "       [8.57915875e-05, 5.33296884e-07, 9.98237848e-01, 1.67586561e-03],\n",
       "       [4.15912422e-04, 6.15626996e-05, 9.98367965e-01, 1.15455792e-03],\n",
       "       [4.40963730e-03, 1.36947900e-03, 2.17110710e-03, 9.92049754e-01],\n",
       "       [5.45504663e-05, 1.55941394e-04, 8.98133803e-05, 9.99699712e-01],\n",
       "       [1.22862502e-05, 1.91106210e-06, 9.70025121e-06, 9.99976158e-01],\n",
       "       [3.06847664e-06, 2.45104928e-07, 1.47240398e-05, 9.99981880e-01],\n",
       "       [3.46850629e-06, 6.34849414e-07, 7.02762873e-06, 9.99988914e-01],\n",
       "       [5.38758410e-04, 3.49597371e-06, 5.32031481e-05, 9.99404550e-01],\n",
       "       [1.59201364e-03, 3.72347786e-05, 1.39620912e-04, 9.98231232e-01],\n",
       "       [1.64849349e-04, 1.49694472e-06, 2.31055383e-04, 9.99602616e-01],\n",
       "       [3.75439669e-03, 9.33814863e-06, 2.40183072e-04, 9.95996118e-01],\n",
       "       [1.18286824e-02, 1.53067028e-02, 3.31637479e-04, 9.72532928e-01]],\n",
       "      dtype=float32)"
      ]
     },
     "execution_count": 11,
     "metadata": {},
     "output_type": "execute_result"
    }
   ],
   "source": [
    "y_pred = model.predict(test_set)\n",
    "y_pred"
   ]
  },
  {
   "cell_type": "code",
   "execution_count": 12,
   "id": "67be8dd3",
   "metadata": {},
   "outputs": [
    {
     "data": {
      "text/plain": [
       "array([0, 0, 0, 0, 0, 0, 0, 1, 1, 0, 0, 1, 1, 0, 1, 0, 1, 1, 1, 1, 1, 1,\n",
       "       1, 1, 1, 1, 1, 2, 2, 2, 2, 2, 2, 2, 2, 2, 2, 3, 3, 3, 3, 3, 3, 3,\n",
       "       3, 3, 3], dtype=int64)"
      ]
     },
     "execution_count": 12,
     "metadata": {},
     "output_type": "execute_result"
    }
   ],
   "source": [
    "import numpy as np\n",
    "y_pred = np.argmax(y_pred, axis=1)\n",
    "y_pred"
   ]
  },
  {
   "cell_type": "code",
   "execution_count": 13,
   "id": "ef1dc01b",
   "metadata": {},
   "outputs": [],
   "source": [
    "import os\n",
    "path ='validation'\n",
    "Diseases_types=os.listdir(path)"
   ]
  },
  {
   "cell_type": "code",
   "execution_count": 51,
   "id": "473e46bf",
   "metadata": {},
   "outputs": [
    {
     "name": "stdout",
     "output_type": "stream",
     "text": [
      "['Alzeimer']\n",
      "['Alzeimer', 'Alzeimer']\n",
      "['Alzeimer', 'Alzeimer', 'Alzeimer']\n",
      "['Alzeimer', 'Alzeimer', 'Alzeimer', 'Alzeimer']\n",
      "['Alzeimer', 'Alzeimer', 'Alzeimer', 'Alzeimer', 'Alzeimer']\n",
      "['Alzeimer', 'Alzeimer', 'Alzeimer', 'Alzeimer', 'Alzeimer', 'Alzeimer']\n",
      "['Alzeimer', 'Alzeimer', 'Alzeimer', 'Alzeimer', 'Alzeimer', 'Alzeimer', 'Alzeimer']\n",
      "['Alzeimer', 'Alzeimer', 'Alzeimer', 'Alzeimer', 'Alzeimer', 'Alzeimer', 'Alzeimer', 'Alzeimer']\n",
      "['Alzeimer', 'Alzeimer', 'Alzeimer', 'Alzeimer', 'Alzeimer', 'Alzeimer', 'Alzeimer', 'Alzeimer', 'Alzeimer']\n",
      "['Alzeimer', 'Alzeimer', 'Alzeimer', 'Alzeimer', 'Alzeimer', 'Alzeimer', 'Alzeimer', 'Alzeimer', 'Alzeimer', 'Alzeimer']\n",
      "['Alzeimer', 'Alzeimer', 'Alzeimer', 'Alzeimer', 'Alzeimer', 'Alzeimer', 'Alzeimer', 'Alzeimer', 'Alzeimer', 'Alzeimer', 'Cognitive Impairment']\n",
      "['Alzeimer', 'Alzeimer', 'Alzeimer', 'Alzeimer', 'Alzeimer', 'Alzeimer', 'Alzeimer', 'Alzeimer', 'Alzeimer', 'Alzeimer', 'Cognitive Impairment', 'Cognitive Impairment']\n",
      "['Alzeimer', 'Alzeimer', 'Alzeimer', 'Alzeimer', 'Alzeimer', 'Alzeimer', 'Alzeimer', 'Alzeimer', 'Alzeimer', 'Alzeimer', 'Cognitive Impairment', 'Cognitive Impairment', 'Cognitive Impairment']\n",
      "['Alzeimer', 'Alzeimer', 'Alzeimer', 'Alzeimer', 'Alzeimer', 'Alzeimer', 'Alzeimer', 'Alzeimer', 'Alzeimer', 'Alzeimer', 'Cognitive Impairment', 'Cognitive Impairment', 'Cognitive Impairment', 'Cognitive Impairment']\n",
      "['Alzeimer', 'Alzeimer', 'Alzeimer', 'Alzeimer', 'Alzeimer', 'Alzeimer', 'Alzeimer', 'Alzeimer', 'Alzeimer', 'Alzeimer', 'Cognitive Impairment', 'Cognitive Impairment', 'Cognitive Impairment', 'Cognitive Impairment', 'Cognitive Impairment']\n",
      "['Alzeimer', 'Alzeimer', 'Alzeimer', 'Alzeimer', 'Alzeimer', 'Alzeimer', 'Alzeimer', 'Alzeimer', 'Alzeimer', 'Alzeimer', 'Cognitive Impairment', 'Cognitive Impairment', 'Cognitive Impairment', 'Cognitive Impairment', 'Cognitive Impairment', 'Cognitive Impairment']\n",
      "['Alzeimer', 'Alzeimer', 'Alzeimer', 'Alzeimer', 'Alzeimer', 'Alzeimer', 'Alzeimer', 'Alzeimer', 'Alzeimer', 'Alzeimer', 'Cognitive Impairment', 'Cognitive Impairment', 'Cognitive Impairment', 'Cognitive Impairment', 'Cognitive Impairment', 'Cognitive Impairment', 'Cognitive Impairment']\n",
      "['Alzeimer', 'Alzeimer', 'Alzeimer', 'Alzeimer', 'Alzeimer', 'Alzeimer', 'Alzeimer', 'Alzeimer', 'Alzeimer', 'Alzeimer', 'Cognitive Impairment', 'Cognitive Impairment', 'Cognitive Impairment', 'Cognitive Impairment', 'Cognitive Impairment', 'Cognitive Impairment', 'Cognitive Impairment', 'Cognitive Impairment']\n",
      "['Alzeimer', 'Alzeimer', 'Alzeimer', 'Alzeimer', 'Alzeimer', 'Alzeimer', 'Alzeimer', 'Alzeimer', 'Alzeimer', 'Alzeimer', 'Cognitive Impairment', 'Cognitive Impairment', 'Cognitive Impairment', 'Cognitive Impairment', 'Cognitive Impairment', 'Cognitive Impairment', 'Cognitive Impairment', 'Cognitive Impairment', 'Cognitive Impairment']\n",
      "['Alzeimer', 'Alzeimer', 'Alzeimer', 'Alzeimer', 'Alzeimer', 'Alzeimer', 'Alzeimer', 'Alzeimer', 'Alzeimer', 'Alzeimer', 'Cognitive Impairment', 'Cognitive Impairment', 'Cognitive Impairment', 'Cognitive Impairment', 'Cognitive Impairment', 'Cognitive Impairment', 'Cognitive Impairment', 'Cognitive Impairment', 'Cognitive Impairment', 'Cognitive Impairment']\n",
      "['Alzeimer', 'Alzeimer', 'Alzeimer', 'Alzeimer', 'Alzeimer', 'Alzeimer', 'Alzeimer', 'Alzeimer', 'Alzeimer', 'Alzeimer', 'Cognitive Impairment', 'Cognitive Impairment', 'Cognitive Impairment', 'Cognitive Impairment', 'Cognitive Impairment', 'Cognitive Impairment', 'Cognitive Impairment', 'Cognitive Impairment', 'Cognitive Impairment', 'Cognitive Impairment', 'Cognitive Impairment']\n",
      "['Alzeimer', 'Alzeimer', 'Alzeimer', 'Alzeimer', 'Alzeimer', 'Alzeimer', 'Alzeimer', 'Alzeimer', 'Alzeimer', 'Alzeimer', 'Cognitive Impairment', 'Cognitive Impairment', 'Cognitive Impairment', 'Cognitive Impairment', 'Cognitive Impairment', 'Cognitive Impairment', 'Cognitive Impairment', 'Cognitive Impairment', 'Cognitive Impairment', 'Cognitive Impairment', 'Cognitive Impairment', 'Cognitive Impairment']\n",
      "['Alzeimer', 'Alzeimer', 'Alzeimer', 'Alzeimer', 'Alzeimer', 'Alzeimer', 'Alzeimer', 'Alzeimer', 'Alzeimer', 'Alzeimer', 'Cognitive Impairment', 'Cognitive Impairment', 'Cognitive Impairment', 'Cognitive Impairment', 'Cognitive Impairment', 'Cognitive Impairment', 'Cognitive Impairment', 'Cognitive Impairment', 'Cognitive Impairment', 'Cognitive Impairment', 'Cognitive Impairment', 'Cognitive Impairment', 'Cognitive Impairment']\n",
      "['Alzeimer', 'Alzeimer', 'Alzeimer', 'Alzeimer', 'Alzeimer', 'Alzeimer', 'Alzeimer', 'Alzeimer', 'Alzeimer', 'Alzeimer', 'Cognitive Impairment', 'Cognitive Impairment', 'Cognitive Impairment', 'Cognitive Impairment', 'Cognitive Impairment', 'Cognitive Impairment', 'Cognitive Impairment', 'Cognitive Impairment', 'Cognitive Impairment', 'Cognitive Impairment', 'Cognitive Impairment', 'Cognitive Impairment', 'Cognitive Impairment', 'Cognitive Impairment']\n",
      "['Alzeimer', 'Alzeimer', 'Alzeimer', 'Alzeimer', 'Alzeimer', 'Alzeimer', 'Alzeimer', 'Alzeimer', 'Alzeimer', 'Alzeimer', 'Cognitive Impairment', 'Cognitive Impairment', 'Cognitive Impairment', 'Cognitive Impairment', 'Cognitive Impairment', 'Cognitive Impairment', 'Cognitive Impairment', 'Cognitive Impairment', 'Cognitive Impairment', 'Cognitive Impairment', 'Cognitive Impairment', 'Cognitive Impairment', 'Cognitive Impairment', 'Cognitive Impairment', 'Cognitive Impairment']\n",
      "['Alzeimer', 'Alzeimer', 'Alzeimer', 'Alzeimer', 'Alzeimer', 'Alzeimer', 'Alzeimer', 'Alzeimer', 'Alzeimer', 'Alzeimer', 'Cognitive Impairment', 'Cognitive Impairment', 'Cognitive Impairment', 'Cognitive Impairment', 'Cognitive Impairment', 'Cognitive Impairment', 'Cognitive Impairment', 'Cognitive Impairment', 'Cognitive Impairment', 'Cognitive Impairment', 'Cognitive Impairment', 'Cognitive Impairment', 'Cognitive Impairment', 'Cognitive Impairment', 'Cognitive Impairment', 'Cognitive Impairment']\n",
      "['Alzeimer', 'Alzeimer', 'Alzeimer', 'Alzeimer', 'Alzeimer', 'Alzeimer', 'Alzeimer', 'Alzeimer', 'Alzeimer', 'Alzeimer', 'Cognitive Impairment', 'Cognitive Impairment', 'Cognitive Impairment', 'Cognitive Impairment', 'Cognitive Impairment', 'Cognitive Impairment', 'Cognitive Impairment', 'Cognitive Impairment', 'Cognitive Impairment', 'Cognitive Impairment', 'Cognitive Impairment', 'Cognitive Impairment', 'Cognitive Impairment', 'Cognitive Impairment', 'Cognitive Impairment', 'Cognitive Impairment', 'Cognitive Impairment']\n",
      "['Alzeimer', 'Alzeimer', 'Alzeimer', 'Alzeimer', 'Alzeimer', 'Alzeimer', 'Alzeimer', 'Alzeimer', 'Alzeimer', 'Alzeimer', 'Cognitive Impairment', 'Cognitive Impairment', 'Cognitive Impairment', 'Cognitive Impairment', 'Cognitive Impairment', 'Cognitive Impairment', 'Cognitive Impairment', 'Cognitive Impairment', 'Cognitive Impairment', 'Cognitive Impairment', 'Cognitive Impairment', 'Cognitive Impairment', 'Cognitive Impairment', 'Cognitive Impairment', 'Cognitive Impairment', 'Cognitive Impairment', 'Cognitive Impairment', 'pituitary']\n",
      "['Alzeimer', 'Alzeimer', 'Alzeimer', 'Alzeimer', 'Alzeimer', 'Alzeimer', 'Alzeimer', 'Alzeimer', 'Alzeimer', 'Alzeimer', 'Cognitive Impairment', 'Cognitive Impairment', 'Cognitive Impairment', 'Cognitive Impairment', 'Cognitive Impairment', 'Cognitive Impairment', 'Cognitive Impairment', 'Cognitive Impairment', 'Cognitive Impairment', 'Cognitive Impairment', 'Cognitive Impairment', 'Cognitive Impairment', 'Cognitive Impairment', 'Cognitive Impairment', 'Cognitive Impairment', 'Cognitive Impairment', 'Cognitive Impairment', 'pituitary', 'pituitary']\n",
      "['Alzeimer', 'Alzeimer', 'Alzeimer', 'Alzeimer', 'Alzeimer', 'Alzeimer', 'Alzeimer', 'Alzeimer', 'Alzeimer', 'Alzeimer', 'Cognitive Impairment', 'Cognitive Impairment', 'Cognitive Impairment', 'Cognitive Impairment', 'Cognitive Impairment', 'Cognitive Impairment', 'Cognitive Impairment', 'Cognitive Impairment', 'Cognitive Impairment', 'Cognitive Impairment', 'Cognitive Impairment', 'Cognitive Impairment', 'Cognitive Impairment', 'Cognitive Impairment', 'Cognitive Impairment', 'Cognitive Impairment', 'Cognitive Impairment', 'pituitary', 'pituitary', 'pituitary']\n",
      "['Alzeimer', 'Alzeimer', 'Alzeimer', 'Alzeimer', 'Alzeimer', 'Alzeimer', 'Alzeimer', 'Alzeimer', 'Alzeimer', 'Alzeimer', 'Cognitive Impairment', 'Cognitive Impairment', 'Cognitive Impairment', 'Cognitive Impairment', 'Cognitive Impairment', 'Cognitive Impairment', 'Cognitive Impairment', 'Cognitive Impairment', 'Cognitive Impairment', 'Cognitive Impairment', 'Cognitive Impairment', 'Cognitive Impairment', 'Cognitive Impairment', 'Cognitive Impairment', 'Cognitive Impairment', 'Cognitive Impairment', 'Cognitive Impairment', 'pituitary', 'pituitary', 'pituitary', 'pituitary']\n",
      "['Alzeimer', 'Alzeimer', 'Alzeimer', 'Alzeimer', 'Alzeimer', 'Alzeimer', 'Alzeimer', 'Alzeimer', 'Alzeimer', 'Alzeimer', 'Cognitive Impairment', 'Cognitive Impairment', 'Cognitive Impairment', 'Cognitive Impairment', 'Cognitive Impairment', 'Cognitive Impairment', 'Cognitive Impairment', 'Cognitive Impairment', 'Cognitive Impairment', 'Cognitive Impairment', 'Cognitive Impairment', 'Cognitive Impairment', 'Cognitive Impairment', 'Cognitive Impairment', 'Cognitive Impairment', 'Cognitive Impairment', 'Cognitive Impairment', 'pituitary', 'pituitary', 'pituitary', 'pituitary', 'pituitary']\n",
      "['Alzeimer', 'Alzeimer', 'Alzeimer', 'Alzeimer', 'Alzeimer', 'Alzeimer', 'Alzeimer', 'Alzeimer', 'Alzeimer', 'Alzeimer', 'Cognitive Impairment', 'Cognitive Impairment', 'Cognitive Impairment', 'Cognitive Impairment', 'Cognitive Impairment', 'Cognitive Impairment', 'Cognitive Impairment', 'Cognitive Impairment', 'Cognitive Impairment', 'Cognitive Impairment', 'Cognitive Impairment', 'Cognitive Impairment', 'Cognitive Impairment', 'Cognitive Impairment', 'Cognitive Impairment', 'Cognitive Impairment', 'Cognitive Impairment', 'pituitary', 'pituitary', 'pituitary', 'pituitary', 'pituitary', 'pituitary']\n",
      "['Alzeimer', 'Alzeimer', 'Alzeimer', 'Alzeimer', 'Alzeimer', 'Alzeimer', 'Alzeimer', 'Alzeimer', 'Alzeimer', 'Alzeimer', 'Cognitive Impairment', 'Cognitive Impairment', 'Cognitive Impairment', 'Cognitive Impairment', 'Cognitive Impairment', 'Cognitive Impairment', 'Cognitive Impairment', 'Cognitive Impairment', 'Cognitive Impairment', 'Cognitive Impairment', 'Cognitive Impairment', 'Cognitive Impairment', 'Cognitive Impairment', 'Cognitive Impairment', 'Cognitive Impairment', 'Cognitive Impairment', 'Cognitive Impairment', 'pituitary', 'pituitary', 'pituitary', 'pituitary', 'pituitary', 'pituitary', 'pituitary']\n",
      "['Alzeimer', 'Alzeimer', 'Alzeimer', 'Alzeimer', 'Alzeimer', 'Alzeimer', 'Alzeimer', 'Alzeimer', 'Alzeimer', 'Alzeimer', 'Cognitive Impairment', 'Cognitive Impairment', 'Cognitive Impairment', 'Cognitive Impairment', 'Cognitive Impairment', 'Cognitive Impairment', 'Cognitive Impairment', 'Cognitive Impairment', 'Cognitive Impairment', 'Cognitive Impairment', 'Cognitive Impairment', 'Cognitive Impairment', 'Cognitive Impairment', 'Cognitive Impairment', 'Cognitive Impairment', 'Cognitive Impairment', 'Cognitive Impairment', 'pituitary', 'pituitary', 'pituitary', 'pituitary', 'pituitary', 'pituitary', 'pituitary', 'pituitary']\n",
      "['Alzeimer', 'Alzeimer', 'Alzeimer', 'Alzeimer', 'Alzeimer', 'Alzeimer', 'Alzeimer', 'Alzeimer', 'Alzeimer', 'Alzeimer', 'Cognitive Impairment', 'Cognitive Impairment', 'Cognitive Impairment', 'Cognitive Impairment', 'Cognitive Impairment', 'Cognitive Impairment', 'Cognitive Impairment', 'Cognitive Impairment', 'Cognitive Impairment', 'Cognitive Impairment', 'Cognitive Impairment', 'Cognitive Impairment', 'Cognitive Impairment', 'Cognitive Impairment', 'Cognitive Impairment', 'Cognitive Impairment', 'Cognitive Impairment', 'pituitary', 'pituitary', 'pituitary', 'pituitary', 'pituitary', 'pituitary', 'pituitary', 'pituitary', 'pituitary']\n",
      "['Alzeimer', 'Alzeimer', 'Alzeimer', 'Alzeimer', 'Alzeimer', 'Alzeimer', 'Alzeimer', 'Alzeimer', 'Alzeimer', 'Alzeimer', 'Cognitive Impairment', 'Cognitive Impairment', 'Cognitive Impairment', 'Cognitive Impairment', 'Cognitive Impairment', 'Cognitive Impairment', 'Cognitive Impairment', 'Cognitive Impairment', 'Cognitive Impairment', 'Cognitive Impairment', 'Cognitive Impairment', 'Cognitive Impairment', 'Cognitive Impairment', 'Cognitive Impairment', 'Cognitive Impairment', 'Cognitive Impairment', 'Cognitive Impairment', 'pituitary', 'pituitary', 'pituitary', 'pituitary', 'pituitary', 'pituitary', 'pituitary', 'pituitary', 'pituitary', 'pituitary']\n",
      "['Alzeimer', 'Alzeimer', 'Alzeimer', 'Alzeimer', 'Alzeimer', 'Alzeimer', 'Alzeimer', 'Alzeimer', 'Alzeimer', 'Alzeimer', 'Cognitive Impairment', 'Cognitive Impairment', 'Cognitive Impairment', 'Cognitive Impairment', 'Cognitive Impairment', 'Cognitive Impairment', 'Cognitive Impairment', 'Cognitive Impairment', 'Cognitive Impairment', 'Cognitive Impairment', 'Cognitive Impairment', 'Cognitive Impairment', 'Cognitive Impairment', 'Cognitive Impairment', 'Cognitive Impairment', 'Cognitive Impairment', 'Cognitive Impairment', 'pituitary', 'pituitary', 'pituitary', 'pituitary', 'pituitary', 'pituitary', 'pituitary', 'pituitary', 'pituitary', 'pituitary', 'Stroke']\n",
      "['Alzeimer', 'Alzeimer', 'Alzeimer', 'Alzeimer', 'Alzeimer', 'Alzeimer', 'Alzeimer', 'Alzeimer', 'Alzeimer', 'Alzeimer', 'Cognitive Impairment', 'Cognitive Impairment', 'Cognitive Impairment', 'Cognitive Impairment', 'Cognitive Impairment', 'Cognitive Impairment', 'Cognitive Impairment', 'Cognitive Impairment', 'Cognitive Impairment', 'Cognitive Impairment', 'Cognitive Impairment', 'Cognitive Impairment', 'Cognitive Impairment', 'Cognitive Impairment', 'Cognitive Impairment', 'Cognitive Impairment', 'Cognitive Impairment', 'pituitary', 'pituitary', 'pituitary', 'pituitary', 'pituitary', 'pituitary', 'pituitary', 'pituitary', 'pituitary', 'pituitary', 'Stroke', 'Stroke']\n",
      "['Alzeimer', 'Alzeimer', 'Alzeimer', 'Alzeimer', 'Alzeimer', 'Alzeimer', 'Alzeimer', 'Alzeimer', 'Alzeimer', 'Alzeimer', 'Cognitive Impairment', 'Cognitive Impairment', 'Cognitive Impairment', 'Cognitive Impairment', 'Cognitive Impairment', 'Cognitive Impairment', 'Cognitive Impairment', 'Cognitive Impairment', 'Cognitive Impairment', 'Cognitive Impairment', 'Cognitive Impairment', 'Cognitive Impairment', 'Cognitive Impairment', 'Cognitive Impairment', 'Cognitive Impairment', 'Cognitive Impairment', 'Cognitive Impairment', 'pituitary', 'pituitary', 'pituitary', 'pituitary', 'pituitary', 'pituitary', 'pituitary', 'pituitary', 'pituitary', 'pituitary', 'Stroke', 'Stroke', 'Stroke']\n",
      "['Alzeimer', 'Alzeimer', 'Alzeimer', 'Alzeimer', 'Alzeimer', 'Alzeimer', 'Alzeimer', 'Alzeimer', 'Alzeimer', 'Alzeimer', 'Cognitive Impairment', 'Cognitive Impairment', 'Cognitive Impairment', 'Cognitive Impairment', 'Cognitive Impairment', 'Cognitive Impairment', 'Cognitive Impairment', 'Cognitive Impairment', 'Cognitive Impairment', 'Cognitive Impairment', 'Cognitive Impairment', 'Cognitive Impairment', 'Cognitive Impairment', 'Cognitive Impairment', 'Cognitive Impairment', 'Cognitive Impairment', 'Cognitive Impairment', 'pituitary', 'pituitary', 'pituitary', 'pituitary', 'pituitary', 'pituitary', 'pituitary', 'pituitary', 'pituitary', 'pituitary', 'Stroke', 'Stroke', 'Stroke', 'Stroke']\n",
      "['Alzeimer', 'Alzeimer', 'Alzeimer', 'Alzeimer', 'Alzeimer', 'Alzeimer', 'Alzeimer', 'Alzeimer', 'Alzeimer', 'Alzeimer', 'Cognitive Impairment', 'Cognitive Impairment', 'Cognitive Impairment', 'Cognitive Impairment', 'Cognitive Impairment', 'Cognitive Impairment', 'Cognitive Impairment', 'Cognitive Impairment', 'Cognitive Impairment', 'Cognitive Impairment', 'Cognitive Impairment', 'Cognitive Impairment', 'Cognitive Impairment', 'Cognitive Impairment', 'Cognitive Impairment', 'Cognitive Impairment', 'Cognitive Impairment', 'pituitary', 'pituitary', 'pituitary', 'pituitary', 'pituitary', 'pituitary', 'pituitary', 'pituitary', 'pituitary', 'pituitary', 'Stroke', 'Stroke', 'Stroke', 'Stroke', 'Stroke']\n",
      "['Alzeimer', 'Alzeimer', 'Alzeimer', 'Alzeimer', 'Alzeimer', 'Alzeimer', 'Alzeimer', 'Alzeimer', 'Alzeimer', 'Alzeimer', 'Cognitive Impairment', 'Cognitive Impairment', 'Cognitive Impairment', 'Cognitive Impairment', 'Cognitive Impairment', 'Cognitive Impairment', 'Cognitive Impairment', 'Cognitive Impairment', 'Cognitive Impairment', 'Cognitive Impairment', 'Cognitive Impairment', 'Cognitive Impairment', 'Cognitive Impairment', 'Cognitive Impairment', 'Cognitive Impairment', 'Cognitive Impairment', 'Cognitive Impairment', 'pituitary', 'pituitary', 'pituitary', 'pituitary', 'pituitary', 'pituitary', 'pituitary', 'pituitary', 'pituitary', 'pituitary', 'Stroke', 'Stroke', 'Stroke', 'Stroke', 'Stroke', 'Stroke']\n",
      "['Alzeimer', 'Alzeimer', 'Alzeimer', 'Alzeimer', 'Alzeimer', 'Alzeimer', 'Alzeimer', 'Alzeimer', 'Alzeimer', 'Alzeimer', 'Cognitive Impairment', 'Cognitive Impairment', 'Cognitive Impairment', 'Cognitive Impairment', 'Cognitive Impairment', 'Cognitive Impairment', 'Cognitive Impairment', 'Cognitive Impairment', 'Cognitive Impairment', 'Cognitive Impairment', 'Cognitive Impairment', 'Cognitive Impairment', 'Cognitive Impairment', 'Cognitive Impairment', 'Cognitive Impairment', 'Cognitive Impairment', 'Cognitive Impairment', 'pituitary', 'pituitary', 'pituitary', 'pituitary', 'pituitary', 'pituitary', 'pituitary', 'pituitary', 'pituitary', 'pituitary', 'Stroke', 'Stroke', 'Stroke', 'Stroke', 'Stroke', 'Stroke', 'Stroke']\n",
      "['Alzeimer', 'Alzeimer', 'Alzeimer', 'Alzeimer', 'Alzeimer', 'Alzeimer', 'Alzeimer', 'Alzeimer', 'Alzeimer', 'Alzeimer', 'Cognitive Impairment', 'Cognitive Impairment', 'Cognitive Impairment', 'Cognitive Impairment', 'Cognitive Impairment', 'Cognitive Impairment', 'Cognitive Impairment', 'Cognitive Impairment', 'Cognitive Impairment', 'Cognitive Impairment', 'Cognitive Impairment', 'Cognitive Impairment', 'Cognitive Impairment', 'Cognitive Impairment', 'Cognitive Impairment', 'Cognitive Impairment', 'Cognitive Impairment', 'pituitary', 'pituitary', 'pituitary', 'pituitary', 'pituitary', 'pituitary', 'pituitary', 'pituitary', 'pituitary', 'pituitary', 'Stroke', 'Stroke', 'Stroke', 'Stroke', 'Stroke', 'Stroke', 'Stroke', 'Stroke']\n",
      "['Alzeimer', 'Alzeimer', 'Alzeimer', 'Alzeimer', 'Alzeimer', 'Alzeimer', 'Alzeimer', 'Alzeimer', 'Alzeimer', 'Alzeimer', 'Cognitive Impairment', 'Cognitive Impairment', 'Cognitive Impairment', 'Cognitive Impairment', 'Cognitive Impairment', 'Cognitive Impairment', 'Cognitive Impairment', 'Cognitive Impairment', 'Cognitive Impairment', 'Cognitive Impairment', 'Cognitive Impairment', 'Cognitive Impairment', 'Cognitive Impairment', 'Cognitive Impairment', 'Cognitive Impairment', 'Cognitive Impairment', 'Cognitive Impairment', 'pituitary', 'pituitary', 'pituitary', 'pituitary', 'pituitary', 'pituitary', 'pituitary', 'pituitary', 'pituitary', 'pituitary', 'Stroke', 'Stroke', 'Stroke', 'Stroke', 'Stroke', 'Stroke', 'Stroke', 'Stroke', 'Stroke']\n",
      "['Alzeimer', 'Alzeimer', 'Alzeimer', 'Alzeimer', 'Alzeimer', 'Alzeimer', 'Alzeimer', 'Alzeimer', 'Alzeimer', 'Alzeimer', 'Cognitive Impairment', 'Cognitive Impairment', 'Cognitive Impairment', 'Cognitive Impairment', 'Cognitive Impairment', 'Cognitive Impairment', 'Cognitive Impairment', 'Cognitive Impairment', 'Cognitive Impairment', 'Cognitive Impairment', 'Cognitive Impairment', 'Cognitive Impairment', 'Cognitive Impairment', 'Cognitive Impairment', 'Cognitive Impairment', 'Cognitive Impairment', 'Cognitive Impairment', 'pituitary', 'pituitary', 'pituitary', 'pituitary', 'pituitary', 'pituitary', 'pituitary', 'pituitary', 'pituitary', 'pituitary', 'Stroke', 'Stroke', 'Stroke', 'Stroke', 'Stroke', 'Stroke', 'Stroke', 'Stroke', 'Stroke', 'Stroke']\n"
     ]
    }
   ],
   "source": [
    "diseases = []\n",
    "for i in Diseases_types:\n",
    "  all_images = os.listdir(path + '/' +i)\n",
    "\n",
    "  for j in all_images :\n",
    "    diseases.append((i))\n",
    "    print (diseases)"
   ]
  },
  {
   "cell_type": "code",
   "execution_count": 52,
   "id": "084a69d7",
   "metadata": {},
   "outputs": [
    {
     "data": {
      "text/plain": [
       "['Alzeimer',\n",
       " 'Alzeimer',\n",
       " 'Alzeimer',\n",
       " 'Alzeimer',\n",
       " 'Alzeimer',\n",
       " 'Alzeimer',\n",
       " 'Alzeimer',\n",
       " 'Alzeimer',\n",
       " 'Alzeimer',\n",
       " 'Alzeimer',\n",
       " 'Cognitive Impairment',\n",
       " 'Cognitive Impairment',\n",
       " 'Cognitive Impairment',\n",
       " 'Cognitive Impairment',\n",
       " 'Cognitive Impairment',\n",
       " 'Cognitive Impairment',\n",
       " 'Cognitive Impairment',\n",
       " 'Cognitive Impairment',\n",
       " 'Cognitive Impairment',\n",
       " 'Cognitive Impairment',\n",
       " 'Cognitive Impairment',\n",
       " 'Cognitive Impairment',\n",
       " 'Cognitive Impairment',\n",
       " 'Cognitive Impairment',\n",
       " 'Cognitive Impairment',\n",
       " 'Cognitive Impairment',\n",
       " 'Cognitive Impairment',\n",
       " 'pituitary',\n",
       " 'pituitary',\n",
       " 'pituitary',\n",
       " 'pituitary',\n",
       " 'pituitary',\n",
       " 'pituitary',\n",
       " 'pituitary',\n",
       " 'pituitary',\n",
       " 'pituitary',\n",
       " 'pituitary',\n",
       " 'Stroke',\n",
       " 'Stroke',\n",
       " 'Stroke',\n",
       " 'Stroke',\n",
       " 'Stroke',\n",
       " 'Stroke',\n",
       " 'Stroke',\n",
       " 'Stroke',\n",
       " 'Stroke',\n",
       " 'Stroke']"
      ]
     },
     "execution_count": 52,
     "metadata": {},
     "output_type": "execute_result"
    }
   ],
   "source": [
    "diseases"
   ]
  },
  {
   "cell_type": "code",
   "execution_count": 53,
   "id": "4fd7c25a",
   "metadata": {},
   "outputs": [],
   "source": [
    "from sklearn.preprocessing import LabelEncoder\n",
    "diseases = np.array(diseases)\n",
    "diseases.reshape(47,-1)\n",
    "y_labelencoder = LabelEncoder()\n",
    "\n"
   ]
  },
  {
   "cell_type": "code",
   "execution_count": 54,
   "id": "5720b4eb",
   "metadata": {},
   "outputs": [
    {
     "data": {
      "text/plain": [
       "array(['Alzeimer', 'Alzeimer', 'Alzeimer', 'Alzeimer', 'Alzeimer',\n",
       "       'Alzeimer', 'Alzeimer', 'Alzeimer', 'Alzeimer', 'Alzeimer',\n",
       "       'Cognitive Impairment', 'Cognitive Impairment',\n",
       "       'Cognitive Impairment', 'Cognitive Impairment',\n",
       "       'Cognitive Impairment', 'Cognitive Impairment',\n",
       "       'Cognitive Impairment', 'Cognitive Impairment',\n",
       "       'Cognitive Impairment', 'Cognitive Impairment',\n",
       "       'Cognitive Impairment', 'Cognitive Impairment',\n",
       "       'Cognitive Impairment', 'Cognitive Impairment',\n",
       "       'Cognitive Impairment', 'Cognitive Impairment',\n",
       "       'Cognitive Impairment', 'pituitary', 'pituitary', 'pituitary',\n",
       "       'pituitary', 'pituitary', 'pituitary', 'pituitary', 'pituitary',\n",
       "       'pituitary', 'pituitary', 'Stroke', 'Stroke', 'Stroke', 'Stroke',\n",
       "       'Stroke', 'Stroke', 'Stroke', 'Stroke', 'Stroke', 'Stroke'],\n",
       "      dtype='<U20')"
      ]
     },
     "execution_count": 54,
     "metadata": {},
     "output_type": "execute_result"
    }
   ],
   "source": [
    "diseases"
   ]
  },
  {
   "cell_type": "code",
   "execution_count": 56,
   "id": "03aa8ebe",
   "metadata": {},
   "outputs": [],
   "source": [
    "y_test = y_labelencoder.fit_transform (diseases)\n",
    "y_test = np.array([0, 0, 0, 0, 0, 0, 0, 0, 0, 0, 1, 1, 1, 1, 1, 1, 1, 1, 1, 1, 1, 1,\n",
    "       1, 1, 1, 1, 1, 2, 2, 2, 2, 2, 2, 2,\n",
    "       2, 2, 2, 3, 3, 3, 3, 3, 3, 3, 3, 3, 3])"
   ]
  },
  {
   "cell_type": "code",
   "execution_count": 57,
   "id": "2e45a1ed",
   "metadata": {},
   "outputs": [
    {
     "data": {
      "text/plain": [
       "array([[ 8,  2,  0,  0],\n",
       "       [ 3, 14,  0,  0],\n",
       "       [ 0,  0, 10,  0],\n",
       "       [ 0,  0,  0, 10]], dtype=int64)"
      ]
     },
     "execution_count": 57,
     "metadata": {},
     "output_type": "execute_result"
    }
   ],
   "source": [
    "from sklearn.metrics import confusion_matrix\n",
    "confusion_matrix(y_test,y_pred)"
   ]
  },
  {
   "cell_type": "code",
   "execution_count": 58,
   "id": "05d20af1",
   "metadata": {},
   "outputs": [
    {
     "name": "stdout",
     "output_type": "stream",
     "text": [
      "              precision    recall  f1-score   support\n",
      "\n",
      "           0       0.73      0.80      0.76        10\n",
      "           1       0.88      0.82      0.85        17\n",
      "           2       1.00      1.00      1.00        10\n",
      "           3       1.00      1.00      1.00        10\n",
      "\n",
      "    accuracy                           0.89        47\n",
      "   macro avg       0.90      0.91      0.90        47\n",
      "weighted avg       0.90      0.89      0.89        47\n",
      "\n"
     ]
    }
   ],
   "source": [
    "from sklearn.metrics import classification_report\n",
    "print(classification_report(y_test,y_pred))"
   ]
  },
  {
   "cell_type": "code",
   "execution_count": 59,
   "id": "d85d8475",
   "metadata": {},
   "outputs": [
    {
     "data": {
      "text/plain": [
       "0.9028925619834711"
      ]
     },
     "execution_count": 59,
     "metadata": {},
     "output_type": "execute_result"
    }
   ],
   "source": [
    "from sklearn.metrics import r2_score\n",
    "r2_score(y_test,y_pred)"
   ]
  },
  {
   "cell_type": "code",
   "execution_count": 60,
   "id": "73b8a883",
   "metadata": {},
   "outputs": [
    {
     "data": {
      "text/plain": [
       "0.8936170212765957"
      ]
     },
     "execution_count": 60,
     "metadata": {},
     "output_type": "execute_result"
    }
   ],
   "source": [
    "from sklearn.metrics import precision_score\n",
    "precision_score(y_test,y_pred,average='micro')"
   ]
  },
  {
   "cell_type": "code",
   "execution_count": 61,
   "id": "9c36ec26",
   "metadata": {},
   "outputs": [
    {
     "data": {
      "text/plain": [
       "0.8936170212765957"
      ]
     },
     "execution_count": 61,
     "metadata": {},
     "output_type": "execute_result"
    }
   ],
   "source": [
    "from sklearn.metrics import accuracy_score\n",
    "accuracy_score(y_test,y_pred)"
   ]
  },
  {
   "cell_type": "code",
   "execution_count": 62,
   "id": "1d38813a",
   "metadata": {},
   "outputs": [
    {
     "data": {
      "text/plain": [
       "0.8936170212765957"
      ]
     },
     "execution_count": 62,
     "metadata": {},
     "output_type": "execute_result"
    }
   ],
   "source": [
    "from sklearn.metrics import f1_score\n",
    "f1_score(y_test,y_pred,average='micro')"
   ]
  },
  {
   "cell_type": "code",
   "execution_count": 63,
   "id": "f5f60618",
   "metadata": {},
   "outputs": [
    {
     "data": {
      "text/plain": [
       "0.8936170212765957"
      ]
     },
     "execution_count": 63,
     "metadata": {},
     "output_type": "execute_result"
    }
   ],
   "source": [
    "from sklearn.metrics import recall_score\n",
    "recall_score(y_test,y_pred,average='micro')"
   ]
  },
  {
   "cell_type": "code",
   "execution_count": 64,
   "id": "9bfa2d76",
   "metadata": {},
   "outputs": [],
   "source": [
    "conf_matrix = confusion_matrix(y_true=y_test, y_pred=y_pred)"
   ]
  },
  {
   "cell_type": "code",
   "execution_count": 67,
   "id": "4f256261",
   "metadata": {},
   "outputs": [],
   "source": [
    "from sklearn.metrics import confusion_matrix\n",
    "import pandas as pd\n",
    "cm = confusion_matrix(y_test, y_pred)\n",
    "cm_df = pd.DataFrame(cm,\n",
    "                     index = ['Alzeimer','Cognitive Impairment','pituitary','Stroke'], \n",
    "                     columns = ['Alzeimer','Cognitive Impairment','pituitary','Stroke'])"
   ]
  },
  {
   "cell_type": "code",
   "execution_count": 73,
   "id": "84ace334",
   "metadata": {},
   "outputs": [
    {
     "data": {
      "image/png": "[encoded data removed]",
      "text/plain": [
       "<Figure size 576x432 with 2 Axes>"
      ]
     },
     "metadata": {
      "needs_background": "light"
     },
     "output_type": "display_data"
    }
   ],
   "source": [
    "import seaborn as sns\n",
    "import matplotlib.pyplot as plt\n",
    "plt.figure(figsize=(8,6))\n",
    "custom_cmap = sns.color_palette(\"viridis\", as_cmap=True)\n",
    "sns.heatmap(cm_df, annot=True, cmap=custom_cmap)\n",
    "plt.title('Confusion Matrix')\n",
    "plt.ylabel('Actal Values')\n",
    "plt.xlabel('Predicted Values')\n",
    "plt.show()"
   ]
  },
  {
   "cell_type": "code",
   "execution_count": 74,
   "id": "2fa1bcb4",
   "metadata": {},
   "outputs": [],
   "source": [
    "from tensorflow.keras.models import load_model\n",
    "from tensorflow.keras.preprocessing import image"
   ]
  },
  {
   "cell_type": "code",
   "execution_count": 75,
   "id": "e732079f",
   "metadata": {},
   "outputs": [],
   "source": [
    "img=image.load_img('test_img.jpg',target_size=(224,224))"
   ]
  },
  {
   "cell_type": "code",
   "execution_count": 76,
   "id": "1c3d1278",
   "metadata": {},
   "outputs": [
    {
     "data": {
      "text/plain": [
       "array([[[16., 16., 16.],\n",
       "        [16., 16., 16.],\n",
       "        [16., 16., 16.],\n",
       "        ...,\n",
       "        [16., 16., 16.],\n",
       "        [16., 16., 16.],\n",
       "        [16., 16., 16.]],\n",
       "\n",
       "       [[16., 16., 16.],\n",
       "        [16., 16., 16.],\n",
       "        [16., 16., 16.],\n",
       "        ...,\n",
       "        [16., 16., 16.],\n",
       "        [16., 16., 16.],\n",
       "        [16., 16., 16.]],\n",
       "\n",
       "       [[16., 16., 16.],\n",
       "        [16., 16., 16.],\n",
       "        [16., 16., 16.],\n",
       "        ...,\n",
       "        [16., 16., 16.],\n",
       "        [16., 16., 16.],\n",
       "        [16., 16., 16.]],\n",
       "\n",
       "       ...,\n",
       "\n",
       "       [[16., 16., 16.],\n",
       "        [16., 16., 16.],\n",
       "        [16., 16., 16.],\n",
       "        ...,\n",
       "        [16., 16., 16.],\n",
       "        [16., 16., 16.],\n",
       "        [16., 16., 16.]],\n",
       "\n",
       "       [[16., 16., 16.],\n",
       "        [16., 16., 16.],\n",
       "        [16., 16., 16.],\n",
       "        ...,\n",
       "        [16., 16., 16.],\n",
       "        [16., 16., 16.],\n",
       "        [16., 16., 16.]],\n",
       "\n",
       "       [[16., 16., 16.],\n",
       "        [16., 16., 16.],\n",
       "        [16., 16., 16.],\n",
       "        ...,\n",
       "        [15., 15., 15.],\n",
       "        [16., 16., 16.],\n",
       "        [16., 16., 16.]]], dtype=float32)"
      ]
     },
     "execution_count": 76,
     "metadata": {},
     "output_type": "execute_result"
    }
   ],
   "source": [
    "x=image.img_to_array(img)\n",
    "x"
   ]
  },
  {
   "cell_type": "code",
   "execution_count": 77,
   "id": "9bed94aa",
   "metadata": {},
   "outputs": [
    {
     "data": {
      "text/plain": [
       "<matplotlib.image.AxesImage at 0x22a56a11fd0>"
      ]
     },
     "execution_count": 77,
     "metadata": {},
     "output_type": "execute_result"
    },
    {
     "data": {
      "image/png": "[encoded data removed]",
      "text/plain": [
       "<Figure size 432x288 with 1 Axes>"
      ]
     },
     "metadata": {
      "needs_background": "light"
     },
     "output_type": "display_data"
    }
   ],
   "source": [
    "from matplotlib.pyplot import imshow\n",
    "imshow(img)"
   ]
  },
  {
   "cell_type": "code",
   "execution_count": 78,
   "id": "230b6eeb",
   "metadata": {},
   "outputs": [],
   "source": [
    "x=x/255"
   ]
  },
  {
   "cell_type": "code",
   "execution_count": 79,
   "id": "566513a3",
   "metadata": {},
   "outputs": [
    {
     "data": {
      "text/plain": [
       "array([[[0.0627451 , 0.0627451 , 0.0627451 ],\n",
       "        [0.0627451 , 0.0627451 , 0.0627451 ],\n",
       "        [0.0627451 , 0.0627451 , 0.0627451 ],\n",
       "        ...,\n",
       "        [0.0627451 , 0.0627451 , 0.0627451 ],\n",
       "        [0.0627451 , 0.0627451 , 0.0627451 ],\n",
       "        [0.0627451 , 0.0627451 , 0.0627451 ]],\n",
       "\n",
       "       [[0.0627451 , 0.0627451 , 0.0627451 ],\n",
       "        [0.0627451 , 0.0627451 , 0.0627451 ],\n",
       "        [0.0627451 , 0.0627451 , 0.0627451 ],\n",
       "        ...,\n",
       "        [0.0627451 , 0.0627451 , 0.0627451 ],\n",
       "        [0.0627451 , 0.0627451 , 0.0627451 ],\n",
       "        [0.0627451 , 0.0627451 , 0.0627451 ]],\n",
       "\n",
       "       [[0.0627451 , 0.0627451 , 0.0627451 ],\n",
       "        [0.0627451 , 0.0627451 , 0.0627451 ],\n",
       "        [0.0627451 , 0.0627451 , 0.0627451 ],\n",
       "        ...,\n",
       "        [0.0627451 , 0.0627451 , 0.0627451 ],\n",
       "        [0.0627451 , 0.0627451 , 0.0627451 ],\n",
       "        [0.0627451 , 0.0627451 , 0.0627451 ]],\n",
       "\n",
       "       ...,\n",
       "\n",
       "       [[0.0627451 , 0.0627451 , 0.0627451 ],\n",
       "        [0.0627451 , 0.0627451 , 0.0627451 ],\n",
       "        [0.0627451 , 0.0627451 , 0.0627451 ],\n",
       "        ...,\n",
       "        [0.0627451 , 0.0627451 , 0.0627451 ],\n",
       "        [0.0627451 , 0.0627451 , 0.0627451 ],\n",
       "        [0.0627451 , 0.0627451 , 0.0627451 ]],\n",
       "\n",
       "       [[0.0627451 , 0.0627451 , 0.0627451 ],\n",
       "        [0.0627451 , 0.0627451 , 0.0627451 ],\n",
       "        [0.0627451 , 0.0627451 , 0.0627451 ],\n",
       "        ...,\n",
       "        [0.0627451 , 0.0627451 , 0.0627451 ],\n",
       "        [0.0627451 , 0.0627451 , 0.0627451 ],\n",
       "        [0.0627451 , 0.0627451 , 0.0627451 ]],\n",
       "\n",
       "       [[0.0627451 , 0.0627451 , 0.0627451 ],\n",
       "        [0.0627451 , 0.0627451 , 0.0627451 ],\n",
       "        [0.0627451 , 0.0627451 , 0.0627451 ],\n",
       "        ...,\n",
       "        [0.05882353, 0.05882353, 0.05882353],\n",
       "        [0.0627451 , 0.0627451 , 0.0627451 ],\n",
       "        [0.0627451 , 0.0627451 , 0.0627451 ]]], dtype=float32)"
      ]
     },
     "execution_count": 79,
     "metadata": {},
     "output_type": "execute_result"
    }
   ],
   "source": [
    "x\n"
   ]
  },
  {
   "cell_type": "code",
   "execution_count": 80,
   "id": "06627823",
   "metadata": {},
   "outputs": [],
   "source": [
    "import cv2\n",
    "x = cv2.resize(x,(224,224)) \n",
    "x = x.reshape(1,224,224,3) "
   ]
  },
  {
   "cell_type": "code",
   "execution_count": 81,
   "id": "1844ff7e",
   "metadata": {},
   "outputs": [
    {
     "data": {
      "text/plain": [
       "(1, 224, 224, 3)"
      ]
     },
     "execution_count": 81,
     "metadata": {},
     "output_type": "execute_result"
    }
   ],
   "source": [
    "x.shape"
   ]
  },
  {
   "cell_type": "code",
   "execution_count": 82,
   "id": "622ec217",
   "metadata": {},
   "outputs": [
    {
     "name": "stdout",
     "output_type": "stream",
     "text": [
      "1/1 [==============================] - 0s 331ms/step\n"
     ]
    },
    {
     "data": {
      "text/plain": [
       "array([[9.8011827e-01, 6.8385969e-03, 6.7367387e-04, 1.2369408e-02]],\n",
       "      dtype=float32)"
      ]
     },
     "execution_count": 82,
     "metadata": {},
     "output_type": "execute_result"
    }
   ],
   "source": [
    "model.predict(x)"
   ]
  },
  {
   "cell_type": "code",
   "execution_count": 83,
   "id": "5b12a710",
   "metadata": {},
   "outputs": [
    {
     "name": "stdout",
     "output_type": "stream",
     "text": [
      "1/1 [==============================] - 0s 40ms/step\n"
     ]
    }
   ],
   "source": [
    "a=model.predict(x)"
   ]
  },
  {
   "cell_type": "code",
   "execution_count": 84,
   "id": "8d39d4b6",
   "metadata": {},
   "outputs": [
    {
     "data": {
      "text/plain": [
       "0"
      ]
     },
     "execution_count": 84,
     "metadata": {},
     "output_type": "execute_result"
    }
   ],
   "source": [
    "a.argmax()"
   ]
  },
  {
   "cell_type": "code",
   "execution_count": null,
   "id": "967cc71d",
   "metadata": {},
   "outputs": [],
   "source": []
  }
 ],
 "metadata": {
  "kernelspec": {
   "display_name": "Python 3 (ipykernel)",
   "language": "python",
   "name": "python3"
  },
  "language_info": {
   "codemirror_mode": {
    "name": "ipython",
    "version": 3
   },
   "file_extension": ".py",
   "mimetype": "text/x-python",
   "name": "python",
   "nbconvert_exporter": "python",
   "pygments_lexer": "ipython3",
   "version": "3.9.12"
  }
 },
 "nbformat": 4,
 "nbformat_minor": 5
}
