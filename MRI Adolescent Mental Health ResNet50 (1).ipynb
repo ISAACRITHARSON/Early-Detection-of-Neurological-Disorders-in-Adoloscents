{
 "cells": [
  {
   "cell_type": "code",
   "execution_count": 67,
   "id": "703a2787",
   "metadata": {},
   "outputs": [],
   "source": [
    "from tensorflow.compat.v1 import ConfigProto\n",
    "from tensorflow.compat.v1 import InteractiveSession\n",
    "\n",
    "config = ConfigProto()\n",
    "config.gpu_options.per_process_gpu_memory_fraction = 0.7\n",
    "config.gpu_options.allow_growth = True\n",
    "session = InteractiveSession(config=config)\n"
   ]
  },
  {
   "cell_type": "code",
   "execution_count": 69,
   "id": "a1eaabed",
   "metadata": {},
   "outputs": [],
   "source": [
    "from tensorflow.keras.layers import Input, Lambda, Dense, Flatten, Dropout\n",
    "from tensorflow.keras.models import Model\n",
    "from tensorflow.keras.applications.vgg16 import VGG16\n",
    "from tensorflow.keras.applications.vgg16 import preprocess_input\n",
    "from tensorflow.keras.preprocessing import image\n",
    "from tensorflow.keras.preprocessing.image import ImageDataGenerator,load_img\n",
    "from tensorflow.keras.models import Sequential\n",
    "import numpy as np\n",
    "from glob import glob"
   ]
  },
  {
   "cell_type": "code",
   "execution_count": 70,
   "id": "d63c138e",
   "metadata": {},
   "outputs": [],
   "source": [
    "IMAGE_SIZE = [224, 224]\n",
    "train_path = 'C:\\\\Users\\\\HOME\\\\Desktop\\\\train\\*'\n",
    "valid_path = 'C:\\\\Users\\\\HOME\\\\Desktop\\\\validation\\*'"
   ]
  },
  {
   "cell_type": "code",
   "execution_count": 71,
   "id": "cfecae8c",
   "metadata": {},
   "outputs": [],
   "source": [
    "vgg = VGG16(input_shape=IMAGE_SIZE + [3], weights='imagenet', include_top=False)"
   ]
  },
  {
   "cell_type": "code",
   "execution_count": 72,
   "id": "a18da026",
   "metadata": {},
   "outputs": [],
   "source": [
    "for layer in vgg.layers:\n",
    "    layer.trainable = False"
   ]
  },
  {
   "cell_type": "code",
   "execution_count": 73,
   "id": "b1b988b4",
   "metadata": {},
   "outputs": [],
   "source": [
    "folders = glob(train_path)"
   ]
  },
  {
   "cell_type": "code",
   "execution_count": 74,
   "id": "db27e605",
   "metadata": {},
   "outputs": [
    {
     "data": {
      "text/plain": [
       "['C:\\\\Users\\\\HOME\\\\Desktop\\\\train\\\\Alzeimer',\n",
       " 'C:\\\\Users\\\\HOME\\\\Desktop\\\\train\\\\Cognitive Impairment',\n",
       " 'C:\\\\Users\\\\HOME\\\\Desktop\\\\train\\\\pituitary',\n",
       " 'C:\\\\Users\\\\HOME\\\\Desktop\\\\train\\\\Stroke']"
      ]
     },
     "execution_count": 74,
     "metadata": {},
     "output_type": "execute_result"
    }
   ],
   "source": [
    "folders"
   ]
  },
  {
   "cell_type": "code",
   "execution_count": 75,
   "id": "7044f16b",
   "metadata": {},
   "outputs": [],
   "source": [
    "x = Flatten()(vgg.output)"
   ]
  },
  {
   "cell_type": "code",
   "execution_count": 76,
   "id": "7a27d4c1",
   "metadata": {},
   "outputs": [],
   "source": [
    "prediction = Dense(len(folders), activation='softmax')(x)\n",
    "\n",
    "model = Model(inputs=vgg.input, outputs=prediction)\n",
    "prev_model = load_model('model_vgg16.h5') # loading the previously saved model.\n",
    "new_model = Sequential()\n",
    "new_model.add(prev_model)\n",
    "new_model.add(Dense(128,activation='relu'))\n",
    "new_model.add(Dropout(0.5))\n",
    "new_model.add(Dense(256,activation='relu'))\n",
    "new_model.add(Dropout(0.6))\n",
    "new_model.add(Dense(64,activation='relu'))\n",
    "new_model.add(Dense(4,activation='softmax'))\n",
    "new_model.compile(loss='categorical_crossentropy',\n",
    "  optimizer='adam',\n",
    "  metrics=['accuracy']\n",
    ")"
   ]
  },
  {
   "cell_type": "code",
   "execution_count": 77,
   "id": "66839379",
   "metadata": {},
   "outputs": [
    {
     "data": {
      "text/plain": [
       "<KerasTensor: shape=(None, 4) dtype=float32 (created by layer 'dense_15')>"
      ]
     },
     "execution_count": 77,
     "metadata": {},
     "output_type": "execute_result"
    }
   ],
   "source": [
    "prediction"
   ]
  },
  {
   "cell_type": "code",
   "execution_count": 78,
   "id": "58d031ae",
   "metadata": {},
   "outputs": [
    {
     "name": "stdout",
     "output_type": "stream",
     "text": [
      "Model: \"model_4\"\n",
      "_________________________________________________________________\n",
      " Layer (type)                Output Shape              Param #   \n",
      "=================================================================\n",
      " input_5 (InputLayer)        [(None, 224, 224, 3)]     0         \n",
      "                                                                 \n",
      " block1_conv1 (Conv2D)       (None, 224, 224, 64)      1792      \n",
      "                                                                 \n",
      " block1_conv2 (Conv2D)       (None, 224, 224, 64)      36928     \n",
      "                                                                 \n",
      " block1_pool (MaxPooling2D)  (None, 112, 112, 64)      0         \n",
      "                                                                 \n",
      " block2_conv1 (Conv2D)       (None, 112, 112, 128)     73856     \n",
      "                                                                 \n",
      " block2_conv2 (Conv2D)       (None, 112, 112, 128)     147584    \n",
      "                                                                 \n",
      " block2_pool (MaxPooling2D)  (None, 56, 56, 128)       0         \n",
      "                                                                 \n",
      " block3_conv1 (Conv2D)       (None, 56, 56, 256)       295168    \n",
      "                                                                 \n",
      " block3_conv2 (Conv2D)       (None, 56, 56, 256)       590080    \n",
      "                                                                 \n",
      " block3_conv3 (Conv2D)       (None, 56, 56, 256)       590080    \n",
      "                                                                 \n",
      " block3_pool (MaxPooling2D)  (None, 28, 28, 256)       0         \n",
      "                                                                 \n",
      " block4_conv1 (Conv2D)       (None, 28, 28, 512)       1180160   \n",
      "                                                                 \n",
      " block4_conv2 (Conv2D)       (None, 28, 28, 512)       2359808   \n",
      "                                                                 \n",
      " block4_conv3 (Conv2D)       (None, 28, 28, 512)       2359808   \n",
      "                                                                 \n",
      " block4_pool (MaxPooling2D)  (None, 14, 14, 512)       0         \n",
      "                                                                 \n",
      " block5_conv1 (Conv2D)       (None, 14, 14, 512)       2359808   \n",
      "                                                                 \n",
      " block5_conv2 (Conv2D)       (None, 14, 14, 512)       2359808   \n",
      "                                                                 \n",
      " block5_conv3 (Conv2D)       (None, 14, 14, 512)       2359808   \n",
      "                                                                 \n",
      " block5_pool (MaxPooling2D)  (None, 7, 7, 512)         0         \n",
      "                                                                 \n",
      " flatten_4 (Flatten)         (None, 25088)             0         \n",
      "                                                                 \n",
      " dense_15 (Dense)            (None, 4)                 100356    \n",
      "                                                                 \n",
      "=================================================================\n",
      "Total params: 14,815,044\n",
      "Trainable params: 100,356\n",
      "Non-trainable params: 14,714,688\n",
      "_________________________________________________________________\n"
     ]
    }
   ],
   "source": [
    "model.summary()"
   ]
  },
  {
   "cell_type": "code",
   "execution_count": 79,
   "id": "dae7fb23",
   "metadata": {},
   "outputs": [],
   "source": [
    "model.compile(\n",
    "  loss='categorical_crossentropy',\n",
    "  optimizer='adam',\n",
    "  metrics=['accuracy']\n",
    ")"
   ]
  },
  {
   "cell_type": "code",
   "execution_count": 80,
   "id": "c1df778e",
   "metadata": {},
   "outputs": [],
   "source": [
    "from tensorflow.keras.preprocessing.image import ImageDataGenerator\n",
    "\n",
    "train_datagen = ImageDataGenerator(rescale = 1./255,\n",
    "                                   shear_range = 0.2,\n",
    "                                   zoom_range = 0.2,\n",
    "                                   horizontal_flip = True\n",
    "                                  )\n",
    "\n",
    "test_datagen = ImageDataGenerator(rescale = 1./255)"
   ]
  },
  {
   "cell_type": "code",
   "execution_count": 81,
   "id": "c9892d8c",
   "metadata": {},
   "outputs": [
    {
     "name": "stdout",
     "output_type": "stream",
     "text": [
      "Found 244 images belonging to 4 classes.\n"
     ]
    }
   ],
   "source": [
    "training_set = train_datagen.flow_from_directory('train',\n",
    "                                                 target_size = (224, 224),\n",
    "                                                 batch_size = 32,\n",
    "                                                 class_mode = 'categorical')"
   ]
  },
  {
   "cell_type": "code",
   "execution_count": 82,
   "id": "54e69606",
   "metadata": {},
   "outputs": [
    {
     "name": "stdout",
     "output_type": "stream",
     "text": [
      "Found 47 images belonging to 4 classes.\n"
     ]
    }
   ],
   "source": [
    "test_set = test_datagen.flow_from_directory('validation',\n",
    "                                            target_size = (224, 224),\n",
    "                                            batch_size = 32,\n",
    "                                            class_mode = 'categorical',shuffle=False)"
   ]
  },
  {
   "cell_type": "code",
   "execution_count": 83,
   "id": "45389d92",
   "metadata": {},
   "outputs": [
    {
     "data": {
      "text/plain": [
       "['Alzeimer\\\\ADNI_002_S_4521_MR_Axial_T2-Star__br_raw_20160324122521837_22_S402609_I662501.jpg',\n",
       " 'Alzeimer\\\\ADNI_006_S_4960_MR_Axial_T2-Star__br_raw_20151116142521022_22_S308848_I554365.jpg',\n",
       " 'Alzeimer\\\\ADNI_012_S_4094_MR_Axial_T2_STAR__br_raw_20170911112516152_22_S606978_I902073.jpg',\n",
       " 'Alzeimer\\\\ADNI_013_S_4395_MR_AXIAL_T2__STAR_br_raw_20160408152851491_22_S413787_I675059.jpg',\n",
       " 'Alzeimer\\\\ADNI_024_S_4169_MR_AXIAL_T2_STAR__br_raw_20150824183510226_22_S269703_I506435.jpg',\n",
       " 'Alzeimer\\\\ADNI_035_S_4114_MR_Axial_T2_STAR__br_raw_20180927135557122_22_S730896_I1053100.jpg',\n",
       " 'Alzeimer\\\\ADNI_037_S_4214_MR_Axial_T2_TSE_with_Fat_Sat__br_raw_20151016131541571_22_S285609_I527059.jpg',\n",
       " 'Alzeimer\\\\ADNI_037_S_4302_MR_AX_T2_STAR_br_raw_20151202134651542_22_S321070_I568501.jpg',\n",
       " 'Alzeimer\\\\ADNI_052_S_4626_MR_Axial_T2_Star__br_raw_20150416145050678_22_S255859_I487186.jpg',\n",
       " 'Alzeimer\\\\ADNI_057_S_4888_MR_Axial_T2_Star__br_raw_20160810162606039_22_S490606_I765318.jpg',\n",
       " 'Cognitive Impairment\\\\ADNI_032_S_6855_MR_Axial_T2_STAR__br_raw_20200224122920613_22_S927953_I1295282.jpg',\n",
       " 'Cognitive Impairment\\\\ADNI_036_S_6179_MR_Axial_3TE_T2_Star__br_raw_20190515103403689_22_S824115_I1165409.jpg',\n",
       " 'Cognitive Impairment\\\\ADNI_116_S_6100_MR_Axial_T2_Star__br_raw_20181220100416695_22_S763126_I1092332.jpg',\n",
       " 'Cognitive Impairment\\\\ADNI_116_S_6543_MR_Axial_T2_Star__br_raw_20180821112007867_22_S719355_I1038942.jpg',\n",
       " 'Cognitive Impairment\\\\ADNI_126_S_6683_MR_Axial_T2_Star__br_raw_20200224110729803_22_S926354_I1293351.jpg',\n",
       " 'Cognitive Impairment\\\\ADNI_127_S_6433_MR_Axial_T2_Star__br_raw_20180801164013628_22_S711666_I1029797.jpg',\n",
       " 'Cognitive Impairment\\\\ADNI_127_S_6433_MR_Axial_T2_Star__br_raw_20190913114507006_22_S873001_I1226435.jpg',\n",
       " 'Cognitive Impairment\\\\ADNI_127_S_6549_MR_Axial_T2_Star__br_raw_20181116093008542_22_S747764_I1073643.jpg',\n",
       " 'Cognitive Impairment\\\\ADNI_135_S_6389_MR_Axial_T2_Star__br_raw_20190710091135405_22_S839965_I1185265.jpg',\n",
       " 'Cognitive Impairment\\\\ADNI_135_S_6545_MR_Axial_T2_Star__br_raw_20180822113214388_22_S719964_I1039629.jpg',\n",
       " 'Cognitive Impairment\\\\ADNI_135_S_6545_MR_Axial_T2_Star__br_raw_20190913133956824_22_S873085_I1226542.jpg',\n",
       " 'Cognitive Impairment\\\\ADNI_135_S_6687_MR_Axial_T2_Star__br_raw_20190315105731023_22_S806441_I1142634.jpg',\n",
       " 'Cognitive Impairment\\\\ADNI_168_S_6735_MR_Axial_T2_STAR__br_raw_20190613143131224_22_S832132_I1175363.jpg',\n",
       " 'Cognitive Impairment\\\\ADNI_168_S_6735_MR_Axial_T2_STAR__br_raw_20190613143214927_22_S832133_I1175364.jpg',\n",
       " 'Cognitive Impairment\\\\ADNI_168_S_6754_MR_Axial_T2_STAR__br_raw_20190627165929283_22_S837150_I1181682.jpg',\n",
       " 'Cognitive Impairment\\\\ADNI_168_S_6827_MR_Axial_T2_STAR__br_raw_20191010161246022_22_S883154_I1239538.jpg',\n",
       " 'Cognitive Impairment\\\\ADNI_168_S_6843_MR_Axial_T2_STAR__br_raw_20200114153131813_22_S911954_I1275418.jpg',\n",
       " 'Stroke\\\\71 (16).jpg',\n",
       " 'Stroke\\\\71 (18).jpg',\n",
       " 'Stroke\\\\71 (20).jpg',\n",
       " 'Stroke\\\\71 (22).jpg',\n",
       " 'Stroke\\\\71 (24).jpg',\n",
       " 'Stroke\\\\71 (5).jpg',\n",
       " 'Stroke\\\\71 (6).jpg',\n",
       " 'Stroke\\\\72 (10).jpg',\n",
       " 'Stroke\\\\72 (7).jpg',\n",
       " 'Stroke\\\\72 (8).jpg',\n",
       " 'pituitary\\\\Te-pi_0043.jpg',\n",
       " 'pituitary\\\\Te-pi_0044.jpg',\n",
       " 'pituitary\\\\Te-pi_0045.jpg',\n",
       " 'pituitary\\\\Te-pi_0046.jpg',\n",
       " 'pituitary\\\\Te-pi_0047.jpg',\n",
       " 'pituitary\\\\Te-pi_0048.jpg',\n",
       " 'pituitary\\\\Te-pi_0049.jpg',\n",
       " 'pituitary\\\\Te-pi_0050.jpg',\n",
       " 'pituitary\\\\Te-pi_0051.jpg',\n",
       " 'pituitary\\\\Te-pi_0052.jpg']"
      ]
     },
     "execution_count": 83,
     "metadata": {},
     "output_type": "execute_result"
    }
   ],
   "source": [
    "test_set.filenames"
   ]
  },
  {
   "cell_type": "code",
   "execution_count": 85,
   "id": "071be42e",
   "metadata": {
    "scrolled": false
   },
   "outputs": [
    {
     "name": "stderr",
     "output_type": "stream",
     "text": [
      "C:\\Users\\HOME\\AppData\\Local\\Temp\\ipykernel_32736\\2336048694.py:1: UserWarning: `Model.fit_generator` is deprecated and will be removed in a future version. Please use `Model.fit`, which supports generators.\n",
      "  r = model.fit_generator(\n"
     ]
    },
    {
     "name": "stdout",
     "output_type": "stream",
     "text": [
      "Epoch 1/30\n"
     ]
    },
    {
     "ename": "ResourceExhaustedError",
     "evalue": "Graph execution error:\n\nDetected at node 'model_4/block1_conv2/Relu' defined at (most recent call last):\n    File \"D:\\Annaconda\\lib\\runpy.py\", line 197, in _run_module_as_main\n      return _run_code(code, main_globals, None,\n    File \"D:\\Annaconda\\lib\\runpy.py\", line 87, in _run_code\n      exec(code, run_globals)\n    File \"D:\\Annaconda\\lib\\site-packages\\ipykernel_launcher.py\", line 16, in <module>\n      app.launch_new_instance()\n    File \"D:\\Annaconda\\lib\\site-packages\\traitlets\\config\\application.py\", line 846, in launch_instance\n      app.start()\n    File \"D:\\Annaconda\\lib\\site-packages\\ipykernel\\kernelapp.py\", line 677, in start\n      self.io_loop.start()\n    File \"D:\\Annaconda\\lib\\site-packages\\tornado\\platform\\asyncio.py\", line 215, in start\n      self.asyncio_loop.run_forever()\n    File \"D:\\Annaconda\\lib\\asyncio\\base_events.py\", line 601, in run_forever\n      self._run_once()\n    File \"D:\\Annaconda\\lib\\asyncio\\base_events.py\", line 1905, in _run_once\n      handle._run()\n    File \"D:\\Annaconda\\lib\\asyncio\\events.py\", line 80, in _run\n      self._context.run(self._callback, *self._args)\n    File \"D:\\Annaconda\\lib\\site-packages\\ipykernel\\kernelbase.py\", line 471, in dispatch_queue\n      await self.process_one()\n    File \"D:\\Annaconda\\lib\\site-packages\\ipykernel\\kernelbase.py\", line 460, in process_one\n      await dispatch(*args)\n    File \"D:\\Annaconda\\lib\\site-packages\\ipykernel\\kernelbase.py\", line 367, in dispatch_shell\n      await result\n    File \"D:\\Annaconda\\lib\\site-packages\\ipykernel\\kernelbase.py\", line 662, in execute_request\n      reply_content = await reply_content\n    File \"D:\\Annaconda\\lib\\site-packages\\ipykernel\\ipkernel.py\", line 360, in do_execute\n      res = shell.run_cell(code, store_history=store_history, silent=silent)\n    File \"D:\\Annaconda\\lib\\site-packages\\ipykernel\\zmqshell.py\", line 532, in run_cell\n      return super().run_cell(*args, **kwargs)\n    File \"D:\\Annaconda\\lib\\site-packages\\IPython\\core\\interactiveshell.py\", line 2863, in run_cell\n      result = self._run_cell(\n    File \"D:\\Annaconda\\lib\\site-packages\\IPython\\core\\interactiveshell.py\", line 2909, in _run_cell\n      return runner(coro)\n    File \"D:\\Annaconda\\lib\\site-packages\\IPython\\core\\async_helpers.py\", line 129, in _pseudo_sync_runner\n      coro.send(None)\n    File \"D:\\Annaconda\\lib\\site-packages\\IPython\\core\\interactiveshell.py\", line 3106, in run_cell_async\n      has_raised = await self.run_ast_nodes(code_ast.body, cell_name,\n    File \"D:\\Annaconda\\lib\\site-packages\\IPython\\core\\interactiveshell.py\", line 3309, in run_ast_nodes\n      if await self.run_code(code, result, async_=asy):\n    File \"D:\\Annaconda\\lib\\site-packages\\IPython\\core\\interactiveshell.py\", line 3369, in run_code\n      exec(code_obj, self.user_global_ns, self.user_ns)\n    File \"C:\\Users\\HOME\\AppData\\Local\\Temp\\ipykernel_32736\\2336048694.py\", line 1, in <cell line: 1>\n      r = model.fit_generator(\n    File \"D:\\Annaconda\\lib\\site-packages\\keras\\engine\\training.py\", line 2260, in fit_generator\n      return self.fit(\n    File \"D:\\Annaconda\\lib\\site-packages\\keras\\utils\\traceback_utils.py\", line 64, in error_handler\n      return fn(*args, **kwargs)\n    File \"D:\\Annaconda\\lib\\site-packages\\keras\\engine\\training.py\", line 1409, in fit\n      tmp_logs = self.train_function(iterator)\n    File \"D:\\Annaconda\\lib\\site-packages\\keras\\engine\\training.py\", line 1051, in train_function\n      return step_function(self, iterator)\n    File \"D:\\Annaconda\\lib\\site-packages\\keras\\engine\\training.py\", line 1040, in step_function\n      outputs = model.distribute_strategy.run(run_step, args=(data,))\n    File \"D:\\Annaconda\\lib\\site-packages\\keras\\engine\\training.py\", line 1030, in run_step\n      outputs = model.train_step(data)\n    File \"D:\\Annaconda\\lib\\site-packages\\keras\\engine\\training.py\", line 889, in train_step\n      y_pred = self(x, training=True)\n    File \"D:\\Annaconda\\lib\\site-packages\\keras\\utils\\traceback_utils.py\", line 64, in error_handler\n      return fn(*args, **kwargs)\n    File \"D:\\Annaconda\\lib\\site-packages\\keras\\engine\\training.py\", line 490, in __call__\n      return super().__call__(*args, **kwargs)\n    File \"D:\\Annaconda\\lib\\site-packages\\keras\\utils\\traceback_utils.py\", line 64, in error_handler\n      return fn(*args, **kwargs)\n    File \"D:\\Annaconda\\lib\\site-packages\\keras\\engine\\base_layer.py\", line 1014, in __call__\n      outputs = call_fn(inputs, *args, **kwargs)\n    File \"D:\\Annaconda\\lib\\site-packages\\keras\\utils\\traceback_utils.py\", line 92, in error_handler\n      return fn(*args, **kwargs)\n    File \"D:\\Annaconda\\lib\\site-packages\\keras\\engine\\functional.py\", line 458, in call\n      return self._run_internal_graph(\n    File \"D:\\Annaconda\\lib\\site-packages\\keras\\engine\\functional.py\", line 596, in _run_internal_graph\n      outputs = node.layer(*args, **kwargs)\n    File \"D:\\Annaconda\\lib\\site-packages\\keras\\utils\\traceback_utils.py\", line 64, in error_handler\n      return fn(*args, **kwargs)\n    File \"D:\\Annaconda\\lib\\site-packages\\keras\\engine\\base_layer.py\", line 1014, in __call__\n      outputs = call_fn(inputs, *args, **kwargs)\n    File \"D:\\Annaconda\\lib\\site-packages\\keras\\utils\\traceback_utils.py\", line 92, in error_handler\n      return fn(*args, **kwargs)\n    File \"D:\\Annaconda\\lib\\site-packages\\keras\\layers\\convolutional\\base_conv.py\", line 278, in call\n      return self.activation(outputs)\n    File \"D:\\Annaconda\\lib\\site-packages\\keras\\activations.py\", line 311, in relu\n      return backend.relu(x, alpha=alpha, max_value=max_value, threshold=threshold)\n    File \"D:\\Annaconda\\lib\\site-packages\\keras\\backend.py\", line 4992, in relu\n      x = tf.nn.relu(x)\nNode: 'model_4/block1_conv2/Relu'\nOOM when allocating tensor with shape[32,64,224,224] and type float on /job:localhost/replica:0/task:0/device:GPU:0 by allocator GPU_0_bfc\n\t [[{{node model_4/block1_conv2/Relu}}]]\nHint: If you want to see a list of allocated tensors when OOM happens, add report_tensor_allocations_upon_oom to RunOptions for current allocation info. This isn't available when running in Eager mode.\n [Op:__inference_train_function_9335]",
     "output_type": "error",
     "traceback": [
      "\u001b[1;31m---------------------------------------------------------------------------\u001b[0m",
      "\u001b[1;31mResourceExhaustedError\u001b[0m                    Traceback (most recent call last)",
      "Input \u001b[1;32mIn [85]\u001b[0m, in \u001b[0;36m<cell line: 1>\u001b[1;34m()\u001b[0m\n\u001b[1;32m----> 1\u001b[0m r \u001b[38;5;241m=\u001b[39m \u001b[43mmodel\u001b[49m\u001b[38;5;241;43m.\u001b[39;49m\u001b[43mfit_generator\u001b[49m\u001b[43m(\u001b[49m\n\u001b[0;32m      2\u001b[0m \u001b[43m  \u001b[49m\u001b[43mtraining_set\u001b[49m\u001b[43m,\u001b[49m\n\u001b[0;32m      3\u001b[0m \u001b[43m  \u001b[49m\u001b[43mvalidation_data\u001b[49m\u001b[38;5;241;43m=\u001b[39;49m\u001b[43mtest_set\u001b[49m\u001b[43m,\u001b[49m\n\u001b[0;32m      4\u001b[0m \u001b[43m  \u001b[49m\u001b[43mepochs\u001b[49m\u001b[38;5;241;43m=\u001b[39;49m\u001b[38;5;241;43m30\u001b[39;49m\u001b[43m,\u001b[49m\n\u001b[0;32m      5\u001b[0m \u001b[43m  \u001b[49m\u001b[43msteps_per_epoch\u001b[49m\u001b[38;5;241;43m=\u001b[39;49m\u001b[38;5;28;43mlen\u001b[39;49m\u001b[43m(\u001b[49m\u001b[43mtraining_set\u001b[49m\u001b[43m)\u001b[49m\u001b[43m,\u001b[49m\n\u001b[0;32m      6\u001b[0m \u001b[43m  \u001b[49m\u001b[43mvalidation_steps\u001b[49m\u001b[38;5;241;43m=\u001b[39;49m\u001b[38;5;28;43mlen\u001b[39;49m\u001b[43m(\u001b[49m\u001b[43mtest_set\u001b[49m\u001b[43m)\u001b[49m\n\u001b[0;32m      7\u001b[0m \u001b[43m)\u001b[49m\n",
      "File \u001b[1;32mD:\\Annaconda\\lib\\site-packages\\keras\\engine\\training.py:2260\u001b[0m, in \u001b[0;36mModel.fit_generator\u001b[1;34m(self, generator, steps_per_epoch, epochs, verbose, callbacks, validation_data, validation_steps, validation_freq, class_weight, max_queue_size, workers, use_multiprocessing, shuffle, initial_epoch)\u001b[0m\n\u001b[0;32m   2249\u001b[0m \u001b[38;5;124;03m\"\"\"Fits the model on data yielded batch-by-batch by a Python generator.\u001b[39;00m\n\u001b[0;32m   2250\u001b[0m \n\u001b[0;32m   2251\u001b[0m \u001b[38;5;124;03mDEPRECATED:\u001b[39;00m\n\u001b[0;32m   2252\u001b[0m \u001b[38;5;124;03m  `Model.fit` now supports generators, so there is no longer any need to use\u001b[39;00m\n\u001b[0;32m   2253\u001b[0m \u001b[38;5;124;03m  this endpoint.\u001b[39;00m\n\u001b[0;32m   2254\u001b[0m \u001b[38;5;124;03m\"\"\"\u001b[39;00m\n\u001b[0;32m   2255\u001b[0m warnings\u001b[38;5;241m.\u001b[39mwarn(\n\u001b[0;32m   2256\u001b[0m     \u001b[38;5;124m'\u001b[39m\u001b[38;5;124m`Model.fit_generator` is deprecated and \u001b[39m\u001b[38;5;124m'\u001b[39m\n\u001b[0;32m   2257\u001b[0m     \u001b[38;5;124m'\u001b[39m\u001b[38;5;124mwill be removed in a future version. \u001b[39m\u001b[38;5;124m'\u001b[39m\n\u001b[0;32m   2258\u001b[0m     \u001b[38;5;124m'\u001b[39m\u001b[38;5;124mPlease use `Model.fit`, which supports generators.\u001b[39m\u001b[38;5;124m'\u001b[39m,\n\u001b[0;32m   2259\u001b[0m     stacklevel\u001b[38;5;241m=\u001b[39m\u001b[38;5;241m2\u001b[39m)\n\u001b[1;32m-> 2260\u001b[0m \u001b[38;5;28;01mreturn\u001b[39;00m \u001b[38;5;28;43mself\u001b[39;49m\u001b[38;5;241;43m.\u001b[39;49m\u001b[43mfit\u001b[49m\u001b[43m(\u001b[49m\n\u001b[0;32m   2261\u001b[0m \u001b[43m    \u001b[49m\u001b[43mgenerator\u001b[49m\u001b[43m,\u001b[49m\n\u001b[0;32m   2262\u001b[0m \u001b[43m    \u001b[49m\u001b[43msteps_per_epoch\u001b[49m\u001b[38;5;241;43m=\u001b[39;49m\u001b[43msteps_per_epoch\u001b[49m\u001b[43m,\u001b[49m\n\u001b[0;32m   2263\u001b[0m \u001b[43m    \u001b[49m\u001b[43mepochs\u001b[49m\u001b[38;5;241;43m=\u001b[39;49m\u001b[43mepochs\u001b[49m\u001b[43m,\u001b[49m\n\u001b[0;32m   2264\u001b[0m \u001b[43m    \u001b[49m\u001b[43mverbose\u001b[49m\u001b[38;5;241;43m=\u001b[39;49m\u001b[43mverbose\u001b[49m\u001b[43m,\u001b[49m\n\u001b[0;32m   2265\u001b[0m \u001b[43m    \u001b[49m\u001b[43mcallbacks\u001b[49m\u001b[38;5;241;43m=\u001b[39;49m\u001b[43mcallbacks\u001b[49m\u001b[43m,\u001b[49m\n\u001b[0;32m   2266\u001b[0m \u001b[43m    \u001b[49m\u001b[43mvalidation_data\u001b[49m\u001b[38;5;241;43m=\u001b[39;49m\u001b[43mvalidation_data\u001b[49m\u001b[43m,\u001b[49m\n\u001b[0;32m   2267\u001b[0m \u001b[43m    \u001b[49m\u001b[43mvalidation_steps\u001b[49m\u001b[38;5;241;43m=\u001b[39;49m\u001b[43mvalidation_steps\u001b[49m\u001b[43m,\u001b[49m\n\u001b[0;32m   2268\u001b[0m \u001b[43m    \u001b[49m\u001b[43mvalidation_freq\u001b[49m\u001b[38;5;241;43m=\u001b[39;49m\u001b[43mvalidation_freq\u001b[49m\u001b[43m,\u001b[49m\n\u001b[0;32m   2269\u001b[0m \u001b[43m    \u001b[49m\u001b[43mclass_weight\u001b[49m\u001b[38;5;241;43m=\u001b[39;49m\u001b[43mclass_weight\u001b[49m\u001b[43m,\u001b[49m\n\u001b[0;32m   2270\u001b[0m \u001b[43m    \u001b[49m\u001b[43mmax_queue_size\u001b[49m\u001b[38;5;241;43m=\u001b[39;49m\u001b[43mmax_queue_size\u001b[49m\u001b[43m,\u001b[49m\n\u001b[0;32m   2271\u001b[0m \u001b[43m    \u001b[49m\u001b[43mworkers\u001b[49m\u001b[38;5;241;43m=\u001b[39;49m\u001b[43mworkers\u001b[49m\u001b[43m,\u001b[49m\n\u001b[0;32m   2272\u001b[0m \u001b[43m    \u001b[49m\u001b[43muse_multiprocessing\u001b[49m\u001b[38;5;241;43m=\u001b[39;49m\u001b[43muse_multiprocessing\u001b[49m\u001b[43m,\u001b[49m\n\u001b[0;32m   2273\u001b[0m \u001b[43m    \u001b[49m\u001b[43mshuffle\u001b[49m\u001b[38;5;241;43m=\u001b[39;49m\u001b[43mshuffle\u001b[49m\u001b[43m,\u001b[49m\n\u001b[0;32m   2274\u001b[0m \u001b[43m    \u001b[49m\u001b[43minitial_epoch\u001b[49m\u001b[38;5;241;43m=\u001b[39;49m\u001b[43minitial_epoch\u001b[49m\u001b[43m)\u001b[49m\n",
      "File \u001b[1;32mD:\\Annaconda\\lib\\site-packages\\keras\\utils\\traceback_utils.py:67\u001b[0m, in \u001b[0;36mfilter_traceback.<locals>.error_handler\u001b[1;34m(*args, **kwargs)\u001b[0m\n\u001b[0;32m     65\u001b[0m \u001b[38;5;28;01mexcept\u001b[39;00m \u001b[38;5;167;01mException\u001b[39;00m \u001b[38;5;28;01mas\u001b[39;00m e:  \u001b[38;5;66;03m# pylint: disable=broad-except\u001b[39;00m\n\u001b[0;32m     66\u001b[0m   filtered_tb \u001b[38;5;241m=\u001b[39m _process_traceback_frames(e\u001b[38;5;241m.\u001b[39m__traceback__)\n\u001b[1;32m---> 67\u001b[0m   \u001b[38;5;28;01mraise\u001b[39;00m e\u001b[38;5;241m.\u001b[39mwith_traceback(filtered_tb) \u001b[38;5;28;01mfrom\u001b[39;00m \u001b[38;5;28mNone\u001b[39m\n\u001b[0;32m     68\u001b[0m \u001b[38;5;28;01mfinally\u001b[39;00m:\n\u001b[0;32m     69\u001b[0m   \u001b[38;5;28;01mdel\u001b[39;00m filtered_tb\n",
      "File \u001b[1;32mD:\\Annaconda\\lib\\site-packages\\tensorflow\\python\\eager\\execute.py:54\u001b[0m, in \u001b[0;36mquick_execute\u001b[1;34m(op_name, num_outputs, inputs, attrs, ctx, name)\u001b[0m\n\u001b[0;32m     52\u001b[0m \u001b[38;5;28;01mtry\u001b[39;00m:\n\u001b[0;32m     53\u001b[0m   ctx\u001b[38;5;241m.\u001b[39mensure_initialized()\n\u001b[1;32m---> 54\u001b[0m   tensors \u001b[38;5;241m=\u001b[39m pywrap_tfe\u001b[38;5;241m.\u001b[39mTFE_Py_Execute(ctx\u001b[38;5;241m.\u001b[39m_handle, device_name, op_name,\n\u001b[0;32m     55\u001b[0m                                       inputs, attrs, num_outputs)\n\u001b[0;32m     56\u001b[0m \u001b[38;5;28;01mexcept\u001b[39;00m core\u001b[38;5;241m.\u001b[39m_NotOkStatusException \u001b[38;5;28;01mas\u001b[39;00m e:\n\u001b[0;32m     57\u001b[0m   \u001b[38;5;28;01mif\u001b[39;00m name \u001b[38;5;129;01mis\u001b[39;00m \u001b[38;5;129;01mnot\u001b[39;00m \u001b[38;5;28;01mNone\u001b[39;00m:\n",
      "\u001b[1;31mResourceExhaustedError\u001b[0m: Graph execution error:\n\nDetected at node 'model_4/block1_conv2/Relu' defined at (most recent call last):\n    File \"D:\\Annaconda\\lib\\runpy.py\", line 197, in _run_module_as_main\n      return _run_code(code, main_globals, None,\n    File \"D:\\Annaconda\\lib\\runpy.py\", line 87, in _run_code\n      exec(code, run_globals)\n    File \"D:\\Annaconda\\lib\\site-packages\\ipykernel_launcher.py\", line 16, in <module>\n      app.launch_new_instance()\n    File \"D:\\Annaconda\\lib\\site-packages\\traitlets\\config\\application.py\", line 846, in launch_instance\n      app.start()\n    File \"D:\\Annaconda\\lib\\site-packages\\ipykernel\\kernelapp.py\", line 677, in start\n      self.io_loop.start()\n    File \"D:\\Annaconda\\lib\\site-packages\\tornado\\platform\\asyncio.py\", line 215, in start\n      self.asyncio_loop.run_forever()\n    File \"D:\\Annaconda\\lib\\asyncio\\base_events.py\", line 601, in run_forever\n      self._run_once()\n    File \"D:\\Annaconda\\lib\\asyncio\\base_events.py\", line 1905, in _run_once\n      handle._run()\n    File \"D:\\Annaconda\\lib\\asyncio\\events.py\", line 80, in _run\n      self._context.run(self._callback, *self._args)\n    File \"D:\\Annaconda\\lib\\site-packages\\ipykernel\\kernelbase.py\", line 471, in dispatch_queue\n      await self.process_one()\n    File \"D:\\Annaconda\\lib\\site-packages\\ipykernel\\kernelbase.py\", line 460, in process_one\n      await dispatch(*args)\n    File \"D:\\Annaconda\\lib\\site-packages\\ipykernel\\kernelbase.py\", line 367, in dispatch_shell\n      await result\n    File \"D:\\Annaconda\\lib\\site-packages\\ipykernel\\kernelbase.py\", line 662, in execute_request\n      reply_content = await reply_content\n    File \"D:\\Annaconda\\lib\\site-packages\\ipykernel\\ipkernel.py\", line 360, in do_execute\n      res = shell.run_cell(code, store_history=store_history, silent=silent)\n    File \"D:\\Annaconda\\lib\\site-packages\\ipykernel\\zmqshell.py\", line 532, in run_cell\n      return super().run_cell(*args, **kwargs)\n    File \"D:\\Annaconda\\lib\\site-packages\\IPython\\core\\interactiveshell.py\", line 2863, in run_cell\n      result = self._run_cell(\n    File \"D:\\Annaconda\\lib\\site-packages\\IPython\\core\\interactiveshell.py\", line 2909, in _run_cell\n      return runner(coro)\n    File \"D:\\Annaconda\\lib\\site-packages\\IPython\\core\\async_helpers.py\", line 129, in _pseudo_sync_runner\n      coro.send(None)\n    File \"D:\\Annaconda\\lib\\site-packages\\IPython\\core\\interactiveshell.py\", line 3106, in run_cell_async\n      has_raised = await self.run_ast_nodes(code_ast.body, cell_name,\n    File \"D:\\Annaconda\\lib\\site-packages\\IPython\\core\\interactiveshell.py\", line 3309, in run_ast_nodes\n      if await self.run_code(code, result, async_=asy):\n    File \"D:\\Annaconda\\lib\\site-packages\\IPython\\core\\interactiveshell.py\", line 3369, in run_code\n      exec(code_obj, self.user_global_ns, self.user_ns)\n    File \"C:\\Users\\HOME\\AppData\\Local\\Temp\\ipykernel_32736\\2336048694.py\", line 1, in <cell line: 1>\n      r = model.fit_generator(\n    File \"D:\\Annaconda\\lib\\site-packages\\keras\\engine\\training.py\", line 2260, in fit_generator\n      return self.fit(\n    File \"D:\\Annaconda\\lib\\site-packages\\keras\\utils\\traceback_utils.py\", line 64, in error_handler\n      return fn(*args, **kwargs)\n    File \"D:\\Annaconda\\lib\\site-packages\\keras\\engine\\training.py\", line 1409, in fit\n      tmp_logs = self.train_function(iterator)\n    File \"D:\\Annaconda\\lib\\site-packages\\keras\\engine\\training.py\", line 1051, in train_function\n      return step_function(self, iterator)\n    File \"D:\\Annaconda\\lib\\site-packages\\keras\\engine\\training.py\", line 1040, in step_function\n      outputs = model.distribute_strategy.run(run_step, args=(data,))\n    File \"D:\\Annaconda\\lib\\site-packages\\keras\\engine\\training.py\", line 1030, in run_step\n      outputs = model.train_step(data)\n    File \"D:\\Annaconda\\lib\\site-packages\\keras\\engine\\training.py\", line 889, in train_step\n      y_pred = self(x, training=True)\n    File \"D:\\Annaconda\\lib\\site-packages\\keras\\utils\\traceback_utils.py\", line 64, in error_handler\n      return fn(*args, **kwargs)\n    File \"D:\\Annaconda\\lib\\site-packages\\keras\\engine\\training.py\", line 490, in __call__\n      return super().__call__(*args, **kwargs)\n    File \"D:\\Annaconda\\lib\\site-packages\\keras\\utils\\traceback_utils.py\", line 64, in error_handler\n      return fn(*args, **kwargs)\n    File \"D:\\Annaconda\\lib\\site-packages\\keras\\engine\\base_layer.py\", line 1014, in __call__\n      outputs = call_fn(inputs, *args, **kwargs)\n    File \"D:\\Annaconda\\lib\\site-packages\\keras\\utils\\traceback_utils.py\", line 92, in error_handler\n      return fn(*args, **kwargs)\n    File \"D:\\Annaconda\\lib\\site-packages\\keras\\engine\\functional.py\", line 458, in call\n      return self._run_internal_graph(\n    File \"D:\\Annaconda\\lib\\site-packages\\keras\\engine\\functional.py\", line 596, in _run_internal_graph\n      outputs = node.layer(*args, **kwargs)\n    File \"D:\\Annaconda\\lib\\site-packages\\keras\\utils\\traceback_utils.py\", line 64, in error_handler\n      return fn(*args, **kwargs)\n    File \"D:\\Annaconda\\lib\\site-packages\\keras\\engine\\base_layer.py\", line 1014, in __call__\n      outputs = call_fn(inputs, *args, **kwargs)\n    File \"D:\\Annaconda\\lib\\site-packages\\keras\\utils\\traceback_utils.py\", line 92, in error_handler\n      return fn(*args, **kwargs)\n    File \"D:\\Annaconda\\lib\\site-packages\\keras\\layers\\convolutional\\base_conv.py\", line 278, in call\n      return self.activation(outputs)\n    File \"D:\\Annaconda\\lib\\site-packages\\keras\\activations.py\", line 311, in relu\n      return backend.relu(x, alpha=alpha, max_value=max_value, threshold=threshold)\n    File \"D:\\Annaconda\\lib\\site-packages\\keras\\backend.py\", line 4992, in relu\n      x = tf.nn.relu(x)\nNode: 'model_4/block1_conv2/Relu'\nOOM when allocating tensor with shape[32,64,224,224] and type float on /job:localhost/replica:0/task:0/device:GPU:0 by allocator GPU_0_bfc\n\t [[{{node model_4/block1_conv2/Relu}}]]\nHint: If you want to see a list of allocated tensors when OOM happens, add report_tensor_allocations_upon_oom to RunOptions for current allocation info. This isn't available when running in Eager mode.\n [Op:__inference_train_function_9335]"
     ]
    }
   ],
   "source": [
    "r = model.fit_generator(\n",
    "  training_set,\n",
    "  validation_data=test_set,\n",
    "  epochs=30,\n",
    "  steps_per_epoch=len(training_set),\n",
    "  validation_steps=len(test_set)\n",
    ")"
   ]
  },
  {
   "cell_type": "code",
   "execution_count": null,
   "id": "3264515a",
   "metadata": {},
   "outputs": [],
   "source": [
    "import matplotlib.pyplot as plt"
   ]
  },
  {
   "cell_type": "code",
   "execution_count": 73,
   "id": "0ea215b0",
   "metadata": {},
   "outputs": [
    {
     "data": {
      "image/png": "[encoded data removed]",
      "text/plain": [
       "<Figure size 432x288 with 1 Axes>"
      ]
     },
     "metadata": {
      "needs_background": "light"
     },
     "output_type": "display_data"
    },
    {
     "data": {
      "text/plain": [
       "<Figure size 432x288 with 0 Axes>"
      ]
     },
     "metadata": {},
     "output_type": "display_data"
    }
   ],
   "source": [
    "plt.plot(r.history['loss'], label='train loss',color=\"black\")\n",
    "plt.plot(r.history['val_loss'], label='val loss',color=\"red\")\n",
    "plt.legend()\n",
    "plt.show()\n",
    "plt.savefig('LossVal_loss')\n",
    "\n",
    "\n"
   ]
  },
  {
   "cell_type": "code",
   "execution_count": 74,
   "id": "1e638605",
   "metadata": {},
   "outputs": [
    {
     "data": {
      "image/png": "[encoded data removed]",
      "text/plain": [
       "<Figure size 432x288 with 1 Axes>"
      ]
     },
     "metadata": {
      "needs_background": "light"
     },
     "output_type": "display_data"
    },
    {
     "data": {
      "text/plain": [
       "<Figure size 432x288 with 0 Axes>"
      ]
     },
     "metadata": {},
     "output_type": "display_data"
    }
   ],
   "source": [
    "plt.plot(r.history['accuracy'], label='train acc',color=\"black\")\n",
    "plt.plot(r.history['val_accuracy'], label='val acc',color=\"blue\")\n",
    "plt.legend()\n",
    "plt.show()\n",
    "plt.savefig('AccVal_acc')"
   ]
  },
  {
   "cell_type": "code",
   "execution_count": 75,
   "id": "d86ea216",
   "metadata": {},
   "outputs": [],
   "source": [
    "\n",
    "from tensorflow.keras.models import load_model\n",
    "\n",
    "model.save('model_res50.h5')"
   ]
  },
  {
   "cell_type": "code",
   "execution_count": 76,
   "id": "02b64530",
   "metadata": {},
   "outputs": [],
   "source": [
    "model=load_model('model_res50.h5')"
   ]
  },
  {
   "cell_type": "code",
   "execution_count": 77,
   "id": "55e4de44",
   "metadata": {},
   "outputs": [
    {
     "name": "stdout",
     "output_type": "stream",
     "text": [
      "2/2 [==============================] - 3s 444ms/step\n"
     ]
    },
    {
     "data": {
      "text/plain": [
       "array([[5.45409381e-01, 4.48172867e-01, 3.32750965e-08, 6.41772849e-03],\n",
       "       [7.79892087e-01, 1.35033518e-01, 2.90734885e-08, 8.50743800e-02],\n",
       "       [4.88284469e-01, 4.02748466e-01, 1.22106432e-08, 1.08967103e-01],\n",
       "       [6.92442954e-01, 2.24298567e-01, 3.76734643e-09, 8.32584202e-02],\n",
       "       [8.32078695e-01, 1.28355592e-01, 2.35332354e-09, 3.95657085e-02],\n",
       "       [6.82290316e-01, 3.00759524e-01, 3.78268261e-09, 1.69500932e-02],\n",
       "       [4.62283701e-01, 1.40905996e-07, 5.37702620e-01, 1.35345772e-05],\n",
       "       [4.13777739e-01, 5.76004624e-01, 1.02975157e-08, 1.02176052e-02],\n",
       "       [7.91376233e-01, 1.99495450e-01, 1.71440213e-08, 9.12829395e-03],\n",
       "       [6.94722533e-01, 2.77512550e-01, 1.79038970e-08, 2.77648475e-02],\n",
       "       [7.80463934e-01, 2.06303984e-01, 4.45277104e-09, 1.32321632e-02],\n",
       "       [8.51250589e-01, 1.33403182e-01, 2.55088128e-09, 1.53462160e-02],\n",
       "       [5.59085608e-01, 4.23553735e-01, 5.44487833e-09, 1.73606686e-02],\n",
       "       [6.69807851e-01, 2.88045883e-01, 3.76653686e-09, 4.21462841e-02],\n",
       "       [8.83152366e-01, 1.05131850e-01, 1.05584577e-05, 1.17052142e-02],\n",
       "       [7.99669504e-01, 1.94649845e-01, 2.41711831e-07, 5.68045350e-03],\n",
       "       [7.34491050e-01, 2.61226326e-01, 1.26401813e-08, 4.28261003e-03],\n",
       "       [6.26496494e-01, 3.60580385e-01, 1.45162184e-08, 1.29231038e-02],\n",
       "       [7.37657189e-01, 2.27899417e-01, 1.04842801e-08, 3.44434157e-02],\n",
       "       [7.14243650e-01, 2.68623114e-01, 3.87396781e-09, 1.71332099e-02],\n",
       "       [3.91524434e-01, 5.38807333e-01, 3.53457636e-08, 6.96681887e-02],\n",
       "       [7.08138943e-01, 2.90148854e-01, 3.43685436e-08, 1.71223248e-03],\n",
       "       [5.94594896e-01, 3.97154123e-01, 4.78492579e-09, 8.25099926e-03],\n",
       "       [5.97993135e-01, 3.77042383e-01, 3.44284490e-09, 2.49644965e-02],\n",
       "       [6.47881567e-01, 3.48906785e-01, 8.62165805e-09, 3.21161072e-03],\n",
       "       [5.44039726e-01, 4.49016213e-01, 5.79642068e-09, 6.94407383e-03],\n",
       "       [5.19294679e-01, 4.72331911e-01, 6.12381701e-09, 8.37342069e-03],\n",
       "       [1.68425170e-13, 2.66360876e-17, 1.00000000e+00, 2.33228228e-08],\n",
       "       [2.12139876e-14, 2.18775830e-18, 1.00000000e+00, 1.68919421e-08],\n",
       "       [2.39261524e-15, 1.94239030e-19, 1.00000000e+00, 4.42008785e-09],\n",
       "       [3.66897006e-16, 1.50932205e-20, 1.00000000e+00, 3.46272255e-09],\n",
       "       [6.52917546e-17, 2.82264600e-21, 1.00000000e+00, 3.10947962e-10],\n",
       "       [1.41485253e-18, 1.76052222e-27, 1.00000000e+00, 2.08964773e-23],\n",
       "       [9.72848711e-12, 1.21801055e-17, 1.00000000e+00, 4.09175401e-15],\n",
       "       [8.23045696e-07, 7.52666124e-11, 9.99692798e-01, 3.06434435e-04],\n",
       "       [5.15287852e-14, 1.20494469e-19, 1.00000000e+00, 8.50299583e-16],\n",
       "       [6.34092709e-11, 3.25484671e-15, 1.00000000e+00, 1.94829888e-10],\n",
       "       [9.65403020e-02, 3.16845588e-02, 5.07981532e-08, 8.71775210e-01],\n",
       "       [8.08309764e-03, 1.80340582e-03, 2.27609420e-09, 9.90113497e-01],\n",
       "       [1.97453778e-02, 2.61310861e-03, 5.69591929e-10, 9.77641523e-01],\n",
       "       [1.70444386e-04, 1.11023573e-05, 5.32873815e-11, 9.99818504e-01],\n",
       "       [2.57813372e-03, 4.36628354e-04, 3.00449582e-10, 9.96985257e-01],\n",
       "       [4.07917978e-05, 1.65111669e-06, 1.75669257e-10, 9.99957561e-01],\n",
       "       [1.54317394e-01, 4.11255471e-02, 4.33586500e-09, 8.04557085e-01],\n",
       "       [2.97247989e-05, 6.22710346e-08, 5.96366956e-10, 9.99970198e-01],\n",
       "       [1.67554256e-03, 8.58081039e-05, 1.91164959e-10, 9.98238683e-01],\n",
       "       [6.60240650e-02, 9.24588926e-03, 9.83091386e-10, 9.24730003e-01]],\n",
       "      dtype=float32)"
      ]
     },
     "execution_count": 77,
     "metadata": {},
     "output_type": "execute_result"
    }
   ],
   "source": [
    "y_pred = model.predict(test_set)\n",
    "y_pred"
   ]
  },
  {
   "cell_type": "code",
   "execution_count": 78,
   "id": "67be8dd3",
   "metadata": {},
   "outputs": [
    {
     "data": {
      "text/plain": [
       "array([0, 0, 0, 0, 0, 0, 2, 1, 0, 0, 0, 0, 0, 0, 0, 0, 0, 0, 0, 0, 1, 0,\n",
       "       0, 0, 0, 0, 0, 2, 2, 2, 2, 2, 2, 2, 2, 2, 2, 3, 3, 3, 3, 3, 3, 3,\n",
       "       3, 3, 3], dtype=int64)"
      ]
     },
     "execution_count": 78,
     "metadata": {},
     "output_type": "execute_result"
    }
   ],
   "source": [
    "import numpy as np\n",
    "y_pred = np.argmax(y_pred, axis=1)\n",
    "y_pred"
   ]
  },
  {
   "cell_type": "code",
   "execution_count": 79,
   "id": "ef1dc01b",
   "metadata": {},
   "outputs": [],
   "source": [
    "import os\n",
    "path ='validation'\n",
    "Diseases_types=os.listdir(path)"
   ]
  },
  {
   "cell_type": "code",
   "execution_count": 80,
   "id": "473e46bf",
   "metadata": {},
   "outputs": [
    {
     "name": "stdout",
     "output_type": "stream",
     "text": [
      "['Alzeimer']\n",
      "['Alzeimer', 'Alzeimer']\n",
      "['Alzeimer', 'Alzeimer', 'Alzeimer']\n",
      "['Alzeimer', 'Alzeimer', 'Alzeimer', 'Alzeimer']\n",
      "['Alzeimer', 'Alzeimer', 'Alzeimer', 'Alzeimer', 'Alzeimer']\n",
      "['Alzeimer', 'Alzeimer', 'Alzeimer', 'Alzeimer', 'Alzeimer', 'Alzeimer']\n",
      "['Alzeimer', 'Alzeimer', 'Alzeimer', 'Alzeimer', 'Alzeimer', 'Alzeimer', 'Alzeimer']\n",
      "['Alzeimer', 'Alzeimer', 'Alzeimer', 'Alzeimer', 'Alzeimer', 'Alzeimer', 'Alzeimer', 'Alzeimer']\n",
      "['Alzeimer', 'Alzeimer', 'Alzeimer', 'Alzeimer', 'Alzeimer', 'Alzeimer', 'Alzeimer', 'Alzeimer', 'Alzeimer']\n",
      "['Alzeimer', 'Alzeimer', 'Alzeimer', 'Alzeimer', 'Alzeimer', 'Alzeimer', 'Alzeimer', 'Alzeimer', 'Alzeimer', 'Alzeimer']\n",
      "['Alzeimer', 'Alzeimer', 'Alzeimer', 'Alzeimer', 'Alzeimer', 'Alzeimer', 'Alzeimer', 'Alzeimer', 'Alzeimer', 'Alzeimer', 'Cognitive Impairment']\n",
      "['Alzeimer', 'Alzeimer', 'Alzeimer', 'Alzeimer', 'Alzeimer', 'Alzeimer', 'Alzeimer', 'Alzeimer', 'Alzeimer', 'Alzeimer', 'Cognitive Impairment', 'Cognitive Impairment']\n",
      "['Alzeimer', 'Alzeimer', 'Alzeimer', 'Alzeimer', 'Alzeimer', 'Alzeimer', 'Alzeimer', 'Alzeimer', 'Alzeimer', 'Alzeimer', 'Cognitive Impairment', 'Cognitive Impairment', 'Cognitive Impairment']\n",
      "['Alzeimer', 'Alzeimer', 'Alzeimer', 'Alzeimer', 'Alzeimer', 'Alzeimer', 'Alzeimer', 'Alzeimer', 'Alzeimer', 'Alzeimer', 'Cognitive Impairment', 'Cognitive Impairment', 'Cognitive Impairment', 'Cognitive Impairment']\n",
      "['Alzeimer', 'Alzeimer', 'Alzeimer', 'Alzeimer', 'Alzeimer', 'Alzeimer', 'Alzeimer', 'Alzeimer', 'Alzeimer', 'Alzeimer', 'Cognitive Impairment', 'Cognitive Impairment', 'Cognitive Impairment', 'Cognitive Impairment', 'Cognitive Impairment']\n",
      "['Alzeimer', 'Alzeimer', 'Alzeimer', 'Alzeimer', 'Alzeimer', 'Alzeimer', 'Alzeimer', 'Alzeimer', 'Alzeimer', 'Alzeimer', 'Cognitive Impairment', 'Cognitive Impairment', 'Cognitive Impairment', 'Cognitive Impairment', 'Cognitive Impairment', 'Cognitive Impairment']\n",
      "['Alzeimer', 'Alzeimer', 'Alzeimer', 'Alzeimer', 'Alzeimer', 'Alzeimer', 'Alzeimer', 'Alzeimer', 'Alzeimer', 'Alzeimer', 'Cognitive Impairment', 'Cognitive Impairment', 'Cognitive Impairment', 'Cognitive Impairment', 'Cognitive Impairment', 'Cognitive Impairment', 'Cognitive Impairment']\n",
      "['Alzeimer', 'Alzeimer', 'Alzeimer', 'Alzeimer', 'Alzeimer', 'Alzeimer', 'Alzeimer', 'Alzeimer', 'Alzeimer', 'Alzeimer', 'Cognitive Impairment', 'Cognitive Impairment', 'Cognitive Impairment', 'Cognitive Impairment', 'Cognitive Impairment', 'Cognitive Impairment', 'Cognitive Impairment', 'Cognitive Impairment']\n",
      "['Alzeimer', 'Alzeimer', 'Alzeimer', 'Alzeimer', 'Alzeimer', 'Alzeimer', 'Alzeimer', 'Alzeimer', 'Alzeimer', 'Alzeimer', 'Cognitive Impairment', 'Cognitive Impairment', 'Cognitive Impairment', 'Cognitive Impairment', 'Cognitive Impairment', 'Cognitive Impairment', 'Cognitive Impairment', 'Cognitive Impairment', 'Cognitive Impairment']\n",
      "['Alzeimer', 'Alzeimer', 'Alzeimer', 'Alzeimer', 'Alzeimer', 'Alzeimer', 'Alzeimer', 'Alzeimer', 'Alzeimer', 'Alzeimer', 'Cognitive Impairment', 'Cognitive Impairment', 'Cognitive Impairment', 'Cognitive Impairment', 'Cognitive Impairment', 'Cognitive Impairment', 'Cognitive Impairment', 'Cognitive Impairment', 'Cognitive Impairment', 'Cognitive Impairment']\n",
      "['Alzeimer', 'Alzeimer', 'Alzeimer', 'Alzeimer', 'Alzeimer', 'Alzeimer', 'Alzeimer', 'Alzeimer', 'Alzeimer', 'Alzeimer', 'Cognitive Impairment', 'Cognitive Impairment', 'Cognitive Impairment', 'Cognitive Impairment', 'Cognitive Impairment', 'Cognitive Impairment', 'Cognitive Impairment', 'Cognitive Impairment', 'Cognitive Impairment', 'Cognitive Impairment', 'Cognitive Impairment']\n",
      "['Alzeimer', 'Alzeimer', 'Alzeimer', 'Alzeimer', 'Alzeimer', 'Alzeimer', 'Alzeimer', 'Alzeimer', 'Alzeimer', 'Alzeimer', 'Cognitive Impairment', 'Cognitive Impairment', 'Cognitive Impairment', 'Cognitive Impairment', 'Cognitive Impairment', 'Cognitive Impairment', 'Cognitive Impairment', 'Cognitive Impairment', 'Cognitive Impairment', 'Cognitive Impairment', 'Cognitive Impairment', 'Cognitive Impairment']\n",
      "['Alzeimer', 'Alzeimer', 'Alzeimer', 'Alzeimer', 'Alzeimer', 'Alzeimer', 'Alzeimer', 'Alzeimer', 'Alzeimer', 'Alzeimer', 'Cognitive Impairment', 'Cognitive Impairment', 'Cognitive Impairment', 'Cognitive Impairment', 'Cognitive Impairment', 'Cognitive Impairment', 'Cognitive Impairment', 'Cognitive Impairment', 'Cognitive Impairment', 'Cognitive Impairment', 'Cognitive Impairment', 'Cognitive Impairment', 'Cognitive Impairment']\n",
      "['Alzeimer', 'Alzeimer', 'Alzeimer', 'Alzeimer', 'Alzeimer', 'Alzeimer', 'Alzeimer', 'Alzeimer', 'Alzeimer', 'Alzeimer', 'Cognitive Impairment', 'Cognitive Impairment', 'Cognitive Impairment', 'Cognitive Impairment', 'Cognitive Impairment', 'Cognitive Impairment', 'Cognitive Impairment', 'Cognitive Impairment', 'Cognitive Impairment', 'Cognitive Impairment', 'Cognitive Impairment', 'Cognitive Impairment', 'Cognitive Impairment', 'Cognitive Impairment']\n",
      "['Alzeimer', 'Alzeimer', 'Alzeimer', 'Alzeimer', 'Alzeimer', 'Alzeimer', 'Alzeimer', 'Alzeimer', 'Alzeimer', 'Alzeimer', 'Cognitive Impairment', 'Cognitive Impairment', 'Cognitive Impairment', 'Cognitive Impairment', 'Cognitive Impairment', 'Cognitive Impairment', 'Cognitive Impairment', 'Cognitive Impairment', 'Cognitive Impairment', 'Cognitive Impairment', 'Cognitive Impairment', 'Cognitive Impairment', 'Cognitive Impairment', 'Cognitive Impairment', 'Cognitive Impairment']\n",
      "['Alzeimer', 'Alzeimer', 'Alzeimer', 'Alzeimer', 'Alzeimer', 'Alzeimer', 'Alzeimer', 'Alzeimer', 'Alzeimer', 'Alzeimer', 'Cognitive Impairment', 'Cognitive Impairment', 'Cognitive Impairment', 'Cognitive Impairment', 'Cognitive Impairment', 'Cognitive Impairment', 'Cognitive Impairment', 'Cognitive Impairment', 'Cognitive Impairment', 'Cognitive Impairment', 'Cognitive Impairment', 'Cognitive Impairment', 'Cognitive Impairment', 'Cognitive Impairment', 'Cognitive Impairment', 'Cognitive Impairment']\n",
      "['Alzeimer', 'Alzeimer', 'Alzeimer', 'Alzeimer', 'Alzeimer', 'Alzeimer', 'Alzeimer', 'Alzeimer', 'Alzeimer', 'Alzeimer', 'Cognitive Impairment', 'Cognitive Impairment', 'Cognitive Impairment', 'Cognitive Impairment', 'Cognitive Impairment', 'Cognitive Impairment', 'Cognitive Impairment', 'Cognitive Impairment', 'Cognitive Impairment', 'Cognitive Impairment', 'Cognitive Impairment', 'Cognitive Impairment', 'Cognitive Impairment', 'Cognitive Impairment', 'Cognitive Impairment', 'Cognitive Impairment', 'Cognitive Impairment']\n",
      "['Alzeimer', 'Alzeimer', 'Alzeimer', 'Alzeimer', 'Alzeimer', 'Alzeimer', 'Alzeimer', 'Alzeimer', 'Alzeimer', 'Alzeimer', 'Cognitive Impairment', 'Cognitive Impairment', 'Cognitive Impairment', 'Cognitive Impairment', 'Cognitive Impairment', 'Cognitive Impairment', 'Cognitive Impairment', 'Cognitive Impairment', 'Cognitive Impairment', 'Cognitive Impairment', 'Cognitive Impairment', 'Cognitive Impairment', 'Cognitive Impairment', 'Cognitive Impairment', 'Cognitive Impairment', 'Cognitive Impairment', 'Cognitive Impairment', 'pituitary']\n",
      "['Alzeimer', 'Alzeimer', 'Alzeimer', 'Alzeimer', 'Alzeimer', 'Alzeimer', 'Alzeimer', 'Alzeimer', 'Alzeimer', 'Alzeimer', 'Cognitive Impairment', 'Cognitive Impairment', 'Cognitive Impairment', 'Cognitive Impairment', 'Cognitive Impairment', 'Cognitive Impairment', 'Cognitive Impairment', 'Cognitive Impairment', 'Cognitive Impairment', 'Cognitive Impairment', 'Cognitive Impairment', 'Cognitive Impairment', 'Cognitive Impairment', 'Cognitive Impairment', 'Cognitive Impairment', 'Cognitive Impairment', 'Cognitive Impairment', 'pituitary', 'pituitary']\n",
      "['Alzeimer', 'Alzeimer', 'Alzeimer', 'Alzeimer', 'Alzeimer', 'Alzeimer', 'Alzeimer', 'Alzeimer', 'Alzeimer', 'Alzeimer', 'Cognitive Impairment', 'Cognitive Impairment', 'Cognitive Impairment', 'Cognitive Impairment', 'Cognitive Impairment', 'Cognitive Impairment', 'Cognitive Impairment', 'Cognitive Impairment', 'Cognitive Impairment', 'Cognitive Impairment', 'Cognitive Impairment', 'Cognitive Impairment', 'Cognitive Impairment', 'Cognitive Impairment', 'Cognitive Impairment', 'Cognitive Impairment', 'Cognitive Impairment', 'pituitary', 'pituitary', 'pituitary']\n",
      "['Alzeimer', 'Alzeimer', 'Alzeimer', 'Alzeimer', 'Alzeimer', 'Alzeimer', 'Alzeimer', 'Alzeimer', 'Alzeimer', 'Alzeimer', 'Cognitive Impairment', 'Cognitive Impairment', 'Cognitive Impairment', 'Cognitive Impairment', 'Cognitive Impairment', 'Cognitive Impairment', 'Cognitive Impairment', 'Cognitive Impairment', 'Cognitive Impairment', 'Cognitive Impairment', 'Cognitive Impairment', 'Cognitive Impairment', 'Cognitive Impairment', 'Cognitive Impairment', 'Cognitive Impairment', 'Cognitive Impairment', 'Cognitive Impairment', 'pituitary', 'pituitary', 'pituitary', 'pituitary']\n",
      "['Alzeimer', 'Alzeimer', 'Alzeimer', 'Alzeimer', 'Alzeimer', 'Alzeimer', 'Alzeimer', 'Alzeimer', 'Alzeimer', 'Alzeimer', 'Cognitive Impairment', 'Cognitive Impairment', 'Cognitive Impairment', 'Cognitive Impairment', 'Cognitive Impairment', 'Cognitive Impairment', 'Cognitive Impairment', 'Cognitive Impairment', 'Cognitive Impairment', 'Cognitive Impairment', 'Cognitive Impairment', 'Cognitive Impairment', 'Cognitive Impairment', 'Cognitive Impairment', 'Cognitive Impairment', 'Cognitive Impairment', 'Cognitive Impairment', 'pituitary', 'pituitary', 'pituitary', 'pituitary', 'pituitary']\n",
      "['Alzeimer', 'Alzeimer', 'Alzeimer', 'Alzeimer', 'Alzeimer', 'Alzeimer', 'Alzeimer', 'Alzeimer', 'Alzeimer', 'Alzeimer', 'Cognitive Impairment', 'Cognitive Impairment', 'Cognitive Impairment', 'Cognitive Impairment', 'Cognitive Impairment', 'Cognitive Impairment', 'Cognitive Impairment', 'Cognitive Impairment', 'Cognitive Impairment', 'Cognitive Impairment', 'Cognitive Impairment', 'Cognitive Impairment', 'Cognitive Impairment', 'Cognitive Impairment', 'Cognitive Impairment', 'Cognitive Impairment', 'Cognitive Impairment', 'pituitary', 'pituitary', 'pituitary', 'pituitary', 'pituitary', 'pituitary']\n",
      "['Alzeimer', 'Alzeimer', 'Alzeimer', 'Alzeimer', 'Alzeimer', 'Alzeimer', 'Alzeimer', 'Alzeimer', 'Alzeimer', 'Alzeimer', 'Cognitive Impairment', 'Cognitive Impairment', 'Cognitive Impairment', 'Cognitive Impairment', 'Cognitive Impairment', 'Cognitive Impairment', 'Cognitive Impairment', 'Cognitive Impairment', 'Cognitive Impairment', 'Cognitive Impairment', 'Cognitive Impairment', 'Cognitive Impairment', 'Cognitive Impairment', 'Cognitive Impairment', 'Cognitive Impairment', 'Cognitive Impairment', 'Cognitive Impairment', 'pituitary', 'pituitary', 'pituitary', 'pituitary', 'pituitary', 'pituitary', 'pituitary']\n",
      "['Alzeimer', 'Alzeimer', 'Alzeimer', 'Alzeimer', 'Alzeimer', 'Alzeimer', 'Alzeimer', 'Alzeimer', 'Alzeimer', 'Alzeimer', 'Cognitive Impairment', 'Cognitive Impairment', 'Cognitive Impairment', 'Cognitive Impairment', 'Cognitive Impairment', 'Cognitive Impairment', 'Cognitive Impairment', 'Cognitive Impairment', 'Cognitive Impairment', 'Cognitive Impairment', 'Cognitive Impairment', 'Cognitive Impairment', 'Cognitive Impairment', 'Cognitive Impairment', 'Cognitive Impairment', 'Cognitive Impairment', 'Cognitive Impairment', 'pituitary', 'pituitary', 'pituitary', 'pituitary', 'pituitary', 'pituitary', 'pituitary', 'pituitary']\n",
      "['Alzeimer', 'Alzeimer', 'Alzeimer', 'Alzeimer', 'Alzeimer', 'Alzeimer', 'Alzeimer', 'Alzeimer', 'Alzeimer', 'Alzeimer', 'Cognitive Impairment', 'Cognitive Impairment', 'Cognitive Impairment', 'Cognitive Impairment', 'Cognitive Impairment', 'Cognitive Impairment', 'Cognitive Impairment', 'Cognitive Impairment', 'Cognitive Impairment', 'Cognitive Impairment', 'Cognitive Impairment', 'Cognitive Impairment', 'Cognitive Impairment', 'Cognitive Impairment', 'Cognitive Impairment', 'Cognitive Impairment', 'Cognitive Impairment', 'pituitary', 'pituitary', 'pituitary', 'pituitary', 'pituitary', 'pituitary', 'pituitary', 'pituitary', 'pituitary']\n",
      "['Alzeimer', 'Alzeimer', 'Alzeimer', 'Alzeimer', 'Alzeimer', 'Alzeimer', 'Alzeimer', 'Alzeimer', 'Alzeimer', 'Alzeimer', 'Cognitive Impairment', 'Cognitive Impairment', 'Cognitive Impairment', 'Cognitive Impairment', 'Cognitive Impairment', 'Cognitive Impairment', 'Cognitive Impairment', 'Cognitive Impairment', 'Cognitive Impairment', 'Cognitive Impairment', 'Cognitive Impairment', 'Cognitive Impairment', 'Cognitive Impairment', 'Cognitive Impairment', 'Cognitive Impairment', 'Cognitive Impairment', 'Cognitive Impairment', 'pituitary', 'pituitary', 'pituitary', 'pituitary', 'pituitary', 'pituitary', 'pituitary', 'pituitary', 'pituitary', 'pituitary']\n",
      "['Alzeimer', 'Alzeimer', 'Alzeimer', 'Alzeimer', 'Alzeimer', 'Alzeimer', 'Alzeimer', 'Alzeimer', 'Alzeimer', 'Alzeimer', 'Cognitive Impairment', 'Cognitive Impairment', 'Cognitive Impairment', 'Cognitive Impairment', 'Cognitive Impairment', 'Cognitive Impairment', 'Cognitive Impairment', 'Cognitive Impairment', 'Cognitive Impairment', 'Cognitive Impairment', 'Cognitive Impairment', 'Cognitive Impairment', 'Cognitive Impairment', 'Cognitive Impairment', 'Cognitive Impairment', 'Cognitive Impairment', 'Cognitive Impairment', 'pituitary', 'pituitary', 'pituitary', 'pituitary', 'pituitary', 'pituitary', 'pituitary', 'pituitary', 'pituitary', 'pituitary', 'Stroke']\n",
      "['Alzeimer', 'Alzeimer', 'Alzeimer', 'Alzeimer', 'Alzeimer', 'Alzeimer', 'Alzeimer', 'Alzeimer', 'Alzeimer', 'Alzeimer', 'Cognitive Impairment', 'Cognitive Impairment', 'Cognitive Impairment', 'Cognitive Impairment', 'Cognitive Impairment', 'Cognitive Impairment', 'Cognitive Impairment', 'Cognitive Impairment', 'Cognitive Impairment', 'Cognitive Impairment', 'Cognitive Impairment', 'Cognitive Impairment', 'Cognitive Impairment', 'Cognitive Impairment', 'Cognitive Impairment', 'Cognitive Impairment', 'Cognitive Impairment', 'pituitary', 'pituitary', 'pituitary', 'pituitary', 'pituitary', 'pituitary', 'pituitary', 'pituitary', 'pituitary', 'pituitary', 'Stroke', 'Stroke']\n",
      "['Alzeimer', 'Alzeimer', 'Alzeimer', 'Alzeimer', 'Alzeimer', 'Alzeimer', 'Alzeimer', 'Alzeimer', 'Alzeimer', 'Alzeimer', 'Cognitive Impairment', 'Cognitive Impairment', 'Cognitive Impairment', 'Cognitive Impairment', 'Cognitive Impairment', 'Cognitive Impairment', 'Cognitive Impairment', 'Cognitive Impairment', 'Cognitive Impairment', 'Cognitive Impairment', 'Cognitive Impairment', 'Cognitive Impairment', 'Cognitive Impairment', 'Cognitive Impairment', 'Cognitive Impairment', 'Cognitive Impairment', 'Cognitive Impairment', 'pituitary', 'pituitary', 'pituitary', 'pituitary', 'pituitary', 'pituitary', 'pituitary', 'pituitary', 'pituitary', 'pituitary', 'Stroke', 'Stroke', 'Stroke']\n",
      "['Alzeimer', 'Alzeimer', 'Alzeimer', 'Alzeimer', 'Alzeimer', 'Alzeimer', 'Alzeimer', 'Alzeimer', 'Alzeimer', 'Alzeimer', 'Cognitive Impairment', 'Cognitive Impairment', 'Cognitive Impairment', 'Cognitive Impairment', 'Cognitive Impairment', 'Cognitive Impairment', 'Cognitive Impairment', 'Cognitive Impairment', 'Cognitive Impairment', 'Cognitive Impairment', 'Cognitive Impairment', 'Cognitive Impairment', 'Cognitive Impairment', 'Cognitive Impairment', 'Cognitive Impairment', 'Cognitive Impairment', 'Cognitive Impairment', 'pituitary', 'pituitary', 'pituitary', 'pituitary', 'pituitary', 'pituitary', 'pituitary', 'pituitary', 'pituitary', 'pituitary', 'Stroke', 'Stroke', 'Stroke', 'Stroke']\n",
      "['Alzeimer', 'Alzeimer', 'Alzeimer', 'Alzeimer', 'Alzeimer', 'Alzeimer', 'Alzeimer', 'Alzeimer', 'Alzeimer', 'Alzeimer', 'Cognitive Impairment', 'Cognitive Impairment', 'Cognitive Impairment', 'Cognitive Impairment', 'Cognitive Impairment', 'Cognitive Impairment', 'Cognitive Impairment', 'Cognitive Impairment', 'Cognitive Impairment', 'Cognitive Impairment', 'Cognitive Impairment', 'Cognitive Impairment', 'Cognitive Impairment', 'Cognitive Impairment', 'Cognitive Impairment', 'Cognitive Impairment', 'Cognitive Impairment', 'pituitary', 'pituitary', 'pituitary', 'pituitary', 'pituitary', 'pituitary', 'pituitary', 'pituitary', 'pituitary', 'pituitary', 'Stroke', 'Stroke', 'Stroke', 'Stroke', 'Stroke']\n",
      "['Alzeimer', 'Alzeimer', 'Alzeimer', 'Alzeimer', 'Alzeimer', 'Alzeimer', 'Alzeimer', 'Alzeimer', 'Alzeimer', 'Alzeimer', 'Cognitive Impairment', 'Cognitive Impairment', 'Cognitive Impairment', 'Cognitive Impairment', 'Cognitive Impairment', 'Cognitive Impairment', 'Cognitive Impairment', 'Cognitive Impairment', 'Cognitive Impairment', 'Cognitive Impairment', 'Cognitive Impairment', 'Cognitive Impairment', 'Cognitive Impairment', 'Cognitive Impairment', 'Cognitive Impairment', 'Cognitive Impairment', 'Cognitive Impairment', 'pituitary', 'pituitary', 'pituitary', 'pituitary', 'pituitary', 'pituitary', 'pituitary', 'pituitary', 'pituitary', 'pituitary', 'Stroke', 'Stroke', 'Stroke', 'Stroke', 'Stroke', 'Stroke']\n",
      "['Alzeimer', 'Alzeimer', 'Alzeimer', 'Alzeimer', 'Alzeimer', 'Alzeimer', 'Alzeimer', 'Alzeimer', 'Alzeimer', 'Alzeimer', 'Cognitive Impairment', 'Cognitive Impairment', 'Cognitive Impairment', 'Cognitive Impairment', 'Cognitive Impairment', 'Cognitive Impairment', 'Cognitive Impairment', 'Cognitive Impairment', 'Cognitive Impairment', 'Cognitive Impairment', 'Cognitive Impairment', 'Cognitive Impairment', 'Cognitive Impairment', 'Cognitive Impairment', 'Cognitive Impairment', 'Cognitive Impairment', 'Cognitive Impairment', 'pituitary', 'pituitary', 'pituitary', 'pituitary', 'pituitary', 'pituitary', 'pituitary', 'pituitary', 'pituitary', 'pituitary', 'Stroke', 'Stroke', 'Stroke', 'Stroke', 'Stroke', 'Stroke', 'Stroke']\n",
      "['Alzeimer', 'Alzeimer', 'Alzeimer', 'Alzeimer', 'Alzeimer', 'Alzeimer', 'Alzeimer', 'Alzeimer', 'Alzeimer', 'Alzeimer', 'Cognitive Impairment', 'Cognitive Impairment', 'Cognitive Impairment', 'Cognitive Impairment', 'Cognitive Impairment', 'Cognitive Impairment', 'Cognitive Impairment', 'Cognitive Impairment', 'Cognitive Impairment', 'Cognitive Impairment', 'Cognitive Impairment', 'Cognitive Impairment', 'Cognitive Impairment', 'Cognitive Impairment', 'Cognitive Impairment', 'Cognitive Impairment', 'Cognitive Impairment', 'pituitary', 'pituitary', 'pituitary', 'pituitary', 'pituitary', 'pituitary', 'pituitary', 'pituitary', 'pituitary', 'pituitary', 'Stroke', 'Stroke', 'Stroke', 'Stroke', 'Stroke', 'Stroke', 'Stroke', 'Stroke']\n",
      "['Alzeimer', 'Alzeimer', 'Alzeimer', 'Alzeimer', 'Alzeimer', 'Alzeimer', 'Alzeimer', 'Alzeimer', 'Alzeimer', 'Alzeimer', 'Cognitive Impairment', 'Cognitive Impairment', 'Cognitive Impairment', 'Cognitive Impairment', 'Cognitive Impairment', 'Cognitive Impairment', 'Cognitive Impairment', 'Cognitive Impairment', 'Cognitive Impairment', 'Cognitive Impairment', 'Cognitive Impairment', 'Cognitive Impairment', 'Cognitive Impairment', 'Cognitive Impairment', 'Cognitive Impairment', 'Cognitive Impairment', 'Cognitive Impairment', 'pituitary', 'pituitary', 'pituitary', 'pituitary', 'pituitary', 'pituitary', 'pituitary', 'pituitary', 'pituitary', 'pituitary', 'Stroke', 'Stroke', 'Stroke', 'Stroke', 'Stroke', 'Stroke', 'Stroke', 'Stroke', 'Stroke']\n",
      "['Alzeimer', 'Alzeimer', 'Alzeimer', 'Alzeimer', 'Alzeimer', 'Alzeimer', 'Alzeimer', 'Alzeimer', 'Alzeimer', 'Alzeimer', 'Cognitive Impairment', 'Cognitive Impairment', 'Cognitive Impairment', 'Cognitive Impairment', 'Cognitive Impairment', 'Cognitive Impairment', 'Cognitive Impairment', 'Cognitive Impairment', 'Cognitive Impairment', 'Cognitive Impairment', 'Cognitive Impairment', 'Cognitive Impairment', 'Cognitive Impairment', 'Cognitive Impairment', 'Cognitive Impairment', 'Cognitive Impairment', 'Cognitive Impairment', 'pituitary', 'pituitary', 'pituitary', 'pituitary', 'pituitary', 'pituitary', 'pituitary', 'pituitary', 'pituitary', 'pituitary', 'Stroke', 'Stroke', 'Stroke', 'Stroke', 'Stroke', 'Stroke', 'Stroke', 'Stroke', 'Stroke', 'Stroke']\n"
     ]
    }
   ],
   "source": [
    "diseases = []\n",
    "for i in Diseases_types:\n",
    "  all_images = os.listdir(path + '/' +i)\n",
    "\n",
    "  for j in all_images :\n",
    "    diseases.append((i))\n",
    "    print (diseases)"
   ]
  },
  {
   "cell_type": "code",
   "execution_count": 81,
   "id": "084a69d7",
   "metadata": {},
   "outputs": [
    {
     "data": {
      "text/plain": [
       "['Alzeimer',\n",
       " 'Alzeimer',\n",
       " 'Alzeimer',\n",
       " 'Alzeimer',\n",
       " 'Alzeimer',\n",
       " 'Alzeimer',\n",
       " 'Alzeimer',\n",
       " 'Alzeimer',\n",
       " 'Alzeimer',\n",
       " 'Alzeimer',\n",
       " 'Cognitive Impairment',\n",
       " 'Cognitive Impairment',\n",
       " 'Cognitive Impairment',\n",
       " 'Cognitive Impairment',\n",
       " 'Cognitive Impairment',\n",
       " 'Cognitive Impairment',\n",
       " 'Cognitive Impairment',\n",
       " 'Cognitive Impairment',\n",
       " 'Cognitive Impairment',\n",
       " 'Cognitive Impairment',\n",
       " 'Cognitive Impairment',\n",
       " 'Cognitive Impairment',\n",
       " 'Cognitive Impairment',\n",
       " 'Cognitive Impairment',\n",
       " 'Cognitive Impairment',\n",
       " 'Cognitive Impairment',\n",
       " 'Cognitive Impairment',\n",
       " 'pituitary',\n",
       " 'pituitary',\n",
       " 'pituitary',\n",
       " 'pituitary',\n",
       " 'pituitary',\n",
       " 'pituitary',\n",
       " 'pituitary',\n",
       " 'pituitary',\n",
       " 'pituitary',\n",
       " 'pituitary',\n",
       " 'Stroke',\n",
       " 'Stroke',\n",
       " 'Stroke',\n",
       " 'Stroke',\n",
       " 'Stroke',\n",
       " 'Stroke',\n",
       " 'Stroke',\n",
       " 'Stroke',\n",
       " 'Stroke',\n",
       " 'Stroke']"
      ]
     },
     "execution_count": 81,
     "metadata": {},
     "output_type": "execute_result"
    }
   ],
   "source": [
    "diseases"
   ]
  },
  {
   "cell_type": "code",
   "execution_count": 82,
   "id": "4fd7c25a",
   "metadata": {},
   "outputs": [],
   "source": [
    "from sklearn.preprocessing import LabelEncoder\n",
    "diseases = np.array(diseases)\n",
    "diseases.reshape(47,-1)\n",
    "y_labelencoder = LabelEncoder()\n",
    "\n"
   ]
  },
  {
   "cell_type": "code",
   "execution_count": 83,
   "id": "5720b4eb",
   "metadata": {},
   "outputs": [
    {
     "data": {
      "text/plain": [
       "array(['Alzeimer', 'Alzeimer', 'Alzeimer', 'Alzeimer', 'Alzeimer',\n",
       "       'Alzeimer', 'Alzeimer', 'Alzeimer', 'Alzeimer', 'Alzeimer',\n",
       "       'Cognitive Impairment', 'Cognitive Impairment',\n",
       "       'Cognitive Impairment', 'Cognitive Impairment',\n",
       "       'Cognitive Impairment', 'Cognitive Impairment',\n",
       "       'Cognitive Impairment', 'Cognitive Impairment',\n",
       "       'Cognitive Impairment', 'Cognitive Impairment',\n",
       "       'Cognitive Impairment', 'Cognitive Impairment',\n",
       "       'Cognitive Impairment', 'Cognitive Impairment',\n",
       "       'Cognitive Impairment', 'Cognitive Impairment',\n",
       "       'Cognitive Impairment', 'pituitary', 'pituitary', 'pituitary',\n",
       "       'pituitary', 'pituitary', 'pituitary', 'pituitary', 'pituitary',\n",
       "       'pituitary', 'pituitary', 'Stroke', 'Stroke', 'Stroke', 'Stroke',\n",
       "       'Stroke', 'Stroke', 'Stroke', 'Stroke', 'Stroke', 'Stroke'],\n",
       "      dtype='<U20')"
      ]
     },
     "execution_count": 83,
     "metadata": {},
     "output_type": "execute_result"
    }
   ],
   "source": [
    "diseases"
   ]
  },
  {
   "cell_type": "code",
   "execution_count": 84,
   "id": "03aa8ebe",
   "metadata": {},
   "outputs": [],
   "source": [
    "y_test = y_labelencoder.fit_transform (diseases)\n",
    "y_test = np.array([0, 0, 0, 0, 0, 0, 0, 0, 0, 0, 1, 1, 1, 1, 1, 1, 1, 1, 1, 1, 1, 1,\n",
    "       1, 1, 1, 1, 1, 2, 2, 2, 2, 2, 2, 2,\n",
    "       2, 2, 2, 3, 3, 3, 3, 3, 3, 3, 3, 3, 3])"
   ]
  },
  {
   "cell_type": "code",
   "execution_count": 85,
   "id": "2e45a1ed",
   "metadata": {},
   "outputs": [
    {
     "data": {
      "text/plain": [
       "array([[ 8,  1,  1,  0],\n",
       "       [16,  1,  0,  0],\n",
       "       [ 0,  0, 10,  0],\n",
       "       [ 0,  0,  0, 10]], dtype=int64)"
      ]
     },
     "execution_count": 85,
     "metadata": {},
     "output_type": "execute_result"
    }
   ],
   "source": [
    "from sklearn.metrics import confusion_matrix\n",
    "confusion_matrix(y_test,y_pred)"
   ]
  },
  {
   "cell_type": "code",
   "execution_count": 86,
   "id": "05d20af1",
   "metadata": {},
   "outputs": [
    {
     "name": "stdout",
     "output_type": "stream",
     "text": [
      "              precision    recall  f1-score   support\n",
      "\n",
      "           0       0.33      0.80      0.47        10\n",
      "           1       0.50      0.06      0.11        17\n",
      "           2       0.91      1.00      0.95        10\n",
      "           3       1.00      1.00      1.00        10\n",
      "\n",
      "    accuracy                           0.62        47\n",
      "   macro avg       0.69      0.71      0.63        47\n",
      "weighted avg       0.66      0.62      0.55        47\n",
      "\n"
     ]
    }
   ],
   "source": [
    "from sklearn.metrics import classification_report\n",
    "print(classification_report(y_test,y_pred))"
   ]
  },
  {
   "cell_type": "code",
   "execution_count": 87,
   "id": "d85d8475",
   "metadata": {},
   "outputs": [
    {
     "data": {
      "text/plain": [
       "0.5921487603305786"
      ]
     },
     "execution_count": 87,
     "metadata": {},
     "output_type": "execute_result"
    }
   ],
   "source": [
    "from sklearn.metrics import r2_score\n",
    "r2_score(y_test,y_pred)"
   ]
  },
  {
   "cell_type": "code",
   "execution_count": 88,
   "id": "73b8a883",
   "metadata": {},
   "outputs": [
    {
     "data": {
      "text/plain": [
       "0.6170212765957447"
      ]
     },
     "execution_count": 88,
     "metadata": {},
     "output_type": "execute_result"
    }
   ],
   "source": [
    "from sklearn.metrics import precision_score\n",
    "precision_score(y_test,y_pred,average='micro')"
   ]
  },
  {
   "cell_type": "code",
   "execution_count": 89,
   "id": "9c36ec26",
   "metadata": {},
   "outputs": [
    {
     "data": {
      "text/plain": [
       "0.6170212765957447"
      ]
     },
     "execution_count": 89,
     "metadata": {},
     "output_type": "execute_result"
    }
   ],
   "source": [
    "from sklearn.metrics import accuracy_score\n",
    "accuracy_score(y_test,y_pred)"
   ]
  },
  {
   "cell_type": "code",
   "execution_count": 90,
   "id": "1d38813a",
   "metadata": {},
   "outputs": [
    {
     "data": {
      "text/plain": [
       "0.6170212765957447"
      ]
     },
     "execution_count": 90,
     "metadata": {},
     "output_type": "execute_result"
    }
   ],
   "source": [
    "from sklearn.metrics import f1_score\n",
    "f1_score(y_test,y_pred,average='micro')"
   ]
  },
  {
   "cell_type": "code",
   "execution_count": 91,
   "id": "f5f60618",
   "metadata": {},
   "outputs": [
    {
     "data": {
      "text/plain": [
       "0.6170212765957447"
      ]
     },
     "execution_count": 91,
     "metadata": {},
     "output_type": "execute_result"
    }
   ],
   "source": [
    "from sklearn.metrics import recall_score\n",
    "recall_score(y_test,y_pred,average='micro')"
   ]
  },
  {
   "cell_type": "code",
   "execution_count": 92,
   "id": "9bfa2d76",
   "metadata": {},
   "outputs": [],
   "source": [
    "conf_matrix = confusion_matrix(y_true=y_test, y_pred=y_pred)"
   ]
  },
  {
   "cell_type": "code",
   "execution_count": 93,
   "id": "4f256261",
   "metadata": {},
   "outputs": [],
   "source": [
    "from sklearn.metrics import confusion_matrix\n",
    "import pandas as pd\n",
    "cm = confusion_matrix(y_test, y_pred)\n",
    "cm_df = pd.DataFrame(cm,\n",
    "                     index = ['Alzeimer','Cognitive Impairment','pituitary','Stroke'], \n",
    "                     columns = ['Alzeimer','Cognitive Impairment','pituitary','Stroke'])"
   ]
  },
  {
   "cell_type": "code",
   "execution_count": 94,
   "id": "84ace334",
   "metadata": {},
   "outputs": [
    {
     "data": {
      "image/png": "[encoded data removed]",
      "text/plain": [
       "<Figure size 576x432 with 2 Axes>"
      ]
     },
     "metadata": {
      "needs_background": "light"
     },
     "output_type": "display_data"
    }
   ],
   "source": [
    "import seaborn as sns\n",
    "import matplotlib.pyplot as plt\n",
    "plt.figure(figsize=(8,6))\n",
    "custom_cmap = sns.color_palette(\"viridis\", as_cmap=True)\n",
    "sns.heatmap(cm_df, annot=True, cmap=custom_cmap)\n",
    "plt.title('Confusion Matrix')\n",
    "plt.ylabel('Actal Values')\n",
    "plt.xlabel('Predicted Values')\n",
    "plt.show()"
   ]
  },
  {
   "cell_type": "code",
   "execution_count": 95,
   "id": "2fa1bcb4",
   "metadata": {},
   "outputs": [],
   "source": [
    "from tensorflow.keras.models import load_model\n",
    "from tensorflow.keras.preprocessing import image"
   ]
  },
  {
   "cell_type": "code",
   "execution_count": 96,
   "id": "e732079f",
   "metadata": {},
   "outputs": [],
   "source": [
    "img=image.load_img('test_img.jpg',target_size=(224,224))"
   ]
  },
  {
   "cell_type": "code",
   "execution_count": 97,
   "id": "1c3d1278",
   "metadata": {},
   "outputs": [
    {
     "data": {
      "text/plain": [
       "array([[[16., 16., 16.],\n",
       "        [16., 16., 16.],\n",
       "        [16., 16., 16.],\n",
       "        ...,\n",
       "        [16., 16., 16.],\n",
       "        [16., 16., 16.],\n",
       "        [16., 16., 16.]],\n",
       "\n",
       "       [[16., 16., 16.],\n",
       "        [16., 16., 16.],\n",
       "        [16., 16., 16.],\n",
       "        ...,\n",
       "        [16., 16., 16.],\n",
       "        [16., 16., 16.],\n",
       "        [16., 16., 16.]],\n",
       "\n",
       "       [[16., 16., 16.],\n",
       "        [16., 16., 16.],\n",
       "        [16., 16., 16.],\n",
       "        ...,\n",
       "        [16., 16., 16.],\n",
       "        [16., 16., 16.],\n",
       "        [16., 16., 16.]],\n",
       "\n",
       "       ...,\n",
       "\n",
       "       [[16., 16., 16.],\n",
       "        [16., 16., 16.],\n",
       "        [16., 16., 16.],\n",
       "        ...,\n",
       "        [16., 16., 16.],\n",
       "        [16., 16., 16.],\n",
       "        [16., 16., 16.]],\n",
       "\n",
       "       [[16., 16., 16.],\n",
       "        [16., 16., 16.],\n",
       "        [16., 16., 16.],\n",
       "        ...,\n",
       "        [16., 16., 16.],\n",
       "        [16., 16., 16.],\n",
       "        [16., 16., 16.]],\n",
       "\n",
       "       [[16., 16., 16.],\n",
       "        [16., 16., 16.],\n",
       "        [16., 16., 16.],\n",
       "        ...,\n",
       "        [15., 15., 15.],\n",
       "        [16., 16., 16.],\n",
       "        [16., 16., 16.]]], dtype=float32)"
      ]
     },
     "execution_count": 97,
     "metadata": {},
     "output_type": "execute_result"
    }
   ],
   "source": [
    "x=image.img_to_array(img)\n",
    "x"
   ]
  },
  {
   "cell_type": "code",
   "execution_count": 98,
   "id": "9bed94aa",
   "metadata": {},
   "outputs": [
    {
     "data": {
      "text/plain": [
       "<matplotlib.image.AxesImage at 0x217dd4337c0>"
      ]
     },
     "execution_count": 98,
     "metadata": {},
     "output_type": "execute_result"
    },
    {
     "data": {
      "image/png": "[encoded data removed]",
      "text/plain": [
       "<Figure size 432x288 with 1 Axes>"
      ]
     },
     "metadata": {
      "needs_background": "light"
     },
     "output_type": "display_data"
    }
   ],
   "source": [
    "from matplotlib.pyplot import imshow\n",
    "imshow(img)"
   ]
  },
  {
   "cell_type": "code",
   "execution_count": 99,
   "id": "230b6eeb",
   "metadata": {},
   "outputs": [],
   "source": [
    "x=x/255"
   ]
  },
  {
   "cell_type": "code",
   "execution_count": 100,
   "id": "566513a3",
   "metadata": {},
   "outputs": [
    {
     "data": {
      "text/plain": [
       "array([[[0.0627451 , 0.0627451 , 0.0627451 ],\n",
       "        [0.0627451 , 0.0627451 , 0.0627451 ],\n",
       "        [0.0627451 , 0.0627451 , 0.0627451 ],\n",
       "        ...,\n",
       "        [0.0627451 , 0.0627451 , 0.0627451 ],\n",
       "        [0.0627451 , 0.0627451 , 0.0627451 ],\n",
       "        [0.0627451 , 0.0627451 , 0.0627451 ]],\n",
       "\n",
       "       [[0.0627451 , 0.0627451 , 0.0627451 ],\n",
       "        [0.0627451 , 0.0627451 , 0.0627451 ],\n",
       "        [0.0627451 , 0.0627451 , 0.0627451 ],\n",
       "        ...,\n",
       "        [0.0627451 , 0.0627451 , 0.0627451 ],\n",
       "        [0.0627451 , 0.0627451 , 0.0627451 ],\n",
       "        [0.0627451 , 0.0627451 , 0.0627451 ]],\n",
       "\n",
       "       [[0.0627451 , 0.0627451 , 0.0627451 ],\n",
       "        [0.0627451 , 0.0627451 , 0.0627451 ],\n",
       "        [0.0627451 , 0.0627451 , 0.0627451 ],\n",
       "        ...,\n",
       "        [0.0627451 , 0.0627451 , 0.0627451 ],\n",
       "        [0.0627451 , 0.0627451 , 0.0627451 ],\n",
       "        [0.0627451 , 0.0627451 , 0.0627451 ]],\n",
       "\n",
       "       ...,\n",
       "\n",
       "       [[0.0627451 , 0.0627451 , 0.0627451 ],\n",
       "        [0.0627451 , 0.0627451 , 0.0627451 ],\n",
       "        [0.0627451 , 0.0627451 , 0.0627451 ],\n",
       "        ...,\n",
       "        [0.0627451 , 0.0627451 , 0.0627451 ],\n",
       "        [0.0627451 , 0.0627451 , 0.0627451 ],\n",
       "        [0.0627451 , 0.0627451 , 0.0627451 ]],\n",
       "\n",
       "       [[0.0627451 , 0.0627451 , 0.0627451 ],\n",
       "        [0.0627451 , 0.0627451 , 0.0627451 ],\n",
       "        [0.0627451 , 0.0627451 , 0.0627451 ],\n",
       "        ...,\n",
       "        [0.0627451 , 0.0627451 , 0.0627451 ],\n",
       "        [0.0627451 , 0.0627451 , 0.0627451 ],\n",
       "        [0.0627451 , 0.0627451 , 0.0627451 ]],\n",
       "\n",
       "       [[0.0627451 , 0.0627451 , 0.0627451 ],\n",
       "        [0.0627451 , 0.0627451 , 0.0627451 ],\n",
       "        [0.0627451 , 0.0627451 , 0.0627451 ],\n",
       "        ...,\n",
       "        [0.05882353, 0.05882353, 0.05882353],\n",
       "        [0.0627451 , 0.0627451 , 0.0627451 ],\n",
       "        [0.0627451 , 0.0627451 , 0.0627451 ]]], dtype=float32)"
      ]
     },
     "execution_count": 100,
     "metadata": {},
     "output_type": "execute_result"
    }
   ],
   "source": [
    "x\n"
   ]
  },
  {
   "cell_type": "code",
   "execution_count": 101,
   "id": "06627823",
   "metadata": {},
   "outputs": [],
   "source": [
    "import cv2\n",
    "x = cv2.resize(x,(224,224)) \n",
    "x = x.reshape(1,224,224,3) "
   ]
  },
  {
   "cell_type": "code",
   "execution_count": 102,
   "id": "1844ff7e",
   "metadata": {},
   "outputs": [
    {
     "data": {
      "text/plain": [
       "(1, 224, 224, 3)"
      ]
     },
     "execution_count": 102,
     "metadata": {},
     "output_type": "execute_result"
    }
   ],
   "source": [
    "x.shape"
   ]
  },
  {
   "cell_type": "code",
   "execution_count": 103,
   "id": "622ec217",
   "metadata": {},
   "outputs": [
    {
     "name": "stdout",
     "output_type": "stream",
     "text": [
      "1/1 [==============================] - 1s 1s/step\n"
     ]
    },
    {
     "data": {
      "text/plain": [
       "array([[0.84534127, 0.01334324, 0.00202693, 0.13928851]], dtype=float32)"
      ]
     },
     "execution_count": 103,
     "metadata": {},
     "output_type": "execute_result"
    }
   ],
   "source": [
    "model.predict(x)"
   ]
  },
  {
   "cell_type": "code",
   "execution_count": 104,
   "id": "5b12a710",
   "metadata": {},
   "outputs": [
    {
     "name": "stdout",
     "output_type": "stream",
     "text": [
      "1/1 [==============================] - 0s 26ms/step\n"
     ]
    }
   ],
   "source": [
    "a=model.predict(x)"
   ]
  },
  {
   "cell_type": "code",
   "execution_count": 105,
   "id": "8d39d4b6",
   "metadata": {},
   "outputs": [
    {
     "data": {
      "text/plain": [
       "0"
      ]
     },
     "execution_count": 105,
     "metadata": {},
     "output_type": "execute_result"
    }
   ],
   "source": [
    "a.argmax()"
   ]
  },
  {
   "cell_type": "code",
   "execution_count": null,
   "id": "967cc71d",
   "metadata": {},
   "outputs": [],
   "source": []
  }
 ],
 "metadata": {
  "kernelspec": {
   "display_name": "Python 3 (ipykernel)",
   "language": "python",
   "name": "python3"
  },
  "language_info": {
   "codemirror_mode": {
    "name": "ipython",
    "version": 3
   },
   "file_extension": ".py",
   "mimetype": "text/x-python",
   "name": "python",
   "nbconvert_exporter": "python",
   "pygments_lexer": "ipython3",
   "version": "3.9.12"
  }
 },
 "nbformat": 4,
 "nbformat_minor": 5
}
